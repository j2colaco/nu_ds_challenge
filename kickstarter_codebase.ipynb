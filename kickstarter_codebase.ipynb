{
 "cells": [
  {
   "cell_type": "code",
   "execution_count": null,
   "metadata": {
    "scrolled": true
   },
   "outputs": [],
   "source": [
    "from IPython.display import HTML\n",
    "HTML('''<script>\n",
    "code_show=true; \n",
    "function code_toggle() {\n",
    " if (code_show){\n",
    " $('div.input').hide();\n",
    " } else {\n",
    " $('div.input').show();\n",
    " }\n",
    " code_show = !code_show\n",
    "} \n",
    "$( document ).ready(code_toggle);\n",
    "</script>\n",
    "The raw code for this IPython notebook is by default hidden for easier reading.\n",
    "To toggle on/off the raw code, click <a href=\"javascript:code_toggle()\">here</a>.''')"
   ]
  },
  {
   "cell_type": "code",
   "execution_count": 1,
   "metadata": {},
   "outputs": [],
   "source": [
    "# All import statements\n",
    "import pandas as pd\n",
    "import numpy as np\n",
    "import matplotlib.pyplot as plt\n",
    "import seaborn as sns\n",
    "import datetime as dt"
   ]
  },
  {
   "cell_type": "markdown",
   "metadata": {},
   "source": [
    "# Read Data"
   ]
  },
  {
   "cell_type": "code",
   "execution_count": 2,
   "metadata": {},
   "outputs": [
    {
     "name": "stdout",
     "output_type": "stream",
     "text": [
      "Shape of the dataset is: (258325, 11)\n"
     ]
    },
    {
     "data": {
      "text/html": [
       "<div>\n",
       "<style scoped>\n",
       "    .dataframe tbody tr th:only-of-type {\n",
       "        vertical-align: middle;\n",
       "    }\n",
       "\n",
       "    .dataframe tbody tr th {\n",
       "        vertical-align: top;\n",
       "    }\n",
       "\n",
       "    .dataframe thead th {\n",
       "        text-align: right;\n",
       "    }\n",
       "</style>\n",
       "<table border=\"1\" class=\"dataframe\">\n",
       "  <thead>\n",
       "    <tr style=\"text-align: right;\">\n",
       "      <th></th>\n",
       "      <th>name</th>\n",
       "      <th>category</th>\n",
       "      <th>main_category</th>\n",
       "      <th>currency</th>\n",
       "      <th>deadline</th>\n",
       "      <th>goal</th>\n",
       "      <th>launched</th>\n",
       "      <th>backers</th>\n",
       "      <th>country</th>\n",
       "      <th>usd_goal_real</th>\n",
       "      <th>new_state</th>\n",
       "    </tr>\n",
       "  </thead>\n",
       "  <tbody>\n",
       "    <tr>\n",
       "      <th>0</th>\n",
       "      <td>The Life and Times of a Nutcracker</td>\n",
       "      <td>Fiction</td>\n",
       "      <td>Publishing</td>\n",
       "      <td>USD</td>\n",
       "      <td>2012-12-01</td>\n",
       "      <td>8000.0</td>\n",
       "      <td>2012-10-26 18:31:19</td>\n",
       "      <td>0</td>\n",
       "      <td>US</td>\n",
       "      <td>8000.00</td>\n",
       "      <td>failed</td>\n",
       "    </tr>\n",
       "    <tr>\n",
       "      <th>1</th>\n",
       "      <td>Kochi community outreach 2017</td>\n",
       "      <td>Web</td>\n",
       "      <td>Journalism</td>\n",
       "      <td>GBP</td>\n",
       "      <td>2017-04-28</td>\n",
       "      <td>2000.0</td>\n",
       "      <td>2017-02-27 22:49:51</td>\n",
       "      <td>2</td>\n",
       "      <td>GB</td>\n",
       "      <td>2587.82</td>\n",
       "      <td>failed</td>\n",
       "    </tr>\n",
       "    <tr>\n",
       "      <th>2</th>\n",
       "      <td>Get Expert Advice for your Fantasy Football Team</td>\n",
       "      <td>Apps</td>\n",
       "      <td>Technology</td>\n",
       "      <td>USD</td>\n",
       "      <td>2016-09-16</td>\n",
       "      <td>1000.0</td>\n",
       "      <td>2016-08-16 17:54:07</td>\n",
       "      <td>3</td>\n",
       "      <td>US</td>\n",
       "      <td>1000.00</td>\n",
       "      <td>failed</td>\n",
       "    </tr>\n",
       "    <tr>\n",
       "      <th>3</th>\n",
       "      <td>Realms of the Ancients (ROTA)</td>\n",
       "      <td>Tabletop Games</td>\n",
       "      <td>Games</td>\n",
       "      <td>USD</td>\n",
       "      <td>2013-08-02</td>\n",
       "      <td>30000.0</td>\n",
       "      <td>2013-06-16 00:47:10</td>\n",
       "      <td>49</td>\n",
       "      <td>US</td>\n",
       "      <td>30000.00</td>\n",
       "      <td>failed</td>\n",
       "    </tr>\n",
       "    <tr>\n",
       "      <th>4</th>\n",
       "      <td>Innr. Change the way you experience lighting</td>\n",
       "      <td>Product Design</td>\n",
       "      <td>Design</td>\n",
       "      <td>GBP</td>\n",
       "      <td>2013-12-07</td>\n",
       "      <td>50000.0</td>\n",
       "      <td>2013-11-07 17:09:09</td>\n",
       "      <td>165</td>\n",
       "      <td>GB</td>\n",
       "      <td>81349.76</td>\n",
       "      <td>succeeded</td>\n",
       "    </tr>\n",
       "  </tbody>\n",
       "</table>\n",
       "</div>"
      ],
      "text/plain": [
       "                                               name        category  \\\n",
       "0                The Life and Times of a Nutcracker         Fiction   \n",
       "1                     Kochi community outreach 2017             Web   \n",
       "2  Get Expert Advice for your Fantasy Football Team            Apps   \n",
       "3                     Realms of the Ancients (ROTA)  Tabletop Games   \n",
       "4      Innr. Change the way you experience lighting  Product Design   \n",
       "\n",
       "  main_category currency    deadline     goal             launched  backers  \\\n",
       "0    Publishing      USD  2012-12-01   8000.0  2012-10-26 18:31:19        0   \n",
       "1    Journalism      GBP  2017-04-28   2000.0  2017-02-27 22:49:51        2   \n",
       "2    Technology      USD  2016-09-16   1000.0  2016-08-16 17:54:07        3   \n",
       "3         Games      USD  2013-08-02  30000.0  2013-06-16 00:47:10       49   \n",
       "4        Design      GBP  2013-12-07  50000.0  2013-11-07 17:09:09      165   \n",
       "\n",
       "  country  usd_goal_real  new_state  \n",
       "0      US        8000.00     failed  \n",
       "1      GB        2587.82     failed  \n",
       "2      US        1000.00     failed  \n",
       "3      US       30000.00     failed  \n",
       "4      GB       81349.76  succeeded  "
      ]
     },
     "execution_count": 2,
     "metadata": {},
     "output_type": "execute_result"
    }
   ],
   "source": [
    "data = pd.read_csv('~/nu_ds_challenge/ml_assignment_data_train.csv')\n",
    "print('Shape of the dataset is:', data.shape)\n",
    "data.head()"
   ]
  },
  {
   "cell_type": "markdown",
   "metadata": {},
   "source": [
    "# Data Cleaning\n",
    "\n",
    "- Ensure all columns are the correct dtype\n",
    "    - 'lauched' and 'deadline' column to datetime dtype\n"
   ]
  },
  {
   "cell_type": "code",
   "execution_count": 3,
   "metadata": {},
   "outputs": [
    {
     "data": {
      "text/plain": [
       "name              object\n",
       "category          object\n",
       "main_category     object\n",
       "currency          object\n",
       "deadline          object\n",
       "goal             float64\n",
       "launched          object\n",
       "backers            int64\n",
       "country           object\n",
       "usd_goal_real    float64\n",
       "new_state         object\n",
       "dtype: object"
      ]
     },
     "execution_count": 3,
     "metadata": {},
     "output_type": "execute_result"
    }
   ],
   "source": [
    "data.dtypes"
   ]
  },
  {
   "cell_type": "code",
   "execution_count": 4,
   "metadata": {},
   "outputs": [
    {
     "data": {
      "text/html": [
       "<div>\n",
       "<style scoped>\n",
       "    .dataframe tbody tr th:only-of-type {\n",
       "        vertical-align: middle;\n",
       "    }\n",
       "\n",
       "    .dataframe tbody tr th {\n",
       "        vertical-align: top;\n",
       "    }\n",
       "\n",
       "    .dataframe thead th {\n",
       "        text-align: right;\n",
       "    }\n",
       "</style>\n",
       "<table border=\"1\" class=\"dataframe\">\n",
       "  <thead>\n",
       "    <tr style=\"text-align: right;\">\n",
       "      <th></th>\n",
       "      <th>name</th>\n",
       "      <th>category</th>\n",
       "      <th>main_category</th>\n",
       "      <th>currency</th>\n",
       "      <th>deadline</th>\n",
       "      <th>goal</th>\n",
       "      <th>launched</th>\n",
       "      <th>backers</th>\n",
       "      <th>country</th>\n",
       "      <th>usd_goal_real</th>\n",
       "      <th>new_state</th>\n",
       "    </tr>\n",
       "  </thead>\n",
       "  <tbody>\n",
       "    <tr>\n",
       "      <th>0</th>\n",
       "      <td>The Life and Times of a Nutcracker</td>\n",
       "      <td>Fiction</td>\n",
       "      <td>Publishing</td>\n",
       "      <td>USD</td>\n",
       "      <td>2012-12-01</td>\n",
       "      <td>8000.0</td>\n",
       "      <td>2012-10-26</td>\n",
       "      <td>0</td>\n",
       "      <td>US</td>\n",
       "      <td>8000.00</td>\n",
       "      <td>failed</td>\n",
       "    </tr>\n",
       "    <tr>\n",
       "      <th>1</th>\n",
       "      <td>Kochi community outreach 2017</td>\n",
       "      <td>Web</td>\n",
       "      <td>Journalism</td>\n",
       "      <td>GBP</td>\n",
       "      <td>2017-04-28</td>\n",
       "      <td>2000.0</td>\n",
       "      <td>2017-02-27</td>\n",
       "      <td>2</td>\n",
       "      <td>GB</td>\n",
       "      <td>2587.82</td>\n",
       "      <td>failed</td>\n",
       "    </tr>\n",
       "    <tr>\n",
       "      <th>2</th>\n",
       "      <td>Get Expert Advice for your Fantasy Football Team</td>\n",
       "      <td>Apps</td>\n",
       "      <td>Technology</td>\n",
       "      <td>USD</td>\n",
       "      <td>2016-09-16</td>\n",
       "      <td>1000.0</td>\n",
       "      <td>2016-08-16</td>\n",
       "      <td>3</td>\n",
       "      <td>US</td>\n",
       "      <td>1000.00</td>\n",
       "      <td>failed</td>\n",
       "    </tr>\n",
       "    <tr>\n",
       "      <th>3</th>\n",
       "      <td>Realms of the Ancients (ROTA)</td>\n",
       "      <td>Tabletop Games</td>\n",
       "      <td>Games</td>\n",
       "      <td>USD</td>\n",
       "      <td>2013-08-02</td>\n",
       "      <td>30000.0</td>\n",
       "      <td>2013-06-16</td>\n",
       "      <td>49</td>\n",
       "      <td>US</td>\n",
       "      <td>30000.00</td>\n",
       "      <td>failed</td>\n",
       "    </tr>\n",
       "    <tr>\n",
       "      <th>4</th>\n",
       "      <td>Innr. Change the way you experience lighting</td>\n",
       "      <td>Product Design</td>\n",
       "      <td>Design</td>\n",
       "      <td>GBP</td>\n",
       "      <td>2013-12-07</td>\n",
       "      <td>50000.0</td>\n",
       "      <td>2013-11-07</td>\n",
       "      <td>165</td>\n",
       "      <td>GB</td>\n",
       "      <td>81349.76</td>\n",
       "      <td>succeeded</td>\n",
       "    </tr>\n",
       "  </tbody>\n",
       "</table>\n",
       "</div>"
      ],
      "text/plain": [
       "                                               name        category  \\\n",
       "0                The Life and Times of a Nutcracker         Fiction   \n",
       "1                     Kochi community outreach 2017             Web   \n",
       "2  Get Expert Advice for your Fantasy Football Team            Apps   \n",
       "3                     Realms of the Ancients (ROTA)  Tabletop Games   \n",
       "4      Innr. Change the way you experience lighting  Product Design   \n",
       "\n",
       "  main_category currency   deadline     goal   launched  backers country  \\\n",
       "0    Publishing      USD 2012-12-01   8000.0 2012-10-26        0      US   \n",
       "1    Journalism      GBP 2017-04-28   2000.0 2017-02-27        2      GB   \n",
       "2    Technology      USD 2016-09-16   1000.0 2016-08-16        3      US   \n",
       "3         Games      USD 2013-08-02  30000.0 2013-06-16       49      US   \n",
       "4        Design      GBP 2013-12-07  50000.0 2013-11-07      165      GB   \n",
       "\n",
       "   usd_goal_real  new_state  \n",
       "0        8000.00     failed  \n",
       "1        2587.82     failed  \n",
       "2        1000.00     failed  \n",
       "3       30000.00     failed  \n",
       "4       81349.76  succeeded  "
      ]
     },
     "execution_count": 4,
     "metadata": {},
     "output_type": "execute_result"
    }
   ],
   "source": [
    "data_v1 = data.assign(\n",
    "    deadline = pd.to_datetime(pd.to_datetime(data.deadline).dt.date),\n",
    "    launched = pd.to_datetime(pd.to_datetime(data.launched).dt.date)\n",
    ")\n",
    "data_v1.head()"
   ]
  },
  {
   "cell_type": "markdown",
   "metadata": {},
   "source": [
    "- Check for missing values\n",
    "        - 3 missing values in the name column. Delete these rows as they account for less than 0.1% of the dataset"
   ]
  },
  {
   "cell_type": "code",
   "execution_count": 5,
   "metadata": {},
   "outputs": [
    {
     "data": {
      "text/html": [
       "<div>\n",
       "<style scoped>\n",
       "    .dataframe tbody tr th:only-of-type {\n",
       "        vertical-align: middle;\n",
       "    }\n",
       "\n",
       "    .dataframe tbody tr th {\n",
       "        vertical-align: top;\n",
       "    }\n",
       "\n",
       "    .dataframe thead th {\n",
       "        text-align: right;\n",
       "    }\n",
       "</style>\n",
       "<table border=\"1\" class=\"dataframe\">\n",
       "  <thead>\n",
       "    <tr style=\"text-align: right;\">\n",
       "      <th></th>\n",
       "      <th>count_nulls</th>\n",
       "    </tr>\n",
       "  </thead>\n",
       "  <tbody>\n",
       "    <tr>\n",
       "      <th>name</th>\n",
       "      <td>3</td>\n",
       "    </tr>\n",
       "  </tbody>\n",
       "</table>\n",
       "</div>"
      ],
      "text/plain": [
       "      count_nulls\n",
       "name            3"
      ]
     },
     "execution_count": 5,
     "metadata": {},
     "output_type": "execute_result"
    }
   ],
   "source": [
    "nulls = pd.DataFrame(data_v1.isnull().sum(), columns=['count_nulls']).sort_values(by=['count_nulls'], ascending=False)\n",
    "nulls[nulls.count_nulls > 0]"
   ]
  },
  {
   "cell_type": "code",
   "execution_count": 6,
   "metadata": {},
   "outputs": [],
   "source": [
    "# removing rows with missing names\n",
    "data_v2 = data_v1[data_v1.name.isnull() == False]"
   ]
  },
  {
   "cell_type": "markdown",
   "metadata": {},
   "source": [
    "- Map output variables [failed, succeeded, surged] to [0,1,2]"
   ]
  },
  {
   "cell_type": "code",
   "execution_count": 7,
   "metadata": {},
   "outputs": [
    {
     "name": "stderr",
     "output_type": "stream",
     "text": [
      "/Users/joashc/anaconda3/lib/python3.6/site-packages/ipykernel_launcher.py:1: SettingWithCopyWarning: \n",
      "A value is trying to be set on a copy of a slice from a DataFrame.\n",
      "Try using .loc[row_indexer,col_indexer] = value instead\n",
      "\n",
      "See the caveats in the documentation: http://pandas.pydata.org/pandas-docs/stable/indexing.html#indexing-view-versus-copy\n",
      "  \"\"\"Entry point for launching an IPython kernel.\n"
     ]
    }
   ],
   "source": [
    "data_v2['new_state'] = data_v2.new_state.map({'failed':0,'succeeded':1, 'surged':2 })"
   ]
  },
  {
   "cell_type": "code",
   "execution_count": 8,
   "metadata": {
    "scrolled": true
   },
   "outputs": [
    {
     "data": {
      "text/html": [
       "<div>\n",
       "<style scoped>\n",
       "    .dataframe tbody tr th:only-of-type {\n",
       "        vertical-align: middle;\n",
       "    }\n",
       "\n",
       "    .dataframe tbody tr th {\n",
       "        vertical-align: top;\n",
       "    }\n",
       "\n",
       "    .dataframe thead th {\n",
       "        text-align: right;\n",
       "    }\n",
       "</style>\n",
       "<table border=\"1\" class=\"dataframe\">\n",
       "  <thead>\n",
       "    <tr style=\"text-align: right;\">\n",
       "      <th></th>\n",
       "      <th>name</th>\n",
       "      <th>category</th>\n",
       "      <th>main_category</th>\n",
       "      <th>currency</th>\n",
       "      <th>deadline</th>\n",
       "      <th>goal</th>\n",
       "      <th>launched</th>\n",
       "      <th>backers</th>\n",
       "      <th>country</th>\n",
       "      <th>usd_goal_real</th>\n",
       "      <th>new_state</th>\n",
       "    </tr>\n",
       "  </thead>\n",
       "  <tbody>\n",
       "    <tr>\n",
       "      <th>0</th>\n",
       "      <td>The Life and Times of a Nutcracker</td>\n",
       "      <td>Fiction</td>\n",
       "      <td>Publishing</td>\n",
       "      <td>USD</td>\n",
       "      <td>2012-12-01</td>\n",
       "      <td>8000.0</td>\n",
       "      <td>2012-10-26</td>\n",
       "      <td>0</td>\n",
       "      <td>US</td>\n",
       "      <td>8000.00</td>\n",
       "      <td>0</td>\n",
       "    </tr>\n",
       "    <tr>\n",
       "      <th>1</th>\n",
       "      <td>Kochi community outreach 2017</td>\n",
       "      <td>Web</td>\n",
       "      <td>Journalism</td>\n",
       "      <td>GBP</td>\n",
       "      <td>2017-04-28</td>\n",
       "      <td>2000.0</td>\n",
       "      <td>2017-02-27</td>\n",
       "      <td>2</td>\n",
       "      <td>GB</td>\n",
       "      <td>2587.82</td>\n",
       "      <td>0</td>\n",
       "    </tr>\n",
       "    <tr>\n",
       "      <th>2</th>\n",
       "      <td>Get Expert Advice for your Fantasy Football Team</td>\n",
       "      <td>Apps</td>\n",
       "      <td>Technology</td>\n",
       "      <td>USD</td>\n",
       "      <td>2016-09-16</td>\n",
       "      <td>1000.0</td>\n",
       "      <td>2016-08-16</td>\n",
       "      <td>3</td>\n",
       "      <td>US</td>\n",
       "      <td>1000.00</td>\n",
       "      <td>0</td>\n",
       "    </tr>\n",
       "    <tr>\n",
       "      <th>3</th>\n",
       "      <td>Realms of the Ancients (ROTA)</td>\n",
       "      <td>Tabletop Games</td>\n",
       "      <td>Games</td>\n",
       "      <td>USD</td>\n",
       "      <td>2013-08-02</td>\n",
       "      <td>30000.0</td>\n",
       "      <td>2013-06-16</td>\n",
       "      <td>49</td>\n",
       "      <td>US</td>\n",
       "      <td>30000.00</td>\n",
       "      <td>0</td>\n",
       "    </tr>\n",
       "    <tr>\n",
       "      <th>4</th>\n",
       "      <td>Innr. Change the way you experience lighting</td>\n",
       "      <td>Product Design</td>\n",
       "      <td>Design</td>\n",
       "      <td>GBP</td>\n",
       "      <td>2013-12-07</td>\n",
       "      <td>50000.0</td>\n",
       "      <td>2013-11-07</td>\n",
       "      <td>165</td>\n",
       "      <td>GB</td>\n",
       "      <td>81349.76</td>\n",
       "      <td>1</td>\n",
       "    </tr>\n",
       "  </tbody>\n",
       "</table>\n",
       "</div>"
      ],
      "text/plain": [
       "                                               name        category  \\\n",
       "0                The Life and Times of a Nutcracker         Fiction   \n",
       "1                     Kochi community outreach 2017             Web   \n",
       "2  Get Expert Advice for your Fantasy Football Team            Apps   \n",
       "3                     Realms of the Ancients (ROTA)  Tabletop Games   \n",
       "4      Innr. Change the way you experience lighting  Product Design   \n",
       "\n",
       "  main_category currency   deadline     goal   launched  backers country  \\\n",
       "0    Publishing      USD 2012-12-01   8000.0 2012-10-26        0      US   \n",
       "1    Journalism      GBP 2017-04-28   2000.0 2017-02-27        2      GB   \n",
       "2    Technology      USD 2016-09-16   1000.0 2016-08-16        3      US   \n",
       "3         Games      USD 2013-08-02  30000.0 2013-06-16       49      US   \n",
       "4        Design      GBP 2013-12-07  50000.0 2013-11-07      165      GB   \n",
       "\n",
       "   usd_goal_real  new_state  \n",
       "0        8000.00          0  \n",
       "1        2587.82          0  \n",
       "2        1000.00          0  \n",
       "3       30000.00          0  \n",
       "4       81349.76          1  "
      ]
     },
     "execution_count": 8,
     "metadata": {},
     "output_type": "execute_result"
    }
   ],
   "source": [
    "data_v2.new_state.unique()\n",
    "data_v2.head()"
   ]
  },
  {
   "cell_type": "markdown",
   "metadata": {},
   "source": [
    "# Initial Feature Engineering\n",
    "\n",
    "- For date columns\n",
    "    - time_period = Try deadline - launched\n",
    "    - Month of year launched\n",
    "    - Year of launch\n",
    "- For name column\n",
    "    - len of title\n",
    "    - number of words in the title\n",
    "    - Look at the successful or surged titles, remove stop words and make features of the words (maybe future feature eng)"
   ]
  },
  {
   "cell_type": "code",
   "execution_count": 9,
   "metadata": {},
   "outputs": [
    {
     "name": "stderr",
     "output_type": "stream",
     "text": [
      "/Users/joashc/anaconda3/lib/python3.6/site-packages/ipykernel_launcher.py:1: SettingWithCopyWarning: \n",
      "A value is trying to be set on a copy of a slice from a DataFrame.\n",
      "Try using .loc[row_indexer,col_indexer] = value instead\n",
      "\n",
      "See the caveats in the documentation: http://pandas.pydata.org/pandas-docs/stable/indexing.html#indexing-view-versus-copy\n",
      "  \"\"\"Entry point for launching an IPython kernel.\n",
      "/Users/joashc/anaconda3/lib/python3.6/site-packages/ipykernel_launcher.py:2: SettingWithCopyWarning: \n",
      "A value is trying to be set on a copy of a slice from a DataFrame.\n",
      "Try using .loc[row_indexer,col_indexer] = value instead\n",
      "\n",
      "See the caveats in the documentation: http://pandas.pydata.org/pandas-docs/stable/indexing.html#indexing-view-versus-copy\n",
      "  \n"
     ]
    },
    {
     "data": {
      "text/html": [
       "<div>\n",
       "<style scoped>\n",
       "    .dataframe tbody tr th:only-of-type {\n",
       "        vertical-align: middle;\n",
       "    }\n",
       "\n",
       "    .dataframe tbody tr th {\n",
       "        vertical-align: top;\n",
       "    }\n",
       "\n",
       "    .dataframe thead th {\n",
       "        text-align: right;\n",
       "    }\n",
       "</style>\n",
       "<table border=\"1\" class=\"dataframe\">\n",
       "  <thead>\n",
       "    <tr style=\"text-align: right;\">\n",
       "      <th></th>\n",
       "      <th>name</th>\n",
       "      <th>category</th>\n",
       "      <th>main_category</th>\n",
       "      <th>currency</th>\n",
       "      <th>deadline</th>\n",
       "      <th>goal</th>\n",
       "      <th>launched</th>\n",
       "      <th>backers</th>\n",
       "      <th>country</th>\n",
       "      <th>usd_goal_real</th>\n",
       "      <th>new_state</th>\n",
       "      <th>name_length</th>\n",
       "      <th>name_num_words</th>\n",
       "    </tr>\n",
       "  </thead>\n",
       "  <tbody>\n",
       "    <tr>\n",
       "      <th>0</th>\n",
       "      <td>The Life and Times of a Nutcracker</td>\n",
       "      <td>Fiction</td>\n",
       "      <td>Publishing</td>\n",
       "      <td>USD</td>\n",
       "      <td>2012-12-01</td>\n",
       "      <td>8000.0</td>\n",
       "      <td>2012-10-26</td>\n",
       "      <td>0</td>\n",
       "      <td>US</td>\n",
       "      <td>8000.00</td>\n",
       "      <td>0</td>\n",
       "      <td>34</td>\n",
       "      <td>7</td>\n",
       "    </tr>\n",
       "    <tr>\n",
       "      <th>1</th>\n",
       "      <td>Kochi community outreach 2017</td>\n",
       "      <td>Web</td>\n",
       "      <td>Journalism</td>\n",
       "      <td>GBP</td>\n",
       "      <td>2017-04-28</td>\n",
       "      <td>2000.0</td>\n",
       "      <td>2017-02-27</td>\n",
       "      <td>2</td>\n",
       "      <td>GB</td>\n",
       "      <td>2587.82</td>\n",
       "      <td>0</td>\n",
       "      <td>29</td>\n",
       "      <td>4</td>\n",
       "    </tr>\n",
       "    <tr>\n",
       "      <th>2</th>\n",
       "      <td>Get Expert Advice for your Fantasy Football Team</td>\n",
       "      <td>Apps</td>\n",
       "      <td>Technology</td>\n",
       "      <td>USD</td>\n",
       "      <td>2016-09-16</td>\n",
       "      <td>1000.0</td>\n",
       "      <td>2016-08-16</td>\n",
       "      <td>3</td>\n",
       "      <td>US</td>\n",
       "      <td>1000.00</td>\n",
       "      <td>0</td>\n",
       "      <td>48</td>\n",
       "      <td>8</td>\n",
       "    </tr>\n",
       "    <tr>\n",
       "      <th>3</th>\n",
       "      <td>Realms of the Ancients (ROTA)</td>\n",
       "      <td>Tabletop Games</td>\n",
       "      <td>Games</td>\n",
       "      <td>USD</td>\n",
       "      <td>2013-08-02</td>\n",
       "      <td>30000.0</td>\n",
       "      <td>2013-06-16</td>\n",
       "      <td>49</td>\n",
       "      <td>US</td>\n",
       "      <td>30000.00</td>\n",
       "      <td>0</td>\n",
       "      <td>29</td>\n",
       "      <td>5</td>\n",
       "    </tr>\n",
       "    <tr>\n",
       "      <th>4</th>\n",
       "      <td>Innr. Change the way you experience lighting</td>\n",
       "      <td>Product Design</td>\n",
       "      <td>Design</td>\n",
       "      <td>GBP</td>\n",
       "      <td>2013-12-07</td>\n",
       "      <td>50000.0</td>\n",
       "      <td>2013-11-07</td>\n",
       "      <td>165</td>\n",
       "      <td>GB</td>\n",
       "      <td>81349.76</td>\n",
       "      <td>1</td>\n",
       "      <td>44</td>\n",
       "      <td>7</td>\n",
       "    </tr>\n",
       "  </tbody>\n",
       "</table>\n",
       "</div>"
      ],
      "text/plain": [
       "                                               name        category  \\\n",
       "0                The Life and Times of a Nutcracker         Fiction   \n",
       "1                     Kochi community outreach 2017             Web   \n",
       "2  Get Expert Advice for your Fantasy Football Team            Apps   \n",
       "3                     Realms of the Ancients (ROTA)  Tabletop Games   \n",
       "4      Innr. Change the way you experience lighting  Product Design   \n",
       "\n",
       "  main_category currency   deadline     goal   launched  backers country  \\\n",
       "0    Publishing      USD 2012-12-01   8000.0 2012-10-26        0      US   \n",
       "1    Journalism      GBP 2017-04-28   2000.0 2017-02-27        2      GB   \n",
       "2    Technology      USD 2016-09-16   1000.0 2016-08-16        3      US   \n",
       "3         Games      USD 2013-08-02  30000.0 2013-06-16       49      US   \n",
       "4        Design      GBP 2013-12-07  50000.0 2013-11-07      165      GB   \n",
       "\n",
       "   usd_goal_real  new_state  name_length  name_num_words  \n",
       "0        8000.00          0           34               7  \n",
       "1        2587.82          0           29               4  \n",
       "2        1000.00          0           48               8  \n",
       "3       30000.00          0           29               5  \n",
       "4       81349.76          1           44               7  "
      ]
     },
     "execution_count": 9,
     "metadata": {},
     "output_type": "execute_result"
    }
   ],
   "source": [
    "data_v2['name_length'] = data_v2.name.apply(lambda x: len(x))\n",
    "data_v2['name_num_words'] = data_v2.name.apply(lambda x: len(x.split()))\n",
    "data_v2.head()"
   ]
  },
  {
   "cell_type": "code",
   "execution_count": 12,
   "metadata": {},
   "outputs": [
    {
     "data": {
      "text/html": [
       "<div>\n",
       "<style scoped>\n",
       "    .dataframe tbody tr th:only-of-type {\n",
       "        vertical-align: middle;\n",
       "    }\n",
       "\n",
       "    .dataframe tbody tr th {\n",
       "        vertical-align: top;\n",
       "    }\n",
       "\n",
       "    .dataframe thead th {\n",
       "        text-align: right;\n",
       "    }\n",
       "</style>\n",
       "<table border=\"1\" class=\"dataframe\">\n",
       "  <thead>\n",
       "    <tr style=\"text-align: right;\">\n",
       "      <th></th>\n",
       "      <th>name</th>\n",
       "      <th>category</th>\n",
       "      <th>main_category</th>\n",
       "      <th>currency</th>\n",
       "      <th>deadline</th>\n",
       "      <th>goal</th>\n",
       "      <th>launched</th>\n",
       "      <th>backers</th>\n",
       "      <th>country</th>\n",
       "      <th>usd_goal_real</th>\n",
       "      <th>new_state</th>\n",
       "      <th>name_length</th>\n",
       "      <th>name_num_words</th>\n",
       "      <th>launch_month</th>\n",
       "      <th>launch_duration_month</th>\n",
       "      <th>duration_launched_month</th>\n",
       "      <th>launch_year</th>\n",
       "    </tr>\n",
       "  </thead>\n",
       "  <tbody>\n",
       "    <tr>\n",
       "      <th>0</th>\n",
       "      <td>The Life and Times of a Nutcracker</td>\n",
       "      <td>Fiction</td>\n",
       "      <td>Publishing</td>\n",
       "      <td>USD</td>\n",
       "      <td>2012-12-01</td>\n",
       "      <td>8000.0</td>\n",
       "      <td>2012-10-26</td>\n",
       "      <td>0</td>\n",
       "      <td>US</td>\n",
       "      <td>8000.00</td>\n",
       "      <td>0</td>\n",
       "      <td>34</td>\n",
       "      <td>7</td>\n",
       "      <td>10</td>\n",
       "      <td>1.182776</td>\n",
       "      <td>1.182776</td>\n",
       "      <td>2012</td>\n",
       "    </tr>\n",
       "    <tr>\n",
       "      <th>1</th>\n",
       "      <td>Kochi community outreach 2017</td>\n",
       "      <td>Web</td>\n",
       "      <td>Journalism</td>\n",
       "      <td>GBP</td>\n",
       "      <td>2017-04-28</td>\n",
       "      <td>2000.0</td>\n",
       "      <td>2017-02-27</td>\n",
       "      <td>2</td>\n",
       "      <td>GB</td>\n",
       "      <td>2587.82</td>\n",
       "      <td>0</td>\n",
       "      <td>29</td>\n",
       "      <td>4</td>\n",
       "      <td>2</td>\n",
       "      <td>1.971293</td>\n",
       "      <td>1.971293</td>\n",
       "      <td>2017</td>\n",
       "    </tr>\n",
       "    <tr>\n",
       "      <th>2</th>\n",
       "      <td>Get Expert Advice for your Fantasy Football Team</td>\n",
       "      <td>Apps</td>\n",
       "      <td>Technology</td>\n",
       "      <td>USD</td>\n",
       "      <td>2016-09-16</td>\n",
       "      <td>1000.0</td>\n",
       "      <td>2016-08-16</td>\n",
       "      <td>3</td>\n",
       "      <td>US</td>\n",
       "      <td>1000.00</td>\n",
       "      <td>0</td>\n",
       "      <td>48</td>\n",
       "      <td>8</td>\n",
       "      <td>8</td>\n",
       "      <td>1.018501</td>\n",
       "      <td>1.018501</td>\n",
       "      <td>2016</td>\n",
       "    </tr>\n",
       "    <tr>\n",
       "      <th>3</th>\n",
       "      <td>Realms of the Ancients (ROTA)</td>\n",
       "      <td>Tabletop Games</td>\n",
       "      <td>Games</td>\n",
       "      <td>USD</td>\n",
       "      <td>2013-08-02</td>\n",
       "      <td>30000.0</td>\n",
       "      <td>2013-06-16</td>\n",
       "      <td>49</td>\n",
       "      <td>US</td>\n",
       "      <td>30000.00</td>\n",
       "      <td>0</td>\n",
       "      <td>29</td>\n",
       "      <td>5</td>\n",
       "      <td>6</td>\n",
       "      <td>1.544180</td>\n",
       "      <td>1.544180</td>\n",
       "      <td>2013</td>\n",
       "    </tr>\n",
       "    <tr>\n",
       "      <th>4</th>\n",
       "      <td>Innr. Change the way you experience lighting</td>\n",
       "      <td>Product Design</td>\n",
       "      <td>Design</td>\n",
       "      <td>GBP</td>\n",
       "      <td>2013-12-07</td>\n",
       "      <td>50000.0</td>\n",
       "      <td>2013-11-07</td>\n",
       "      <td>165</td>\n",
       "      <td>GB</td>\n",
       "      <td>81349.76</td>\n",
       "      <td>1</td>\n",
       "      <td>44</td>\n",
       "      <td>7</td>\n",
       "      <td>11</td>\n",
       "      <td>0.985647</td>\n",
       "      <td>0.985647</td>\n",
       "      <td>2013</td>\n",
       "    </tr>\n",
       "  </tbody>\n",
       "</table>\n",
       "</div>"
      ],
      "text/plain": [
       "                                               name        category  \\\n",
       "0                The Life and Times of a Nutcracker         Fiction   \n",
       "1                     Kochi community outreach 2017             Web   \n",
       "2  Get Expert Advice for your Fantasy Football Team            Apps   \n",
       "3                     Realms of the Ancients (ROTA)  Tabletop Games   \n",
       "4      Innr. Change the way you experience lighting  Product Design   \n",
       "\n",
       "  main_category currency   deadline     goal   launched  backers country  \\\n",
       "0    Publishing      USD 2012-12-01   8000.0 2012-10-26        0      US   \n",
       "1    Journalism      GBP 2017-04-28   2000.0 2017-02-27        2      GB   \n",
       "2    Technology      USD 2016-09-16   1000.0 2016-08-16        3      US   \n",
       "3         Games      USD 2013-08-02  30000.0 2013-06-16       49      US   \n",
       "4        Design      GBP 2013-12-07  50000.0 2013-11-07      165      GB   \n",
       "\n",
       "   usd_goal_real  new_state  name_length  name_num_words  launch_month  \\\n",
       "0        8000.00          0           34               7            10   \n",
       "1        2587.82          0           29               4             2   \n",
       "2        1000.00          0           48               8             8   \n",
       "3       30000.00          0           29               5             6   \n",
       "4       81349.76          1           44               7            11   \n",
       "\n",
       "   launch_duration_month  duration_launched_month  launch_year  \n",
       "0               1.182776                 1.182776         2012  \n",
       "1               1.971293                 1.971293         2017  \n",
       "2               1.018501                 1.018501         2016  \n",
       "3               1.544180                 1.544180         2013  \n",
       "4               0.985647                 0.985647         2013  "
      ]
     },
     "execution_count": 12,
     "metadata": {},
     "output_type": "execute_result"
    }
   ],
   "source": [
    "data_v2 = data_v2.assign(\n",
    "    launch_month = data_v2.launched.dt.month,\n",
    "    duration_launched_month = ((data_v2.deadline - data_v2.launched)/np.timedelta64(1, 'M')),\n",
    "    launch_year = data_v2.launched.dt.year\n",
    ")\n",
    "data_v2.head()"
   ]
  },
  {
   "cell_type": "markdown",
   "metadata": {},
   "source": [
    "# EDA"
   ]
  },
  {
   "cell_type": "markdown",
   "metadata": {},
   "source": [
    "There are a total of 10 features in the dataset. I want to do some quick introductory analysis on each of them so I have a good understand of the distrubution of the dataset. "
   ]
  },
  {
   "cell_type": "markdown",
   "metadata": {},
   "source": [
    "First Up: new_state"
   ]
  },
  {
   "cell_type": "code",
   "execution_count": 97,
   "metadata": {},
   "outputs": [
    {
     "data": {
      "text/plain": [
       "258322"
      ]
     },
     "execution_count": 97,
     "metadata": {},
     "output_type": "execute_result"
    }
   ],
   "source": [
    "data_v2.shape[0]"
   ]
  },
  {
   "cell_type": "code",
   "execution_count": 102,
   "metadata": {},
   "outputs": [
    {
     "name": "stdout",
     "output_type": "stream",
     "text": [
      "These are the classification variables of the dataset [0 1 2]\n",
      "   new_state  percent_class\n",
      "0     158171           61.0\n",
      "1      66635           26.0\n",
      "2      33516           13.0\n"
     ]
    }
   ],
   "source": [
    "print('These are the classification variables of the dataset', data_v2.new_state.unique())\n",
    "class_var = pd.DataFrame(data_v2.new_state.value_counts())\n",
    "class_var = class_var.assign(percent_class = round(class_var.new_state/258322, 2)*100)\n",
    "print(class_var)"
   ]
  },
  {
   "cell_type": "markdown",
   "metadata": {},
   "source": [
    "61%, 26% and 13% of the dataset consist of books that failed, succeeded and surged.\n",
    "\n",
    "\n",
    "Next: goal and usd_goal_real\n",
    "\n",
    "\n",
    "I will assume the 'goal' column is also in USD"
   ]
  },
  {
   "cell_type": "code",
   "execution_count": 48,
   "metadata": {},
   "outputs": [
    {
     "data": {
      "text/plain": [
       "<seaborn.axisgrid.FacetGrid at 0x108670828>"
      ]
     },
     "execution_count": 48,
     "metadata": {},
     "output_type": "execute_result"
    },
    {
     "data": {
      "image/png": "[encoded data removed]",
      "text/plain": [
       "<Figure size 418.875x360 with 1 Axes>"
      ]
     },
     "metadata": {},
     "output_type": "display_data"
    }
   ],
   "source": [
    "sns.lmplot( x=\"goal\", y=\"usd_goal_real\", \n",
    "           data=data_v2, fit_reg=False, hue='new_state', legend=True, scatter_kws={'alpha':0.15})"
   ]
  },
  {
   "cell_type": "markdown",
   "metadata": {},
   "source": [
    "Based on the plot, it is evident that the extremely high goals are unlikely to be successful. I hypothesize that this could be due to unrealistic expectations or over hypness of the book. Let's take out some outliers and see the same scatter plot."
   ]
  },
  {
   "cell_type": "code",
   "execution_count": 108,
   "metadata": {},
   "outputs": [
    {
     "name": "stdout",
     "output_type": "stream",
     "text": [
      "Shape of the data removing 99 percentile from the goals columns is: (255738, 11)\n"
     ]
    },
    {
     "data": {
      "text/plain": [
       "<seaborn.axisgrid.FacetGrid at 0x1a23a671d0>"
      ]
     },
     "execution_count": 108,
     "metadata": {},
     "output_type": "execute_result"
    },
    {
     "data": {
      "image/png": "[encoded data removed]",
      "text/plain": [
       "<Figure size 418.875x360 with 1 Axes>"
      ]
     },
     "metadata": {},
     "output_type": "display_data"
    }
   ],
   "source": [
    "quantile = .99\n",
    "print('Shape of the data removing 99 percentile from the goals columns is:',\n",
    "      data_v2[data_v2['goal'] < data_v2.goal.quantile(quantile)].shape)\n",
    "\n",
    "sns.lmplot( x=\"goal\", y=\"usd_goal_real\", \n",
    "           data=data_v2[data_v2['goal'] < data_v2.goal.quantile(quantile)], \n",
    "           fit_reg=False, hue='new_state', legend=True, scatter_kws={'alpha':0.15})"
   ]
  },
  {
   "cell_type": "markdown",
   "metadata": {},
   "source": [
    "In the plot above, the lower the goal the higher the probability of success."
   ]
  },
  {
   "cell_type": "markdown",
   "metadata": {},
   "source": [
    "Next: Currency"
   ]
  },
  {
   "cell_type": "code",
   "execution_count": 35,
   "metadata": {},
   "outputs": [
    {
     "name": "stdout",
     "output_type": "stream",
     "text": [
      "There are 14 different currencies in this dataset.\n",
      "USD    203876\n",
      "GBP     22949\n",
      "EUR     11120\n",
      "CAD      9613\n",
      "AUD      5083\n",
      "Name: currency, dtype: int64\n"
     ]
    },
    {
     "data": {
      "text/plain": [
       "<matplotlib.axes._subplots.AxesSubplot at 0x10c06c2e8>"
      ]
     },
     "execution_count": 35,
     "metadata": {},
     "output_type": "execute_result"
    },
    {
     "data": {
      "image/png": "[encoded data removed]",
      "text/plain": [
       "<Figure size 432x288 with 1 Axes>"
      ]
     },
     "metadata": {},
     "output_type": "display_data"
    }
   ],
   "source": [
    "print('There are', data_v2.currency.nunique(), 'different currencies in this dataset.')\n",
    "print(data_v2.currency.value_counts().head())\n",
    "data_v2.currency.value_counts().plot(kind=\"bar\")"
   ]
  },
  {
   "cell_type": "markdown",
   "metadata": {},
   "source": [
    "In the plot above, it is evident that over 75% of the currency in the dataset is USD.\n",
    "\n",
    "\n",
    "Next: Country"
   ]
  },
  {
   "cell_type": "code",
   "execution_count": 36,
   "metadata": {},
   "outputs": [
    {
     "name": "stdout",
     "output_type": "stream",
     "text": [
      "There are 23 different countries in the dataset.\n",
      "US    203749\n",
      "GB     22930\n",
      "CA      9609\n",
      "AU      5082\n",
      "DE      2640\n",
      "Name: country, dtype: int64\n"
     ]
    },
    {
     "data": {
      "text/plain": [
       "<matplotlib.axes._subplots.AxesSubplot at 0x10c1b8048>"
      ]
     },
     "execution_count": 36,
     "metadata": {},
     "output_type": "execute_result"
    },
    {
     "data": {
      "image/png": "[encoded data removed]",
      "text/plain": [
       "<Figure size 432x288 with 1 Axes>"
      ]
     },
     "metadata": {},
     "output_type": "display_data"
    }
   ],
   "source": [
    "data_v2.country.unique()\n",
    "print('There are', data_v2.country.nunique(), 'different countries in the dataset.')\n",
    "print(data_v2.country.value_counts().head())\n",
    "data_v2.country.value_counts().plot(kind=\"bar\")"
   ]
  },
  {
   "cell_type": "markdown",
   "metadata": {},
   "source": [
    "The country distribution is similar to the currency distribution"
   ]
  },
  {
   "cell_type": "markdown",
   "metadata": {},
   "source": [
    "Next: Names of the Books"
   ]
  },
  {
   "cell_type": "code",
   "execution_count": 47,
   "metadata": {},
   "outputs": [
    {
     "name": "stdout",
     "output_type": "stream",
     "text": [
      "1072 books in the dataset have duplicate names. This is 2432 total rows in the dataset with duplicate book names ( 1.0 % of the dataset)\n"
     ]
    }
   ],
   "source": [
    "data_v2.name.nunique()/data_v2.shape[0]\n",
    "name_counts = pd.DataFrame(data_v2.name.value_counts())\n",
    "name_counts[name_counts['name'] > 1].shape\n",
    "\n",
    "print(name_counts[name_counts['name'] > 1].shape[0], 'books in the dataset have duplicate names.',\n",
    "     'This is', name_counts['name'][name_counts['name'] > 1].sum(), \n",
    "      'total rows in the dataset with duplicate book names (', \n",
    "      round((1-(data_v2.name.nunique()/data_v2.shape[0])),2)*100,\n",
    "     '% of the dataset)')"
   ]
  },
  {
   "cell_type": "markdown",
   "metadata": {},
   "source": [
    "Next: main_category"
   ]
  },
  {
   "cell_type": "code",
   "execution_count": 64,
   "metadata": {
    "scrolled": false
   },
   "outputs": [
    {
     "name": "stdout",
     "output_type": "stream",
     "text": [
      "There are 15 different main categories.\n",
      "              main_category\n",
      "Film & Video          44878\n",
      "Music                 36541\n",
      "Publishing            28058\n",
      "Technology            20676\n",
      "Games                 20630\n"
     ]
    },
    {
     "data": {
      "text/plain": [
       "<matplotlib.axes._subplots.AxesSubplot at 0x1a0db537b8>"
      ]
     },
     "execution_count": 64,
     "metadata": {},
     "output_type": "execute_result"
    },
    {
     "data": {
      "image/png": "[encoded data removed]",
      "text/plain": [
       "<Figure size 432x288 with 1 Axes>"
      ]
     },
     "metadata": {},
     "output_type": "display_data"
    }
   ],
   "source": [
    "data_v2.main_category.unique()\n",
    "print('There are', data_v2.main_category.nunique(), 'different main categories.')\n",
    "main_category_counts = pd.DataFrame(data_v2.main_category.value_counts())\n",
    "print('Here are the t')\n",
    "print(main_category_counts.head())\n",
    "main_category_counts.plot.bar()"
   ]
  },
  {
   "cell_type": "markdown",
   "metadata": {},
   "source": [
    "For unique book names, I do not think it would add much value to one-hot-encode the names as a feature to the model. There are also very few duplicate names. Thus, other features may have to be extracted from the name which will be done in the feature engineering section of the code!\n",
    "\n",
    "\n",
    "Next: category"
   ]
  },
  {
   "cell_type": "code",
   "execution_count": 58,
   "metadata": {},
   "outputs": [
    {
     "name": "stdout",
     "output_type": "stream",
     "text": [
      "There are a total of 159 categories\n",
      "Here are the top 5 categories:\n",
      "                category\n",
      "Product Design     13723\n",
      "Documentary        11578\n",
      "Music              10071\n",
      "Shorts              9035\n",
      "Food                8303\n",
      "Following is a bar plot of the top 20 categories:\n"
     ]
    },
    {
     "data": {
      "text/plain": [
       "<matplotlib.axes._subplots.AxesSubplot at 0x10a41b198>"
      ]
     },
     "execution_count": 58,
     "metadata": {},
     "output_type": "execute_result"
    },
    {
     "data": {
      "image/png": "[encoded data removed]",
      "text/plain": [
       "<Figure size 432x288 with 1 Axes>"
      ]
     },
     "metadata": {},
     "output_type": "display_data"
    }
   ],
   "source": [
    "data_v2.category.unique()\n",
    "print('There are a total of', data_v2.category.nunique(),'categories')\n",
    "print('Here are the top 5 categories:')\n",
    "category_counts = pd.DataFrame(data_v2.category.value_counts())\n",
    "print(category_counts.head())\n",
    "print('Following is a bar plot of the top 20 categories:')\n",
    "category_counts.head(20).plot.bar()"
   ]
  },
  {
   "cell_type": "code",
   "execution_count": 71,
   "metadata": {},
   "outputs": [
    {
     "data": {
      "text/plain": [
       "<seaborn.axisgrid.FacetGrid at 0x1a0f3649b0>"
      ]
     },
     "execution_count": 71,
     "metadata": {},
     "output_type": "execute_result"
    },
    {
     "data": {
      "image/png": "[encoded data removed]",
      "text/plain": [
       "<Figure size 418.875x360 with 1 Axes>"
      ]
     },
     "metadata": {},
     "output_type": "display_data"
    }
   ],
   "source": [
    "sns.lmplot( x=\"goal\", y=\"backers\", \n",
    "           data=data_v2, fit_reg=False, hue='new_state', legend=True, scatter_kws={'alpha':0.15})"
   ]
  },
  {
   "cell_type": "code",
   "execution_count": 79,
   "metadata": {},
   "outputs": [
    {
     "data": {
      "text/plain": [
       "<seaborn.axisgrid.FacetGrid at 0x1089077f0>"
      ]
     },
     "execution_count": 79,
     "metadata": {},
     "output_type": "execute_result"
    },
    {
     "data": {
      "image/png": "[encoded data removed]",
      "text/plain": [
       "<Figure size 418.875x360 with 1 Axes>"
      ]
     },
     "metadata": {},
     "output_type": "display_data"
    }
   ],
   "source": [
    "test = data_v2[data_v2['goal'] < 1000000]\n",
    "sns.lmplot( x=\"goal\", y=\"backers\", \n",
    "           data=test, fit_reg=False, hue='new_state', legend=True, scatter_kws={'alpha':0.15})"
   ]
  },
  {
   "cell_type": "markdown",
   "metadata": {},
   "source": [
    "# Feature Eng\n",
    "- For date columns\n",
    "    - time_period = Try deadline - launched\n",
    "    - Time of year lauched (Q1, Q2, Q3, Q4)\n",
    "    - Month of year launched\n",
    "    - \n",
    "- len of title\n",
    "- number of words in the title\n",
    "- Look at the successful or surged titles, remove stop words and make features of the words."
   ]
  },
  {
   "cell_type": "code",
   "execution_count": null,
   "metadata": {},
   "outputs": [],
   "source": []
  }
 ],
 "metadata": {
  "kernelspec": {
   "display_name": "Python 3",
   "language": "python",
   "name": "python3"
  },
  "language_info": {
   "codemirror_mode": {
    "name": "ipython",
    "version": 3
   },
   "file_extension": ".py",
   "mimetype": "text/x-python",
   "name": "python",
   "nbconvert_exporter": "python",
   "pygments_lexer": "ipython3",
   "version": "3.6.5"
  }
 },
 "nbformat": 4,
 "nbformat_minor": 2
}
