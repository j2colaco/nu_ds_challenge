{
 "cells": [
  {
   "cell_type": "code",
   "execution_count": 153,
   "metadata": {
    "scrolled": true
   },
   "outputs": [
    {
     "data": {
      "text/html": [
       "<script>\n",
       "code_show=true; \n",
       "function code_toggle() {\n",
       " if (code_show){\n",
       " $('div.input').hide();\n",
       " } else {\n",
       " $('div.input').show();\n",
       " }\n",
       " code_show = !code_show\n",
       "} \n",
       "$( document ).ready(code_toggle);\n",
       "</script>\n",
       "The raw code for this IPython notebook is by default hidden for easier reading.\n",
       "To toggle on/off the raw code, click <a href=\"javascript:code_toggle()\">here</a>."
      ],
      "text/plain": [
       "<IPython.core.display.HTML object>"
      ]
     },
     "execution_count": 153,
     "metadata": {},
     "output_type": "execute_result"
    }
   ],
   "source": [
    "from IPython.display import HTML\n",
    "HTML('''<script>\n",
    "code_show=true; \n",
    "function code_toggle() {\n",
    " if (code_show){\n",
    " $('div.input').hide();\n",
    " } else {\n",
    " $('div.input').show();\n",
    " }\n",
    " code_show = !code_show\n",
    "} \n",
    "$( document ).ready(code_toggle);\n",
    "</script>\n",
    "The raw code for this IPython notebook is by default hidden for easier reading.\n",
    "To toggle on/off the raw code, click <a href=\"javascript:code_toggle()\">here</a>.''')"
   ]
  },
  {
   "cell_type": "markdown",
   "metadata": {},
   "source": [
    "## Assumptions\n",
    "- This challenge should take 5-6 hours to complete\n",
    "- goal and usd_goal_real are the same column. One is just converted to usd. I ignored the goal column for this reason."
   ]
  },
  {
   "cell_type": "markdown",
   "metadata": {},
   "source": [
    "# Introduction\n",
    "\n",
    "This challenge took me a total of 7 hours to complete. I focused on building simple models in a logical format. This notebook includes the following sections:\n",
    "\n",
    "    1) Read Data\n",
    "    2) Data Cleaning\n",
    "    3) Feature Engineering\n",
    "    4) EDA\n",
    "    5) Benchmarking\n",
    "    6) Model Implementation (LightGBM)\n",
    "    7) Final Model Implementation\n",
    "    8) Future Improvements\n",
    "\n",
    "I spent the most effort on the \"Feature Engineering\" and \"Model Implementation\" sections to improve the accuracy of the model as much as possible."
   ]
  },
  {
   "cell_type": "code",
   "execution_count": 152,
   "metadata": {},
   "outputs": [],
   "source": [
    "# All import statements\n",
    "import pandas as pd\n",
    "import numpy as np\n",
    "\n",
    "import matplotlib.pyplot as plt\n",
    "import seaborn as sns\n",
    "\n",
    "import math\n",
    "import datetime as dt\n",
    "from dateutil.relativedelta import relativedelta\n",
    "\n",
    "from sklearn.preprocessing import MinMaxScaler\n",
    "from sklearn.model_selection import train_test_split\n",
    "from sklearn.model_selection import GridSearchCV\n",
    "from sklearn.metrics import confusion_matrix\n",
    "from imblearn.over_sampling import SMOTE\n",
    "from bayes_opt import BayesianOptimization\n",
    "from sklearn import metrics\n",
    "from sklearn.model_selection import KFold\n",
    "from sklearn.decomposition import PCA\n",
    "\n",
    "from sklearn.neighbors import KNeighborsClassifier\n",
    "\n",
    "import lightgbm as lgb"
   ]
  },
  {
   "cell_type": "markdown",
   "metadata": {},
   "source": [
    "# 1.0 Read Data"
   ]
  },
  {
   "cell_type": "code",
   "execution_count": 2,
   "metadata": {},
   "outputs": [
    {
     "name": "stdout",
     "output_type": "stream",
     "text": [
      "Shape of the dataset is: (258325, 11)\n"
     ]
    },
    {
     "data": {
      "text/html": [
       "<div>\n",
       "<style scoped>\n",
       "    .dataframe tbody tr th:only-of-type {\n",
       "        vertical-align: middle;\n",
       "    }\n",
       "\n",
       "    .dataframe tbody tr th {\n",
       "        vertical-align: top;\n",
       "    }\n",
       "\n",
       "    .dataframe thead th {\n",
       "        text-align: right;\n",
       "    }\n",
       "</style>\n",
       "<table border=\"1\" class=\"dataframe\">\n",
       "  <thead>\n",
       "    <tr style=\"text-align: right;\">\n",
       "      <th></th>\n",
       "      <th>name</th>\n",
       "      <th>category</th>\n",
       "      <th>main_category</th>\n",
       "      <th>currency</th>\n",
       "      <th>deadline</th>\n",
       "      <th>goal</th>\n",
       "      <th>launched</th>\n",
       "      <th>backers</th>\n",
       "      <th>country</th>\n",
       "      <th>usd_goal_real</th>\n",
       "      <th>new_state</th>\n",
       "    </tr>\n",
       "  </thead>\n",
       "  <tbody>\n",
       "    <tr>\n",
       "      <th>0</th>\n",
       "      <td>The Life and Times of a Nutcracker</td>\n",
       "      <td>Fiction</td>\n",
       "      <td>Publishing</td>\n",
       "      <td>USD</td>\n",
       "      <td>2012-12-01</td>\n",
       "      <td>8000.0</td>\n",
       "      <td>2012-10-26 18:31:19</td>\n",
       "      <td>0</td>\n",
       "      <td>US</td>\n",
       "      <td>8000.00</td>\n",
       "      <td>failed</td>\n",
       "    </tr>\n",
       "    <tr>\n",
       "      <th>1</th>\n",
       "      <td>Kochi community outreach 2017</td>\n",
       "      <td>Web</td>\n",
       "      <td>Journalism</td>\n",
       "      <td>GBP</td>\n",
       "      <td>2017-04-28</td>\n",
       "      <td>2000.0</td>\n",
       "      <td>2017-02-27 22:49:51</td>\n",
       "      <td>2</td>\n",
       "      <td>GB</td>\n",
       "      <td>2587.82</td>\n",
       "      <td>failed</td>\n",
       "    </tr>\n",
       "  </tbody>\n",
       "</table>\n",
       "</div>"
      ],
      "text/plain": [
       "                                 name category main_category currency  \\\n",
       "0  The Life and Times of a Nutcracker  Fiction    Publishing      USD   \n",
       "1       Kochi community outreach 2017      Web    Journalism      GBP   \n",
       "\n",
       "     deadline    goal             launched  backers country  usd_goal_real  \\\n",
       "0  2012-12-01  8000.0  2012-10-26 18:31:19        0      US        8000.00   \n",
       "1  2017-04-28  2000.0  2017-02-27 22:49:51        2      GB        2587.82   \n",
       "\n",
       "  new_state  \n",
       "0    failed  \n",
       "1    failed  "
      ]
     },
     "execution_count": 2,
     "metadata": {},
     "output_type": "execute_result"
    }
   ],
   "source": [
    "data = pd.read_csv('~/nu_ds_challenge/ml_assignment_data_train.csv')\n",
    "print('Shape of the dataset is:', data.shape)\n",
    "data.head(2)"
   ]
  },
  {
   "cell_type": "markdown",
   "metadata": {},
   "source": [
    "# 2.0 Data Cleaning\n",
    "\n",
    "- Ensure all columns are the correct dtype\n",
    "    - 'lauched' and 'deadline' column to datetime dtype\n"
   ]
  },
  {
   "cell_type": "code",
   "execution_count": 3,
   "metadata": {},
   "outputs": [
    {
     "data": {
      "text/plain": [
       "name              object\n",
       "category          object\n",
       "main_category     object\n",
       "currency          object\n",
       "deadline          object\n",
       "goal             float64\n",
       "launched          object\n",
       "backers            int64\n",
       "country           object\n",
       "usd_goal_real    float64\n",
       "new_state         object\n",
       "dtype: object"
      ]
     },
     "execution_count": 3,
     "metadata": {},
     "output_type": "execute_result"
    }
   ],
   "source": [
    "data.dtypes"
   ]
  },
  {
   "cell_type": "code",
   "execution_count": 4,
   "metadata": {},
   "outputs": [
    {
     "data": {
      "text/html": [
       "<div>\n",
       "<style scoped>\n",
       "    .dataframe tbody tr th:only-of-type {\n",
       "        vertical-align: middle;\n",
       "    }\n",
       "\n",
       "    .dataframe tbody tr th {\n",
       "        vertical-align: top;\n",
       "    }\n",
       "\n",
       "    .dataframe thead th {\n",
       "        text-align: right;\n",
       "    }\n",
       "</style>\n",
       "<table border=\"1\" class=\"dataframe\">\n",
       "  <thead>\n",
       "    <tr style=\"text-align: right;\">\n",
       "      <th></th>\n",
       "      <th>name</th>\n",
       "      <th>category</th>\n",
       "      <th>main_category</th>\n",
       "      <th>currency</th>\n",
       "      <th>deadline</th>\n",
       "      <th>goal</th>\n",
       "      <th>launched</th>\n",
       "      <th>backers</th>\n",
       "      <th>country</th>\n",
       "      <th>usd_goal_real</th>\n",
       "      <th>new_state</th>\n",
       "    </tr>\n",
       "  </thead>\n",
       "  <tbody>\n",
       "    <tr>\n",
       "      <th>0</th>\n",
       "      <td>The Life and Times of a Nutcracker</td>\n",
       "      <td>Fiction</td>\n",
       "      <td>Publishing</td>\n",
       "      <td>USD</td>\n",
       "      <td>2012-12-01</td>\n",
       "      <td>8000.0</td>\n",
       "      <td>2012-10-26</td>\n",
       "      <td>0</td>\n",
       "      <td>US</td>\n",
       "      <td>8000.00</td>\n",
       "      <td>failed</td>\n",
       "    </tr>\n",
       "    <tr>\n",
       "      <th>1</th>\n",
       "      <td>Kochi community outreach 2017</td>\n",
       "      <td>Web</td>\n",
       "      <td>Journalism</td>\n",
       "      <td>GBP</td>\n",
       "      <td>2017-04-28</td>\n",
       "      <td>2000.0</td>\n",
       "      <td>2017-02-27</td>\n",
       "      <td>2</td>\n",
       "      <td>GB</td>\n",
       "      <td>2587.82</td>\n",
       "      <td>failed</td>\n",
       "    </tr>\n",
       "  </tbody>\n",
       "</table>\n",
       "</div>"
      ],
      "text/plain": [
       "                                 name category main_category currency  \\\n",
       "0  The Life and Times of a Nutcracker  Fiction    Publishing      USD   \n",
       "1       Kochi community outreach 2017      Web    Journalism      GBP   \n",
       "\n",
       "    deadline    goal   launched  backers country  usd_goal_real new_state  \n",
       "0 2012-12-01  8000.0 2012-10-26        0      US        8000.00    failed  \n",
       "1 2017-04-28  2000.0 2017-02-27        2      GB        2587.82    failed  "
      ]
     },
     "execution_count": 4,
     "metadata": {},
     "output_type": "execute_result"
    }
   ],
   "source": [
    "data_v1 = data.assign(\n",
    "    deadline = pd.to_datetime(pd.to_datetime(data.deadline).dt.date),\n",
    "    launched = pd.to_datetime(pd.to_datetime(data.launched).dt.date)\n",
    ")\n",
    "data_v1.head(2)"
   ]
  },
  {
   "cell_type": "markdown",
   "metadata": {},
   "source": [
    "- Check for missing values\n",
    "    - 3 missing values in the name column. Delete these rows as they account for less than 0.1% of the dataset"
   ]
  },
  {
   "cell_type": "code",
   "execution_count": 5,
   "metadata": {},
   "outputs": [
    {
     "data": {
      "text/html": [
       "<div>\n",
       "<style scoped>\n",
       "    .dataframe tbody tr th:only-of-type {\n",
       "        vertical-align: middle;\n",
       "    }\n",
       "\n",
       "    .dataframe tbody tr th {\n",
       "        vertical-align: top;\n",
       "    }\n",
       "\n",
       "    .dataframe thead th {\n",
       "        text-align: right;\n",
       "    }\n",
       "</style>\n",
       "<table border=\"1\" class=\"dataframe\">\n",
       "  <thead>\n",
       "    <tr style=\"text-align: right;\">\n",
       "      <th></th>\n",
       "      <th>count_nulls</th>\n",
       "    </tr>\n",
       "  </thead>\n",
       "  <tbody>\n",
       "    <tr>\n",
       "      <th>name</th>\n",
       "      <td>3</td>\n",
       "    </tr>\n",
       "  </tbody>\n",
       "</table>\n",
       "</div>"
      ],
      "text/plain": [
       "      count_nulls\n",
       "name            3"
      ]
     },
     "execution_count": 5,
     "metadata": {},
     "output_type": "execute_result"
    }
   ],
   "source": [
    "nulls = pd.DataFrame(data_v1.isnull().sum(), columns=['count_nulls']).sort_values(by=['count_nulls'], ascending=False)\n",
    "nulls[nulls.count_nulls > 0]"
   ]
  },
  {
   "cell_type": "code",
   "execution_count": 6,
   "metadata": {},
   "outputs": [
    {
     "name": "stdout",
     "output_type": "stream",
     "text": [
      "New shape of dataset is: (258322, 11)\n"
     ]
    }
   ],
   "source": [
    "# removing rows with missing names\n",
    "data_v2 = data_v1[data_v1.name.isnull() == False]\n",
    "print('New shape of dataset is:', data_v2.shape)"
   ]
  },
  {
   "cell_type": "markdown",
   "metadata": {},
   "source": [
    "- Map output variables [failed, succeeded, surged] to [0,1,2]"
   ]
  },
  {
   "cell_type": "code",
   "execution_count": 7,
   "metadata": {},
   "outputs": [
    {
     "name": "stderr",
     "output_type": "stream",
     "text": [
      "/Users/joashc/anaconda3/lib/python3.6/site-packages/ipykernel_launcher.py:1: SettingWithCopyWarning: \n",
      "A value is trying to be set on a copy of a slice from a DataFrame.\n",
      "Try using .loc[row_indexer,col_indexer] = value instead\n",
      "\n",
      "See the caveats in the documentation: http://pandas.pydata.org/pandas-docs/stable/indexing.html#indexing-view-versus-copy\n",
      "  \"\"\"Entry point for launching an IPython kernel.\n"
     ]
    },
    {
     "data": {
      "text/html": [
       "<div>\n",
       "<style scoped>\n",
       "    .dataframe tbody tr th:only-of-type {\n",
       "        vertical-align: middle;\n",
       "    }\n",
       "\n",
       "    .dataframe tbody tr th {\n",
       "        vertical-align: top;\n",
       "    }\n",
       "\n",
       "    .dataframe thead th {\n",
       "        text-align: right;\n",
       "    }\n",
       "</style>\n",
       "<table border=\"1\" class=\"dataframe\">\n",
       "  <thead>\n",
       "    <tr style=\"text-align: right;\">\n",
       "      <th></th>\n",
       "      <th>name</th>\n",
       "      <th>category</th>\n",
       "      <th>main_category</th>\n",
       "      <th>currency</th>\n",
       "      <th>deadline</th>\n",
       "      <th>goal</th>\n",
       "      <th>launched</th>\n",
       "      <th>backers</th>\n",
       "      <th>country</th>\n",
       "      <th>usd_goal_real</th>\n",
       "      <th>new_state</th>\n",
       "    </tr>\n",
       "  </thead>\n",
       "  <tbody>\n",
       "    <tr>\n",
       "      <th>0</th>\n",
       "      <td>The Life and Times of a Nutcracker</td>\n",
       "      <td>Fiction</td>\n",
       "      <td>Publishing</td>\n",
       "      <td>USD</td>\n",
       "      <td>2012-12-01</td>\n",
       "      <td>8000.0</td>\n",
       "      <td>2012-10-26</td>\n",
       "      <td>0</td>\n",
       "      <td>US</td>\n",
       "      <td>8000.00</td>\n",
       "      <td>0</td>\n",
       "    </tr>\n",
       "    <tr>\n",
       "      <th>1</th>\n",
       "      <td>Kochi community outreach 2017</td>\n",
       "      <td>Web</td>\n",
       "      <td>Journalism</td>\n",
       "      <td>GBP</td>\n",
       "      <td>2017-04-28</td>\n",
       "      <td>2000.0</td>\n",
       "      <td>2017-02-27</td>\n",
       "      <td>2</td>\n",
       "      <td>GB</td>\n",
       "      <td>2587.82</td>\n",
       "      <td>0</td>\n",
       "    </tr>\n",
       "  </tbody>\n",
       "</table>\n",
       "</div>"
      ],
      "text/plain": [
       "                                 name category main_category currency  \\\n",
       "0  The Life and Times of a Nutcracker  Fiction    Publishing      USD   \n",
       "1       Kochi community outreach 2017      Web    Journalism      GBP   \n",
       "\n",
       "    deadline    goal   launched  backers country  usd_goal_real  new_state  \n",
       "0 2012-12-01  8000.0 2012-10-26        0      US        8000.00          0  \n",
       "1 2017-04-28  2000.0 2017-02-27        2      GB        2587.82          0  "
      ]
     },
     "execution_count": 7,
     "metadata": {},
     "output_type": "execute_result"
    }
   ],
   "source": [
    "data_v2['new_state'] = data_v2.new_state.map({'failed':0,'succeeded':1, 'surged':2 })\n",
    "data_v2.head(2)"
   ]
  },
  {
   "cell_type": "markdown",
   "metadata": {},
   "source": [
    "- Found an invalid entry for country: 'N,0\"'. This only occurs when the main_category and category are the same.\n",
    "    - Eg: main_category: Music, category: Music\n",
    "- Remove these rows as they account for less than 0.1% of the dataset"
   ]
  },
  {
   "cell_type": "code",
   "execution_count": 8,
   "metadata": {},
   "outputs": [
    {
     "name": "stdout",
     "output_type": "stream",
     "text": [
      "Invalid entry for country: N,0\"\n",
      "Number of rows with invalid entry are: 176\n",
      "\n",
      "Here are some examples:\n",
      "        category main_category country\n",
      "105        Music         Music    N,0\"\n",
      "572        Music         Music    N,0\"\n",
      "698   Publishing    Publishing    N,0\"\n",
      "1592       Music         Music    N,0\"\n",
      "7615  Technology    Technology    N,0\"\n"
     ]
    }
   ],
   "source": [
    "print('Invalid entry for country: N,0\"')\n",
    "print('Number of rows with invalid entry are:', data_v2[data_v2['country'] == 'N,0\"'].shape[0])\n",
    "print()\n",
    "print('Here are some examples:')\n",
    "print(data_v2[['category', 'main_category', 'country']][data_v2['country'] == 'N,0\"'].head())"
   ]
  },
  {
   "cell_type": "code",
   "execution_count": 9,
   "metadata": {},
   "outputs": [
    {
     "name": "stdout",
     "output_type": "stream",
     "text": [
      "New shape of dataset after deleting rows with invalid entry for country: (258146, 11)\n"
     ]
    },
    {
     "data": {
      "text/html": [
       "<div>\n",
       "<style scoped>\n",
       "    .dataframe tbody tr th:only-of-type {\n",
       "        vertical-align: middle;\n",
       "    }\n",
       "\n",
       "    .dataframe tbody tr th {\n",
       "        vertical-align: top;\n",
       "    }\n",
       "\n",
       "    .dataframe thead th {\n",
       "        text-align: right;\n",
       "    }\n",
       "</style>\n",
       "<table border=\"1\" class=\"dataframe\">\n",
       "  <thead>\n",
       "    <tr style=\"text-align: right;\">\n",
       "      <th></th>\n",
       "      <th>name</th>\n",
       "      <th>category</th>\n",
       "      <th>main_category</th>\n",
       "      <th>currency</th>\n",
       "      <th>deadline</th>\n",
       "      <th>goal</th>\n",
       "      <th>launched</th>\n",
       "      <th>backers</th>\n",
       "      <th>country</th>\n",
       "      <th>usd_goal_real</th>\n",
       "      <th>new_state</th>\n",
       "    </tr>\n",
       "  </thead>\n",
       "  <tbody>\n",
       "    <tr>\n",
       "      <th>0</th>\n",
       "      <td>The Life and Times of a Nutcracker</td>\n",
       "      <td>Fiction</td>\n",
       "      <td>Publishing</td>\n",
       "      <td>USD</td>\n",
       "      <td>2012-12-01</td>\n",
       "      <td>8000.0</td>\n",
       "      <td>2012-10-26</td>\n",
       "      <td>0</td>\n",
       "      <td>US</td>\n",
       "      <td>8000.00</td>\n",
       "      <td>0</td>\n",
       "    </tr>\n",
       "    <tr>\n",
       "      <th>1</th>\n",
       "      <td>Kochi community outreach 2017</td>\n",
       "      <td>Web</td>\n",
       "      <td>Journalism</td>\n",
       "      <td>GBP</td>\n",
       "      <td>2017-04-28</td>\n",
       "      <td>2000.0</td>\n",
       "      <td>2017-02-27</td>\n",
       "      <td>2</td>\n",
       "      <td>GB</td>\n",
       "      <td>2587.82</td>\n",
       "      <td>0</td>\n",
       "    </tr>\n",
       "  </tbody>\n",
       "</table>\n",
       "</div>"
      ],
      "text/plain": [
       "                                 name category main_category currency  \\\n",
       "0  The Life and Times of a Nutcracker  Fiction    Publishing      USD   \n",
       "1       Kochi community outreach 2017      Web    Journalism      GBP   \n",
       "\n",
       "    deadline    goal   launched  backers country  usd_goal_real  new_state  \n",
       "0 2012-12-01  8000.0 2012-10-26        0      US        8000.00          0  \n",
       "1 2017-04-28  2000.0 2017-02-27        2      GB        2587.82          0  "
      ]
     },
     "execution_count": 9,
     "metadata": {},
     "output_type": "execute_result"
    }
   ],
   "source": [
    "data_v3 = data_v2[data_v2['country'] != 'N,0\"']\n",
    "print('New shape of dataset after deleting rows with invalid entry for country:', data_v3.shape)\n",
    "data_v3.head(2)"
   ]
  },
  {
   "cell_type": "markdown",
   "metadata": {},
   "source": [
    "# 3.0 Feature Engineering\n",
    "\n",
    "These are the features I came up with:\n",
    "\n",
    "- For date columns\n",
    "    - Duration launched in months = deadline - launched (duration the kickstarted was live)\n",
    "    - Month launched\n",
    "    - Launch year\n",
    "    - Deadline year\n",
    "    - Deadline month\n",
    "    - Months of active: a column for each month (1 if active, 0 OW)\n",
    "- For name column\n",
    "    - len of name\n",
    "    - number of words in the title\n",
    "    - Look at the successful or surged titles, remove stop words and make features of the words**(Note: Did not do, maybe for future model improvement)**\n",
    "- For category columns\n",
    "    - Concatenating main category and category as a feature (main category-category)\n",
    "- For usd_goal_real\n",
    "    - usd_goal_real/backers: number of dollars per backer\n",
    "    - usd_goal_real/duration_launched_month: number of usd_goal_real needed to earn per month\n",
    "    - usd_goal_real/duration_launched_month/backers: number of usd_goal_real needed to earn per month per backer\n",
    "- For backer column\n",
    "    - backer/duration_launched_month: number of backers per month the kickstarter was live"
   ]
  },
  {
   "cell_type": "markdown",
   "metadata": {},
   "source": [
    "Implementation of name_length and name_num_words feature"
   ]
  },
  {
   "cell_type": "code",
   "execution_count": 10,
   "metadata": {},
   "outputs": [
    {
     "name": "stderr",
     "output_type": "stream",
     "text": [
      "/Users/joashc/anaconda3/lib/python3.6/site-packages/ipykernel_launcher.py:2: SettingWithCopyWarning: \n",
      "A value is trying to be set on a copy of a slice from a DataFrame.\n",
      "Try using .loc[row_indexer,col_indexer] = value instead\n",
      "\n",
      "See the caveats in the documentation: http://pandas.pydata.org/pandas-docs/stable/indexing.html#indexing-view-versus-copy\n",
      "  \n",
      "/Users/joashc/anaconda3/lib/python3.6/site-packages/ipykernel_launcher.py:3: SettingWithCopyWarning: \n",
      "A value is trying to be set on a copy of a slice from a DataFrame.\n",
      "Try using .loc[row_indexer,col_indexer] = value instead\n",
      "\n",
      "See the caveats in the documentation: http://pandas.pydata.org/pandas-docs/stable/indexing.html#indexing-view-versus-copy\n",
      "  This is separate from the ipykernel package so we can avoid doing imports until\n"
     ]
    },
    {
     "data": {
      "text/html": [
       "<div>\n",
       "<style scoped>\n",
       "    .dataframe tbody tr th:only-of-type {\n",
       "        vertical-align: middle;\n",
       "    }\n",
       "\n",
       "    .dataframe tbody tr th {\n",
       "        vertical-align: top;\n",
       "    }\n",
       "\n",
       "    .dataframe thead th {\n",
       "        text-align: right;\n",
       "    }\n",
       "</style>\n",
       "<table border=\"1\" class=\"dataframe\">\n",
       "  <thead>\n",
       "    <tr style=\"text-align: right;\">\n",
       "      <th></th>\n",
       "      <th>name</th>\n",
       "      <th>category</th>\n",
       "      <th>main_category</th>\n",
       "      <th>currency</th>\n",
       "      <th>deadline</th>\n",
       "      <th>goal</th>\n",
       "      <th>launched</th>\n",
       "      <th>backers</th>\n",
       "      <th>country</th>\n",
       "      <th>usd_goal_real</th>\n",
       "      <th>new_state</th>\n",
       "      <th>name_length</th>\n",
       "      <th>name_num_words</th>\n",
       "    </tr>\n",
       "  </thead>\n",
       "  <tbody>\n",
       "    <tr>\n",
       "      <th>0</th>\n",
       "      <td>The Life and Times of a Nutcracker</td>\n",
       "      <td>Fiction</td>\n",
       "      <td>Publishing</td>\n",
       "      <td>USD</td>\n",
       "      <td>2012-12-01</td>\n",
       "      <td>8000.0</td>\n",
       "      <td>2012-10-26</td>\n",
       "      <td>0</td>\n",
       "      <td>US</td>\n",
       "      <td>8000.00</td>\n",
       "      <td>0</td>\n",
       "      <td>34</td>\n",
       "      <td>7</td>\n",
       "    </tr>\n",
       "    <tr>\n",
       "      <th>1</th>\n",
       "      <td>Kochi community outreach 2017</td>\n",
       "      <td>Web</td>\n",
       "      <td>Journalism</td>\n",
       "      <td>GBP</td>\n",
       "      <td>2017-04-28</td>\n",
       "      <td>2000.0</td>\n",
       "      <td>2017-02-27</td>\n",
       "      <td>2</td>\n",
       "      <td>GB</td>\n",
       "      <td>2587.82</td>\n",
       "      <td>0</td>\n",
       "      <td>29</td>\n",
       "      <td>4</td>\n",
       "    </tr>\n",
       "  </tbody>\n",
       "</table>\n",
       "</div>"
      ],
      "text/plain": [
       "                                 name category main_category currency  \\\n",
       "0  The Life and Times of a Nutcracker  Fiction    Publishing      USD   \n",
       "1       Kochi community outreach 2017      Web    Journalism      GBP   \n",
       "\n",
       "    deadline    goal   launched  backers country  usd_goal_real  new_state  \\\n",
       "0 2012-12-01  8000.0 2012-10-26        0      US        8000.00          0   \n",
       "1 2017-04-28  2000.0 2017-02-27        2      GB        2587.82          0   \n",
       "\n",
       "   name_length  name_num_words  \n",
       "0           34               7  \n",
       "1           29               4  "
      ]
     },
     "execution_count": 10,
     "metadata": {},
     "output_type": "execute_result"
    }
   ],
   "source": [
    "# Name features\n",
    "data_v3['name_length'] = data_v3.name.apply(lambda x: len(x))\n",
    "data_v3['name_num_words'] = data_v3.name.apply(lambda x: len(x.split()))\n",
    "data_v3.head(2)"
   ]
  },
  {
   "cell_type": "markdown",
   "metadata": {},
   "source": [
    "Implementation of duration launched in months, month launched, launch year, deadline year and deadline month"
   ]
  },
  {
   "cell_type": "code",
   "execution_count": 11,
   "metadata": {},
   "outputs": [
    {
     "data": {
      "text/html": [
       "<div>\n",
       "<style scoped>\n",
       "    .dataframe tbody tr th:only-of-type {\n",
       "        vertical-align: middle;\n",
       "    }\n",
       "\n",
       "    .dataframe tbody tr th {\n",
       "        vertical-align: top;\n",
       "    }\n",
       "\n",
       "    .dataframe thead th {\n",
       "        text-align: right;\n",
       "    }\n",
       "</style>\n",
       "<table border=\"1\" class=\"dataframe\">\n",
       "  <thead>\n",
       "    <tr style=\"text-align: right;\">\n",
       "      <th></th>\n",
       "      <th>name</th>\n",
       "      <th>category</th>\n",
       "      <th>main_category</th>\n",
       "      <th>currency</th>\n",
       "      <th>deadline</th>\n",
       "      <th>goal</th>\n",
       "      <th>launched</th>\n",
       "      <th>backers</th>\n",
       "      <th>country</th>\n",
       "      <th>usd_goal_real</th>\n",
       "      <th>new_state</th>\n",
       "      <th>name_length</th>\n",
       "      <th>name_num_words</th>\n",
       "      <th>launch_month</th>\n",
       "      <th>duration_launched_month</th>\n",
       "      <th>launch_year</th>\n",
       "      <th>deadline_year</th>\n",
       "      <th>deadline_month</th>\n",
       "    </tr>\n",
       "  </thead>\n",
       "  <tbody>\n",
       "    <tr>\n",
       "      <th>0</th>\n",
       "      <td>The Life and Times of a Nutcracker</td>\n",
       "      <td>Fiction</td>\n",
       "      <td>Publishing</td>\n",
       "      <td>USD</td>\n",
       "      <td>2012-12-01</td>\n",
       "      <td>8000.0</td>\n",
       "      <td>2012-10-26</td>\n",
       "      <td>0</td>\n",
       "      <td>US</td>\n",
       "      <td>8000.00</td>\n",
       "      <td>0</td>\n",
       "      <td>34</td>\n",
       "      <td>7</td>\n",
       "      <td>10</td>\n",
       "      <td>1.182776</td>\n",
       "      <td>2012</td>\n",
       "      <td>2012</td>\n",
       "      <td>12</td>\n",
       "    </tr>\n",
       "    <tr>\n",
       "      <th>1</th>\n",
       "      <td>Kochi community outreach 2017</td>\n",
       "      <td>Web</td>\n",
       "      <td>Journalism</td>\n",
       "      <td>GBP</td>\n",
       "      <td>2017-04-28</td>\n",
       "      <td>2000.0</td>\n",
       "      <td>2017-02-27</td>\n",
       "      <td>2</td>\n",
       "      <td>GB</td>\n",
       "      <td>2587.82</td>\n",
       "      <td>0</td>\n",
       "      <td>29</td>\n",
       "      <td>4</td>\n",
       "      <td>2</td>\n",
       "      <td>1.971293</td>\n",
       "      <td>2017</td>\n",
       "      <td>2017</td>\n",
       "      <td>4</td>\n",
       "    </tr>\n",
       "  </tbody>\n",
       "</table>\n",
       "</div>"
      ],
      "text/plain": [
       "                                 name category main_category currency  \\\n",
       "0  The Life and Times of a Nutcracker  Fiction    Publishing      USD   \n",
       "1       Kochi community outreach 2017      Web    Journalism      GBP   \n",
       "\n",
       "    deadline    goal   launched  backers country  usd_goal_real  new_state  \\\n",
       "0 2012-12-01  8000.0 2012-10-26        0      US        8000.00          0   \n",
       "1 2017-04-28  2000.0 2017-02-27        2      GB        2587.82          0   \n",
       "\n",
       "   name_length  name_num_words  launch_month  duration_launched_month  \\\n",
       "0           34               7            10                 1.182776   \n",
       "1           29               4             2                 1.971293   \n",
       "\n",
       "   launch_year  deadline_year  deadline_month  \n",
       "0         2012           2012              12  \n",
       "1         2017           2017               4  "
      ]
     },
     "execution_count": 11,
     "metadata": {},
     "output_type": "execute_result"
    }
   ],
   "source": [
    "# Date Features\n",
    "data_v3 = data_v3.assign(\n",
    "    launch_month = data_v3.launched.dt.month,\n",
    "    duration_launched_month = ((data_v3.deadline - data_v3.launched)/np.timedelta64(1, 'M')),\n",
    "    launch_year = data_v3.launched.dt.year,\n",
    "    deadline_year = data_v3.deadline.dt.year,\n",
    "    deadline_month = data_v3.deadline.dt.month\n",
    ")\n",
    "data_v3.head(2)"
   ]
  },
  {
   "cell_type": "markdown",
   "metadata": {},
   "source": [
    "Implementation of usd_goal_per_backer"
   ]
  },
  {
   "cell_type": "code",
   "execution_count": 12,
   "metadata": {},
   "outputs": [
    {
     "data": {
      "text/html": [
       "<div>\n",
       "<style scoped>\n",
       "    .dataframe tbody tr th:only-of-type {\n",
       "        vertical-align: middle;\n",
       "    }\n",
       "\n",
       "    .dataframe tbody tr th {\n",
       "        vertical-align: top;\n",
       "    }\n",
       "\n",
       "    .dataframe thead th {\n",
       "        text-align: right;\n",
       "    }\n",
       "</style>\n",
       "<table border=\"1\" class=\"dataframe\">\n",
       "  <thead>\n",
       "    <tr style=\"text-align: right;\">\n",
       "      <th></th>\n",
       "      <th>name</th>\n",
       "      <th>category</th>\n",
       "      <th>main_category</th>\n",
       "      <th>currency</th>\n",
       "      <th>deadline</th>\n",
       "      <th>goal</th>\n",
       "      <th>launched</th>\n",
       "      <th>backers</th>\n",
       "      <th>country</th>\n",
       "      <th>usd_goal_real</th>\n",
       "      <th>new_state</th>\n",
       "      <th>name_length</th>\n",
       "      <th>name_num_words</th>\n",
       "      <th>launch_month</th>\n",
       "      <th>duration_launched_month</th>\n",
       "      <th>launch_year</th>\n",
       "      <th>deadline_year</th>\n",
       "      <th>deadline_month</th>\n",
       "      <th>usd_goal_per_backer</th>\n",
       "    </tr>\n",
       "  </thead>\n",
       "  <tbody>\n",
       "    <tr>\n",
       "      <th>0</th>\n",
       "      <td>The Life and Times of a Nutcracker</td>\n",
       "      <td>Fiction</td>\n",
       "      <td>Publishing</td>\n",
       "      <td>USD</td>\n",
       "      <td>2012-12-01</td>\n",
       "      <td>8000.0</td>\n",
       "      <td>2012-10-26</td>\n",
       "      <td>0</td>\n",
       "      <td>US</td>\n",
       "      <td>8000.00</td>\n",
       "      <td>0</td>\n",
       "      <td>34</td>\n",
       "      <td>7</td>\n",
       "      <td>10</td>\n",
       "      <td>1.182776</td>\n",
       "      <td>2012</td>\n",
       "      <td>2012</td>\n",
       "      <td>12</td>\n",
       "      <td>0.00</td>\n",
       "    </tr>\n",
       "    <tr>\n",
       "      <th>1</th>\n",
       "      <td>Kochi community outreach 2017</td>\n",
       "      <td>Web</td>\n",
       "      <td>Journalism</td>\n",
       "      <td>GBP</td>\n",
       "      <td>2017-04-28</td>\n",
       "      <td>2000.0</td>\n",
       "      <td>2017-02-27</td>\n",
       "      <td>2</td>\n",
       "      <td>GB</td>\n",
       "      <td>2587.82</td>\n",
       "      <td>0</td>\n",
       "      <td>29</td>\n",
       "      <td>4</td>\n",
       "      <td>2</td>\n",
       "      <td>1.971293</td>\n",
       "      <td>2017</td>\n",
       "      <td>2017</td>\n",
       "      <td>4</td>\n",
       "      <td>1293.91</td>\n",
       "    </tr>\n",
       "  </tbody>\n",
       "</table>\n",
       "</div>"
      ],
      "text/plain": [
       "                                 name category main_category currency  \\\n",
       "0  The Life and Times of a Nutcracker  Fiction    Publishing      USD   \n",
       "1       Kochi community outreach 2017      Web    Journalism      GBP   \n",
       "\n",
       "    deadline    goal   launched  backers country  usd_goal_real  new_state  \\\n",
       "0 2012-12-01  8000.0 2012-10-26        0      US        8000.00          0   \n",
       "1 2017-04-28  2000.0 2017-02-27        2      GB        2587.82          0   \n",
       "\n",
       "   name_length  name_num_words  launch_month  duration_launched_month  \\\n",
       "0           34               7            10                 1.182776   \n",
       "1           29               4             2                 1.971293   \n",
       "\n",
       "   launch_year  deadline_year  deadline_month  usd_goal_per_backer  \n",
       "0         2012           2012              12                 0.00  \n",
       "1         2017           2017               4              1293.91  "
      ]
     },
     "execution_count": 12,
     "metadata": {},
     "output_type": "execute_result"
    }
   ],
   "source": [
    "# Did this feature engineering later so it won't be in knn\n",
    "# usd_goal_real/backers\n",
    "data_v3['usd_goal_per_backer'] = np.where(data_v3['backers']>0, \n",
    "                                          data_v3['usd_goal_real']/data_v3['backers'],\n",
    "                                         0)\n",
    "data_v3.head(2)"
   ]
  },
  {
   "cell_type": "markdown",
   "metadata": {},
   "source": [
    "Implementation of usd_goal_real/duration of the kickstarter in months and backers per month"
   ]
  },
  {
   "cell_type": "code",
   "execution_count": 13,
   "metadata": {},
   "outputs": [
    {
     "data": {
      "text/html": [
       "<div>\n",
       "<style scoped>\n",
       "    .dataframe tbody tr th:only-of-type {\n",
       "        vertical-align: middle;\n",
       "    }\n",
       "\n",
       "    .dataframe tbody tr th {\n",
       "        vertical-align: top;\n",
       "    }\n",
       "\n",
       "    .dataframe thead th {\n",
       "        text-align: right;\n",
       "    }\n",
       "</style>\n",
       "<table border=\"1\" class=\"dataframe\">\n",
       "  <thead>\n",
       "    <tr style=\"text-align: right;\">\n",
       "      <th></th>\n",
       "      <th>name</th>\n",
       "      <th>category</th>\n",
       "      <th>main_category</th>\n",
       "      <th>currency</th>\n",
       "      <th>deadline</th>\n",
       "      <th>goal</th>\n",
       "      <th>launched</th>\n",
       "      <th>backers</th>\n",
       "      <th>country</th>\n",
       "      <th>usd_goal_real</th>\n",
       "      <th>...</th>\n",
       "      <th>name_length</th>\n",
       "      <th>name_num_words</th>\n",
       "      <th>launch_month</th>\n",
       "      <th>duration_launched_month</th>\n",
       "      <th>launch_year</th>\n",
       "      <th>deadline_year</th>\n",
       "      <th>deadline_month</th>\n",
       "      <th>usd_goal_per_backer</th>\n",
       "      <th>usd_goal_per_month</th>\n",
       "      <th>backers_per_month</th>\n",
       "    </tr>\n",
       "  </thead>\n",
       "  <tbody>\n",
       "    <tr>\n",
       "      <th>0</th>\n",
       "      <td>The Life and Times of a Nutcracker</td>\n",
       "      <td>Fiction</td>\n",
       "      <td>Publishing</td>\n",
       "      <td>USD</td>\n",
       "      <td>2012-12-01</td>\n",
       "      <td>8000.0</td>\n",
       "      <td>2012-10-26</td>\n",
       "      <td>0</td>\n",
       "      <td>US</td>\n",
       "      <td>8000.00</td>\n",
       "      <td>...</td>\n",
       "      <td>34</td>\n",
       "      <td>7</td>\n",
       "      <td>10</td>\n",
       "      <td>1.182776</td>\n",
       "      <td>2012</td>\n",
       "      <td>2012</td>\n",
       "      <td>12</td>\n",
       "      <td>0.00</td>\n",
       "      <td>6763.750000</td>\n",
       "      <td>0.000000</td>\n",
       "    </tr>\n",
       "    <tr>\n",
       "      <th>1</th>\n",
       "      <td>Kochi community outreach 2017</td>\n",
       "      <td>Web</td>\n",
       "      <td>Journalism</td>\n",
       "      <td>GBP</td>\n",
       "      <td>2017-04-28</td>\n",
       "      <td>2000.0</td>\n",
       "      <td>2017-02-27</td>\n",
       "      <td>2</td>\n",
       "      <td>GB</td>\n",
       "      <td>2587.82</td>\n",
       "      <td>...</td>\n",
       "      <td>29</td>\n",
       "      <td>4</td>\n",
       "      <td>2</td>\n",
       "      <td>1.971293</td>\n",
       "      <td>2017</td>\n",
       "      <td>2017</td>\n",
       "      <td>4</td>\n",
       "      <td>1293.91</td>\n",
       "      <td>1312.752564</td>\n",
       "      <td>1.014563</td>\n",
       "    </tr>\n",
       "  </tbody>\n",
       "</table>\n",
       "<p>2 rows × 21 columns</p>\n",
       "</div>"
      ],
      "text/plain": [
       "                                 name category main_category currency  \\\n",
       "0  The Life and Times of a Nutcracker  Fiction    Publishing      USD   \n",
       "1       Kochi community outreach 2017      Web    Journalism      GBP   \n",
       "\n",
       "    deadline    goal   launched  backers country  usd_goal_real  \\\n",
       "0 2012-12-01  8000.0 2012-10-26        0      US        8000.00   \n",
       "1 2017-04-28  2000.0 2017-02-27        2      GB        2587.82   \n",
       "\n",
       "         ...          name_length  name_num_words  launch_month  \\\n",
       "0        ...                   34               7            10   \n",
       "1        ...                   29               4             2   \n",
       "\n",
       "   duration_launched_month  launch_year  deadline_year  deadline_month  \\\n",
       "0                 1.182776         2012           2012              12   \n",
       "1                 1.971293         2017           2017               4   \n",
       "\n",
       "   usd_goal_per_backer  usd_goal_per_month  backers_per_month  \n",
       "0                 0.00         6763.750000           0.000000  \n",
       "1              1293.91         1312.752564           1.014563  \n",
       "\n",
       "[2 rows x 21 columns]"
      ]
     },
     "execution_count": 13,
     "metadata": {},
     "output_type": "execute_result"
    }
   ],
   "source": [
    "# usd_goal_real/duration_launched_month: number of usd_goal_real needed to earn per month\n",
    "# backer/duration_launched_month: number of backers per month the kickstarter was live\n",
    "data_v3 = data_v3.assign(\n",
    "    usd_goal_per_month = data_v3.usd_goal_real/data_v3.duration_launched_month,\n",
    "    backers_per_month = data_v3.backers/data_v3.duration_launched_month\n",
    ")\n",
    "data_v3.head(2)"
   ]
  },
  {
   "cell_type": "markdown",
   "metadata": {},
   "source": [
    "Implementation of usd_goal_per_month_per_backer"
   ]
  },
  {
   "cell_type": "code",
   "execution_count": 14,
   "metadata": {},
   "outputs": [
    {
     "data": {
      "text/html": [
       "<div>\n",
       "<style scoped>\n",
       "    .dataframe tbody tr th:only-of-type {\n",
       "        vertical-align: middle;\n",
       "    }\n",
       "\n",
       "    .dataframe tbody tr th {\n",
       "        vertical-align: top;\n",
       "    }\n",
       "\n",
       "    .dataframe thead th {\n",
       "        text-align: right;\n",
       "    }\n",
       "</style>\n",
       "<table border=\"1\" class=\"dataframe\">\n",
       "  <thead>\n",
       "    <tr style=\"text-align: right;\">\n",
       "      <th></th>\n",
       "      <th>name</th>\n",
       "      <th>category</th>\n",
       "      <th>main_category</th>\n",
       "      <th>currency</th>\n",
       "      <th>deadline</th>\n",
       "      <th>goal</th>\n",
       "      <th>launched</th>\n",
       "      <th>backers</th>\n",
       "      <th>country</th>\n",
       "      <th>usd_goal_real</th>\n",
       "      <th>...</th>\n",
       "      <th>name_num_words</th>\n",
       "      <th>launch_month</th>\n",
       "      <th>duration_launched_month</th>\n",
       "      <th>launch_year</th>\n",
       "      <th>deadline_year</th>\n",
       "      <th>deadline_month</th>\n",
       "      <th>usd_goal_per_backer</th>\n",
       "      <th>usd_goal_per_month</th>\n",
       "      <th>backers_per_month</th>\n",
       "      <th>usd_goal_per_month_per_backer</th>\n",
       "    </tr>\n",
       "  </thead>\n",
       "  <tbody>\n",
       "    <tr>\n",
       "      <th>0</th>\n",
       "      <td>The Life and Times of a Nutcracker</td>\n",
       "      <td>Fiction</td>\n",
       "      <td>Publishing</td>\n",
       "      <td>USD</td>\n",
       "      <td>2012-12-01</td>\n",
       "      <td>8000.0</td>\n",
       "      <td>2012-10-26</td>\n",
       "      <td>0</td>\n",
       "      <td>US</td>\n",
       "      <td>8000.00</td>\n",
       "      <td>...</td>\n",
       "      <td>7</td>\n",
       "      <td>10</td>\n",
       "      <td>1.182776</td>\n",
       "      <td>2012</td>\n",
       "      <td>2012</td>\n",
       "      <td>12</td>\n",
       "      <td>0.00</td>\n",
       "      <td>6763.750000</td>\n",
       "      <td>0.000000</td>\n",
       "      <td>0.000000</td>\n",
       "    </tr>\n",
       "    <tr>\n",
       "      <th>1</th>\n",
       "      <td>Kochi community outreach 2017</td>\n",
       "      <td>Web</td>\n",
       "      <td>Journalism</td>\n",
       "      <td>GBP</td>\n",
       "      <td>2017-04-28</td>\n",
       "      <td>2000.0</td>\n",
       "      <td>2017-02-27</td>\n",
       "      <td>2</td>\n",
       "      <td>GB</td>\n",
       "      <td>2587.82</td>\n",
       "      <td>...</td>\n",
       "      <td>4</td>\n",
       "      <td>2</td>\n",
       "      <td>1.971293</td>\n",
       "      <td>2017</td>\n",
       "      <td>2017</td>\n",
       "      <td>4</td>\n",
       "      <td>1293.91</td>\n",
       "      <td>1312.752564</td>\n",
       "      <td>1.014563</td>\n",
       "      <td>656.376282</td>\n",
       "    </tr>\n",
       "  </tbody>\n",
       "</table>\n",
       "<p>2 rows × 22 columns</p>\n",
       "</div>"
      ],
      "text/plain": [
       "                                 name category main_category currency  \\\n",
       "0  The Life and Times of a Nutcracker  Fiction    Publishing      USD   \n",
       "1       Kochi community outreach 2017      Web    Journalism      GBP   \n",
       "\n",
       "    deadline    goal   launched  backers country  usd_goal_real  \\\n",
       "0 2012-12-01  8000.0 2012-10-26        0      US        8000.00   \n",
       "1 2017-04-28  2000.0 2017-02-27        2      GB        2587.82   \n",
       "\n",
       "               ...                name_num_words  launch_month  \\\n",
       "0              ...                             7            10   \n",
       "1              ...                             4             2   \n",
       "\n",
       "   duration_launched_month  launch_year  deadline_year  deadline_month  \\\n",
       "0                 1.182776         2012           2012              12   \n",
       "1                 1.971293         2017           2017               4   \n",
       "\n",
       "   usd_goal_per_backer  usd_goal_per_month  backers_per_month  \\\n",
       "0                 0.00         6763.750000           0.000000   \n",
       "1              1293.91         1312.752564           1.014563   \n",
       "\n",
       "   usd_goal_per_month_per_backer  \n",
       "0                       0.000000  \n",
       "1                     656.376282  \n",
       "\n",
       "[2 rows x 22 columns]"
      ]
     },
     "execution_count": 14,
     "metadata": {},
     "output_type": "execute_result"
    }
   ],
   "source": [
    "data_v3['usd_goal_per_month_per_backer'] = np.where(data_v3['backers']>0, \n",
    "                                                    ((data_v3['usd_goal_real']/data_v3['duration_launched_month'])\n",
    "                                                     /data_v3['backers'])\n",
    "                                                    ,0)\n",
    "data_v3.head(2)"
   ]
  },
  {
   "cell_type": "markdown",
   "metadata": {},
   "source": [
    "Implementation of main_category-category"
   ]
  },
  {
   "cell_type": "code",
   "execution_count": 15,
   "metadata": {},
   "outputs": [
    {
     "data": {
      "text/html": [
       "<div>\n",
       "<style scoped>\n",
       "    .dataframe tbody tr th:only-of-type {\n",
       "        vertical-align: middle;\n",
       "    }\n",
       "\n",
       "    .dataframe tbody tr th {\n",
       "        vertical-align: top;\n",
       "    }\n",
       "\n",
       "    .dataframe thead th {\n",
       "        text-align: right;\n",
       "    }\n",
       "</style>\n",
       "<table border=\"1\" class=\"dataframe\">\n",
       "  <thead>\n",
       "    <tr style=\"text-align: right;\">\n",
       "      <th></th>\n",
       "      <th>name</th>\n",
       "      <th>category</th>\n",
       "      <th>main_category</th>\n",
       "      <th>currency</th>\n",
       "      <th>deadline</th>\n",
       "      <th>goal</th>\n",
       "      <th>launched</th>\n",
       "      <th>backers</th>\n",
       "      <th>country</th>\n",
       "      <th>usd_goal_real</th>\n",
       "      <th>...</th>\n",
       "      <th>launch_month</th>\n",
       "      <th>duration_launched_month</th>\n",
       "      <th>launch_year</th>\n",
       "      <th>deadline_year</th>\n",
       "      <th>deadline_month</th>\n",
       "      <th>usd_goal_per_backer</th>\n",
       "      <th>usd_goal_per_month</th>\n",
       "      <th>backers_per_month</th>\n",
       "      <th>usd_goal_per_month_per_backer</th>\n",
       "      <th>main_category-category</th>\n",
       "    </tr>\n",
       "  </thead>\n",
       "  <tbody>\n",
       "    <tr>\n",
       "      <th>0</th>\n",
       "      <td>The Life and Times of a Nutcracker</td>\n",
       "      <td>Fiction</td>\n",
       "      <td>Publishing</td>\n",
       "      <td>USD</td>\n",
       "      <td>2012-12-01</td>\n",
       "      <td>8000.0</td>\n",
       "      <td>2012-10-26</td>\n",
       "      <td>0</td>\n",
       "      <td>US</td>\n",
       "      <td>8000.00</td>\n",
       "      <td>...</td>\n",
       "      <td>10</td>\n",
       "      <td>1.182776</td>\n",
       "      <td>2012</td>\n",
       "      <td>2012</td>\n",
       "      <td>12</td>\n",
       "      <td>0.00</td>\n",
       "      <td>6763.750000</td>\n",
       "      <td>0.000000</td>\n",
       "      <td>0.000000</td>\n",
       "      <td>Publishing-Fiction</td>\n",
       "    </tr>\n",
       "    <tr>\n",
       "      <th>1</th>\n",
       "      <td>Kochi community outreach 2017</td>\n",
       "      <td>Web</td>\n",
       "      <td>Journalism</td>\n",
       "      <td>GBP</td>\n",
       "      <td>2017-04-28</td>\n",
       "      <td>2000.0</td>\n",
       "      <td>2017-02-27</td>\n",
       "      <td>2</td>\n",
       "      <td>GB</td>\n",
       "      <td>2587.82</td>\n",
       "      <td>...</td>\n",
       "      <td>2</td>\n",
       "      <td>1.971293</td>\n",
       "      <td>2017</td>\n",
       "      <td>2017</td>\n",
       "      <td>4</td>\n",
       "      <td>1293.91</td>\n",
       "      <td>1312.752564</td>\n",
       "      <td>1.014563</td>\n",
       "      <td>656.376282</td>\n",
       "      <td>Journalism-Web</td>\n",
       "    </tr>\n",
       "  </tbody>\n",
       "</table>\n",
       "<p>2 rows × 23 columns</p>\n",
       "</div>"
      ],
      "text/plain": [
       "                                 name category main_category currency  \\\n",
       "0  The Life and Times of a Nutcracker  Fiction    Publishing      USD   \n",
       "1       Kochi community outreach 2017      Web    Journalism      GBP   \n",
       "\n",
       "    deadline    goal   launched  backers country  usd_goal_real  \\\n",
       "0 2012-12-01  8000.0 2012-10-26        0      US        8000.00   \n",
       "1 2017-04-28  2000.0 2017-02-27        2      GB        2587.82   \n",
       "\n",
       "            ...            launch_month  duration_launched_month  launch_year  \\\n",
       "0           ...                      10                 1.182776         2012   \n",
       "1           ...                       2                 1.971293         2017   \n",
       "\n",
       "   deadline_year  deadline_month  usd_goal_per_backer  usd_goal_per_month  \\\n",
       "0           2012              12                 0.00         6763.750000   \n",
       "1           2017               4              1293.91         1312.752564   \n",
       "\n",
       "   backers_per_month  usd_goal_per_month_per_backer  main_category-category  \n",
       "0           0.000000                       0.000000      Publishing-Fiction  \n",
       "1           1.014563                     656.376282          Journalism-Web  \n",
       "\n",
       "[2 rows x 23 columns]"
      ]
     },
     "execution_count": 15,
     "metadata": {},
     "output_type": "execute_result"
    }
   ],
   "source": [
    "# Concatenating main category and category as a feature\n",
    "data_v3['main_category-category'] = data_v3[['main_category', 'category']].apply(lambda x: '-'.join(x), axis=1)\n",
    "data_v3.head(2)"
   ]
  },
  {
   "cell_type": "markdown",
   "metadata": {},
   "source": [
    "Implementation of months active: a column for each month (1 if active, 0 OW) **Left out of the model as it did not add value**"
   ]
  },
  {
   "cell_type": "code",
   "execution_count": 16,
   "metadata": {},
   "outputs": [],
   "source": [
    "# %%time\n",
    "# # inputing month cols\n",
    "# for index, row in data_v3.iterrows():\n",
    "#     date1 = row['launched']\n",
    "#     date2 = row['deadline']\n",
    "    \n",
    "#     while date1 < date2:\n",
    "#         data_v3.loc[index, 'month_' + str(date1.month)] = 1\n",
    "#         date1 += relativedelta(months=1)\n",
    "# data_v3.head(2)"
   ]
  },
  {
   "cell_type": "markdown",
   "metadata": {},
   "source": [
    "# 4.0 EDA\n",
    "**(Note: EDA was done before feature engineering so it may miss some features)**"
   ]
  },
  {
   "cell_type": "markdown",
   "metadata": {},
   "source": [
    "There are a total of 10 original features in the dataset. I want to do some quick introductory analysis on each of them so I have a good understand of the distrubution of the dataset. "
   ]
  },
  {
   "cell_type": "markdown",
   "metadata": {},
   "source": [
    "First Up: new_state"
   ]
  },
  {
   "cell_type": "code",
   "execution_count": 109,
   "metadata": {},
   "outputs": [
    {
     "name": "stdout",
     "output_type": "stream",
     "text": [
      "These are the classification variables of the dataset [0 1 2]\n",
      "   new_state  percent_class\n",
      "0     158080           61.0\n",
      "1      66559           26.0\n",
      "2      33507           13.0\n"
     ]
    }
   ],
   "source": [
    "print('These are the classification variables of the dataset', data_v3.new_state.unique())\n",
    "class_var = pd.DataFrame(data_v3.new_state.value_counts())\n",
    "class_var = class_var.assign(percent_class = round(class_var.new_state/258322, 2)*100)\n",
    "print(class_var)"
   ]
  },
  {
   "cell_type": "markdown",
   "metadata": {},
   "source": [
    "61%, 26% and 13% of the dataset consist of books that failed, succeeded and surged.\n",
    "\n",
    "\n",
    "Next: usd_goal_real"
   ]
  },
  {
   "cell_type": "code",
   "execution_count": 110,
   "metadata": {},
   "outputs": [
    {
     "name": "stdout",
     "output_type": "stream",
     "text": [
      "Following is a histogram of usd_goal_real (taking out 99th percentile)\n"
     ]
    },
    {
     "data": {
      "text/plain": [
       "<matplotlib.axes._subplots.AxesSubplot at 0x1360fcb70>"
      ]
     },
     "execution_count": 110,
     "metadata": {},
     "output_type": "execute_result"
    },
    {
     "data": {
      "image/png": "[encoded data removed]",
      "text/plain": [
       "<Figure size 432x288 with 1 Axes>"
      ]
     },
     "metadata": {},
     "output_type": "display_data"
    }
   ],
   "source": [
    "# data_v2.usd_goal_real.hist(bins=10)\n",
    "print('Following is a histogram of usd_goal_real (taking out 99th percentile)')\n",
    "data_v3['usd_goal_real'][data_v3['usd_goal_real'] < data_v3['usd_goal_real'].quantile(.99)].hist(bins=10)"
   ]
  },
  {
   "cell_type": "code",
   "execution_count": 111,
   "metadata": {},
   "outputs": [
    {
     "name": "stdout",
     "output_type": "stream",
     "text": [
      "Following is a histogram of usd_goal_real less than $50,000\n"
     ]
    },
    {
     "data": {
      "text/plain": [
       "<matplotlib.axes._subplots.AxesSubplot at 0x1263c5588>"
      ]
     },
     "execution_count": 111,
     "metadata": {},
     "output_type": "execute_result"
    },
    {
     "data": {
      "image/png": "[encoded data removed]",
      "text/plain": [
       "<Figure size 432x288 with 1 Axes>"
      ]
     },
     "metadata": {},
     "output_type": "display_data"
    }
   ],
   "source": [
    "print('Following is a histogram of usd_goal_real less than $50,000')\n",
    "data_v3['usd_goal_real'][data_v3['usd_goal_real'] < 50000].hist(bins=10)"
   ]
  },
  {
   "cell_type": "markdown",
   "metadata": {},
   "source": [
    "Based on the histograms above, majority of $ goals are between 0 and 5000"
   ]
  },
  {
   "cell_type": "code",
   "execution_count": 112,
   "metadata": {},
   "outputs": [
    {
     "data": {
      "text/plain": [
       "<seaborn.axisgrid.FacetGrid at 0x123613c50>"
      ]
     },
     "execution_count": 112,
     "metadata": {},
     "output_type": "execute_result"
    },
    {
     "data": {
      "image/png": "[encoded data removed]",
      "text/plain": [
       "<Figure size 418.875x360 with 1 Axes>"
      ]
     },
     "metadata": {},
     "output_type": "display_data"
    }
   ],
   "source": [
    "sns.lmplot( x=\"duration_launched_month\", y=\"usd_goal_real\", \n",
    "           data=data_v3[(data_v3['usd_goal_real'] < 50000)], \n",
    "           fit_reg=False, hue='new_state', legend=True, scatter_kws={'alpha':0.15})"
   ]
  },
  {
   "cell_type": "markdown",
   "metadata": {},
   "source": [
    "There appears to be no correlation between the duration that the kickstarter is live and the goal of the kickstarter."
   ]
  },
  {
   "cell_type": "markdown",
   "metadata": {},
   "source": [
    "Next: Currency"
   ]
  },
  {
   "cell_type": "code",
   "execution_count": 113,
   "metadata": {},
   "outputs": [
    {
     "name": "stdout",
     "output_type": "stream",
     "text": [
      "There are 14 different currencies in this dataset.\n",
      "USD    203749\n",
      "GBP     22930\n",
      "EUR     11101\n",
      "CAD      9609\n",
      "AUD      5082\n",
      "Name: currency, dtype: int64\n"
     ]
    },
    {
     "data": {
      "text/plain": [
       "<matplotlib.axes._subplots.AxesSubplot at 0x135d467f0>"
      ]
     },
     "execution_count": 113,
     "metadata": {},
     "output_type": "execute_result"
    },
    {
     "data": {
      "image/png": "[encoded data removed]",
      "text/plain": [
       "<Figure size 432x288 with 1 Axes>"
      ]
     },
     "metadata": {},
     "output_type": "display_data"
    }
   ],
   "source": [
    "print('There are', data_v3.currency.nunique(), 'different currencies in this dataset.')\n",
    "print(data_v3.currency.value_counts().head())\n",
    "data_v3.currency.value_counts().plot(kind=\"bar\")"
   ]
  },
  {
   "cell_type": "markdown",
   "metadata": {},
   "source": [
    "In the plot above, it is evident that over 75% of the currency in the dataset is USD.\n",
    "\n",
    "\n",
    "Next: Country"
   ]
  },
  {
   "cell_type": "code",
   "execution_count": 114,
   "metadata": {},
   "outputs": [
    {
     "name": "stdout",
     "output_type": "stream",
     "text": [
      "There are 22 different countries in the dataset.\n",
      "US    203749\n",
      "GB     22930\n",
      "CA      9609\n",
      "AU      5082\n",
      "DE      2640\n",
      "Name: country, dtype: int64\n"
     ]
    },
    {
     "data": {
      "text/plain": [
       "<matplotlib.axes._subplots.AxesSubplot at 0x135da7208>"
      ]
     },
     "execution_count": 114,
     "metadata": {},
     "output_type": "execute_result"
    },
    {
     "data": {
      "image/png": "[encoded data removed]",
      "text/plain": [
       "<Figure size 432x288 with 1 Axes>"
      ]
     },
     "metadata": {},
     "output_type": "display_data"
    }
   ],
   "source": [
    "data_v3.country.unique()\n",
    "print('There are', data_v3.country.nunique(), 'different countries in the dataset.')\n",
    "print(data_v3.country.value_counts().head())\n",
    "data_v3.country.value_counts().plot(kind=\"bar\")"
   ]
  },
  {
   "cell_type": "markdown",
   "metadata": {},
   "source": [
    "The country distribution is similar to the currency distribution."
   ]
  },
  {
   "cell_type": "markdown",
   "metadata": {},
   "source": [
    "Next: Names of the Books"
   ]
  },
  {
   "cell_type": "code",
   "execution_count": 115,
   "metadata": {},
   "outputs": [
    {
     "name": "stdout",
     "output_type": "stream",
     "text": [
      "1072 books in the dataset have duplicate names. This is 2430 total rows in the dataset with duplicate book names ( 1.0 % of the dataset)\n"
     ]
    }
   ],
   "source": [
    "data_v3.name.nunique()/data_v3.shape[0]\n",
    "name_counts = pd.DataFrame(data_v3.name.value_counts())\n",
    "name_counts[name_counts['name'] > 1].shape\n",
    "\n",
    "print(name_counts[name_counts['name'] > 1].shape[0], 'books in the dataset have duplicate names.',\n",
    "     'This is', name_counts['name'][name_counts['name'] > 1].sum(), \n",
    "      'total rows in the dataset with duplicate book names (', \n",
    "      round((1-(data_v3.name.nunique()/data_v3.shape[0])),2)*100,\n",
    "     '% of the dataset)')"
   ]
  },
  {
   "cell_type": "markdown",
   "metadata": {},
   "source": [
    "Will not use the name of the kickstarter as a feature. Will use the features extracted from the name instead such as length of name."
   ]
  },
  {
   "cell_type": "markdown",
   "metadata": {},
   "source": [
    "Next: main_category"
   ]
  },
  {
   "cell_type": "code",
   "execution_count": 119,
   "metadata": {
    "scrolled": false
   },
   "outputs": [
    {
     "name": "stdout",
     "output_type": "stream",
     "text": [
      "There are 15 different main categories.\n",
      "Here are the the top 5 main categories:\n",
      "              main_category\n",
      "Film & Video          44858\n",
      "Music                 36415\n",
      "Publishing            28032\n",
      "Technology            20673\n",
      "Games                 20630\n"
     ]
    },
    {
     "data": {
      "text/plain": [
       "<matplotlib.axes._subplots.AxesSubplot at 0x13457c470>"
      ]
     },
     "execution_count": 119,
     "metadata": {},
     "output_type": "execute_result"
    },
    {
     "data": {
      "image/png": "[encoded data removed]",
      "text/plain": [
       "<Figure size 432x288 with 1 Axes>"
      ]
     },
     "metadata": {},
     "output_type": "display_data"
    }
   ],
   "source": [
    "data_v3.main_category.unique()\n",
    "print('There are', data_v3.main_category.nunique(), 'different main categories.')\n",
    "main_category_counts = pd.DataFrame(data_v3.main_category.value_counts())\n",
    "print('Here are the the top 5 main categories:')\n",
    "print(main_category_counts.head())\n",
    "main_category_counts.plot.bar()"
   ]
  },
  {
   "cell_type": "markdown",
   "metadata": {},
   "source": [
    "For unique book names, I do not think it would add much value to one-hot-encode the names as a feature to the model. There are also very few duplicate names. Thus, other features may have to be extracted from the name which will be done in the feature engineering section of the code!\n",
    "\n",
    "\n",
    "Next: category"
   ]
  },
  {
   "cell_type": "code",
   "execution_count": 120,
   "metadata": {},
   "outputs": [
    {
     "name": "stdout",
     "output_type": "stream",
     "text": [
      "There are a total of 159 categories\n",
      "Here are the top 5 categories:\n",
      "                category\n",
      "Product Design     13723\n",
      "Documentary        11578\n",
      "Music               9945\n",
      "Shorts              9035\n",
      "Food                8303\n",
      "Following is a bar plot of the top 20 categories:\n"
     ]
    },
    {
     "data": {
      "text/plain": [
       "<matplotlib.axes._subplots.AxesSubplot at 0x134601ac8>"
      ]
     },
     "execution_count": 120,
     "metadata": {},
     "output_type": "execute_result"
    },
    {
     "data": {
      "image/png": "[encoded data removed]",
      "text/plain": [
       "<Figure size 432x288 with 1 Axes>"
      ]
     },
     "metadata": {},
     "output_type": "display_data"
    }
   ],
   "source": [
    "data_v3.category.unique()\n",
    "print('There are a total of', data_v3.category.nunique(),'categories')\n",
    "print('Here are the top 5 categories:')\n",
    "category_counts = pd.DataFrame(data_v3.category.value_counts())\n",
    "print(category_counts.head())\n",
    "print('Following is a bar plot of the top 20 categories:')\n",
    "category_counts.head(20).plot.bar()"
   ]
  },
  {
   "cell_type": "markdown",
   "metadata": {},
   "source": [
    "Next: launch_year"
   ]
  },
  {
   "cell_type": "code",
   "execution_count": 24,
   "metadata": {},
   "outputs": [
    {
     "name": "stdout",
     "output_type": "stream",
     "text": [
      "These are the following counts by year:\n",
      "   year  count\n",
      "8  2009    924\n",
      "7  2010   7619\n",
      "6  2011  19012\n",
      "5  2012  30350\n",
      "4  2013  31946\n",
      "1  2014  46484\n",
      "0  2015  50853\n",
      "2  2016  37861\n",
      "3  2017  33097\n"
     ]
    },
    {
     "data": {
      "text/plain": [
       "<BarContainer object of 9 artists>"
      ]
     },
     "execution_count": 24,
     "metadata": {},
     "output_type": "execute_result"
    },
    {
     "data": {
      "image/png": "[encoded data removed]",
      "text/plain": [
       "<Figure size 432x288 with 1 Axes>"
      ]
     },
     "metadata": {},
     "output_type": "display_data"
    }
   ],
   "source": [
    "year_counts = (data_v3.launch_year.value_counts()\n",
    "                    .reset_index()\n",
    "                    .sort_values(by=['index'], ascending=True)\n",
    "                    .rename(columns={'index': 'year', 'launch_year': 'count'})\n",
    "                )\n",
    "print('These are the following counts by year:')\n",
    "print(year_counts)\n",
    "plt.bar(year_counts['year'], year_counts['count'])"
   ]
  },
  {
   "cell_type": "markdown",
   "metadata": {},
   "source": [
    "There is an increasing trend in the number of kickstarters year over year till 2015 (peak year). After 2015, there is a drop in the number of kickstarters by more tha 10000."
   ]
  },
  {
   "cell_type": "code",
   "execution_count": 26,
   "metadata": {},
   "outputs": [
    {
     "name": "stdout",
     "output_type": "stream",
     "text": [
      "These are the following counts by month:\n",
      "    month  count\n",
      "10      1  18878\n",
      "9       2  20499\n",
      "1       3  23408\n",
      "6       4  22210\n",
      "3       5  22746\n",
      "4       6  22578\n",
      "0       7  24975\n",
      "5       8  22249\n",
      "8       9  21333\n",
      "2      10  22779\n",
      "7      11  22118\n",
      "11     12  14373\n"
     ]
    },
    {
     "data": {
      "text/plain": [
       "<BarContainer object of 12 artists>"
      ]
     },
     "execution_count": 26,
     "metadata": {},
     "output_type": "execute_result"
    },
    {
     "data": {
      "image/png": "[encoded data removed]",
      "text/plain": [
       "<Figure size 432x288 with 1 Axes>"
      ]
     },
     "metadata": {},
     "output_type": "display_data"
    }
   ],
   "source": [
    "month_counts = (data_v3.launch_month.value_counts()\n",
    "                    .reset_index()\n",
    "                    .sort_values(by=['index'], ascending=True)\n",
    "                    .rename(columns={'index': 'month', 'launch_month': 'count'})\n",
    "                )\n",
    "print('These are the following counts by month:')\n",
    "print(month_counts)\n",
    "plt.bar(month_counts['month'], month_counts['count'])"
   ]
  },
  {
   "cell_type": "markdown",
   "metadata": {},
   "source": [
    "December (14373) has the least number of kickstarter projects launched whereas July (24,975) has the most."
   ]
  },
  {
   "cell_type": "markdown",
   "metadata": {},
   "source": [
    "Next: backers"
   ]
  },
  {
   "cell_type": "code",
   "execution_count": 123,
   "metadata": {},
   "outputs": [
    {
     "data": {
      "text/plain": [
       "Index(['name', 'category', 'main_category', 'currency', 'deadline', 'goal',\n",
       "       'launched', 'backers', 'country', 'usd_goal_real', 'new_state',\n",
       "       'name_length', 'name_num_words', 'launch_month',\n",
       "       'duration_launched_month', 'launch_year', 'deadline_year',\n",
       "       'deadline_month', 'usd_goal_per_backer', 'usd_goal_per_month',\n",
       "       'backers_per_month', 'usd_goal_per_month_per_backer',\n",
       "       'main_category-category'],\n",
       "      dtype='object')"
      ]
     },
     "execution_count": 123,
     "metadata": {},
     "output_type": "execute_result"
    }
   ],
   "source": [
    "data_v3.columns"
   ]
  },
  {
   "cell_type": "code",
   "execution_count": 124,
   "metadata": {},
   "outputs": [
    {
     "data": {
      "text/plain": [
       "<seaborn.axisgrid.FacetGrid at 0x134571e80>"
      ]
     },
     "execution_count": 124,
     "metadata": {},
     "output_type": "execute_result"
    },
    {
     "data": {
      "image/png": "[encoded data removed]",
      "text/plain": [
       "<Figure size 418.875x360 with 1 Axes>"
      ]
     },
     "metadata": {},
     "output_type": "display_data"
    }
   ],
   "source": [
    "quantile = .99\n",
    "backers_plot_data = data_v3[data_v3['goal'] < data_v3.goal.quantile(quantile)]\n",
    "sns.lmplot( x=\"usd_goal_real\", y=\"backers\", \n",
    "           data=backers_plot_data, fit_reg=False, hue='new_state', legend=True, scatter_kws={'alpha':0.15})"
   ]
  },
  {
   "cell_type": "markdown",
   "metadata": {},
   "source": [
    "From the plot above, the higher the goal the more likely the kickstarter is to fail. However, if the kickstarter project has a lot of backers, then it is evident to have a higher probability of success."
   ]
  },
  {
   "cell_type": "markdown",
   "metadata": {},
   "source": [
    "Next: Applying PCA to numerical data to see if there is separation between the classes"
   ]
  },
  {
   "cell_type": "code",
   "execution_count": 148,
   "metadata": {},
   "outputs": [],
   "source": [
    "numeric_features = ['goal', 'backers', 'usd_goal_real', 'duration_launched_month', 'usd_goal_per_backer', \n",
    "                   'usd_goal_per_month', 'usd_goal_per_month_per_backer',\n",
    "                   'backers_per_month']\n",
    "\n",
    "numerical_data = data_v3[numeric_features]\n",
    "numerical_data = numerical_data[numerical_data['goal'] < numerical_data.goal.quantile(quantile)]"
   ]
  },
  {
   "cell_type": "code",
   "execution_count": 149,
   "metadata": {},
   "outputs": [
    {
     "name": "stderr",
     "output_type": "stream",
     "text": [
      "/Users/joashc/anaconda3/lib/python3.6/site-packages/sklearn/preprocessing/data.py:323: DataConversionWarning: Data with input dtype int64, float64 were all converted to float64 by MinMaxScaler.\n",
      "  return self.partial_fit(X, y)\n"
     ]
    }
   ],
   "source": [
    "pca = PCA(n_components=2)\n",
    "scaler = MinMaxScaler()\n",
    "numerical_data_scaled = pd.DataFrame(scaler.fit_transform(numerical_data), columns=numerical_data.columns)\n",
    "pca_data = pca.fit_transform(numerical_data_scaled)\n",
    "pca_data_df = pd.DataFrame(pca_data, columns=['pca_1', 'pca_2'])"
   ]
  },
  {
   "cell_type": "code",
   "execution_count": 150,
   "metadata": {},
   "outputs": [
    {
     "data": {
      "text/html": [
       "<div>\n",
       "<style scoped>\n",
       "    .dataframe tbody tr th:only-of-type {\n",
       "        vertical-align: middle;\n",
       "    }\n",
       "\n",
       "    .dataframe tbody tr th {\n",
       "        vertical-align: top;\n",
       "    }\n",
       "\n",
       "    .dataframe thead th {\n",
       "        text-align: right;\n",
       "    }\n",
       "</style>\n",
       "<table border=\"1\" class=\"dataframe\">\n",
       "  <thead>\n",
       "    <tr style=\"text-align: right;\">\n",
       "      <th></th>\n",
       "      <th>pca_1</th>\n",
       "      <th>pca_2</th>\n",
       "      <th>new_state</th>\n",
       "    </tr>\n",
       "  </thead>\n",
       "  <tbody>\n",
       "    <tr>\n",
       "      <th>0</th>\n",
       "      <td>0.014921</td>\n",
       "      <td>-0.033079</td>\n",
       "      <td>0</td>\n",
       "    </tr>\n",
       "    <tr>\n",
       "      <th>1</th>\n",
       "      <td>0.266832</td>\n",
       "      <td>-0.113595</td>\n",
       "      <td>0</td>\n",
       "    </tr>\n",
       "  </tbody>\n",
       "</table>\n",
       "</div>"
      ],
      "text/plain": [
       "      pca_1     pca_2  new_state\n",
       "0  0.014921 -0.033079          0\n",
       "1  0.266832 -0.113595          0"
      ]
     },
     "execution_count": 150,
     "metadata": {},
     "output_type": "execute_result"
    }
   ],
   "source": [
    "pca_data_df = pd.concat([pca_data_df.reset_index(drop=True), data_v3['new_state'].reset_index(drop=True)], axis=1)\n",
    "pca_data_df.head(2)"
   ]
  },
  {
   "cell_type": "code",
   "execution_count": 151,
   "metadata": {},
   "outputs": [
    {
     "data": {
      "text/plain": [
       "<seaborn.axisgrid.FacetGrid at 0x13ea63eb8>"
      ]
     },
     "execution_count": 151,
     "metadata": {},
     "output_type": "execute_result"
    },
    {
     "data": {
      "image/png": "[encoded data removed]",
      "text/plain": [
       "<Figure size 418.875x360 with 1 Axes>"
      ]
     },
     "metadata": {},
     "output_type": "display_data"
    }
   ],
   "source": [
    "sns.lmplot( x=\"pca_1\", y=\"pca_2\", \n",
    "           data=pca_data_df, fit_reg=False, hue='new_state', legend=True, scatter_kws={'alpha':0.1})"
   ]
  },
  {
   "cell_type": "markdown",
   "metadata": {},
   "source": [
    "From the scatter plot of the 2 components, there does not seem to be a clear separation between the classes. "
   ]
  },
  {
   "cell_type": "markdown",
   "metadata": {},
   "source": [
    "# 5.0 Benchmarking\n",
    "I will be using K-nearest neighbors as a benchmark model. K-NN does not usually provide competitive accuracy in comparision to other more complex supervised machine learning algorithms, so it is a good model to compare against.\n",
    "\n",
    "#### Preprocessing Data for K-NN\n",
    "Specfic features from the dataset will be picked and scaled using MinMaxScaler for the model. The model will be divided into a train and test set. The best K will be picked using GridSearchcv on the train set. The model will then be implemented on the test set to get the benchmarking metrics.\n",
    "\n",
    "#### Model Performance\n",
    "Accuracy and log_loss will be used to evaluate model performance."
   ]
  },
  {
   "cell_type": "markdown",
   "metadata": {},
   "source": [
    "## 5.1 K-NN Preprocessing\n",
    "### Picking Features\n",
    "I will use the following features for the K-NN model:\n",
    "\n",
    "\n",
    "'main_category', 'country', 'backers', 'usd_goal_real', 'launch_month', 'launch_year', 'duration_launched_month'"
   ]
  },
  {
   "cell_type": "code",
   "execution_count": 54,
   "metadata": {},
   "outputs": [
    {
     "data": {
      "text/html": [
       "<div>\n",
       "<style scoped>\n",
       "    .dataframe tbody tr th:only-of-type {\n",
       "        vertical-align: middle;\n",
       "    }\n",
       "\n",
       "    .dataframe tbody tr th {\n",
       "        vertical-align: top;\n",
       "    }\n",
       "\n",
       "    .dataframe thead th {\n",
       "        text-align: right;\n",
       "    }\n",
       "</style>\n",
       "<table border=\"1\" class=\"dataframe\">\n",
       "  <thead>\n",
       "    <tr style=\"text-align: right;\">\n",
       "      <th></th>\n",
       "      <th>main_category</th>\n",
       "      <th>country</th>\n",
       "      <th>backers</th>\n",
       "      <th>usd_goal_real</th>\n",
       "      <th>launch_month</th>\n",
       "      <th>launch_year</th>\n",
       "      <th>duration_launched_month</th>\n",
       "    </tr>\n",
       "  </thead>\n",
       "  <tbody>\n",
       "    <tr>\n",
       "      <th>0</th>\n",
       "      <td>Publishing</td>\n",
       "      <td>US</td>\n",
       "      <td>0</td>\n",
       "      <td>8000.00</td>\n",
       "      <td>10</td>\n",
       "      <td>2012</td>\n",
       "      <td>1.182776</td>\n",
       "    </tr>\n",
       "    <tr>\n",
       "      <th>1</th>\n",
       "      <td>Journalism</td>\n",
       "      <td>GB</td>\n",
       "      <td>2</td>\n",
       "      <td>2587.82</td>\n",
       "      <td>2</td>\n",
       "      <td>2017</td>\n",
       "      <td>1.971293</td>\n",
       "    </tr>\n",
       "  </tbody>\n",
       "</table>\n",
       "</div>"
      ],
      "text/plain": [
       "  main_category country  backers  usd_goal_real  launch_month  launch_year  \\\n",
       "0    Publishing      US        0        8000.00            10         2012   \n",
       "1    Journalism      GB        2        2587.82             2         2017   \n",
       "\n",
       "   duration_launched_month  \n",
       "0                 1.182776  \n",
       "1                 1.971293  "
      ]
     },
     "execution_count": 54,
     "metadata": {},
     "output_type": "execute_result"
    }
   ],
   "source": [
    "X = data_v3[['main_category', 'country', 'backers', 'usd_goal_real', 'launch_month', 'launch_year',\n",
    "             'duration_launched_month']]\n",
    "y = data_v3[['new_state']]\n",
    "X.head(2)"
   ]
  },
  {
   "cell_type": "markdown",
   "metadata": {},
   "source": [
    "### Preprocessing Features\n",
    "- one hot encode object features"
   ]
  },
  {
   "cell_type": "code",
   "execution_count": 55,
   "metadata": {
    "scrolled": true
   },
   "outputs": [
    {
     "data": {
      "text/html": [
       "<div>\n",
       "<style scoped>\n",
       "    .dataframe tbody tr th:only-of-type {\n",
       "        vertical-align: middle;\n",
       "    }\n",
       "\n",
       "    .dataframe tbody tr th {\n",
       "        vertical-align: top;\n",
       "    }\n",
       "\n",
       "    .dataframe thead th {\n",
       "        text-align: right;\n",
       "    }\n",
       "</style>\n",
       "<table border=\"1\" class=\"dataframe\">\n",
       "  <thead>\n",
       "    <tr style=\"text-align: right;\">\n",
       "      <th></th>\n",
       "      <th>backers</th>\n",
       "      <th>usd_goal_real</th>\n",
       "      <th>launch_month</th>\n",
       "      <th>launch_year</th>\n",
       "      <th>duration_launched_month</th>\n",
       "      <th>main_category_Art</th>\n",
       "      <th>main_category_Comics</th>\n",
       "      <th>main_category_Crafts</th>\n",
       "      <th>main_category_Dance</th>\n",
       "      <th>main_category_Design</th>\n",
       "      <th>...</th>\n",
       "      <th>country_IT</th>\n",
       "      <th>country_JP</th>\n",
       "      <th>country_LU</th>\n",
       "      <th>country_MX</th>\n",
       "      <th>country_NL</th>\n",
       "      <th>country_NO</th>\n",
       "      <th>country_NZ</th>\n",
       "      <th>country_SE</th>\n",
       "      <th>country_SG</th>\n",
       "      <th>country_US</th>\n",
       "    </tr>\n",
       "  </thead>\n",
       "  <tbody>\n",
       "    <tr>\n",
       "      <th>0</th>\n",
       "      <td>0</td>\n",
       "      <td>8000.00</td>\n",
       "      <td>10</td>\n",
       "      <td>2012</td>\n",
       "      <td>1.182776</td>\n",
       "      <td>0</td>\n",
       "      <td>0</td>\n",
       "      <td>0</td>\n",
       "      <td>0</td>\n",
       "      <td>0</td>\n",
       "      <td>...</td>\n",
       "      <td>0</td>\n",
       "      <td>0</td>\n",
       "      <td>0</td>\n",
       "      <td>0</td>\n",
       "      <td>0</td>\n",
       "      <td>0</td>\n",
       "      <td>0</td>\n",
       "      <td>0</td>\n",
       "      <td>0</td>\n",
       "      <td>1</td>\n",
       "    </tr>\n",
       "    <tr>\n",
       "      <th>1</th>\n",
       "      <td>2</td>\n",
       "      <td>2587.82</td>\n",
       "      <td>2</td>\n",
       "      <td>2017</td>\n",
       "      <td>1.971293</td>\n",
       "      <td>0</td>\n",
       "      <td>0</td>\n",
       "      <td>0</td>\n",
       "      <td>0</td>\n",
       "      <td>0</td>\n",
       "      <td>...</td>\n",
       "      <td>0</td>\n",
       "      <td>0</td>\n",
       "      <td>0</td>\n",
       "      <td>0</td>\n",
       "      <td>0</td>\n",
       "      <td>0</td>\n",
       "      <td>0</td>\n",
       "      <td>0</td>\n",
       "      <td>0</td>\n",
       "      <td>0</td>\n",
       "    </tr>\n",
       "  </tbody>\n",
       "</table>\n",
       "<p>2 rows × 42 columns</p>\n",
       "</div>"
      ],
      "text/plain": [
       "   backers  usd_goal_real  launch_month  launch_year  duration_launched_month  \\\n",
       "0        0        8000.00            10         2012                 1.182776   \n",
       "1        2        2587.82             2         2017                 1.971293   \n",
       "\n",
       "   main_category_Art  main_category_Comics  main_category_Crafts  \\\n",
       "0                  0                     0                     0   \n",
       "1                  0                     0                     0   \n",
       "\n",
       "   main_category_Dance  main_category_Design     ...      country_IT  \\\n",
       "0                    0                     0     ...               0   \n",
       "1                    0                     0     ...               0   \n",
       "\n",
       "   country_JP  country_LU  country_MX  country_NL  country_NO  country_NZ  \\\n",
       "0           0           0           0           0           0           0   \n",
       "1           0           0           0           0           0           0   \n",
       "\n",
       "   country_SE  country_SG  country_US  \n",
       "0           0           0           1  \n",
       "1           0           0           0  \n",
       "\n",
       "[2 rows x 42 columns]"
      ]
     },
     "execution_count": 55,
     "metadata": {},
     "output_type": "execute_result"
    }
   ],
   "source": [
    "X_dummies = pd.get_dummies(X)\n",
    "X_dummies.head(2)"
   ]
  },
  {
   "cell_type": "markdown",
   "metadata": {},
   "source": [
    "- MinMaxScaler on entire set"
   ]
  },
  {
   "cell_type": "code",
   "execution_count": 56,
   "metadata": {},
   "outputs": [
    {
     "name": "stderr",
     "output_type": "stream",
     "text": [
      "/Users/joashc/anaconda3/lib/python3.6/site-packages/sklearn/preprocessing/data.py:323: DataConversionWarning: Data with input dtype uint8, int64, float64 were all converted to float64 by MinMaxScaler.\n",
      "  return self.partial_fit(X, y)\n"
     ]
    },
    {
     "data": {
      "text/html": [
       "<div>\n",
       "<style scoped>\n",
       "    .dataframe tbody tr th:only-of-type {\n",
       "        vertical-align: middle;\n",
       "    }\n",
       "\n",
       "    .dataframe tbody tr th {\n",
       "        vertical-align: top;\n",
       "    }\n",
       "\n",
       "    .dataframe thead th {\n",
       "        text-align: right;\n",
       "    }\n",
       "</style>\n",
       "<table border=\"1\" class=\"dataframe\">\n",
       "  <thead>\n",
       "    <tr style=\"text-align: right;\">\n",
       "      <th></th>\n",
       "      <th>backers</th>\n",
       "      <th>usd_goal_real</th>\n",
       "      <th>launch_month</th>\n",
       "      <th>launch_year</th>\n",
       "      <th>duration_launched_month</th>\n",
       "      <th>main_category_Art</th>\n",
       "      <th>main_category_Comics</th>\n",
       "      <th>main_category_Crafts</th>\n",
       "      <th>main_category_Dance</th>\n",
       "      <th>main_category_Design</th>\n",
       "      <th>...</th>\n",
       "      <th>country_IT</th>\n",
       "      <th>country_JP</th>\n",
       "      <th>country_LU</th>\n",
       "      <th>country_MX</th>\n",
       "      <th>country_NL</th>\n",
       "      <th>country_NO</th>\n",
       "      <th>country_NZ</th>\n",
       "      <th>country_SE</th>\n",
       "      <th>country_SG</th>\n",
       "      <th>country_US</th>\n",
       "    </tr>\n",
       "  </thead>\n",
       "  <tbody>\n",
       "    <tr>\n",
       "      <th>0</th>\n",
       "      <td>0.000000</td>\n",
       "      <td>0.000048</td>\n",
       "      <td>0.818182</td>\n",
       "      <td>0.375</td>\n",
       "      <td>0.384615</td>\n",
       "      <td>0.0</td>\n",
       "      <td>0.0</td>\n",
       "      <td>0.0</td>\n",
       "      <td>0.0</td>\n",
       "      <td>0.0</td>\n",
       "      <td>...</td>\n",
       "      <td>0.0</td>\n",
       "      <td>0.0</td>\n",
       "      <td>0.0</td>\n",
       "      <td>0.0</td>\n",
       "      <td>0.0</td>\n",
       "      <td>0.0</td>\n",
       "      <td>0.0</td>\n",
       "      <td>0.0</td>\n",
       "      <td>0.0</td>\n",
       "      <td>1.0</td>\n",
       "    </tr>\n",
       "    <tr>\n",
       "      <th>1</th>\n",
       "      <td>0.000027</td>\n",
       "      <td>0.000016</td>\n",
       "      <td>0.090909</td>\n",
       "      <td>1.000</td>\n",
       "      <td>0.648352</td>\n",
       "      <td>0.0</td>\n",
       "      <td>0.0</td>\n",
       "      <td>0.0</td>\n",
       "      <td>0.0</td>\n",
       "      <td>0.0</td>\n",
       "      <td>...</td>\n",
       "      <td>0.0</td>\n",
       "      <td>0.0</td>\n",
       "      <td>0.0</td>\n",
       "      <td>0.0</td>\n",
       "      <td>0.0</td>\n",
       "      <td>0.0</td>\n",
       "      <td>0.0</td>\n",
       "      <td>0.0</td>\n",
       "      <td>0.0</td>\n",
       "      <td>0.0</td>\n",
       "    </tr>\n",
       "  </tbody>\n",
       "</table>\n",
       "<p>2 rows × 42 columns</p>\n",
       "</div>"
      ],
      "text/plain": [
       "    backers  usd_goal_real  launch_month  launch_year  \\\n",
       "0  0.000000       0.000048      0.818182        0.375   \n",
       "1  0.000027       0.000016      0.090909        1.000   \n",
       "\n",
       "   duration_launched_month  main_category_Art  main_category_Comics  \\\n",
       "0                 0.384615                0.0                   0.0   \n",
       "1                 0.648352                0.0                   0.0   \n",
       "\n",
       "   main_category_Crafts  main_category_Dance  main_category_Design  \\\n",
       "0                   0.0                  0.0                   0.0   \n",
       "1                   0.0                  0.0                   0.0   \n",
       "\n",
       "      ...      country_IT  country_JP  country_LU  country_MX  country_NL  \\\n",
       "0     ...             0.0         0.0         0.0         0.0         0.0   \n",
       "1     ...             0.0         0.0         0.0         0.0         0.0   \n",
       "\n",
       "   country_NO  country_NZ  country_SE  country_SG  country_US  \n",
       "0         0.0         0.0         0.0         0.0         1.0  \n",
       "1         0.0         0.0         0.0         0.0         0.0  \n",
       "\n",
       "[2 rows x 42 columns]"
      ]
     },
     "execution_count": 56,
     "metadata": {},
     "output_type": "execute_result"
    }
   ],
   "source": [
    "scaler = MinMaxScaler()\n",
    "X_scaled = pd.DataFrame(scaler.fit_transform(X_dummies), columns=X_dummies.columns)\n",
    "X_scaled.head(2)"
   ]
  },
  {
   "cell_type": "markdown",
   "metadata": {},
   "source": [
    "- change the shape of y\n",
    "- Split data into training and testing set"
   ]
  },
  {
   "cell_type": "code",
   "execution_count": 57,
   "metadata": {},
   "outputs": [
    {
     "data": {
      "text/plain": [
       "(258146,)"
      ]
     },
     "execution_count": 57,
     "metadata": {},
     "output_type": "execute_result"
    }
   ],
   "source": [
    "y = np.array(y).ravel()\n",
    "y.shape"
   ]
  },
  {
   "cell_type": "code",
   "execution_count": 58,
   "metadata": {},
   "outputs": [
    {
     "name": "stdout",
     "output_type": "stream",
     "text": [
      "Shape of training set is: (206516, 42)\n",
      "Shape of testing set is: (51630, 42)\n"
     ]
    }
   ],
   "source": [
    "X_train, X_test, y_train, y_test = train_test_split(X_scaled, y, test_size=0.20, random_state=42)\n",
    "print('Shape of training set is:', X_train.shape)\n",
    "print('Shape of testing set is:', X_test.shape)"
   ]
  },
  {
   "cell_type": "markdown",
   "metadata": {},
   "source": [
    "## 5.2 Train K-NN model\n",
    "- Using gridsearchcv to try out different ranges of k on the training set"
   ]
  },
  {
   "cell_type": "code",
   "execution_count": 97,
   "metadata": {},
   "outputs": [],
   "source": [
    "knn_model = KNeighborsClassifier()\n",
    "knn_model_params = {'n_neighbors': np.arange(1,5)}"
   ]
  },
  {
   "cell_type": "code",
   "execution_count": 98,
   "metadata": {
    "scrolled": false
   },
   "outputs": [
    {
     "name": "stdout",
     "output_type": "stream",
     "text": [
      "Fitting 3 folds for each of 4 candidates, totalling 12 fits\n",
      "[CV] n_neighbors=1 ...................................................\n",
      "[CV] .......... n_neighbors=1, score=0.6553726446592921, total= 2.6min\n",
      "[CV] n_neighbors=1 ...................................................\n"
     ]
    },
    {
     "name": "stderr",
     "output_type": "stream",
     "text": [
      "[Parallel(n_jobs=1)]: Done   1 out of   1 | elapsed:  7.0min remaining:    0.0s\n"
     ]
    },
    {
     "name": "stdout",
     "output_type": "stream",
     "text": [
      "[CV] .......... n_neighbors=1, score=0.6568678686525564, total= 2.4min\n",
      "[CV] n_neighbors=1 ...................................................\n"
     ]
    },
    {
     "name": "stderr",
     "output_type": "stream",
     "text": [
      "[Parallel(n_jobs=1)]: Done   2 out of   2 | elapsed: 13.2min remaining:    0.0s\n"
     ]
    },
    {
     "name": "stdout",
     "output_type": "stream",
     "text": [
      "[CV] .......... n_neighbors=1, score=0.6546853451404515, total= 2.7min\n",
      "[CV] n_neighbors=2 ...................................................\n",
      "[CV] .......... n_neighbors=2, score=0.6775832534912755, total= 2.8min\n",
      "[CV] n_neighbors=2 ...................................................\n",
      "[CV] .......... n_neighbors=2, score=0.6793542955027146, total= 2.4min\n",
      "[CV] n_neighbors=2 ...................................................\n",
      "[CV] .......... n_neighbors=2, score=0.6777382594178704, total= 2.7min\n",
      "[CV] n_neighbors=3 ...................................................\n",
      "[CV] .......... n_neighbors=3, score=0.6709636210550765, total= 2.7min\n",
      "[CV] n_neighbors=3 ...................................................\n",
      "[CV] .......... n_neighbors=3, score=0.6720523763899776, total= 2.4min\n",
      "[CV] n_neighbors=3 ...................................................\n",
      "[CV] .......... n_neighbors=3, score=0.6711040139362706, total= 2.8min\n",
      "[CV] n_neighbors=4 ...................................................\n",
      "[CV] ........... n_neighbors=4, score=0.676189646662602, total= 2.7min\n",
      "[CV] n_neighbors=4 ...................................................\n",
      "[CV] .......... n_neighbors=4, score=0.6801091658682461, total= 2.4min\n",
      "[CV] n_neighbors=4 ...................................................\n",
      "[CV] ........... n_neighbors=4, score=0.677970530594469, total= 3.1min\n"
     ]
    },
    {
     "name": "stderr",
     "output_type": "stream",
     "text": [
      "[Parallel(n_jobs=1)]: Done  12 out of  12 | elapsed: 84.9min finished\n"
     ]
    },
    {
     "name": "stdout",
     "output_type": "stream",
     "text": [
      "CPU times: user 1h 23min 33s, sys: 34.9 s, total: 1h 24min 8s\n",
      "Wall time: 1h 25min 48s\n"
     ]
    }
   ],
   "source": [
    "# %%time\n",
    "# knn_model_cv = GridSearchCV(knn_model,param_grid=knn_model_params,cv=3, verbose=3)\n",
    "# knn_model_cv.fit(X_train,y_train)"
   ]
  },
  {
   "cell_type": "code",
   "execution_count": 99,
   "metadata": {},
   "outputs": [
    {
     "name": "stdout",
     "output_type": "stream",
     "text": [
      "The best score is: 0.6782252718272306\n",
      "The best k value is: {'n_neighbors': 2}\n"
     ]
    }
   ],
   "source": [
    "# print('The best accuracy is:', knn_model_cv.best_score_)\n",
    "# print('The best k value is:', knn_model_cv.best_params_)"
   ]
  },
  {
   "cell_type": "markdown",
   "metadata": {},
   "source": [
    "## 5.3 Testing K-NN model\n",
    "- apply k-nn model on test set and evaluate the model performance"
   ]
  },
  {
   "cell_type": "code",
   "execution_count": 101,
   "metadata": {},
   "outputs": [
    {
     "name": "stdout",
     "output_type": "stream",
     "text": [
      "CPU times: user 3min 54s, sys: 1.61 s, total: 3min 56s\n",
      "Wall time: 4min 1s\n"
     ]
    }
   ],
   "source": [
    "%%time\n",
    "knn_test = KNeighborsClassifier()\n",
    "knn_test.fit(X_train,y_train)\n",
    "knn_predictions = knn_test.predict(X_test)"
   ]
  },
  {
   "cell_type": "code",
   "execution_count": 125,
   "metadata": {},
   "outputs": [
    {
     "name": "stdout",
     "output_type": "stream",
     "text": [
      "CPU times: user 2min 48s, sys: 717 ms, total: 2min 49s\n",
      "Wall time: 2min 50s\n"
     ]
    }
   ],
   "source": [
    "%%time\n",
    "knn_prob_predictions = knn_test.predict_proba(X_test)"
   ]
  },
  {
   "cell_type": "code",
   "execution_count": 127,
   "metadata": {
    "scrolled": true
   },
   "outputs": [
    {
     "name": "stdout",
     "output_type": "stream",
     "text": [
      "Accuracy: 0.6866156972805575\n",
      "Log_loss: 3.5592535094921773\n"
     ]
    }
   ],
   "source": [
    "print(\"Accuracy:\",metrics.accuracy_score(y_test, knn_predictions))\n",
    "print(\"Log_loss:\",metrics.log_loss(y_test, knn_prob_predictions))"
   ]
  },
  {
   "cell_type": "markdown",
   "metadata": {},
   "source": [
    "## 5.4 Summary of K-NN Results"
   ]
  },
  {
   "cell_type": "markdown",
   "metadata": {},
   "source": [
    "Will use the accuracy of 68.7% and log loss of 3.56 as a benchmark for the model. These benchmark metrics are credible because if every row in the test dataset was predicted as failed, the accuracy would be approximately 61% (61% of the dataset is labeled as failed).\n",
    "\n",
    "\n",
    "Let's apply a more sophisticated model to see if we can improve these evalution metrics."
   ]
  },
  {
   "cell_type": "markdown",
   "metadata": {},
   "source": [
    "# 6.0 Model Implementation (LightGBM)"
   ]
  },
  {
   "cell_type": "markdown",
   "metadata": {},
   "source": [
    "I choose boosting for the following reasons:\n",
    "- Efficient on a large datasets\n",
    "- Can handle categorical variables without the need for one-hot encoding\n",
    "- Proven to perform with better results in comparison to Random Forest and SVM and less computation intensive than neural networks\n",
    "- Very customizable (Lots of parameters available to tune)"
   ]
  },
  {
   "cell_type": "markdown",
   "metadata": {},
   "source": [
    "## 6.1 Preprocessing Features\n",
    "- picking features\n",
    "- changing object features to dtype category\n",
    "- Split data into train, validation and test set"
   ]
  },
  {
   "cell_type": "code",
   "execution_count": 86,
   "metadata": {},
   "outputs": [],
   "source": [
    "# numeric_features = ['usd_goal_real', 'backers', 'name_length', \n",
    "#                      'name_num_words', 'launch_month', \n",
    "#                      'duration_launched_month', 'launch_year','usd_goal_per_backer',\n",
    "#                    'deadline_year', 'deadline_month']\n",
    "numeric_features = ['goal', 'backers', 'usd_goal_real', 'name_length',\n",
    "                   'name_num_words', 'launch_month', 'duration_launched_month',\n",
    "                   'launch_year', 'usd_goal_per_backer', 'deadline_year', 'deadline_month',\n",
    "                   'usd_goal_per_month', 'usd_goal_per_month_per_backer',\n",
    "                   'backers_per_month']\n",
    "# numeric_features = ['goal', 'backers', 'usd_goal_real', 'name_length',\n",
    "#        'name_num_words', 'launch_month', 'duration_launched_month',\n",
    "#        'launch_year', 'deadline_year', 'deadline_month', 'usd_goal_per_backer',\n",
    "#        'usd_goal_per_month', 'backers_per_month',\n",
    "#        'usd_goal_per_month_per_backer', 'month_10', 'month_11', 'month_2',\n",
    "#        'month_3', 'month_4', 'month_8', 'month_6', 'month_7', 'month_5',\n",
    "#        'month_9', 'month_1', 'month_12']\n",
    "\n",
    "categorical_features = ['category', 'main_category', 'country', 'main_category-category']\n",
    "y = data_v3['new_state']"
   ]
  },
  {
   "cell_type": "code",
   "execution_count": 87,
   "metadata": {},
   "outputs": [
    {
     "name": "stderr",
     "output_type": "stream",
     "text": [
      "/Users/joashc/anaconda3/lib/python3.6/site-packages/sklearn/preprocessing/data.py:323: DataConversionWarning: Data with input dtype int64, float64 were all converted to float64 by MinMaxScaler.\n",
      "  return self.partial_fit(X, y)\n"
     ]
    }
   ],
   "source": [
    "numerical_data = data_v3[numeric_features]\n",
    "scaler = MinMaxScaler()\n",
    "numerical_data_scaled = pd.DataFrame(scaler.fit_transform(numerical_data), columns = numerical_data.columns)"
   ]
  },
  {
   "cell_type": "code",
   "execution_count": 88,
   "metadata": {},
   "outputs": [
    {
     "name": "stdout",
     "output_type": "stream",
     "text": [
      "Changing object variables to categort for lightgbm:\n"
     ]
    },
    {
     "name": "stderr",
     "output_type": "stream",
     "text": [
      "/Users/joashc/anaconda3/lib/python3.6/site-packages/ipykernel_launcher.py:3: SettingWithCopyWarning: \n",
      "A value is trying to be set on a copy of a slice from a DataFrame.\n",
      "Try using .loc[row_indexer,col_indexer] = value instead\n",
      "\n",
      "See the caveats in the documentation: http://pandas.pydata.org/pandas-docs/stable/indexing.html#indexing-view-versus-copy\n",
      "  This is separate from the ipykernel package so we can avoid doing imports until\n"
     ]
    },
    {
     "data": {
      "text/plain": [
       "category                  category\n",
       "main_category             category\n",
       "country                   category\n",
       "main_category-category    category\n",
       "dtype: object"
      ]
     },
     "execution_count": 88,
     "metadata": {},
     "output_type": "execute_result"
    }
   ],
   "source": [
    "categorical_data = data_v3[categorical_features]\n",
    "for col in categorical_data.columns: \n",
    "     categorical_data[col] = categorical_data[col].astype('category')\n",
    "\n",
    "print('Changing object variables to categort for lightgbm:')\n",
    "categorical_data.dtypes"
   ]
  },
  {
   "cell_type": "code",
   "execution_count": 89,
   "metadata": {},
   "outputs": [
    {
     "name": "stdout",
     "output_type": "stream",
     "text": [
      "Following are the columns picked for the lightgbm model based on feature importance and trial and error:\n"
     ]
    },
    {
     "data": {
      "text/plain": [
       "Index(['goal', 'backers', 'usd_goal_real', 'name_length', 'name_num_words',\n",
       "       'launch_month', 'duration_launched_month', 'launch_year',\n",
       "       'usd_goal_per_backer', 'deadline_year', 'deadline_month',\n",
       "       'usd_goal_per_month', 'usd_goal_per_month_per_backer',\n",
       "       'backers_per_month', 'category', 'main_category', 'country',\n",
       "       'main_category-category'],\n",
       "      dtype='object')"
      ]
     },
     "execution_count": 89,
     "metadata": {},
     "output_type": "execute_result"
    }
   ],
   "source": [
    "X_lgbm = pd.concat([numerical_data_scaled.reset_index(drop=True), categorical_data.reset_index(drop=True)], axis=1)\n",
    "print('Following are the columns picked for the lightgbm model based on feature importance and trial and error:')\n",
    "X_lgbm.columns"
   ]
  },
  {
   "cell_type": "code",
   "execution_count": 90,
   "metadata": {},
   "outputs": [
    {
     "name": "stdout",
     "output_type": "stream",
     "text": [
      "Shape of train set is: (206516, 18)\n",
      "Shape of testing set is: (51630, 18)\n"
     ]
    }
   ],
   "source": [
    "X_data, X_test, y_data, y_test = train_test_split(X_lgbm, y, test_size=0.2, random_state=42) #Updated\n",
    "print('Shape of train set is:', X_data.shape)  \n",
    "print('Shape of testing set is:', X_test.shape)"
   ]
  },
  {
   "cell_type": "markdown",
   "metadata": {},
   "source": [
    "## 6.2 Train lightGBM model"
   ]
  },
  {
   "cell_type": "code",
   "execution_count": 91,
   "metadata": {
    "scrolled": true
   },
   "outputs": [],
   "source": [
    "def lgbm_model(X_data, y_data, params, n_folds):\n",
    "    n_folds = KFold(n_splits=n_folds)\n",
    "    X_data = X_data.reset_index(drop=True)\n",
    "    y_data = y_data.reset_index(drop=True)\n",
    "\n",
    "    \n",
    "    \n",
    "    train_accuracy = []\n",
    "    train_loss = []\n",
    "    validation_accuracy = []\n",
    "    validation_loss = []\n",
    "    \n",
    "    for train_index, validate_index in n_folds.split(X_data):\n",
    "        \n",
    "        X_train, X_validate = X_data.iloc[train_index], X_data.iloc[validate_index]\n",
    "        y_train, y_validate = y_data.iloc[train_index], y_data.iloc[validate_index]\n",
    "        \n",
    "        \n",
    "        lgb_model = lgb.LGBMClassifier(**params, n_jobs=4)\n",
    "        \n",
    "        # train the model\n",
    "        lgb_model.fit(X_train, y_train, early_stopping_rounds=100, \n",
    "                      eval_set=(X_validate, y_validate), eval_metric='multi_logloss')\n",
    "\n",
    "        # get train accuracy and loss\n",
    "        y_train_pred = lgb_model.predict(X_train, num_iteration=lgb_model.best_iteration_)\n",
    "        y_train_pred_proba = lgb_model.predict_proba(X_train, num_iteration=lgb_model.best_iteration_)\n",
    "\n",
    "        # get validation accuracy and loss\n",
    "        y_pred = lgb_model.predict(X_validate, num_iteration=lgb_model.best_iteration_)\n",
    "        y_pred_proba = lgb_model.predict_proba(X_validate, num_iteration=lgb_model.best_iteration_)\n",
    "\n",
    "        train_accuracy.append(metrics.accuracy_score(y_train, y_train_pred))\n",
    "        train_loss.append(metrics.log_loss(y_train, y_train_pred_proba))\n",
    "\n",
    "        validation_accuracy.append(metrics.accuracy_score(y_validate, y_pred))\n",
    "        validation_loss.append(metrics.log_loss(y_validate, y_pred_proba))    \n",
    "    \n",
    "    \n",
    "    return [pd.DataFrame(train_accuracy).mean().values[0], \n",
    "            pd.DataFrame(train_loss).mean().values[0],\n",
    "            pd.DataFrame(validation_accuracy).mean().values[0], \n",
    "            pd.DataFrame(validation_loss).mean().values[0]], lgb_model"
   ]
  },
  {
   "cell_type": "code",
   "execution_count": 92,
   "metadata": {},
   "outputs": [],
   "source": [
    "params = {'learning_rate':0.09,\n",
    "         'boosting_type': 'gbdt',\n",
    "         'num_class':3,\n",
    "         'objective':'multiclass',\n",
    "         'metric': 'multi_logloss',\n",
    "          'max_depth': 10,\n",
    "          'reg_alpha': 0.5,\n",
    "          'reg_lambda': 0.5,\n",
    "          'n_estimators': 100,\n",
    "         'num_leaves': 80,\n",
    "         'min_split_gain': 0.1,\n",
    "         'min_child_samples': 20}"
   ]
  },
  {
   "cell_type": "code",
   "execution_count": 93,
   "metadata": {
    "scrolled": true
   },
   "outputs": [
    {
     "name": "stdout",
     "output_type": "stream",
     "text": [
      "[1]\tvalid_0's multi_logloss: 1.00813\n",
      "Training until validation scores don't improve for 100 rounds.\n",
      "[2]\tvalid_0's multi_logloss: 0.931418\n",
      "[3]\tvalid_0's multi_logloss: 0.865311\n",
      "[4]\tvalid_0's multi_logloss: 0.808081\n",
      "[5]\tvalid_0's multi_logloss: 0.758155\n",
      "[6]\tvalid_0's multi_logloss: 0.714279\n",
      "[7]\tvalid_0's multi_logloss: 0.675553\n",
      "[8]\tvalid_0's multi_logloss: 0.64122\n",
      "[9]\tvalid_0's multi_logloss: 0.610725\n",
      "[10]\tvalid_0's multi_logloss: 0.583593\n",
      "[11]\tvalid_0's multi_logloss: 0.559347\n",
      "[12]\tvalid_0's multi_logloss: 0.537726\n",
      "[13]\tvalid_0's multi_logloss: 0.518238\n",
      "[14]\tvalid_0's multi_logloss: 0.50076\n",
      "[15]\tvalid_0's multi_logloss: 0.485018\n",
      "[16]\tvalid_0's multi_logloss: 0.470863\n",
      "[17]\tvalid_0's multi_logloss: 0.458074\n",
      "[18]\tvalid_0's multi_logloss: 0.446536\n",
      "[19]\tvalid_0's multi_logloss: 0.436165\n",
      "[20]\tvalid_0's multi_logloss: 0.426732\n",
      "[21]\tvalid_0's multi_logloss: 0.418237\n",
      "[22]\tvalid_0's multi_logloss: 0.410533\n",
      "[23]\tvalid_0's multi_logloss: 0.403516\n",
      "[24]\tvalid_0's multi_logloss: 0.397148\n",
      "[25]\tvalid_0's multi_logloss: 0.391407\n",
      "[26]\tvalid_0's multi_logloss: 0.386158\n",
      "[27]\tvalid_0's multi_logloss: 0.3814\n",
      "[28]\tvalid_0's multi_logloss: 0.377104\n",
      "[29]\tvalid_0's multi_logloss: 0.373148\n",
      "[30]\tvalid_0's multi_logloss: 0.369534\n",
      "[31]\tvalid_0's multi_logloss: 0.366249\n",
      "[32]\tvalid_0's multi_logloss: 0.363269\n",
      "[33]\tvalid_0's multi_logloss: 0.360535\n",
      "[34]\tvalid_0's multi_logloss: 0.358005\n",
      "[35]\tvalid_0's multi_logloss: 0.355743\n",
      "[36]\tvalid_0's multi_logloss: 0.353666\n",
      "[37]\tvalid_0's multi_logloss: 0.351774\n",
      "[38]\tvalid_0's multi_logloss: 0.350032\n",
      "[39]\tvalid_0's multi_logloss: 0.348417\n",
      "[40]\tvalid_0's multi_logloss: 0.346982\n",
      "[41]\tvalid_0's multi_logloss: 0.345639\n",
      "[42]\tvalid_0's multi_logloss: 0.344434\n",
      "[43]\tvalid_0's multi_logloss: 0.343316\n",
      "[44]\tvalid_0's multi_logloss: 0.342343\n",
      "[45]\tvalid_0's multi_logloss: 0.341399\n",
      "[46]\tvalid_0's multi_logloss: 0.340563\n",
      "[47]\tvalid_0's multi_logloss: 0.339778\n",
      "[48]\tvalid_0's multi_logloss: 0.339029\n",
      "[49]\tvalid_0's multi_logloss: 0.338354\n",
      "[50]\tvalid_0's multi_logloss: 0.337747\n",
      "[51]\tvalid_0's multi_logloss: 0.337203\n",
      "[52]\tvalid_0's multi_logloss: 0.336669\n",
      "[53]\tvalid_0's multi_logloss: 0.336231\n",
      "[54]\tvalid_0's multi_logloss: 0.335757\n",
      "[55]\tvalid_0's multi_logloss: 0.335367\n",
      "[56]\tvalid_0's multi_logloss: 0.335003\n",
      "[57]\tvalid_0's multi_logloss: 0.334646\n",
      "[58]\tvalid_0's multi_logloss: 0.334348\n",
      "[59]\tvalid_0's multi_logloss: 0.334046\n",
      "[60]\tvalid_0's multi_logloss: 0.333763\n",
      "[61]\tvalid_0's multi_logloss: 0.333502\n",
      "[62]\tvalid_0's multi_logloss: 0.333275\n",
      "[63]\tvalid_0's multi_logloss: 0.33305\n",
      "[64]\tvalid_0's multi_logloss: 0.332834\n",
      "[65]\tvalid_0's multi_logloss: 0.332635\n",
      "[66]\tvalid_0's multi_logloss: 0.332426\n",
      "[67]\tvalid_0's multi_logloss: 0.33226\n",
      "[68]\tvalid_0's multi_logloss: 0.332142\n",
      "[69]\tvalid_0's multi_logloss: 0.332028\n",
      "[70]\tvalid_0's multi_logloss: 0.331921\n",
      "[71]\tvalid_0's multi_logloss: 0.331818\n",
      "[72]\tvalid_0's multi_logloss: 0.331692\n",
      "[73]\tvalid_0's multi_logloss: 0.331576\n",
      "[74]\tvalid_0's multi_logloss: 0.331479\n",
      "[75]\tvalid_0's multi_logloss: 0.331399\n",
      "[76]\tvalid_0's multi_logloss: 0.331311\n",
      "[77]\tvalid_0's multi_logloss: 0.331237\n",
      "[78]\tvalid_0's multi_logloss: 0.331206\n",
      "[79]\tvalid_0's multi_logloss: 0.331135\n",
      "[80]\tvalid_0's multi_logloss: 0.331062\n",
      "[81]\tvalid_0's multi_logloss: 0.331006\n",
      "[82]\tvalid_0's multi_logloss: 0.330984\n",
      "[83]\tvalid_0's multi_logloss: 0.330949\n",
      "[84]\tvalid_0's multi_logloss: 0.330914\n",
      "[85]\tvalid_0's multi_logloss: 0.330886\n",
      "[86]\tvalid_0's multi_logloss: 0.330883\n",
      "[87]\tvalid_0's multi_logloss: 0.330856\n",
      "[88]\tvalid_0's multi_logloss: 0.330828\n",
      "[89]\tvalid_0's multi_logloss: 0.330805\n",
      "[90]\tvalid_0's multi_logloss: 0.330799\n",
      "[91]\tvalid_0's multi_logloss: 0.330778\n",
      "[92]\tvalid_0's multi_logloss: 0.330764\n",
      "[93]\tvalid_0's multi_logloss: 0.330732\n",
      "[94]\tvalid_0's multi_logloss: 0.330747\n",
      "[95]\tvalid_0's multi_logloss: 0.330736\n",
      "[96]\tvalid_0's multi_logloss: 0.330717\n",
      "[97]\tvalid_0's multi_logloss: 0.330726\n",
      "[98]\tvalid_0's multi_logloss: 0.330695\n",
      "[99]\tvalid_0's multi_logloss: 0.330678\n",
      "[100]\tvalid_0's multi_logloss: 0.330653\n",
      "Did not meet early stopping. Best iteration is:\n",
      "[100]\tvalid_0's multi_logloss: 0.330653\n",
      "[1]\tvalid_0's multi_logloss: 1.00854\n",
      "Training until validation scores don't improve for 100 rounds.\n",
      "[2]\tvalid_0's multi_logloss: 0.932061\n",
      "[3]\tvalid_0's multi_logloss: 0.866394\n",
      "[4]\tvalid_0's multi_logloss: 0.80939\n",
      "[5]\tvalid_0's multi_logloss: 0.759657\n",
      "[6]\tvalid_0's multi_logloss: 0.715934\n",
      "[7]\tvalid_0's multi_logloss: 0.67737\n",
      "[8]\tvalid_0's multi_logloss: 0.643196\n",
      "[9]\tvalid_0's multi_logloss: 0.612838\n",
      "[10]\tvalid_0's multi_logloss: 0.585786\n",
      "[11]\tvalid_0's multi_logloss: 0.561669\n",
      "[12]\tvalid_0's multi_logloss: 0.540175\n",
      "[13]\tvalid_0's multi_logloss: 0.520846\n",
      "[14]\tvalid_0's multi_logloss: 0.50349\n",
      "[15]\tvalid_0's multi_logloss: 0.487846\n",
      "[16]\tvalid_0's multi_logloss: 0.473785\n",
      "[17]\tvalid_0's multi_logloss: 0.461137\n",
      "[18]\tvalid_0's multi_logloss: 0.449636\n",
      "[19]\tvalid_0's multi_logloss: 0.439311\n",
      "[20]\tvalid_0's multi_logloss: 0.430008\n",
      "[21]\tvalid_0's multi_logloss: 0.421556\n",
      "[22]\tvalid_0's multi_logloss: 0.41394\n",
      "[23]\tvalid_0's multi_logloss: 0.407027\n",
      "[24]\tvalid_0's multi_logloss: 0.400779\n",
      "[25]\tvalid_0's multi_logloss: 0.395074\n",
      "[26]\tvalid_0's multi_logloss: 0.389888\n",
      "[27]\tvalid_0's multi_logloss: 0.385231\n",
      "[28]\tvalid_0's multi_logloss: 0.380994\n",
      "[29]\tvalid_0's multi_logloss: 0.377125\n",
      "[30]\tvalid_0's multi_logloss: 0.373602\n",
      "[31]\tvalid_0's multi_logloss: 0.37034\n",
      "[32]\tvalid_0's multi_logloss: 0.367392\n",
      "[33]\tvalid_0's multi_logloss: 0.364739\n",
      "[34]\tvalid_0's multi_logloss: 0.362287\n",
      "[35]\tvalid_0's multi_logloss: 0.360036\n",
      "[36]\tvalid_0's multi_logloss: 0.358\n",
      "[37]\tvalid_0's multi_logloss: 0.356141\n",
      "[38]\tvalid_0's multi_logloss: 0.35449\n",
      "[39]\tvalid_0's multi_logloss: 0.352926\n",
      "[40]\tvalid_0's multi_logloss: 0.351533\n",
      "[41]\tvalid_0's multi_logloss: 0.350274\n",
      "[42]\tvalid_0's multi_logloss: 0.349109\n",
      "[43]\tvalid_0's multi_logloss: 0.348021\n",
      "[44]\tvalid_0's multi_logloss: 0.347055\n",
      "[45]\tvalid_0's multi_logloss: 0.346185\n",
      "[46]\tvalid_0's multi_logloss: 0.345384\n",
      "[47]\tvalid_0's multi_logloss: 0.344662\n",
      "[48]\tvalid_0's multi_logloss: 0.343988\n",
      "[49]\tvalid_0's multi_logloss: 0.343365\n",
      "[50]\tvalid_0's multi_logloss: 0.342781\n",
      "[51]\tvalid_0's multi_logloss: 0.342252\n",
      "[52]\tvalid_0's multi_logloss: 0.341782\n",
      "[53]\tvalid_0's multi_logloss: 0.341324\n",
      "[54]\tvalid_0's multi_logloss: 0.340904\n",
      "[55]\tvalid_0's multi_logloss: 0.340524\n",
      "[56]\tvalid_0's multi_logloss: 0.340181\n",
      "[57]\tvalid_0's multi_logloss: 0.339854\n",
      "[58]\tvalid_0's multi_logloss: 0.339536\n",
      "[59]\tvalid_0's multi_logloss: 0.339287\n",
      "[60]\tvalid_0's multi_logloss: 0.339014\n",
      "[61]\tvalid_0's multi_logloss: 0.338792\n",
      "[62]\tvalid_0's multi_logloss: 0.338574\n",
      "[63]\tvalid_0's multi_logloss: 0.338388\n",
      "[64]\tvalid_0's multi_logloss: 0.338214\n",
      "[65]\tvalid_0's multi_logloss: 0.338023\n",
      "[66]\tvalid_0's multi_logloss: 0.337904\n",
      "[67]\tvalid_0's multi_logloss: 0.337779\n",
      "[68]\tvalid_0's multi_logloss: 0.337666\n",
      "[69]\tvalid_0's multi_logloss: 0.337567\n",
      "[70]\tvalid_0's multi_logloss: 0.337443\n",
      "[71]\tvalid_0's multi_logloss: 0.337377\n",
      "[72]\tvalid_0's multi_logloss: 0.337313\n",
      "[73]\tvalid_0's multi_logloss: 0.337253\n",
      "[74]\tvalid_0's multi_logloss: 0.337191\n",
      "[75]\tvalid_0's multi_logloss: 0.337142\n",
      "[76]\tvalid_0's multi_logloss: 0.337116\n",
      "[77]\tvalid_0's multi_logloss: 0.337033\n",
      "[78]\tvalid_0's multi_logloss: 0.336977\n",
      "[79]\tvalid_0's multi_logloss: 0.336974\n",
      "[80]\tvalid_0's multi_logloss: 0.336939\n",
      "[81]\tvalid_0's multi_logloss: 0.336889\n",
      "[82]\tvalid_0's multi_logloss: 0.33689\n",
      "[83]\tvalid_0's multi_logloss: 0.3369\n",
      "[84]\tvalid_0's multi_logloss: 0.336895\n",
      "[85]\tvalid_0's multi_logloss: 0.336891\n",
      "[86]\tvalid_0's multi_logloss: 0.336902\n",
      "[87]\tvalid_0's multi_logloss: 0.336875\n",
      "[88]\tvalid_0's multi_logloss: 0.336901\n",
      "[89]\tvalid_0's multi_logloss: 0.336927\n",
      "[90]\tvalid_0's multi_logloss: 0.336913\n",
      "[91]\tvalid_0's multi_logloss: 0.336936\n",
      "[92]\tvalid_0's multi_logloss: 0.336953\n",
      "[93]\tvalid_0's multi_logloss: 0.336957\n",
      "[94]\tvalid_0's multi_logloss: 0.336949\n",
      "[95]\tvalid_0's multi_logloss: 0.336955\n",
      "[96]\tvalid_0's multi_logloss: 0.336974\n",
      "[97]\tvalid_0's multi_logloss: 0.336992\n",
      "[98]\tvalid_0's multi_logloss: 0.337005\n",
      "[99]\tvalid_0's multi_logloss: 0.337058\n",
      "[100]\tvalid_0's multi_logloss: 0.337069\n",
      "Did not meet early stopping. Best iteration is:\n",
      "[87]\tvalid_0's multi_logloss: 0.336875\n",
      "[1]\tvalid_0's multi_logloss: 1.00819\n",
      "Training until validation scores don't improve for 100 rounds.\n",
      "[2]\tvalid_0's multi_logloss: 0.931485\n",
      "[3]\tvalid_0's multi_logloss: 0.865577\n",
      "[4]\tvalid_0's multi_logloss: 0.808464\n",
      "[5]\tvalid_0's multi_logloss: 0.758584\n",
      "[6]\tvalid_0's multi_logloss: 0.714797\n"
     ]
    },
    {
     "name": "stdout",
     "output_type": "stream",
     "text": [
      "[7]\tvalid_0's multi_logloss: 0.676102\n",
      "[8]\tvalid_0's multi_logloss: 0.641746\n",
      "[9]\tvalid_0's multi_logloss: 0.611273\n",
      "[10]\tvalid_0's multi_logloss: 0.584138\n",
      "[11]\tvalid_0's multi_logloss: 0.559848\n",
      "[12]\tvalid_0's multi_logloss: 0.538168\n",
      "[13]\tvalid_0's multi_logloss: 0.518734\n",
      "[14]\tvalid_0's multi_logloss: 0.501216\n",
      "[15]\tvalid_0's multi_logloss: 0.485579\n",
      "[16]\tvalid_0's multi_logloss: 0.471429\n",
      "[17]\tvalid_0's multi_logloss: 0.458641\n",
      "[18]\tvalid_0's multi_logloss: 0.447153\n",
      "[19]\tvalid_0's multi_logloss: 0.436729\n",
      "[20]\tvalid_0's multi_logloss: 0.427251\n",
      "[21]\tvalid_0's multi_logloss: 0.418741\n",
      "[22]\tvalid_0's multi_logloss: 0.411025\n",
      "[23]\tvalid_0's multi_logloss: 0.404029\n",
      "[24]\tvalid_0's multi_logloss: 0.397673\n",
      "[25]\tvalid_0's multi_logloss: 0.391893\n",
      "[26]\tvalid_0's multi_logloss: 0.386637\n",
      "[27]\tvalid_0's multi_logloss: 0.381899\n",
      "[28]\tvalid_0's multi_logloss: 0.377569\n",
      "[29]\tvalid_0's multi_logloss: 0.373622\n",
      "[30]\tvalid_0's multi_logloss: 0.369994\n",
      "[31]\tvalid_0's multi_logloss: 0.366694\n",
      "[32]\tvalid_0's multi_logloss: 0.363672\n",
      "[33]\tvalid_0's multi_logloss: 0.360885\n",
      "[34]\tvalid_0's multi_logloss: 0.358424\n",
      "[35]\tvalid_0's multi_logloss: 0.356141\n",
      "[36]\tvalid_0's multi_logloss: 0.354023\n",
      "[37]\tvalid_0's multi_logloss: 0.352129\n",
      "[38]\tvalid_0's multi_logloss: 0.350433\n",
      "[39]\tvalid_0's multi_logloss: 0.34886\n",
      "[40]\tvalid_0's multi_logloss: 0.347429\n",
      "[41]\tvalid_0's multi_logloss: 0.346118\n",
      "[42]\tvalid_0's multi_logloss: 0.344891\n",
      "[43]\tvalid_0's multi_logloss: 0.343778\n",
      "[44]\tvalid_0's multi_logloss: 0.342751\n",
      "[45]\tvalid_0's multi_logloss: 0.341811\n",
      "[46]\tvalid_0's multi_logloss: 0.340922\n",
      "[47]\tvalid_0's multi_logloss: 0.340079\n",
      "[48]\tvalid_0's multi_logloss: 0.339368\n",
      "[49]\tvalid_0's multi_logloss: 0.338745\n",
      "[50]\tvalid_0's multi_logloss: 0.33811\n",
      "[51]\tvalid_0's multi_logloss: 0.337585\n",
      "[52]\tvalid_0's multi_logloss: 0.337055\n",
      "[53]\tvalid_0's multi_logloss: 0.336572\n",
      "[54]\tvalid_0's multi_logloss: 0.33612\n",
      "[55]\tvalid_0's multi_logloss: 0.33566\n",
      "[56]\tvalid_0's multi_logloss: 0.335297\n",
      "[57]\tvalid_0's multi_logloss: 0.334952\n",
      "[58]\tvalid_0's multi_logloss: 0.334633\n",
      "[59]\tvalid_0's multi_logloss: 0.334367\n",
      "[60]\tvalid_0's multi_logloss: 0.33412\n",
      "[61]\tvalid_0's multi_logloss: 0.333909\n",
      "[62]\tvalid_0's multi_logloss: 0.333667\n",
      "[63]\tvalid_0's multi_logloss: 0.333445\n",
      "[64]\tvalid_0's multi_logloss: 0.333224\n",
      "[65]\tvalid_0's multi_logloss: 0.333044\n",
      "[66]\tvalid_0's multi_logloss: 0.332924\n",
      "[67]\tvalid_0's multi_logloss: 0.332757\n",
      "[68]\tvalid_0's multi_logloss: 0.332604\n",
      "[69]\tvalid_0's multi_logloss: 0.332461\n",
      "[70]\tvalid_0's multi_logloss: 0.332352\n",
      "[71]\tvalid_0's multi_logloss: 0.332235\n",
      "[72]\tvalid_0's multi_logloss: 0.332144\n",
      "[73]\tvalid_0's multi_logloss: 0.332025\n",
      "[74]\tvalid_0's multi_logloss: 0.331928\n",
      "[75]\tvalid_0's multi_logloss: 0.331877\n",
      "[76]\tvalid_0's multi_logloss: 0.33183\n",
      "[77]\tvalid_0's multi_logloss: 0.331748\n",
      "[78]\tvalid_0's multi_logloss: 0.331651\n",
      "[79]\tvalid_0's multi_logloss: 0.331595\n",
      "[80]\tvalid_0's multi_logloss: 0.331528\n",
      "[81]\tvalid_0's multi_logloss: 0.331457\n",
      "[82]\tvalid_0's multi_logloss: 0.331399\n",
      "[83]\tvalid_0's multi_logloss: 0.33135\n",
      "[84]\tvalid_0's multi_logloss: 0.331331\n",
      "[85]\tvalid_0's multi_logloss: 0.331285\n",
      "[86]\tvalid_0's multi_logloss: 0.331291\n",
      "[87]\tvalid_0's multi_logloss: 0.331309\n",
      "[88]\tvalid_0's multi_logloss: 0.331261\n",
      "[89]\tvalid_0's multi_logloss: 0.331247\n",
      "[90]\tvalid_0's multi_logloss: 0.331217\n",
      "[91]\tvalid_0's multi_logloss: 0.331228\n",
      "[92]\tvalid_0's multi_logloss: 0.331177\n",
      "[93]\tvalid_0's multi_logloss: 0.331172\n",
      "[94]\tvalid_0's multi_logloss: 0.33117\n",
      "[95]\tvalid_0's multi_logloss: 0.331166\n",
      "[96]\tvalid_0's multi_logloss: 0.331152\n",
      "[97]\tvalid_0's multi_logloss: 0.331143\n",
      "[98]\tvalid_0's multi_logloss: 0.331144\n",
      "[99]\tvalid_0's multi_logloss: 0.331154\n",
      "[100]\tvalid_0's multi_logloss: 0.331172\n",
      "Did not meet early stopping. Best iteration is:\n",
      "[97]\tvalid_0's multi_logloss: 0.331143\n",
      "[1]\tvalid_0's multi_logloss: 1.00853\n",
      "Training until validation scores don't improve for 100 rounds.\n",
      "[2]\tvalid_0's multi_logloss: 0.932126\n",
      "[3]\tvalid_0's multi_logloss: 0.866523\n",
      "[4]\tvalid_0's multi_logloss: 0.809434\n",
      "[5]\tvalid_0's multi_logloss: 0.759653\n",
      "[6]\tvalid_0's multi_logloss: 0.716036\n",
      "[7]\tvalid_0's multi_logloss: 0.677456\n",
      "[8]\tvalid_0's multi_logloss: 0.643322\n",
      "[9]\tvalid_0's multi_logloss: 0.61295\n",
      "[10]\tvalid_0's multi_logloss: 0.585916\n",
      "[11]\tvalid_0's multi_logloss: 0.56177\n",
      "[12]\tvalid_0's multi_logloss: 0.540166\n",
      "[13]\tvalid_0's multi_logloss: 0.520818\n",
      "[14]\tvalid_0's multi_logloss: 0.503479\n",
      "[15]\tvalid_0's multi_logloss: 0.487866\n",
      "[16]\tvalid_0's multi_logloss: 0.473798\n",
      "[17]\tvalid_0's multi_logloss: 0.461106\n",
      "[18]\tvalid_0's multi_logloss: 0.449617\n",
      "[19]\tvalid_0's multi_logloss: 0.439261\n",
      "[20]\tvalid_0's multi_logloss: 0.429879\n",
      "[21]\tvalid_0's multi_logloss: 0.42137\n",
      "[22]\tvalid_0's multi_logloss: 0.413682\n",
      "[23]\tvalid_0's multi_logloss: 0.406757\n",
      "[24]\tvalid_0's multi_logloss: 0.400448\n",
      "[25]\tvalid_0's multi_logloss: 0.394742\n",
      "[26]\tvalid_0's multi_logloss: 0.389545\n",
      "[27]\tvalid_0's multi_logloss: 0.384833\n",
      "[28]\tvalid_0's multi_logloss: 0.380548\n",
      "[29]\tvalid_0's multi_logloss: 0.376704\n",
      "[30]\tvalid_0's multi_logloss: 0.373157\n",
      "[31]\tvalid_0's multi_logloss: 0.369857\n",
      "[32]\tvalid_0's multi_logloss: 0.366901\n",
      "[33]\tvalid_0's multi_logloss: 0.364207\n",
      "[34]\tvalid_0's multi_logloss: 0.361719\n",
      "[35]\tvalid_0's multi_logloss: 0.359476\n",
      "[36]\tvalid_0's multi_logloss: 0.357405\n",
      "[37]\tvalid_0's multi_logloss: 0.355562\n",
      "[38]\tvalid_0's multi_logloss: 0.35384\n",
      "[39]\tvalid_0's multi_logloss: 0.352255\n",
      "[40]\tvalid_0's multi_logloss: 0.350823\n",
      "[41]\tvalid_0's multi_logloss: 0.349521\n",
      "[42]\tvalid_0's multi_logloss: 0.348327\n",
      "[43]\tvalid_0's multi_logloss: 0.34722\n",
      "[44]\tvalid_0's multi_logloss: 0.346228\n",
      "[45]\tvalid_0's multi_logloss: 0.345293\n",
      "[46]\tvalid_0's multi_logloss: 0.344479\n",
      "[47]\tvalid_0's multi_logloss: 0.343736\n",
      "[48]\tvalid_0's multi_logloss: 0.343009\n",
      "[49]\tvalid_0's multi_logloss: 0.342341\n",
      "[50]\tvalid_0's multi_logloss: 0.341705\n",
      "[51]\tvalid_0's multi_logloss: 0.341139\n",
      "[52]\tvalid_0's multi_logloss: 0.34059\n",
      "[53]\tvalid_0's multi_logloss: 0.340124\n",
      "[54]\tvalid_0's multi_logloss: 0.339695\n",
      "[55]\tvalid_0's multi_logloss: 0.339277\n",
      "[56]\tvalid_0's multi_logloss: 0.338913\n",
      "[57]\tvalid_0's multi_logloss: 0.338531\n",
      "[58]\tvalid_0's multi_logloss: 0.338229\n",
      "[59]\tvalid_0's multi_logloss: 0.337939\n",
      "[60]\tvalid_0's multi_logloss: 0.337694\n",
      "[61]\tvalid_0's multi_logloss: 0.337468\n",
      "[62]\tvalid_0's multi_logloss: 0.337246\n",
      "[63]\tvalid_0's multi_logloss: 0.337021\n",
      "[64]\tvalid_0's multi_logloss: 0.33687\n",
      "[65]\tvalid_0's multi_logloss: 0.336653\n",
      "[66]\tvalid_0's multi_logloss: 0.336468\n",
      "[67]\tvalid_0's multi_logloss: 0.3363\n",
      "[68]\tvalid_0's multi_logloss: 0.336128\n",
      "[69]\tvalid_0's multi_logloss: 0.336042\n",
      "[70]\tvalid_0's multi_logloss: 0.335947\n",
      "[71]\tvalid_0's multi_logloss: 0.33585\n",
      "[72]\tvalid_0's multi_logloss: 0.335794\n",
      "[73]\tvalid_0's multi_logloss: 0.335699\n",
      "[74]\tvalid_0's multi_logloss: 0.335632\n",
      "[75]\tvalid_0's multi_logloss: 0.335557\n",
      "[76]\tvalid_0's multi_logloss: 0.335526\n",
      "[77]\tvalid_0's multi_logloss: 0.335498\n",
      "[78]\tvalid_0's multi_logloss: 0.335421\n",
      "[79]\tvalid_0's multi_logloss: 0.335347\n",
      "[80]\tvalid_0's multi_logloss: 0.335304\n",
      "[81]\tvalid_0's multi_logloss: 0.335213\n",
      "[82]\tvalid_0's multi_logloss: 0.335182\n",
      "[83]\tvalid_0's multi_logloss: 0.335165\n",
      "[84]\tvalid_0's multi_logloss: 0.335134\n",
      "[85]\tvalid_0's multi_logloss: 0.335085\n",
      "[86]\tvalid_0's multi_logloss: 0.335024\n",
      "[87]\tvalid_0's multi_logloss: 0.335036\n",
      "[88]\tvalid_0's multi_logloss: 0.335038\n",
      "[89]\tvalid_0's multi_logloss: 0.335059\n",
      "[90]\tvalid_0's multi_logloss: 0.335052\n",
      "[91]\tvalid_0's multi_logloss: 0.335057\n",
      "[92]\tvalid_0's multi_logloss: 0.335039\n",
      "[93]\tvalid_0's multi_logloss: 0.335048\n",
      "[94]\tvalid_0's multi_logloss: 0.335021\n",
      "[95]\tvalid_0's multi_logloss: 0.335023\n",
      "[96]\tvalid_0's multi_logloss: 0.334998\n",
      "[97]\tvalid_0's multi_logloss: 0.335006\n",
      "[98]\tvalid_0's multi_logloss: 0.335052\n",
      "[99]\tvalid_0's multi_logloss: 0.33505\n",
      "[100]\tvalid_0's multi_logloss: 0.335109\n",
      "Did not meet early stopping. Best iteration is:\n",
      "[96]\tvalid_0's multi_logloss: 0.334998\n",
      "[1]\tvalid_0's multi_logloss: 1.00854\n",
      "Training until validation scores don't improve for 100 rounds.\n",
      "[2]\tvalid_0's multi_logloss: 0.932073\n",
      "[3]\tvalid_0's multi_logloss: 0.866416\n",
      "[4]\tvalid_0's multi_logloss: 0.809397\n",
      "[5]\tvalid_0's multi_logloss: 0.759627\n",
      "[6]\tvalid_0's multi_logloss: 0.715949\n",
      "[7]\tvalid_0's multi_logloss: 0.677441\n",
      "[8]\tvalid_0's multi_logloss: 0.643306\n",
      "[9]\tvalid_0's multi_logloss: 0.613033\n",
      "[10]\tvalid_0's multi_logloss: 0.586037\n"
     ]
    },
    {
     "name": "stdout",
     "output_type": "stream",
     "text": [
      "[11]\tvalid_0's multi_logloss: 0.561906\n",
      "[12]\tvalid_0's multi_logloss: 0.540316\n",
      "[13]\tvalid_0's multi_logloss: 0.52099\n",
      "[14]\tvalid_0's multi_logloss: 0.503601\n",
      "[15]\tvalid_0's multi_logloss: 0.48795\n",
      "[16]\tvalid_0's multi_logloss: 0.473824\n",
      "[17]\tvalid_0's multi_logloss: 0.461081\n",
      "[18]\tvalid_0's multi_logloss: 0.449598\n",
      "[19]\tvalid_0's multi_logloss: 0.439244\n",
      "[20]\tvalid_0's multi_logloss: 0.429915\n",
      "[21]\tvalid_0's multi_logloss: 0.421388\n",
      "[22]\tvalid_0's multi_logloss: 0.413707\n",
      "[23]\tvalid_0's multi_logloss: 0.406774\n",
      "[24]\tvalid_0's multi_logloss: 0.400461\n",
      "[25]\tvalid_0's multi_logloss: 0.394737\n",
      "[26]\tvalid_0's multi_logloss: 0.38947\n",
      "[27]\tvalid_0's multi_logloss: 0.384686\n",
      "[28]\tvalid_0's multi_logloss: 0.380372\n",
      "[29]\tvalid_0's multi_logloss: 0.376447\n",
      "[30]\tvalid_0's multi_logloss: 0.37287\n",
      "[31]\tvalid_0's multi_logloss: 0.36959\n",
      "[32]\tvalid_0's multi_logloss: 0.366618\n",
      "[33]\tvalid_0's multi_logloss: 0.363882\n",
      "[34]\tvalid_0's multi_logloss: 0.361397\n",
      "[35]\tvalid_0's multi_logloss: 0.359142\n",
      "[36]\tvalid_0's multi_logloss: 0.357055\n",
      "[37]\tvalid_0's multi_logloss: 0.355114\n",
      "[38]\tvalid_0's multi_logloss: 0.353336\n",
      "[39]\tvalid_0's multi_logloss: 0.351719\n",
      "[40]\tvalid_0's multi_logloss: 0.350268\n",
      "[41]\tvalid_0's multi_logloss: 0.348915\n",
      "[42]\tvalid_0's multi_logloss: 0.347717\n",
      "[43]\tvalid_0's multi_logloss: 0.346583\n",
      "[44]\tvalid_0's multi_logloss: 0.345558\n",
      "[45]\tvalid_0's multi_logloss: 0.344613\n",
      "[46]\tvalid_0's multi_logloss: 0.343757\n",
      "[47]\tvalid_0's multi_logloss: 0.342909\n",
      "[48]\tvalid_0's multi_logloss: 0.342141\n",
      "[49]\tvalid_0's multi_logloss: 0.341408\n",
      "[50]\tvalid_0's multi_logloss: 0.340783\n",
      "[51]\tvalid_0's multi_logloss: 0.340171\n",
      "[52]\tvalid_0's multi_logloss: 0.339626\n",
      "[53]\tvalid_0's multi_logloss: 0.339129\n",
      "[54]\tvalid_0's multi_logloss: 0.338671\n",
      "[55]\tvalid_0's multi_logloss: 0.338267\n",
      "[56]\tvalid_0's multi_logloss: 0.337848\n",
      "[57]\tvalid_0's multi_logloss: 0.337472\n",
      "[58]\tvalid_0's multi_logloss: 0.33715\n",
      "[59]\tvalid_0's multi_logloss: 0.336851\n",
      "[60]\tvalid_0's multi_logloss: 0.336597\n",
      "[61]\tvalid_0's multi_logloss: 0.336333\n",
      "[62]\tvalid_0's multi_logloss: 0.336143\n",
      "[63]\tvalid_0's multi_logloss: 0.335892\n",
      "[64]\tvalid_0's multi_logloss: 0.335684\n",
      "[65]\tvalid_0's multi_logloss: 0.335521\n",
      "[66]\tvalid_0's multi_logloss: 0.335331\n",
      "[67]\tvalid_0's multi_logloss: 0.33519\n",
      "[68]\tvalid_0's multi_logloss: 0.335048\n",
      "[69]\tvalid_0's multi_logloss: 0.334939\n",
      "[70]\tvalid_0's multi_logloss: 0.33481\n",
      "[71]\tvalid_0's multi_logloss: 0.334722\n",
      "[72]\tvalid_0's multi_logloss: 0.334666\n",
      "[73]\tvalid_0's multi_logloss: 0.334592\n",
      "[74]\tvalid_0's multi_logloss: 0.334503\n",
      "[75]\tvalid_0's multi_logloss: 0.334476\n",
      "[76]\tvalid_0's multi_logloss: 0.334418\n",
      "[77]\tvalid_0's multi_logloss: 0.334383\n",
      "[78]\tvalid_0's multi_logloss: 0.334286\n",
      "[79]\tvalid_0's multi_logloss: 0.334226\n",
      "[80]\tvalid_0's multi_logloss: 0.334185\n",
      "[81]\tvalid_0's multi_logloss: 0.334132\n",
      "[82]\tvalid_0's multi_logloss: 0.334113\n",
      "[83]\tvalid_0's multi_logloss: 0.334071\n",
      "[84]\tvalid_0's multi_logloss: 0.334039\n",
      "[85]\tvalid_0's multi_logloss: 0.333996\n",
      "[86]\tvalid_0's multi_logloss: 0.33397\n",
      "[87]\tvalid_0's multi_logloss: 0.33394\n",
      "[88]\tvalid_0's multi_logloss: 0.333927\n",
      "[89]\tvalid_0's multi_logloss: 0.333922\n",
      "[90]\tvalid_0's multi_logloss: 0.333899\n",
      "[91]\tvalid_0's multi_logloss: 0.333879\n",
      "[92]\tvalid_0's multi_logloss: 0.333859\n",
      "[93]\tvalid_0's multi_logloss: 0.33384\n",
      "[94]\tvalid_0's multi_logloss: 0.333866\n",
      "[95]\tvalid_0's multi_logloss: 0.333858\n",
      "[96]\tvalid_0's multi_logloss: 0.333821\n",
      "[97]\tvalid_0's multi_logloss: 0.333798\n",
      "[98]\tvalid_0's multi_logloss: 0.333812\n",
      "[99]\tvalid_0's multi_logloss: 0.333801\n",
      "[100]\tvalid_0's multi_logloss: 0.333794\n",
      "Did not meet early stopping. Best iteration is:\n",
      "[100]\tvalid_0's multi_logloss: 0.333794\n"
     ]
    }
   ],
   "source": [
    "model_eval, result_model = lgbm_model(X_data, y_data,params,  5)"
   ]
  },
  {
   "cell_type": "markdown",
   "metadata": {},
   "source": [
    "## 6.3 Model Results"
   ]
  },
  {
   "cell_type": "code",
   "execution_count": 94,
   "metadata": {},
   "outputs": [
    {
     "name": "stdout",
     "output_type": "stream",
     "text": [
      "Train Accuracy: 0.8782600378891736\n",
      "Train Log_loss: 0.28982670419187245\n",
      "\n",
      "Validation Accuracy: 0.8605919028391948\n",
      "Validation Log_loss: 0.33349248999680403\n"
     ]
    }
   ],
   "source": [
    "print(\"Train Accuracy:\",model_eval[0])\n",
    "print(\"Train Log_loss:\",model_eval[1])\n",
    "print()\n",
    "print(\"Validation Accuracy:\",model_eval[2])\n",
    "print(\"Validation Log_loss:\",model_eval[3])"
   ]
  },
  {
   "cell_type": "code",
   "execution_count": 95,
   "metadata": {
    "scrolled": true
   },
   "outputs": [
    {
     "name": "stdout",
     "output_type": "stream",
     "text": [
      "Following is the feature importance bar plot:\n"
     ]
    },
    {
     "data": {
      "text/plain": [
       "<matplotlib.axes._subplots.AxesSubplot at 0x1231c8c88>"
      ]
     },
     "execution_count": 95,
     "metadata": {},
     "output_type": "execute_result"
    },
    {
     "data": {
      "image/png": "[encoded data removed]",
      "text/plain": [
       "<Figure size 432x288 with 1 Axes>"
      ]
     },
     "metadata": {},
     "output_type": "display_data"
    }
   ],
   "source": [
    "print('Following is the feature importance bar plot:')\n",
    "(pd.Series(result_model.feature_importances_, index=X_lgbm.columns)\n",
    "   .nlargest(40)\n",
    "   .plot(kind='barh')) "
   ]
  },
  {
   "cell_type": "code",
   "execution_count": 85,
   "metadata": {},
   "outputs": [
    {
     "name": "stdout",
     "output_type": "stream",
     "text": [
      "Test Accuracy: 0.852411388727484\n",
      "Test Log_loss: 0.35307650325890827\n"
     ]
    }
   ],
   "source": [
    "y_pred = result_model.predict(X_test, num_iteration=result_model.best_iteration_)\n",
    "y_pred_proba = result_model.predict_proba(X_test, num_iteration=result_model.best_iteration_)\n",
    "print(\"Test Accuracy:\",metrics.accuracy_score(y_test, y_pred))\n",
    "print(\"Test Log_loss:\",metrics.log_loss(y_test, y_pred_proba))"
   ]
  },
  {
   "cell_type": "code",
   "execution_count": 38,
   "metadata": {},
   "outputs": [
    {
     "name": "stdout",
     "output_type": "stream",
     "text": [
      "Following is the accuracy per class for validation set:\n"
     ]
    },
    {
     "data": {
      "text/html": [
       "<div>\n",
       "<style scoped>\n",
       "    .dataframe tbody tr th:only-of-type {\n",
       "        vertical-align: middle;\n",
       "    }\n",
       "\n",
       "    .dataframe tbody tr th {\n",
       "        vertical-align: top;\n",
       "    }\n",
       "\n",
       "    .dataframe thead th {\n",
       "        text-align: right;\n",
       "    }\n",
       "</style>\n",
       "<table border=\"1\" class=\"dataframe\">\n",
       "  <thead>\n",
       "    <tr style=\"text-align: right;\">\n",
       "      <th></th>\n",
       "      <th>accuracy_per_class</th>\n",
       "    </tr>\n",
       "  </thead>\n",
       "  <tbody>\n",
       "    <tr>\n",
       "      <th>failed</th>\n",
       "      <td>94.624705</td>\n",
       "    </tr>\n",
       "    <tr>\n",
       "      <th>succeeded</th>\n",
       "      <td>79.427182</td>\n",
       "    </tr>\n",
       "    <tr>\n",
       "      <th>surged</th>\n",
       "      <td>59.459056</td>\n",
       "    </tr>\n",
       "  </tbody>\n",
       "</table>\n",
       "</div>"
      ],
      "text/plain": [
       "           accuracy_per_class\n",
       "failed              94.624705\n",
       "succeeded           79.427182\n",
       "surged              59.459056"
      ]
     },
     "execution_count": 38,
     "metadata": {},
     "output_type": "execute_result"
    }
   ],
   "source": [
    "cm = confusion_matrix(y_test, y_pred)\n",
    "accuracy_per_class = pd.DataFrame(((cm.astype('float') / cm.sum(axis=1)[:, np.newaxis]).diagonal())*100,\n",
    "                                 index=['failed', 'succeeded', 'surged'], columns=['accuracy_per_class'])\n",
    "print('Following is the accuracy per class for validation set:')\n",
    "accuracy_per_class"
   ]
  },
  {
   "cell_type": "code",
   "execution_count": 39,
   "metadata": {},
   "outputs": [
    {
     "name": "stdout",
     "output_type": "stream",
     "text": [
      "Following is the confusion matrix for the validation set:\n"
     ]
    },
    {
     "data": {
      "text/html": [
       "<div>\n",
       "<style scoped>\n",
       "    .dataframe tbody tr th:only-of-type {\n",
       "        vertical-align: middle;\n",
       "    }\n",
       "\n",
       "    .dataframe tbody tr th {\n",
       "        vertical-align: top;\n",
       "    }\n",
       "\n",
       "    .dataframe thead th {\n",
       "        text-align: right;\n",
       "    }\n",
       "</style>\n",
       "<table border=\"1\" class=\"dataframe\">\n",
       "  <thead>\n",
       "    <tr style=\"text-align: right;\">\n",
       "      <th></th>\n",
       "      <th>predicted_failed</th>\n",
       "      <th>predicted_succeeded</th>\n",
       "      <th>predicted_surged</th>\n",
       "    </tr>\n",
       "  </thead>\n",
       "  <tbody>\n",
       "    <tr>\n",
       "      <th>actual_failed</th>\n",
       "      <td>94.624705</td>\n",
       "      <td>5.022817</td>\n",
       "      <td>0.352478</td>\n",
       "    </tr>\n",
       "    <tr>\n",
       "      <th>actual_succeeded</th>\n",
       "      <td>11.198055</td>\n",
       "      <td>79.427182</td>\n",
       "      <td>9.374763</td>\n",
       "    </tr>\n",
       "    <tr>\n",
       "      <th>actual_surged</th>\n",
       "      <td>2.898984</td>\n",
       "      <td>37.641961</td>\n",
       "      <td>59.459056</td>\n",
       "    </tr>\n",
       "  </tbody>\n",
       "</table>\n",
       "</div>"
      ],
      "text/plain": [
       "                  predicted_failed  predicted_succeeded  predicted_surged\n",
       "actual_failed            94.624705             5.022817          0.352478\n",
       "actual_succeeded         11.198055            79.427182          9.374763\n",
       "actual_surged             2.898984            37.641961         59.459056"
      ]
     },
     "execution_count": 39,
     "metadata": {},
     "output_type": "execute_result"
    }
   ],
   "source": [
    "print('Following is the confusion matrix for the validation set:')\n",
    "cm_df = pd.DataFrame(((cm.astype('float') / cm.sum(axis=1)[:, np.newaxis]))*100, index=['actual_failed', 'actual_succeeded', 'actual_surged'],\n",
    "            columns=['predicted_failed', 'predicted_succeeded', 'predicted_surged'])\n",
    "cm_df"
   ]
  },
  {
   "cell_type": "markdown",
   "metadata": {},
   "source": [
    "## 6.4 Summary of Model Results\n",
    "The highest accuracy of the test model on the testing data was ~86%. Model does not overfit as train, validation and test accuracys are ~87%, ~86% and ~86%."
   ]
  },
  {
   "cell_type": "markdown",
   "metadata": {},
   "source": [
    "## 6.5 Test out model w SMOTE (Oversampling)"
   ]
  },
  {
   "cell_type": "markdown",
   "metadata": {},
   "source": [
    "In an attempt to boost accuracy, I want to try oversampling classes that are less represented in the dataset. I hypthesize that this may cause some overfitting in the model as I will only oversample in the train set, however, it may boost the accuracy of the model via lightGBM\n",
    "\n",
    "\n",
    "SMOTE only works with numerical data. So I will only using numerical features to understand if it makes a difference in the accuracy"
   ]
  },
  {
   "cell_type": "markdown",
   "metadata": {},
   "source": [
    "I have tried two approaches to oversampling. However, the code only shows the second approach as I deleted the code for the second. Here are the approaches:\n",
    "\n",
    "\n",
    "**1)** Over sampling only the surged rows in the training data. I oversampled the surged rows in the training set from 26,818 to 50,000. This increased the accuracy of the training dataset from ~86% to ~88%. But, the testing accuracy dropped to ~83%.\n",
    "\n",
    "**2)** Over sampling all rows and classes. Training dataset grew from 206,516 to 378,915. The training and testing accuracy reduced from ~87% and ~87% to ~82% and ~83%."
   ]
  },
  {
   "cell_type": "code",
   "execution_count": 41,
   "metadata": {
    "scrolled": true
   },
   "outputs": [
    {
     "name": "stderr",
     "output_type": "stream",
     "text": [
      "/Users/joashc/anaconda3/lib/python3.6/site-packages/sklearn/preprocessing/data.py:323: DataConversionWarning: Data with input dtype int64, float64 were all converted to float64 by MinMaxScaler.\n",
      "  return self.partial_fit(X, y)\n"
     ]
    }
   ],
   "source": [
    "numeric_features = ['goal', 'backers', 'usd_goal_real', 'name_length',\n",
    "                   'name_num_words', 'launch_month', 'duration_launched_month',\n",
    "                   'launch_year', 'usd_goal_per_backer', 'deadline_year', 'deadline_month',\n",
    "                   'usd_goal_per_month', 'usd_goal_per_month_per_backer',\n",
    "                   'backers_per_month']\n",
    "\n",
    "y = data_v3['new_state']\n",
    "numerical_data = data_v3[numeric_features]\n",
    "scaler = MinMaxScaler()\n",
    "numerical_data_scaled = pd.DataFrame(scaler.fit_transform(numerical_data), columns = numerical_data.columns)"
   ]
  },
  {
   "cell_type": "code",
   "execution_count": 42,
   "metadata": {},
   "outputs": [
    {
     "name": "stdout",
     "output_type": "stream",
     "text": [
      "Shape of train & validation set is: (206516, 14)\n",
      "Shape of testing set is: (51630, 14)\n"
     ]
    }
   ],
   "source": [
    "X_data, X_test, y_data, y_test = train_test_split(numerical_data_scaled, y, test_size=0.2, random_state=42) #Updated\n",
    "print('Shape of train & validation set is:', X_data.shape)  \n",
    "print('Shape of testing set is:', X_test.shape)"
   ]
  },
  {
   "cell_type": "markdown",
   "metadata": {},
   "source": [
    "### 6.5.1 Apply SMOTE on train set"
   ]
  },
  {
   "cell_type": "code",
   "execution_count": 43,
   "metadata": {},
   "outputs": [
    {
     "name": "stdout",
     "output_type": "stream",
     "text": [
      "Number of rows of oversampled data is  378915\n",
      "The numbe of rows that have failed, succeeded and surged as class variables are all 101009. View the value counts of the class variable:\n"
     ]
    },
    {
     "data": {
      "text/plain": [
       "2    126305\n",
       "1    126305\n",
       "0    126305\n",
       "Name: new_state, dtype: int64"
      ]
     },
     "execution_count": 43,
     "metadata": {},
     "output_type": "execute_result"
    }
   ],
   "source": [
    "os = SMOTE(random_state=0)\n",
    "os_data_X,os_data_y=os.fit_sample(X_data, y_data)\n",
    "os_data_X = pd.DataFrame(data=os_data_X,columns=X_data.columns)\n",
    "os_data_y= pd.DataFrame(data=os_data_y,columns=['new_state'])\n",
    "\n",
    "# we can Check the numbers of our data\n",
    "print(\"Number of rows of oversampled data is \",len(os_data_X))\n",
    "print('The numbe of rows that have failed, succeeded and surged as class variables are all 126305. View the value counts of the class variable:')\n",
    "os_data_y['new_state'].value_counts()"
   ]
  },
  {
   "cell_type": "markdown",
   "metadata": {},
   "source": [
    "### 6.5.2 Train lightGBM model with SMOTE data"
   ]
  },
  {
   "cell_type": "code",
   "execution_count": 65,
   "metadata": {},
   "outputs": [],
   "source": [
    "def lgbm_model_smote(X_data, y_data, n_folds, random_state=None):\n",
    "    n_folds = KFold(n_splits=n_folds, random_state=random_state)\n",
    "    X_data = X_data.reset_index(drop=True)\n",
    "    y_data = y_data.reset_index(drop=True)\n",
    "\n",
    "    params = {'learning_rate':0.09,\n",
    "         'boosting_type': 'gbdt',\n",
    "         'num_class':3,\n",
    "         'objective':'multiclass',\n",
    "         'metric': 'multi_logloss',\n",
    "          'max_depth': 10,\n",
    "          'reg_alpha': 0.5,\n",
    "          'reg_lambda': 0.5,\n",
    "          'n_estimators': 100,\n",
    "         'num_leaves': 80,\n",
    "         'min_split_gain': 0.1,\n",
    "         'min_child_samples': 20}\n",
    "    \n",
    "    train_accuracy = []\n",
    "    train_loss = []\n",
    "    validation_accuracy = []\n",
    "    validation_loss = []\n",
    "    \n",
    "    for train_index, validate_index in n_folds.split(X_data):\n",
    "        \n",
    "        X_train, X_validate = X_data.iloc[train_index], X_data.iloc[validate_index]\n",
    "        y_train, y_validate = y_data.iloc[train_index], y_data.iloc[validate_index]\n",
    "        \n",
    "        \n",
    "        lgb_model = lgb.LGBMClassifier(**params, n_jobs=4)\n",
    "        \n",
    "        # train the model\n",
    "        lgb_model.fit(X_train, y_train, early_stopping_rounds=100, \n",
    "                      eval_set=(X_validate, y_validate), eval_metric='multi_logloss')\n",
    "\n",
    "        # get train accuracy and loss\n",
    "        y_train_pred = lgb_model.predict(X_train, num_iteration=lgb_model.best_iteration_)\n",
    "        y_train_pred_proba = lgb_model.predict_proba(X_train, num_iteration=lgb_model.best_iteration_)\n",
    "\n",
    "        # get validation accuracy and loss\n",
    "        y_pred = lgb_model.predict(X_validate, num_iteration=lgb_model.best_iteration_)\n",
    "        y_pred_proba = lgb_model.predict_proba(X_validate, num_iteration=lgb_model.best_iteration_)\n",
    "\n",
    "        train_accuracy.append(metrics.accuracy_score(y_train, y_train_pred))\n",
    "\n",
    "        validation_accuracy.append(metrics.accuracy_score(y_validate, y_pred))   \n",
    "    \n",
    "    \n",
    "    return [pd.DataFrame(train_accuracy).mean().values[0], \n",
    "            pd.DataFrame(validation_accuracy).mean().values[0]], lgb_model"
   ]
  },
  {
   "cell_type": "code",
   "execution_count": 66,
   "metadata": {
    "scrolled": true
   },
   "outputs": [
    {
     "name": "stderr",
     "output_type": "stream",
     "text": [
      "/Users/joashc/anaconda3/lib/python3.6/site-packages/sklearn/preprocessing/label.py:219: DataConversionWarning: A column-vector y was passed when a 1d array was expected. Please change the shape of y to (n_samples, ), for example using ravel().\n",
      "  y = column_or_1d(y, warn=True)\n",
      "/Users/joashc/anaconda3/lib/python3.6/site-packages/sklearn/preprocessing/label.py:252: DataConversionWarning: A column-vector y was passed when a 1d array was expected. Please change the shape of y to (n_samples, ), for example using ravel().\n",
      "  y = column_or_1d(y, warn=True)\n",
      "/Users/joashc/anaconda3/lib/python3.6/site-packages/sklearn/preprocessing/label.py:252: DataConversionWarning: A column-vector y was passed when a 1d array was expected. Please change the shape of y to (n_samples, ), for example using ravel().\n",
      "  y = column_or_1d(y, warn=True)\n"
     ]
    },
    {
     "name": "stdout",
     "output_type": "stream",
     "text": [
      "[1]\tvalid_0's multi_logloss: 1.01362\n",
      "Training until validation scores don't improve for 100 rounds.\n",
      "[2]\tvalid_0's multi_logloss: 0.941679\n",
      "[3]\tvalid_0's multi_logloss: 0.880011\n",
      "[4]\tvalid_0's multi_logloss: 0.826811\n",
      "[5]\tvalid_0's multi_logloss: 0.780538\n",
      "[6]\tvalid_0's multi_logloss: 0.739983\n",
      "[7]\tvalid_0's multi_logloss: 0.70436\n",
      "[8]\tvalid_0's multi_logloss: 0.672948\n",
      "[9]\tvalid_0's multi_logloss: 0.645181\n",
      "[10]\tvalid_0's multi_logloss: 0.620503\n",
      "[11]\tvalid_0's multi_logloss: 0.598608\n",
      "[12]\tvalid_0's multi_logloss: 0.579091\n",
      "[13]\tvalid_0's multi_logloss: 0.561693\n",
      "[14]\tvalid_0's multi_logloss: 0.546068\n",
      "[15]\tvalid_0's multi_logloss: 0.532139\n",
      "[16]\tvalid_0's multi_logloss: 0.519678\n",
      "[17]\tvalid_0's multi_logloss: 0.508464\n",
      "[18]\tvalid_0's multi_logloss: 0.498445\n",
      "[19]\tvalid_0's multi_logloss: 0.489361\n",
      "[20]\tvalid_0's multi_logloss: 0.481167\n",
      "[21]\tvalid_0's multi_logloss: 0.473806\n",
      "[22]\tvalid_0's multi_logloss: 0.467163\n",
      "[23]\tvalid_0's multi_logloss: 0.46119\n",
      "[24]\tvalid_0's multi_logloss: 0.45579\n",
      "[25]\tvalid_0's multi_logloss: 0.45096\n",
      "[26]\tvalid_0's multi_logloss: 0.446493\n",
      "[27]\tvalid_0's multi_logloss: 0.442477\n",
      "[28]\tvalid_0's multi_logloss: 0.438826\n",
      "[29]\tvalid_0's multi_logloss: 0.435489\n",
      "[30]\tvalid_0's multi_logloss: 0.432481\n",
      "[31]\tvalid_0's multi_logloss: 0.429744\n",
      "[32]\tvalid_0's multi_logloss: 0.427289\n",
      "[33]\tvalid_0's multi_logloss: 0.424967\n",
      "[34]\tvalid_0's multi_logloss: 0.422904\n",
      "[35]\tvalid_0's multi_logloss: 0.421046\n",
      "[36]\tvalid_0's multi_logloss: 0.419312\n",
      "[37]\tvalid_0's multi_logloss: 0.417678\n",
      "[38]\tvalid_0's multi_logloss: 0.41623\n",
      "[39]\tvalid_0's multi_logloss: 0.414818\n",
      "[40]\tvalid_0's multi_logloss: 0.413612\n",
      "[41]\tvalid_0's multi_logloss: 0.412405\n",
      "[42]\tvalid_0's multi_logloss: 0.411229\n",
      "[43]\tvalid_0's multi_logloss: 0.410195\n",
      "[44]\tvalid_0's multi_logloss: 0.409322\n",
      "[45]\tvalid_0's multi_logloss: 0.408371\n",
      "[46]\tvalid_0's multi_logloss: 0.407484\n",
      "[47]\tvalid_0's multi_logloss: 0.406703\n",
      "[48]\tvalid_0's multi_logloss: 0.405963\n",
      "[49]\tvalid_0's multi_logloss: 0.405342\n",
      "[50]\tvalid_0's multi_logloss: 0.404649\n",
      "[51]\tvalid_0's multi_logloss: 0.404097\n",
      "[52]\tvalid_0's multi_logloss: 0.403455\n",
      "[53]\tvalid_0's multi_logloss: 0.403\n",
      "[54]\tvalid_0's multi_logloss: 0.40262\n",
      "[55]\tvalid_0's multi_logloss: 0.402191\n",
      "[56]\tvalid_0's multi_logloss: 0.401625\n",
      "[57]\tvalid_0's multi_logloss: 0.401257\n",
      "[58]\tvalid_0's multi_logloss: 0.400829\n",
      "[59]\tvalid_0's multi_logloss: 0.400483\n",
      "[60]\tvalid_0's multi_logloss: 0.400196\n",
      "[61]\tvalid_0's multi_logloss: 0.399891\n",
      "[62]\tvalid_0's multi_logloss: 0.399498\n",
      "[63]\tvalid_0's multi_logloss: 0.399068\n",
      "[64]\tvalid_0's multi_logloss: 0.39879\n",
      "[65]\tvalid_0's multi_logloss: 0.398394\n",
      "[66]\tvalid_0's multi_logloss: 0.39814\n",
      "[67]\tvalid_0's multi_logloss: 0.397858\n",
      "[68]\tvalid_0's multi_logloss: 0.397436\n",
      "[69]\tvalid_0's multi_logloss: 0.39721\n",
      "[70]\tvalid_0's multi_logloss: 0.396953\n",
      "[71]\tvalid_0's multi_logloss: 0.396707\n",
      "[72]\tvalid_0's multi_logloss: 0.396473\n",
      "[73]\tvalid_0's multi_logloss: 0.396213\n",
      "[74]\tvalid_0's multi_logloss: 0.396016\n",
      "[75]\tvalid_0's multi_logloss: 0.395576\n",
      "[76]\tvalid_0's multi_logloss: 0.395363\n",
      "[77]\tvalid_0's multi_logloss: 0.395138\n",
      "[78]\tvalid_0's multi_logloss: 0.394901\n",
      "[79]\tvalid_0's multi_logloss: 0.394774\n",
      "[80]\tvalid_0's multi_logloss: 0.394528\n",
      "[81]\tvalid_0's multi_logloss: 0.394267\n",
      "[82]\tvalid_0's multi_logloss: 0.394015\n",
      "[83]\tvalid_0's multi_logloss: 0.39382\n",
      "[84]\tvalid_0's multi_logloss: 0.393612\n",
      "[85]\tvalid_0's multi_logloss: 0.393262\n",
      "[86]\tvalid_0's multi_logloss: 0.393049\n",
      "[87]\tvalid_0's multi_logloss: 0.392857\n",
      "[88]\tvalid_0's multi_logloss: 0.392484\n",
      "[89]\tvalid_0's multi_logloss: 0.392313\n",
      "[90]\tvalid_0's multi_logloss: 0.392143\n",
      "[91]\tvalid_0's multi_logloss: 0.391835\n",
      "[92]\tvalid_0's multi_logloss: 0.391469\n",
      "[93]\tvalid_0's multi_logloss: 0.391217\n",
      "[94]\tvalid_0's multi_logloss: 0.391043\n",
      "[95]\tvalid_0's multi_logloss: 0.390666\n",
      "[96]\tvalid_0's multi_logloss: 0.390502\n",
      "[97]\tvalid_0's multi_logloss: 0.390356\n",
      "[98]\tvalid_0's multi_logloss: 0.390105\n",
      "[99]\tvalid_0's multi_logloss: 0.389958\n",
      "[100]\tvalid_0's multi_logloss: 0.389748\n",
      "Did not meet early stopping. Best iteration is:\n",
      "[100]\tvalid_0's multi_logloss: 0.389748\n"
     ]
    },
    {
     "name": "stderr",
     "output_type": "stream",
     "text": [
      "/Users/joashc/anaconda3/lib/python3.6/site-packages/sklearn/preprocessing/label.py:219: DataConversionWarning: A column-vector y was passed when a 1d array was expected. Please change the shape of y to (n_samples, ), for example using ravel().\n",
      "  y = column_or_1d(y, warn=True)\n",
      "/Users/joashc/anaconda3/lib/python3.6/site-packages/sklearn/preprocessing/label.py:252: DataConversionWarning: A column-vector y was passed when a 1d array was expected. Please change the shape of y to (n_samples, ), for example using ravel().\n",
      "  y = column_or_1d(y, warn=True)\n",
      "/Users/joashc/anaconda3/lib/python3.6/site-packages/sklearn/preprocessing/label.py:252: DataConversionWarning: A column-vector y was passed when a 1d array was expected. Please change the shape of y to (n_samples, ), for example using ravel().\n",
      "  y = column_or_1d(y, warn=True)\n"
     ]
    },
    {
     "name": "stdout",
     "output_type": "stream",
     "text": [
      "[1]\tvalid_0's multi_logloss: 1.01341\n",
      "Training until validation scores don't improve for 100 rounds.\n",
      "[2]\tvalid_0's multi_logloss: 0.941279\n",
      "[3]\tvalid_0's multi_logloss: 0.879507\n",
      "[4]\tvalid_0's multi_logloss: 0.826139\n",
      "[5]\tvalid_0's multi_logloss: 0.779655\n",
      "[6]\tvalid_0's multi_logloss: 0.738978\n",
      "[7]\tvalid_0's multi_logloss: 0.703199\n",
      "[8]\tvalid_0's multi_logloss: 0.67166\n",
      "[9]\tvalid_0's multi_logloss: 0.643698\n",
      "[10]\tvalid_0's multi_logloss: 0.618925\n",
      "[11]\tvalid_0's multi_logloss: 0.596888\n",
      "[12]\tvalid_0's multi_logloss: 0.577333\n",
      "[13]\tvalid_0's multi_logloss: 0.559873\n",
      "[14]\tvalid_0's multi_logloss: 0.544192\n",
      "[15]\tvalid_0's multi_logloss: 0.530172\n",
      "[16]\tvalid_0's multi_logloss: 0.517646\n",
      "[17]\tvalid_0's multi_logloss: 0.506379\n",
      "[18]\tvalid_0's multi_logloss: 0.496251\n",
      "[19]\tvalid_0's multi_logloss: 0.487167\n",
      "[20]\tvalid_0's multi_logloss: 0.478951\n",
      "[21]\tvalid_0's multi_logloss: 0.471599\n",
      "[22]\tvalid_0's multi_logloss: 0.464945\n",
      "[23]\tvalid_0's multi_logloss: 0.458899\n",
      "[24]\tvalid_0's multi_logloss: 0.453474\n",
      "[25]\tvalid_0's multi_logloss: 0.448591\n",
      "[26]\tvalid_0's multi_logloss: 0.444092\n",
      "[27]\tvalid_0's multi_logloss: 0.440052\n",
      "[28]\tvalid_0's multi_logloss: 0.436335\n",
      "[29]\tvalid_0's multi_logloss: 0.432917\n",
      "[30]\tvalid_0's multi_logloss: 0.429841\n",
      "[31]\tvalid_0's multi_logloss: 0.427088\n",
      "[32]\tvalid_0's multi_logloss: 0.424595\n",
      "[33]\tvalid_0's multi_logloss: 0.422342\n",
      "[34]\tvalid_0's multi_logloss: 0.420269\n",
      "[35]\tvalid_0's multi_logloss: 0.418354\n",
      "[36]\tvalid_0's multi_logloss: 0.416617\n",
      "[37]\tvalid_0's multi_logloss: 0.414969\n",
      "[38]\tvalid_0's multi_logloss: 0.413352\n",
      "[39]\tvalid_0's multi_logloss: 0.411961\n",
      "[40]\tvalid_0's multi_logloss: 0.410656\n",
      "[41]\tvalid_0's multi_logloss: 0.409429\n",
      "[42]\tvalid_0's multi_logloss: 0.408338\n",
      "[43]\tvalid_0's multi_logloss: 0.40736\n",
      "[44]\tvalid_0's multi_logloss: 0.406386\n",
      "[45]\tvalid_0's multi_logloss: 0.405611\n",
      "[46]\tvalid_0's multi_logloss: 0.404698\n",
      "[47]\tvalid_0's multi_logloss: 0.40398\n",
      "[48]\tvalid_0's multi_logloss: 0.403251\n",
      "[49]\tvalid_0's multi_logloss: 0.402631\n",
      "[50]\tvalid_0's multi_logloss: 0.401945\n",
      "[51]\tvalid_0's multi_logloss: 0.401445\n",
      "[52]\tvalid_0's multi_logloss: 0.400931\n",
      "[53]\tvalid_0's multi_logloss: 0.400337\n",
      "[54]\tvalid_0's multi_logloss: 0.399887\n",
      "[55]\tvalid_0's multi_logloss: 0.399461\n",
      "[56]\tvalid_0's multi_logloss: 0.3991\n",
      "[57]\tvalid_0's multi_logloss: 0.398628\n",
      "[58]\tvalid_0's multi_logloss: 0.398337\n",
      "[59]\tvalid_0's multi_logloss: 0.39801\n",
      "[60]\tvalid_0's multi_logloss: 0.397634\n",
      "[61]\tvalid_0's multi_logloss: 0.397377\n",
      "[62]\tvalid_0's multi_logloss: 0.397142\n",
      "[63]\tvalid_0's multi_logloss: 0.396907\n",
      "[64]\tvalid_0's multi_logloss: 0.396451\n",
      "[65]\tvalid_0's multi_logloss: 0.396222\n",
      "[66]\tvalid_0's multi_logloss: 0.395908\n",
      "[67]\tvalid_0's multi_logloss: 0.395476\n",
      "[68]\tvalid_0's multi_logloss: 0.395155\n",
      "[69]\tvalid_0's multi_logloss: 0.394871\n",
      "[70]\tvalid_0's multi_logloss: 0.394621\n",
      "[71]\tvalid_0's multi_logloss: 0.394382\n",
      "[72]\tvalid_0's multi_logloss: 0.394165\n",
      "[73]\tvalid_0's multi_logloss: 0.393841\n",
      "[74]\tvalid_0's multi_logloss: 0.393599\n",
      "[75]\tvalid_0's multi_logloss: 0.393326\n",
      "[76]\tvalid_0's multi_logloss: 0.393132\n",
      "[77]\tvalid_0's multi_logloss: 0.392888\n",
      "[78]\tvalid_0's multi_logloss: 0.392413\n",
      "[79]\tvalid_0's multi_logloss: 0.392213\n",
      "[80]\tvalid_0's multi_logloss: 0.392033\n",
      "[81]\tvalid_0's multi_logloss: 0.391743\n",
      "[82]\tvalid_0's multi_logloss: 0.391433\n",
      "[83]\tvalid_0's multi_logloss: 0.391136\n",
      "[84]\tvalid_0's multi_logloss: 0.390876\n",
      "[85]\tvalid_0's multi_logloss: 0.39055\n",
      "[86]\tvalid_0's multi_logloss: 0.390311\n",
      "[87]\tvalid_0's multi_logloss: 0.390118\n",
      "[88]\tvalid_0's multi_logloss: 0.389737\n",
      "[89]\tvalid_0's multi_logloss: 0.389586\n",
      "[90]\tvalid_0's multi_logloss: 0.389358\n",
      "[91]\tvalid_0's multi_logloss: 0.389203\n",
      "[92]\tvalid_0's multi_logloss: 0.388841\n",
      "[93]\tvalid_0's multi_logloss: 0.388605\n",
      "[94]\tvalid_0's multi_logloss: 0.388448\n",
      "[95]\tvalid_0's multi_logloss: 0.388245\n",
      "[96]\tvalid_0's multi_logloss: 0.3881\n",
      "[97]\tvalid_0's multi_logloss: 0.387746\n",
      "[98]\tvalid_0's multi_logloss: 0.387628\n",
      "[99]\tvalid_0's multi_logloss: 0.387388\n",
      "[100]\tvalid_0's multi_logloss: 0.387172\n",
      "Did not meet early stopping. Best iteration is:\n",
      "[100]\tvalid_0's multi_logloss: 0.387172\n"
     ]
    },
    {
     "name": "stderr",
     "output_type": "stream",
     "text": [
      "/Users/joashc/anaconda3/lib/python3.6/site-packages/sklearn/preprocessing/label.py:219: DataConversionWarning: A column-vector y was passed when a 1d array was expected. Please change the shape of y to (n_samples, ), for example using ravel().\n",
      "  y = column_or_1d(y, warn=True)\n",
      "/Users/joashc/anaconda3/lib/python3.6/site-packages/sklearn/preprocessing/label.py:252: DataConversionWarning: A column-vector y was passed when a 1d array was expected. Please change the shape of y to (n_samples, ), for example using ravel().\n",
      "  y = column_or_1d(y, warn=True)\n",
      "/Users/joashc/anaconda3/lib/python3.6/site-packages/sklearn/preprocessing/label.py:252: DataConversionWarning: A column-vector y was passed when a 1d array was expected. Please change the shape of y to (n_samples, ), for example using ravel().\n",
      "  y = column_or_1d(y, warn=True)\n"
     ]
    },
    {
     "name": "stdout",
     "output_type": "stream",
     "text": [
      "[1]\tvalid_0's multi_logloss: 1.02346\n",
      "Training until validation scores don't improve for 100 rounds.\n",
      "[2]\tvalid_0's multi_logloss: 0.959492\n",
      "[3]\tvalid_0's multi_logloss: 0.904442\n",
      "[4]\tvalid_0's multi_logloss: 0.856594\n",
      "[5]\tvalid_0's multi_logloss: 0.814913\n",
      "[6]\tvalid_0's multi_logloss: 0.778218\n",
      "[7]\tvalid_0's multi_logloss: 0.745835\n",
      "[8]\tvalid_0's multi_logloss: 0.717192\n",
      "[9]\tvalid_0's multi_logloss: 0.691691\n",
      "[10]\tvalid_0's multi_logloss: 0.669007\n",
      "[11]\tvalid_0's multi_logloss: 0.648761\n",
      "[12]\tvalid_0's multi_logloss: 0.630735\n",
      "[13]\tvalid_0's multi_logloss: 0.614613\n",
      "[14]\tvalid_0's multi_logloss: 0.60011\n",
      "[15]\tvalid_0's multi_logloss: 0.58713\n",
      "[16]\tvalid_0's multi_logloss: 0.575397\n",
      "[17]\tvalid_0's multi_logloss: 0.564827\n",
      "[18]\tvalid_0's multi_logloss: 0.555371\n",
      "[19]\tvalid_0's multi_logloss: 0.546755\n",
      "[20]\tvalid_0's multi_logloss: 0.538915\n",
      "[21]\tvalid_0's multi_logloss: 0.531844\n",
      "[22]\tvalid_0's multi_logloss: 0.525449\n",
      "[23]\tvalid_0's multi_logloss: 0.519627\n",
      "[24]\tvalid_0's multi_logloss: 0.514331\n",
      "[25]\tvalid_0's multi_logloss: 0.509536\n",
      "[26]\tvalid_0's multi_logloss: 0.505121\n",
      "[27]\tvalid_0's multi_logloss: 0.501152\n",
      "[28]\tvalid_0's multi_logloss: 0.497544\n",
      "[29]\tvalid_0's multi_logloss: 0.494087\n",
      "[30]\tvalid_0's multi_logloss: 0.490984\n",
      "[31]\tvalid_0's multi_logloss: 0.488155\n",
      "[32]\tvalid_0's multi_logloss: 0.48554\n",
      "[33]\tvalid_0's multi_logloss: 0.483179\n",
      "[34]\tvalid_0's multi_logloss: 0.480999\n",
      "[35]\tvalid_0's multi_logloss: 0.479016\n",
      "[36]\tvalid_0's multi_logloss: 0.477112\n",
      "[37]\tvalid_0's multi_logloss: 0.475375\n",
      "[38]\tvalid_0's multi_logloss: 0.473751\n",
      "[39]\tvalid_0's multi_logloss: 0.47231\n",
      "[40]\tvalid_0's multi_logloss: 0.470896\n",
      "[41]\tvalid_0's multi_logloss: 0.469589\n",
      "[42]\tvalid_0's multi_logloss: 0.468382\n",
      "[43]\tvalid_0's multi_logloss: 0.46715\n",
      "[44]\tvalid_0's multi_logloss: 0.46594\n",
      "[45]\tvalid_0's multi_logloss: 0.464955\n",
      "[46]\tvalid_0's multi_logloss: 0.464017\n",
      "[47]\tvalid_0's multi_logloss: 0.463112\n",
      "[48]\tvalid_0's multi_logloss: 0.462295\n",
      "[49]\tvalid_0's multi_logloss: 0.461451\n",
      "[50]\tvalid_0's multi_logloss: 0.460722\n",
      "[51]\tvalid_0's multi_logloss: 0.460067\n",
      "[52]\tvalid_0's multi_logloss: 0.459401\n",
      "[53]\tvalid_0's multi_logloss: 0.458758\n",
      "[54]\tvalid_0's multi_logloss: 0.458135\n",
      "[55]\tvalid_0's multi_logloss: 0.457449\n",
      "[56]\tvalid_0's multi_logloss: 0.456877\n",
      "[57]\tvalid_0's multi_logloss: 0.456237\n",
      "[58]\tvalid_0's multi_logloss: 0.455717\n",
      "[59]\tvalid_0's multi_logloss: 0.455047\n",
      "[60]\tvalid_0's multi_logloss: 0.454617\n",
      "[61]\tvalid_0's multi_logloss: 0.454151\n",
      "[62]\tvalid_0's multi_logloss: 0.453618\n",
      "[63]\tvalid_0's multi_logloss: 0.453141\n",
      "[64]\tvalid_0's multi_logloss: 0.452837\n",
      "[65]\tvalid_0's multi_logloss: 0.452367\n",
      "[66]\tvalid_0's multi_logloss: 0.452013\n",
      "[67]\tvalid_0's multi_logloss: 0.451616\n",
      "[68]\tvalid_0's multi_logloss: 0.451338\n",
      "[69]\tvalid_0's multi_logloss: 0.451066\n",
      "[70]\tvalid_0's multi_logloss: 0.450809\n",
      "[71]\tvalid_0's multi_logloss: 0.450416\n",
      "[72]\tvalid_0's multi_logloss: 0.450122\n",
      "[73]\tvalid_0's multi_logloss: 0.449906\n",
      "[74]\tvalid_0's multi_logloss: 0.449537\n",
      "[75]\tvalid_0's multi_logloss: 0.449318\n",
      "[76]\tvalid_0's multi_logloss: 0.449034\n",
      "[77]\tvalid_0's multi_logloss: 0.448791\n",
      "[78]\tvalid_0's multi_logloss: 0.448507\n",
      "[79]\tvalid_0's multi_logloss: 0.448201\n",
      "[80]\tvalid_0's multi_logloss: 0.447861\n",
      "[81]\tvalid_0's multi_logloss: 0.447671\n",
      "[82]\tvalid_0's multi_logloss: 0.447376\n",
      "[83]\tvalid_0's multi_logloss: 0.447091\n",
      "[84]\tvalid_0's multi_logloss: 0.446874\n",
      "[85]\tvalid_0's multi_logloss: 0.446734\n",
      "[86]\tvalid_0's multi_logloss: 0.44652\n",
      "[87]\tvalid_0's multi_logloss: 0.446359\n",
      "[88]\tvalid_0's multi_logloss: 0.446077\n",
      "[89]\tvalid_0's multi_logloss: 0.44573\n",
      "[90]\tvalid_0's multi_logloss: 0.445579\n",
      "[91]\tvalid_0's multi_logloss: 0.445311\n",
      "[92]\tvalid_0's multi_logloss: 0.445174\n",
      "[93]\tvalid_0's multi_logloss: 0.444993\n",
      "[94]\tvalid_0's multi_logloss: 0.444721\n",
      "[95]\tvalid_0's multi_logloss: 0.444573\n",
      "[96]\tvalid_0's multi_logloss: 0.444347\n",
      "[97]\tvalid_0's multi_logloss: 0.444209\n",
      "[98]\tvalid_0's multi_logloss: 0.443937\n",
      "[99]\tvalid_0's multi_logloss: 0.443737\n",
      "[100]\tvalid_0's multi_logloss: 0.443624\n",
      "Did not meet early stopping. Best iteration is:\n",
      "[100]\tvalid_0's multi_logloss: 0.443624\n"
     ]
    },
    {
     "name": "stderr",
     "output_type": "stream",
     "text": [
      "/Users/joashc/anaconda3/lib/python3.6/site-packages/sklearn/preprocessing/label.py:219: DataConversionWarning: A column-vector y was passed when a 1d array was expected. Please change the shape of y to (n_samples, ), for example using ravel().\n",
      "  y = column_or_1d(y, warn=True)\n",
      "/Users/joashc/anaconda3/lib/python3.6/site-packages/sklearn/preprocessing/label.py:252: DataConversionWarning: A column-vector y was passed when a 1d array was expected. Please change the shape of y to (n_samples, ), for example using ravel().\n",
      "  y = column_or_1d(y, warn=True)\n",
      "/Users/joashc/anaconda3/lib/python3.6/site-packages/sklearn/preprocessing/label.py:252: DataConversionWarning: A column-vector y was passed when a 1d array was expected. Please change the shape of y to (n_samples, ), for example using ravel().\n",
      "  y = column_or_1d(y, warn=True)\n"
     ]
    },
    {
     "name": "stdout",
     "output_type": "stream",
     "text": [
      "[1]\tvalid_0's multi_logloss: 1.04687\n",
      "Training until validation scores don't improve for 100 rounds.\n",
      "[2]\tvalid_0's multi_logloss: 1.00172\n",
      "[3]\tvalid_0's multi_logloss: 0.962345\n",
      "[4]\tvalid_0's multi_logloss: 0.92774\n",
      "[5]\tvalid_0's multi_logloss: 0.897194\n",
      "[6]\tvalid_0's multi_logloss: 0.87023\n",
      "[7]\tvalid_0's multi_logloss: 0.846156\n",
      "[8]\tvalid_0's multi_logloss: 0.824557\n",
      "[9]\tvalid_0's multi_logloss: 0.805375\n",
      "[10]\tvalid_0's multi_logloss: 0.788465\n",
      "[11]\tvalid_0's multi_logloss: 0.773086\n",
      "[12]\tvalid_0's multi_logloss: 0.759409\n",
      "[13]\tvalid_0's multi_logloss: 0.7467\n",
      "[14]\tvalid_0's multi_logloss: 0.735526\n",
      "[15]\tvalid_0's multi_logloss: 0.725364\n",
      "[16]\tvalid_0's multi_logloss: 0.716197\n",
      "[17]\tvalid_0's multi_logloss: 0.707689\n",
      "[18]\tvalid_0's multi_logloss: 0.700106\n",
      "[19]\tvalid_0's multi_logloss: 0.693131\n",
      "[20]\tvalid_0's multi_logloss: 0.68726\n",
      "[21]\tvalid_0's multi_logloss: 0.681647\n",
      "[22]\tvalid_0's multi_logloss: 0.676456\n",
      "[23]\tvalid_0's multi_logloss: 0.671683\n",
      "[24]\tvalid_0's multi_logloss: 0.6675\n",
      "[25]\tvalid_0's multi_logloss: 0.663598\n",
      "[26]\tvalid_0's multi_logloss: 0.660168\n",
      "[27]\tvalid_0's multi_logloss: 0.656516\n",
      "[28]\tvalid_0's multi_logloss: 0.653284\n",
      "[29]\tvalid_0's multi_logloss: 0.65057\n",
      "[30]\tvalid_0's multi_logloss: 0.648215\n",
      "[31]\tvalid_0's multi_logloss: 0.646051\n",
      "[32]\tvalid_0's multi_logloss: 0.644324\n",
      "[33]\tvalid_0's multi_logloss: 0.642431\n",
      "[34]\tvalid_0's multi_logloss: 0.640569\n",
      "[35]\tvalid_0's multi_logloss: 0.639283\n",
      "[36]\tvalid_0's multi_logloss: 0.637158\n",
      "[37]\tvalid_0's multi_logloss: 0.635796\n",
      "[38]\tvalid_0's multi_logloss: 0.634368\n",
      "[39]\tvalid_0's multi_logloss: 0.633319\n",
      "[40]\tvalid_0's multi_logloss: 0.63268\n",
      "[41]\tvalid_0's multi_logloss: 0.631642\n",
      "[42]\tvalid_0's multi_logloss: 0.630994\n",
      "[43]\tvalid_0's multi_logloss: 0.630579\n",
      "[44]\tvalid_0's multi_logloss: 0.629751\n",
      "[45]\tvalid_0's multi_logloss: 0.628656\n",
      "[46]\tvalid_0's multi_logloss: 0.62829\n",
      "[47]\tvalid_0's multi_logloss: 0.627505\n",
      "[48]\tvalid_0's multi_logloss: 0.627484\n",
      "[49]\tvalid_0's multi_logloss: 0.627065\n",
      "[50]\tvalid_0's multi_logloss: 0.626763\n",
      "[51]\tvalid_0's multi_logloss: 0.626271\n",
      "[52]\tvalid_0's multi_logloss: 0.626368\n",
      "[53]\tvalid_0's multi_logloss: 0.626493\n",
      "[54]\tvalid_0's multi_logloss: 0.626074\n",
      "[55]\tvalid_0's multi_logloss: 0.62601\n",
      "[56]\tvalid_0's multi_logloss: 0.625925\n",
      "[57]\tvalid_0's multi_logloss: 0.625569\n",
      "[58]\tvalid_0's multi_logloss: 0.625467\n",
      "[59]\tvalid_0's multi_logloss: 0.625147\n",
      "[60]\tvalid_0's multi_logloss: 0.62484\n",
      "[61]\tvalid_0's multi_logloss: 0.624658\n",
      "[62]\tvalid_0's multi_logloss: 0.624464\n",
      "[63]\tvalid_0's multi_logloss: 0.62447\n",
      "[64]\tvalid_0's multi_logloss: 0.623863\n",
      "[65]\tvalid_0's multi_logloss: 0.623559\n",
      "[66]\tvalid_0's multi_logloss: 0.623389\n",
      "[67]\tvalid_0's multi_logloss: 0.623454\n",
      "[68]\tvalid_0's multi_logloss: 0.623095\n",
      "[69]\tvalid_0's multi_logloss: 0.623171\n",
      "[70]\tvalid_0's multi_logloss: 0.623361\n",
      "[71]\tvalid_0's multi_logloss: 0.623099\n",
      "[72]\tvalid_0's multi_logloss: 0.623257\n",
      "[73]\tvalid_0's multi_logloss: 0.623464\n",
      "[74]\tvalid_0's multi_logloss: 0.623757\n",
      "[75]\tvalid_0's multi_logloss: 0.623831\n",
      "[76]\tvalid_0's multi_logloss: 0.623243\n",
      "[77]\tvalid_0's multi_logloss: 0.623193\n",
      "[78]\tvalid_0's multi_logloss: 0.624117\n",
      "[79]\tvalid_0's multi_logloss: 0.624357\n",
      "[80]\tvalid_0's multi_logloss: 0.624319\n",
      "[81]\tvalid_0's multi_logloss: 0.624711\n",
      "[82]\tvalid_0's multi_logloss: 0.624731\n",
      "[83]\tvalid_0's multi_logloss: 0.624077\n",
      "[84]\tvalid_0's multi_logloss: 0.624821\n",
      "[85]\tvalid_0's multi_logloss: 0.625066\n",
      "[86]\tvalid_0's multi_logloss: 0.624563\n",
      "[87]\tvalid_0's multi_logloss: 0.624665\n",
      "[88]\tvalid_0's multi_logloss: 0.624731\n",
      "[89]\tvalid_0's multi_logloss: 0.625\n",
      "[90]\tvalid_0's multi_logloss: 0.625607\n",
      "[91]\tvalid_0's multi_logloss: 0.625246\n",
      "[92]\tvalid_0's multi_logloss: 0.626255\n",
      "[93]\tvalid_0's multi_logloss: 0.62714\n",
      "[94]\tvalid_0's multi_logloss: 0.626815\n",
      "[95]\tvalid_0's multi_logloss: 0.626907\n",
      "[96]\tvalid_0's multi_logloss: 0.627167\n",
      "[97]\tvalid_0's multi_logloss: 0.628132\n",
      "[98]\tvalid_0's multi_logloss: 0.628471\n",
      "[99]\tvalid_0's multi_logloss: 0.628299\n",
      "[100]\tvalid_0's multi_logloss: 0.629325\n",
      "Did not meet early stopping. Best iteration is:\n",
      "[68]\tvalid_0's multi_logloss: 0.623095\n"
     ]
    },
    {
     "name": "stderr",
     "output_type": "stream",
     "text": [
      "/Users/joashc/anaconda3/lib/python3.6/site-packages/sklearn/preprocessing/label.py:219: DataConversionWarning: A column-vector y was passed when a 1d array was expected. Please change the shape of y to (n_samples, ), for example using ravel().\n",
      "  y = column_or_1d(y, warn=True)\n",
      "/Users/joashc/anaconda3/lib/python3.6/site-packages/sklearn/preprocessing/label.py:252: DataConversionWarning: A column-vector y was passed when a 1d array was expected. Please change the shape of y to (n_samples, ), for example using ravel().\n",
      "  y = column_or_1d(y, warn=True)\n",
      "/Users/joashc/anaconda3/lib/python3.6/site-packages/sklearn/preprocessing/label.py:252: DataConversionWarning: A column-vector y was passed when a 1d array was expected. Please change the shape of y to (n_samples, ), for example using ravel().\n",
      "  y = column_or_1d(y, warn=True)\n"
     ]
    },
    {
     "name": "stdout",
     "output_type": "stream",
     "text": [
      "[1]\tvalid_0's multi_logloss: 1.06038\n",
      "Training until validation scores don't improve for 100 rounds.\n",
      "[2]\tvalid_0's multi_logloss: 1.02916\n",
      "[3]\tvalid_0's multi_logloss: 1.00313\n",
      "[4]\tvalid_0's multi_logloss: 0.981492\n",
      "[5]\tvalid_0's multi_logloss: 0.963749\n",
      "[6]\tvalid_0's multi_logloss: 0.948902\n",
      "[7]\tvalid_0's multi_logloss: 0.936275\n",
      "[8]\tvalid_0's multi_logloss: 0.925798\n",
      "[9]\tvalid_0's multi_logloss: 0.917095\n",
      "[10]\tvalid_0's multi_logloss: 0.909941\n",
      "[11]\tvalid_0's multi_logloss: 0.904138\n",
      "[12]\tvalid_0's multi_logloss: 0.89925\n",
      "[13]\tvalid_0's multi_logloss: 0.895432\n",
      "[14]\tvalid_0's multi_logloss: 0.892259\n",
      "[15]\tvalid_0's multi_logloss: 0.8897\n",
      "[16]\tvalid_0's multi_logloss: 0.887715\n",
      "[17]\tvalid_0's multi_logloss: 0.886217\n",
      "[18]\tvalid_0's multi_logloss: 0.885153\n",
      "[19]\tvalid_0's multi_logloss: 0.884118\n",
      "[20]\tvalid_0's multi_logloss: 0.883538\n",
      "[21]\tvalid_0's multi_logloss: 0.882955\n",
      "[22]\tvalid_0's multi_logloss: 0.882545\n",
      "[23]\tvalid_0's multi_logloss: 0.882202\n",
      "[24]\tvalid_0's multi_logloss: 0.882126\n",
      "[25]\tvalid_0's multi_logloss: 0.882057\n",
      "[26]\tvalid_0's multi_logloss: 0.881925\n",
      "[27]\tvalid_0's multi_logloss: 0.882039\n",
      "[28]\tvalid_0's multi_logloss: 0.88183\n",
      "[29]\tvalid_0's multi_logloss: 0.881771\n",
      "[30]\tvalid_0's multi_logloss: 0.881693\n",
      "[31]\tvalid_0's multi_logloss: 0.88149\n",
      "[32]\tvalid_0's multi_logloss: 0.881312\n",
      "[33]\tvalid_0's multi_logloss: 0.881585\n",
      "[34]\tvalid_0's multi_logloss: 0.881151\n",
      "[35]\tvalid_0's multi_logloss: 0.880864\n",
      "[36]\tvalid_0's multi_logloss: 0.880518\n",
      "[37]\tvalid_0's multi_logloss: 0.880143\n",
      "[38]\tvalid_0's multi_logloss: 0.879855\n",
      "[39]\tvalid_0's multi_logloss: 0.879528\n",
      "[40]\tvalid_0's multi_logloss: 0.879374\n",
      "[41]\tvalid_0's multi_logloss: 0.879241\n",
      "[42]\tvalid_0's multi_logloss: 0.879099\n",
      "[43]\tvalid_0's multi_logloss: 0.878677\n",
      "[44]\tvalid_0's multi_logloss: 0.87795\n",
      "[45]\tvalid_0's multi_logloss: 0.87768\n",
      "[46]\tvalid_0's multi_logloss: 0.87792\n",
      "[47]\tvalid_0's multi_logloss: 0.877468\n",
      "[48]\tvalid_0's multi_logloss: 0.876911\n",
      "[49]\tvalid_0's multi_logloss: 0.876243\n",
      "[50]\tvalid_0's multi_logloss: 0.876042\n",
      "[51]\tvalid_0's multi_logloss: 0.875178\n",
      "[52]\tvalid_0's multi_logloss: 0.874632\n",
      "[53]\tvalid_0's multi_logloss: 0.874309\n",
      "[54]\tvalid_0's multi_logloss: 0.87389\n",
      "[55]\tvalid_0's multi_logloss: 0.873386\n",
      "[56]\tvalid_0's multi_logloss: 0.87371\n",
      "[57]\tvalid_0's multi_logloss: 0.873064\n",
      "[58]\tvalid_0's multi_logloss: 0.872636\n",
      "[59]\tvalid_0's multi_logloss: 0.871961\n",
      "[60]\tvalid_0's multi_logloss: 0.872323\n",
      "[61]\tvalid_0's multi_logloss: 0.872627\n",
      "[62]\tvalid_0's multi_logloss: 0.872724\n",
      "[63]\tvalid_0's multi_logloss: 0.872123\n",
      "[64]\tvalid_0's multi_logloss: 0.871615\n",
      "[65]\tvalid_0's multi_logloss: 0.871197\n",
      "[66]\tvalid_0's multi_logloss: 0.870866\n",
      "[67]\tvalid_0's multi_logloss: 0.871175\n",
      "[68]\tvalid_0's multi_logloss: 0.870591\n",
      "[69]\tvalid_0's multi_logloss: 0.870251\n",
      "[70]\tvalid_0's multi_logloss: 0.870038\n",
      "[71]\tvalid_0's multi_logloss: 0.869356\n",
      "[72]\tvalid_0's multi_logloss: 0.869041\n",
      "[73]\tvalid_0's multi_logloss: 0.86849\n",
      "[74]\tvalid_0's multi_logloss: 0.868615\n",
      "[75]\tvalid_0's multi_logloss: 0.868655\n",
      "[76]\tvalid_0's multi_logloss: 0.868385\n",
      "[77]\tvalid_0's multi_logloss: 0.867741\n",
      "[78]\tvalid_0's multi_logloss: 0.867334\n",
      "[79]\tvalid_0's multi_logloss: 0.867023\n",
      "[80]\tvalid_0's multi_logloss: 0.86665\n",
      "[81]\tvalid_0's multi_logloss: 0.866233\n",
      "[82]\tvalid_0's multi_logloss: 0.86585\n",
      "[83]\tvalid_0's multi_logloss: 0.866106\n",
      "[84]\tvalid_0's multi_logloss: 0.865765\n",
      "[85]\tvalid_0's multi_logloss: 0.865175\n",
      "[86]\tvalid_0's multi_logloss: 0.865081\n",
      "[87]\tvalid_0's multi_logloss: 0.86544\n",
      "[88]\tvalid_0's multi_logloss: 0.865009\n",
      "[89]\tvalid_0's multi_logloss: 0.864818\n",
      "[90]\tvalid_0's multi_logloss: 0.864376\n",
      "[91]\tvalid_0's multi_logloss: 0.864048\n",
      "[92]\tvalid_0's multi_logloss: 0.863566\n",
      "[93]\tvalid_0's multi_logloss: 0.863129\n",
      "[94]\tvalid_0's multi_logloss: 0.863281\n",
      "[95]\tvalid_0's multi_logloss: 0.862882\n",
      "[96]\tvalid_0's multi_logloss: 0.862264\n",
      "[97]\tvalid_0's multi_logloss: 0.861941\n",
      "[98]\tvalid_0's multi_logloss: 0.861631\n",
      "[99]\tvalid_0's multi_logloss: 0.862077\n",
      "[100]\tvalid_0's multi_logloss: 0.862238\n",
      "Did not meet early stopping. Best iteration is:\n",
      "[98]\tvalid_0's multi_logloss: 0.861631\n"
     ]
    }
   ],
   "source": [
    "model_eval, result_model = lgbm_model_smote(os_data_X, os_data_y, 5, random_state=23413)"
   ]
  },
  {
   "cell_type": "markdown",
   "metadata": {},
   "source": [
    "### 6.5.3 Evaluation of Model w SMOTE Results"
   ]
  },
  {
   "cell_type": "code",
   "execution_count": 72,
   "metadata": {},
   "outputs": [
    {
     "name": "stdout",
     "output_type": "stream",
     "text": [
      "Train Accuracy: 0.8306737658841692\n",
      "\n",
      "Test Accuracy: 0.8484795661437149\n"
     ]
    }
   ],
   "source": [
    "print(\"Train Accuracy:\",model_eval[0])\n",
    "print()\n",
    "y_pred = result_model.predict(X_test, num_iteration=result_model.best_iteration_)\n",
    "print(\"Test Accuracy:\",metrics.accuracy_score(y_test, y_pred))"
   ]
  },
  {
   "cell_type": "code",
   "execution_count": 68,
   "metadata": {
    "scrolled": true
   },
   "outputs": [
    {
     "name": "stdout",
     "output_type": "stream",
     "text": [
      "Following is the feature importance bar plot:\n"
     ]
    },
    {
     "data": {
      "text/plain": [
       "<matplotlib.axes._subplots.AxesSubplot at 0x1294e93c8>"
      ]
     },
     "execution_count": 68,
     "metadata": {},
     "output_type": "execute_result"
    },
    {
     "data": {
      "image/png": "[encoded data removed]",
      "text/plain": [
       "<Figure size 432x288 with 1 Axes>"
      ]
     },
     "metadata": {},
     "output_type": "display_data"
    }
   ],
   "source": [
    "print('Following is the feature importance bar plot:')\n",
    "(pd.Series(result_model.feature_importances_, index=numerical_data_scaled.columns)\n",
    "   .nlargest(40)\n",
    "   .plot(kind='barh')) "
   ]
  },
  {
   "cell_type": "code",
   "execution_count": 70,
   "metadata": {},
   "outputs": [
    {
     "name": "stdout",
     "output_type": "stream",
     "text": [
      "Following is the accuracy per class for validation set:\n"
     ]
    },
    {
     "data": {
      "text/html": [
       "<div>\n",
       "<style scoped>\n",
       "    .dataframe tbody tr th:only-of-type {\n",
       "        vertical-align: middle;\n",
       "    }\n",
       "\n",
       "    .dataframe tbody tr th {\n",
       "        vertical-align: top;\n",
       "    }\n",
       "\n",
       "    .dataframe thead th {\n",
       "        text-align: right;\n",
       "    }\n",
       "</style>\n",
       "<table border=\"1\" class=\"dataframe\">\n",
       "  <thead>\n",
       "    <tr style=\"text-align: right;\">\n",
       "      <th></th>\n",
       "      <th>accuracy_per_class</th>\n",
       "    </tr>\n",
       "  </thead>\n",
       "  <tbody>\n",
       "    <tr>\n",
       "      <th>failed</th>\n",
       "      <td>91.647522</td>\n",
       "    </tr>\n",
       "    <tr>\n",
       "      <th>succeeded</th>\n",
       "      <td>82.298868</td>\n",
       "    </tr>\n",
       "    <tr>\n",
       "      <th>surged</th>\n",
       "      <td>57.576210</td>\n",
       "    </tr>\n",
       "  </tbody>\n",
       "</table>\n",
       "</div>"
      ],
      "text/plain": [
       "           accuracy_per_class\n",
       "failed              91.647522\n",
       "succeeded           82.298868\n",
       "surged              57.576210"
      ]
     },
     "execution_count": 70,
     "metadata": {},
     "output_type": "execute_result"
    }
   ],
   "source": [
    "cm = confusion_matrix(y_test, y_pred)\n",
    "accuracy_per_class = pd.DataFrame(((cm.astype('float') / cm.sum(axis=1)[:, np.newaxis]).diagonal())*100,\n",
    "                                 index=['failed', 'succeeded', 'surged'], columns=['accuracy_per_class'])\n",
    "print('Following is the accuracy per class for validation set:')\n",
    "accuracy_per_class"
   ]
  },
  {
   "cell_type": "code",
   "execution_count": 71,
   "metadata": {},
   "outputs": [
    {
     "name": "stdout",
     "output_type": "stream",
     "text": [
      "Following is the confusion matrix for the validation set:\n"
     ]
    },
    {
     "data": {
      "text/html": [
       "<div>\n",
       "<style scoped>\n",
       "    .dataframe tbody tr th:only-of-type {\n",
       "        vertical-align: middle;\n",
       "    }\n",
       "\n",
       "    .dataframe tbody tr th {\n",
       "        vertical-align: top;\n",
       "    }\n",
       "\n",
       "    .dataframe thead th {\n",
       "        text-align: right;\n",
       "    }\n",
       "</style>\n",
       "<table border=\"1\" class=\"dataframe\">\n",
       "  <thead>\n",
       "    <tr style=\"text-align: right;\">\n",
       "      <th></th>\n",
       "      <th>predicted_failed</th>\n",
       "      <th>predicted_succeeded</th>\n",
       "      <th>predicted_surged</th>\n",
       "    </tr>\n",
       "  </thead>\n",
       "  <tbody>\n",
       "    <tr>\n",
       "      <th>actual_failed</th>\n",
       "      <td>91.647522</td>\n",
       "      <td>8.119591</td>\n",
       "      <td>0.232887</td>\n",
       "    </tr>\n",
       "    <tr>\n",
       "      <th>actual_succeeded</th>\n",
       "      <td>8.182025</td>\n",
       "      <td>82.298868</td>\n",
       "      <td>9.519107</td>\n",
       "    </tr>\n",
       "    <tr>\n",
       "      <th>actual_surged</th>\n",
       "      <td>1.823072</td>\n",
       "      <td>40.600717</td>\n",
       "      <td>57.576210</td>\n",
       "    </tr>\n",
       "  </tbody>\n",
       "</table>\n",
       "</div>"
      ],
      "text/plain": [
       "                  predicted_failed  predicted_succeeded  predicted_surged\n",
       "actual_failed            91.647522             8.119591          0.232887\n",
       "actual_succeeded          8.182025            82.298868          9.519107\n",
       "actual_surged             1.823072            40.600717         57.576210"
      ]
     },
     "execution_count": 71,
     "metadata": {},
     "output_type": "execute_result"
    }
   ],
   "source": [
    "print('Following is the confusion matrix for the validation set:')\n",
    "cm_df = pd.DataFrame(((cm.astype('float') / cm.sum(axis=1)[:, np.newaxis]))*100, index=['actual_failed', 'actual_succeeded', 'actual_surged'],\n",
    "            columns=['predicted_failed', 'predicted_succeeded', 'predicted_surged'])\n",
    "cm_df"
   ]
  },
  {
   "cell_type": "code",
   "execution_count": 69,
   "metadata": {},
   "outputs": [
    {
     "name": "stdout",
     "output_type": "stream",
     "text": [
      "Test Accuracy: 0.8484795661437149\n"
     ]
    }
   ],
   "source": []
  },
  {
   "cell_type": "markdown",
   "metadata": {},
   "source": [
    "### 6.5.4 Summary of Test Model w SMOTE\n",
    "I will summarize by approach:\n",
    "\n",
    "1) The first approach increased the training accuracy from ~87% to ~89%. However, the validation and test accuracy lowered to ~85%\n",
    "\n",
    "2) The second approach reduced the trainand test accuracy to ~83% and ~84%. SMOTE will not be used in the final model."
   ]
  },
  {
   "cell_type": "markdown",
   "metadata": {},
   "source": [
    "## 6.6 Parameter Tuning for Test Model via Bayesian Optimization"
   ]
  },
  {
   "cell_type": "code",
   "execution_count": 155,
   "metadata": {},
   "outputs": [],
   "source": [
    "numeric_features = ['goal', 'backers', 'usd_goal_real', 'name_length',\n",
    "                   'name_num_words', 'launch_month', 'duration_launched_month',\n",
    "                   'launch_year', 'usd_goal_per_backer', 'deadline_year', 'deadline_month',\n",
    "                   'usd_goal_per_month', 'usd_goal_per_month_per_backer',\n",
    "                   'backers_per_month']\n",
    "\n",
    "categorical_features = ['category', 'main_category', 'country', 'main_category-category']\n",
    "y = data_v3['new_state']"
   ]
  },
  {
   "cell_type": "code",
   "execution_count": 154,
   "metadata": {},
   "outputs": [
    {
     "name": "stdout",
     "output_type": "stream",
     "text": [
      "Test Accuracy: 0.8408677125702111\n",
      "Test Log_loss: 0.3753615477963626\n"
     ]
    }
   ],
   "source": [
    "y_pred = lgb_model_v2.predict(X_test, num_iteration=lgb_model_v2.best_iteration_)\n",
    "y_pred_proba = lgb_model_v2.predict_proba(X_test, num_iteration=lgb_model_v2.best_iteration_)\n",
    "print(\"Test Accuracy:\",metrics.accuracy_score(y_test, y_pred))\n",
    "print(\"Test Log_loss:\",metrics.log_loss(y_test, y_pred_proba))"
   ]
  },
  {
   "cell_type": "code",
   "execution_count": 156,
   "metadata": {},
   "outputs": [
    {
     "name": "stderr",
     "output_type": "stream",
     "text": [
      "/Users/joashc/anaconda3/lib/python3.6/site-packages/sklearn/preprocessing/data.py:323: DataConversionWarning: Data with input dtype int64, float64 were all converted to float64 by MinMaxScaler.\n",
      "  return self.partial_fit(X, y)\n"
     ]
    }
   ],
   "source": [
    "numerical_data = data_v3[numeric_features]\n",
    "scaler = MinMaxScaler()\n",
    "numerical_data_scaled = pd.DataFrame(scaler.fit_transform(numerical_data), columns = numerical_data.columns)"
   ]
  },
  {
   "cell_type": "code",
   "execution_count": 157,
   "metadata": {},
   "outputs": [
    {
     "name": "stderr",
     "output_type": "stream",
     "text": [
      "/Users/joashc/anaconda3/lib/python3.6/site-packages/ipykernel_launcher.py:3: SettingWithCopyWarning: \n",
      "A value is trying to be set on a copy of a slice from a DataFrame.\n",
      "Try using .loc[row_indexer,col_indexer] = value instead\n",
      "\n",
      "See the caveats in the documentation: http://pandas.pydata.org/pandas-docs/stable/indexing.html#indexing-view-versus-copy\n",
      "  This is separate from the ipykernel package so we can avoid doing imports until\n"
     ]
    },
    {
     "data": {
      "text/plain": [
       "category                  category\n",
       "main_category             category\n",
       "country                   category\n",
       "main_category-category    category\n",
       "dtype: object"
      ]
     },
     "execution_count": 157,
     "metadata": {},
     "output_type": "execute_result"
    }
   ],
   "source": [
    "categorical_data = data_v3[categorical_features]\n",
    "for col in categorical_data.columns: \n",
    "     categorical_data[col] = categorical_data[col].astype('category')\n",
    "\n",
    "categorical_data.dtypes"
   ]
  },
  {
   "cell_type": "code",
   "execution_count": 158,
   "metadata": {},
   "outputs": [],
   "source": [
    "X_lgbm = pd.concat([numerical_data_scaled.reset_index(drop=True), categorical_data.reset_index(drop=True)], axis=1)"
   ]
  },
  {
   "cell_type": "code",
   "execution_count": 159,
   "metadata": {},
   "outputs": [
    {
     "name": "stdout",
     "output_type": "stream",
     "text": [
      "Shape of train & validation set is: (206516, 18)\n",
      "Shape of testing set is: (51630, 18)\n"
     ]
    }
   ],
   "source": [
    "X_data, X_test, y_data, y_test = train_test_split(X_lgbm, y, test_size=0.2, random_state=42) #Updated\n",
    "print('Shape of train & validation set is:', X_data.shape)  \n",
    "print('Shape of testing set is:', X_test.shape)"
   ]
  },
  {
   "cell_type": "code",
   "execution_count": 160,
   "metadata": {},
   "outputs": [
    {
     "name": "stdout",
     "output_type": "stream",
     "text": [
      "Shape of train & validation set is: (165212, 18)\n",
      "Shape of testing set is: (41304, 18)\n"
     ]
    }
   ],
   "source": [
    "X_train, X_validate, y_train, y_validate = train_test_split(X_data, y_data, test_size=0.2, random_state=42) #Updated\n",
    "print('Shape of train & validation set is:', X_train.shape)  \n",
    "print('Shape of testing set is:', X_validate.shape)"
   ]
  },
  {
   "cell_type": "code",
   "execution_count": 161,
   "metadata": {},
   "outputs": [],
   "source": [
    "def bayes_parameter_opt_lgb(X_train, y_train, X_validate, y_validate, init_round=1, opt_round=1):\n",
    "    \n",
    "    def lgb_apply(learning_rate, num_leaves, n_estimators, max_depth, \n",
    "                  lambda_l1, lambda_l2, min_split_gain, min_child_weight):\n",
    "        \n",
    "        params = {'boosting_type': 'gbdt', 'objective':'multiclass', 'num_class':3}\n",
    "        params[\"learning_rate\"] = learning_rate\n",
    "        params[\"num_leaves\"] = int(round(num_leaves))\n",
    "        params[\"n_estimators\"] = int(math.ceil(n_estimators/100)) * 100\n",
    "        params['max_depth'] = int(round(max_depth))\n",
    "        params['reg_alpha'] = max(lambda_l1, 0)\n",
    "        params['reg_lambda'] = max(lambda_l2, 0)\n",
    "        params['min_split_gain'] = min_split_gain\n",
    "        params['min_child_weight'] = int(math.ceil(min_child_weight/100)) * 100\n",
    "        \n",
    "        lgb_model = lgb.LGBMClassifier(**params, n_jobs=4)\n",
    "        lgb_model.fit(X_train, y_train, early_stopping_rounds=200, \n",
    "                      eval_set=(X_test, y_test), \n",
    "                      eval_metric='multi_logloss')\n",
    "        \n",
    "        y_pred = lgb_model.predict(X_test, num_iteration=lgb_model.best_iteration_)\n",
    "        \n",
    "        return metrics.accuracy_score(y_test, y_pred)\n",
    "    \n",
    "    \n",
    "    lgb_bayesian_params = BayesianOptimization(lgb_apply, pbounds={'learning_rate': (0.1, 0.9), \n",
    "                                                       'n_estimators': (400,1000), \n",
    "                                                       'num_leaves': (400, 1000),\n",
    "                                                       'max_depth': (60, 100),\n",
    "                                                       'lambda_l1': (0.1, 1.0),\n",
    "                                                       'lambda_l2': (0.1, 4.0),\n",
    "                                                       'min_split_gain': (0.1, 0.4),\n",
    "                                                       'min_child_weight': (200,500)})\n",
    "    \n",
    "    lgb_bayesian_params.maximize(init_points=int(init_round), n_iter=int(opt_round))\n",
    "#     lgb_bayesian_params.to_csv(\"~/data/bayes_opt_result.csv\")\n",
    "    return lgb_bayesian_params\n",
    "#     return lgb_bayesian_params.res['max']['max_params']\n",
    "    "
   ]
  },
  {
   "cell_type": "code",
   "execution_count": 162,
   "metadata": {
    "scrolled": true
   },
   "outputs": [
    {
     "name": "stdout",
     "output_type": "stream",
     "text": [
      "\u001b[31mInitialization\u001b[0m\n",
      "\u001b[94m-----------------------------------------------------------------------------------------------------------------------------------------------------------------\u001b[0m\n",
      " Step |   Time |      Value |   lambda_l1 |   lambda_l2 |   learning_rate |   max_depth |   min_child_weight |   min_split_gain |   n_estimators |   num_leaves | \n",
      "[1]\tvalid_0's multi_logloss: 0.544274\tvalid_0's multi_logloss: 0.544274\n",
      "Training until validation scores don't improve for 200 rounds.\n",
      "[2]\tvalid_0's multi_logloss: 0.419088\tvalid_0's multi_logloss: 0.419088\n",
      "[3]\tvalid_0's multi_logloss: 0.370757\tvalid_0's multi_logloss: 0.370757\n",
      "[4]\tvalid_0's multi_logloss: 0.350347\tvalid_0's multi_logloss: 0.350347\n",
      "[5]\tvalid_0's multi_logloss: 0.341104\tvalid_0's multi_logloss: 0.341104\n",
      "[6]\tvalid_0's multi_logloss: 0.337107\tvalid_0's multi_logloss: 0.337107\n",
      "[7]\tvalid_0's multi_logloss: 0.335541\tvalid_0's multi_logloss: 0.335541\n",
      "[8]\tvalid_0's multi_logloss: 0.334605\tvalid_0's multi_logloss: 0.334605\n",
      "[9]\tvalid_0's multi_logloss: 0.334437\tvalid_0's multi_logloss: 0.334437\n",
      "[10]\tvalid_0's multi_logloss: 0.334345\tvalid_0's multi_logloss: 0.334345\n",
      "[11]\tvalid_0's multi_logloss: 0.333956\tvalid_0's multi_logloss: 0.333956\n",
      "[12]\tvalid_0's multi_logloss: 0.334032\tvalid_0's multi_logloss: 0.334032\n",
      "[13]\tvalid_0's multi_logloss: 0.33405\tvalid_0's multi_logloss: 0.33405\n",
      "[14]\tvalid_0's multi_logloss: 0.334164\tvalid_0's multi_logloss: 0.334164\n",
      "[15]\tvalid_0's multi_logloss: 0.334476\tvalid_0's multi_logloss: 0.334476\n",
      "[16]\tvalid_0's multi_logloss: 0.334817\tvalid_0's multi_logloss: 0.334817\n",
      "[17]\tvalid_0's multi_logloss: 0.33506\tvalid_0's multi_logloss: 0.33506\n",
      "[18]\tvalid_0's multi_logloss: 0.335103\tvalid_0's multi_logloss: 0.335103\n",
      "[19]\tvalid_0's multi_logloss: 0.335346\tvalid_0's multi_logloss: 0.335346\n",
      "[20]\tvalid_0's multi_logloss: 0.335508\tvalid_0's multi_logloss: 0.335508\n",
      "[21]\tvalid_0's multi_logloss: 0.33533\tvalid_0's multi_logloss: 0.33533\n",
      "[22]\tvalid_0's multi_logloss: 0.33566\tvalid_0's multi_logloss: 0.33566\n",
      "[23]\tvalid_0's multi_logloss: 0.335593\tvalid_0's multi_logloss: 0.335593\n",
      "[24]\tvalid_0's multi_logloss: 0.33583\tvalid_0's multi_logloss: 0.33583\n",
      "[25]\tvalid_0's multi_logloss: 0.336052\tvalid_0's multi_logloss: 0.336052\n",
      "[26]\tvalid_0's multi_logloss: 0.336162\tvalid_0's multi_logloss: 0.336162\n",
      "[27]\tvalid_0's multi_logloss: 0.336436\tvalid_0's multi_logloss: 0.336436\n",
      "[28]\tvalid_0's multi_logloss: 0.336705\tvalid_0's multi_logloss: 0.336705\n",
      "[29]\tvalid_0's multi_logloss: 0.336948\tvalid_0's multi_logloss: 0.336948\n",
      "[30]\tvalid_0's multi_logloss: 0.336927\tvalid_0's multi_logloss: 0.336927\n",
      "[31]\tvalid_0's multi_logloss: 0.337132\tvalid_0's multi_logloss: 0.337132\n",
      "[32]\tvalid_0's multi_logloss: 0.337213\tvalid_0's multi_logloss: 0.337213\n",
      "[33]\tvalid_0's multi_logloss: 0.337663\tvalid_0's multi_logloss: 0.337663\n",
      "[34]\tvalid_0's multi_logloss: 0.337797\tvalid_0's multi_logloss: 0.337797\n",
      "[35]\tvalid_0's multi_logloss: 0.338015\tvalid_0's multi_logloss: 0.338015\n",
      "[36]\tvalid_0's multi_logloss: 0.338257\tvalid_0's multi_logloss: 0.338257\n",
      "[37]\tvalid_0's multi_logloss: 0.338374\tvalid_0's multi_logloss: 0.338374\n",
      "[38]\tvalid_0's multi_logloss: 0.338468\tvalid_0's multi_logloss: 0.338468\n",
      "[39]\tvalid_0's multi_logloss: 0.338649\tvalid_0's multi_logloss: 0.338649\n",
      "[40]\tvalid_0's multi_logloss: 0.338843\tvalid_0's multi_logloss: 0.338843\n",
      "[41]\tvalid_0's multi_logloss: 0.338812\tvalid_0's multi_logloss: 0.338812\n",
      "[42]\tvalid_0's multi_logloss: 0.339028\tvalid_0's multi_logloss: 0.339028\n",
      "[43]\tvalid_0's multi_logloss: 0.339224\tvalid_0's multi_logloss: 0.339224\n",
      "[44]\tvalid_0's multi_logloss: 0.339446\tvalid_0's multi_logloss: 0.339446\n",
      "[45]\tvalid_0's multi_logloss: 0.339646\tvalid_0's multi_logloss: 0.339646\n",
      "[46]\tvalid_0's multi_logloss: 0.339757\tvalid_0's multi_logloss: 0.339757\n",
      "[47]\tvalid_0's multi_logloss: 0.340042\tvalid_0's multi_logloss: 0.340042\n",
      "[48]\tvalid_0's multi_logloss: 0.340295\tvalid_0's multi_logloss: 0.340295\n",
      "[49]\tvalid_0's multi_logloss: 0.340597\tvalid_0's multi_logloss: 0.340597\n",
      "[50]\tvalid_0's multi_logloss: 0.340678\tvalid_0's multi_logloss: 0.340678\n",
      "[51]\tvalid_0's multi_logloss: 0.341037\tvalid_0's multi_logloss: 0.341037\n",
      "[52]\tvalid_0's multi_logloss: 0.341253\tvalid_0's multi_logloss: 0.341253\n",
      "[53]\tvalid_0's multi_logloss: 0.341469\tvalid_0's multi_logloss: 0.341469\n",
      "[54]\tvalid_0's multi_logloss: 0.341696\tvalid_0's multi_logloss: 0.341696\n",
      "[55]\tvalid_0's multi_logloss: 0.341807\tvalid_0's multi_logloss: 0.341807\n",
      "[56]\tvalid_0's multi_logloss: 0.341828\tvalid_0's multi_logloss: 0.341828\n",
      "[57]\tvalid_0's multi_logloss: 0.342\tvalid_0's multi_logloss: 0.342\n",
      "[58]\tvalid_0's multi_logloss: 0.342225\tvalid_0's multi_logloss: 0.342225\n",
      "[59]\tvalid_0's multi_logloss: 0.342436\tvalid_0's multi_logloss: 0.342436\n",
      "[60]\tvalid_0's multi_logloss: 0.342649\tvalid_0's multi_logloss: 0.342649\n",
      "[61]\tvalid_0's multi_logloss: 0.342747\tvalid_0's multi_logloss: 0.342747\n",
      "[62]\tvalid_0's multi_logloss: 0.342835\tvalid_0's multi_logloss: 0.342835\n",
      "[63]\tvalid_0's multi_logloss: 0.343165\tvalid_0's multi_logloss: 0.343165\n",
      "[64]\tvalid_0's multi_logloss: 0.343295\tvalid_0's multi_logloss: 0.343295\n",
      "[65]\tvalid_0's multi_logloss: 0.343432\tvalid_0's multi_logloss: 0.343432\n",
      "[66]\tvalid_0's multi_logloss: 0.343485\tvalid_0's multi_logloss: 0.343485\n",
      "[67]\tvalid_0's multi_logloss: 0.343526\tvalid_0's multi_logloss: 0.343526\n",
      "[68]\tvalid_0's multi_logloss: 0.34351\tvalid_0's multi_logloss: 0.34351\n",
      "[69]\tvalid_0's multi_logloss: 0.343687\tvalid_0's multi_logloss: 0.343687\n",
      "[70]\tvalid_0's multi_logloss: 0.343908\tvalid_0's multi_logloss: 0.343908\n",
      "[71]\tvalid_0's multi_logloss: 0.344158\tvalid_0's multi_logloss: 0.344158\n",
      "[72]\tvalid_0's multi_logloss: 0.344379\tvalid_0's multi_logloss: 0.344379\n",
      "[73]\tvalid_0's multi_logloss: 0.344421\tvalid_0's multi_logloss: 0.344421\n",
      "[74]\tvalid_0's multi_logloss: 0.344539\tvalid_0's multi_logloss: 0.344539\n",
      "[75]\tvalid_0's multi_logloss: 0.344602\tvalid_0's multi_logloss: 0.344602\n",
      "[76]\tvalid_0's multi_logloss: 0.344682\tvalid_0's multi_logloss: 0.344682\n",
      "[77]\tvalid_0's multi_logloss: 0.344875\tvalid_0's multi_logloss: 0.344875\n",
      "[78]\tvalid_0's multi_logloss: 0.345075\tvalid_0's multi_logloss: 0.345075\n",
      "[79]\tvalid_0's multi_logloss: 0.345177\tvalid_0's multi_logloss: 0.345177\n",
      "[80]\tvalid_0's multi_logloss: 0.345514\tvalid_0's multi_logloss: 0.345514\n",
      "[81]\tvalid_0's multi_logloss: 0.345613\tvalid_0's multi_logloss: 0.345613\n",
      "[82]\tvalid_0's multi_logloss: 0.345703\tvalid_0's multi_logloss: 0.345703\n",
      "[83]\tvalid_0's multi_logloss: 0.345922\tvalid_0's multi_logloss: 0.345922\n",
      "[84]\tvalid_0's multi_logloss: 0.346069\tvalid_0's multi_logloss: 0.346069\n",
      "[85]\tvalid_0's multi_logloss: 0.346195\tvalid_0's multi_logloss: 0.346195\n",
      "[86]\tvalid_0's multi_logloss: 0.346312\tvalid_0's multi_logloss: 0.346312\n",
      "[87]\tvalid_0's multi_logloss: 0.346594\tvalid_0's multi_logloss: 0.346594\n",
      "[88]\tvalid_0's multi_logloss: 0.34669\tvalid_0's multi_logloss: 0.34669\n",
      "[89]\tvalid_0's multi_logloss: 0.346829\tvalid_0's multi_logloss: 0.346829\n",
      "[90]\tvalid_0's multi_logloss: 0.346983\tvalid_0's multi_logloss: 0.346983\n",
      "[91]\tvalid_0's multi_logloss: 0.347036\tvalid_0's multi_logloss: 0.347036\n",
      "[92]\tvalid_0's multi_logloss: 0.347125\tvalid_0's multi_logloss: 0.347125\n",
      "[93]\tvalid_0's multi_logloss: 0.347297\tvalid_0's multi_logloss: 0.347297\n",
      "[94]\tvalid_0's multi_logloss: 0.347451\tvalid_0's multi_logloss: 0.347451\n",
      "[95]\tvalid_0's multi_logloss: 0.347728\tvalid_0's multi_logloss: 0.347728\n",
      "[96]\tvalid_0's multi_logloss: 0.347911\tvalid_0's multi_logloss: 0.347911\n",
      "[97]\tvalid_0's multi_logloss: 0.348147\tvalid_0's multi_logloss: 0.348147\n",
      "[98]\tvalid_0's multi_logloss: 0.348269\tvalid_0's multi_logloss: 0.348269\n",
      "[99]\tvalid_0's multi_logloss: 0.348403\tvalid_0's multi_logloss: 0.348403\n",
      "[100]\tvalid_0's multi_logloss: 0.348471\tvalid_0's multi_logloss: 0.348471\n",
      "[101]\tvalid_0's multi_logloss: 0.348656\tvalid_0's multi_logloss: 0.348656\n",
      "[102]\tvalid_0's multi_logloss: 0.348874\tvalid_0's multi_logloss: 0.348874\n",
      "[103]\tvalid_0's multi_logloss: 0.349028\tvalid_0's multi_logloss: 0.349028\n",
      "[104]\tvalid_0's multi_logloss: 0.349216\tvalid_0's multi_logloss: 0.349216\n",
      "[105]\tvalid_0's multi_logloss: 0.34935\tvalid_0's multi_logloss: 0.34935\n",
      "[106]\tvalid_0's multi_logloss: 0.349506\tvalid_0's multi_logloss: 0.349506\n",
      "[107]\tvalid_0's multi_logloss: 0.349788\tvalid_0's multi_logloss: 0.349788\n",
      "[108]\tvalid_0's multi_logloss: 0.349833\tvalid_0's multi_logloss: 0.349833\n",
      "[109]\tvalid_0's multi_logloss: 0.350042\tvalid_0's multi_logloss: 0.350042\n",
      "[110]\tvalid_0's multi_logloss: 0.35009\tvalid_0's multi_logloss: 0.35009\n",
      "[111]\tvalid_0's multi_logloss: 0.350173\tvalid_0's multi_logloss: 0.350173\n"
     ]
    },
    {
     "name": "stdout",
     "output_type": "stream",
     "text": [
      "[112]\tvalid_0's multi_logloss: 0.350241\tvalid_0's multi_logloss: 0.350241\n",
      "[113]\tvalid_0's multi_logloss: 0.350443\tvalid_0's multi_logloss: 0.350443\n",
      "[114]\tvalid_0's multi_logloss: 0.350399\tvalid_0's multi_logloss: 0.350399\n",
      "[115]\tvalid_0's multi_logloss: 0.350669\tvalid_0's multi_logloss: 0.350669\n",
      "[116]\tvalid_0's multi_logloss: 0.350746\tvalid_0's multi_logloss: 0.350746\n",
      "[117]\tvalid_0's multi_logloss: 0.350929\tvalid_0's multi_logloss: 0.350929\n",
      "[118]\tvalid_0's multi_logloss: 0.351011\tvalid_0's multi_logloss: 0.351011\n",
      "[119]\tvalid_0's multi_logloss: 0.35116\tvalid_0's multi_logloss: 0.35116\n",
      "[120]\tvalid_0's multi_logloss: 0.351344\tvalid_0's multi_logloss: 0.351344\n",
      "[121]\tvalid_0's multi_logloss: 0.351541\tvalid_0's multi_logloss: 0.351541\n",
      "[122]\tvalid_0's multi_logloss: 0.351732\tvalid_0's multi_logloss: 0.351732\n",
      "[123]\tvalid_0's multi_logloss: 0.35184\tvalid_0's multi_logloss: 0.35184\n",
      "[124]\tvalid_0's multi_logloss: 0.352062\tvalid_0's multi_logloss: 0.352062\n",
      "[125]\tvalid_0's multi_logloss: 0.352108\tvalid_0's multi_logloss: 0.352108\n",
      "[126]\tvalid_0's multi_logloss: 0.352098\tvalid_0's multi_logloss: 0.352098\n",
      "[127]\tvalid_0's multi_logloss: 0.352305\tvalid_0's multi_logloss: 0.352305\n",
      "[128]\tvalid_0's multi_logloss: 0.352563\tvalid_0's multi_logloss: 0.352563\n",
      "[129]\tvalid_0's multi_logloss: 0.352679\tvalid_0's multi_logloss: 0.352679\n",
      "[130]\tvalid_0's multi_logloss: 0.352831\tvalid_0's multi_logloss: 0.352831\n",
      "[131]\tvalid_0's multi_logloss: 0.353017\tvalid_0's multi_logloss: 0.353017\n",
      "[132]\tvalid_0's multi_logloss: 0.353126\tvalid_0's multi_logloss: 0.353126\n",
      "[133]\tvalid_0's multi_logloss: 0.353326\tvalid_0's multi_logloss: 0.353326\n",
      "[134]\tvalid_0's multi_logloss: 0.353381\tvalid_0's multi_logloss: 0.353381\n",
      "[135]\tvalid_0's multi_logloss: 0.353666\tvalid_0's multi_logloss: 0.353666\n",
      "[136]\tvalid_0's multi_logloss: 0.353695\tvalid_0's multi_logloss: 0.353695\n",
      "[137]\tvalid_0's multi_logloss: 0.353834\tvalid_0's multi_logloss: 0.353834\n",
      "[138]\tvalid_0's multi_logloss: 0.35389\tvalid_0's multi_logloss: 0.35389\n",
      "[139]\tvalid_0's multi_logloss: 0.354123\tvalid_0's multi_logloss: 0.354123\n",
      "[140]\tvalid_0's multi_logloss: 0.354277\tvalid_0's multi_logloss: 0.354277\n",
      "[141]\tvalid_0's multi_logloss: 0.354356\tvalid_0's multi_logloss: 0.354356\n",
      "[142]\tvalid_0's multi_logloss: 0.354454\tvalid_0's multi_logloss: 0.354454\n",
      "[143]\tvalid_0's multi_logloss: 0.354653\tvalid_0's multi_logloss: 0.354653\n",
      "[144]\tvalid_0's multi_logloss: 0.354728\tvalid_0's multi_logloss: 0.354728\n",
      "[145]\tvalid_0's multi_logloss: 0.354926\tvalid_0's multi_logloss: 0.354926\n",
      "[146]\tvalid_0's multi_logloss: 0.354994\tvalid_0's multi_logloss: 0.354994\n",
      "[147]\tvalid_0's multi_logloss: 0.355135\tvalid_0's multi_logloss: 0.355135\n",
      "[148]\tvalid_0's multi_logloss: 0.355442\tvalid_0's multi_logloss: 0.355442\n",
      "[149]\tvalid_0's multi_logloss: 0.355497\tvalid_0's multi_logloss: 0.355497\n",
      "[150]\tvalid_0's multi_logloss: 0.355622\tvalid_0's multi_logloss: 0.355622\n",
      "[151]\tvalid_0's multi_logloss: 0.355668\tvalid_0's multi_logloss: 0.355668\n",
      "[152]\tvalid_0's multi_logloss: 0.355748\tvalid_0's multi_logloss: 0.355748\n",
      "[153]\tvalid_0's multi_logloss: 0.355939\tvalid_0's multi_logloss: 0.355939\n",
      "[154]\tvalid_0's multi_logloss: 0.356129\tvalid_0's multi_logloss: 0.356129\n",
      "[155]\tvalid_0's multi_logloss: 0.356335\tvalid_0's multi_logloss: 0.356335\n",
      "[156]\tvalid_0's multi_logloss: 0.356437\tvalid_0's multi_logloss: 0.356437\n",
      "[157]\tvalid_0's multi_logloss: 0.356666\tvalid_0's multi_logloss: 0.356666\n",
      "[158]\tvalid_0's multi_logloss: 0.356911\tvalid_0's multi_logloss: 0.356911\n",
      "[159]\tvalid_0's multi_logloss: 0.35693\tvalid_0's multi_logloss: 0.35693\n",
      "[160]\tvalid_0's multi_logloss: 0.356992\tvalid_0's multi_logloss: 0.356992\n",
      "[161]\tvalid_0's multi_logloss: 0.357145\tvalid_0's multi_logloss: 0.357145\n",
      "[162]\tvalid_0's multi_logloss: 0.357235\tvalid_0's multi_logloss: 0.357235\n",
      "[163]\tvalid_0's multi_logloss: 0.357284\tvalid_0's multi_logloss: 0.357284\n",
      "[164]\tvalid_0's multi_logloss: 0.357299\tvalid_0's multi_logloss: 0.357299\n",
      "[165]\tvalid_0's multi_logloss: 0.357338\tvalid_0's multi_logloss: 0.357338\n",
      "[166]\tvalid_0's multi_logloss: 0.357358\tvalid_0's multi_logloss: 0.357358\n",
      "[167]\tvalid_0's multi_logloss: 0.357487\tvalid_0's multi_logloss: 0.357487\n",
      "[168]\tvalid_0's multi_logloss: 0.357564\tvalid_0's multi_logloss: 0.357564\n",
      "[169]\tvalid_0's multi_logloss: 0.357659\tvalid_0's multi_logloss: 0.357659\n",
      "[170]\tvalid_0's multi_logloss: 0.357796\tvalid_0's multi_logloss: 0.357796\n",
      "[171]\tvalid_0's multi_logloss: 0.357887\tvalid_0's multi_logloss: 0.357887\n",
      "[172]\tvalid_0's multi_logloss: 0.357989\tvalid_0's multi_logloss: 0.357989\n",
      "[173]\tvalid_0's multi_logloss: 0.358063\tvalid_0's multi_logloss: 0.358063\n",
      "[174]\tvalid_0's multi_logloss: 0.358091\tvalid_0's multi_logloss: 0.358091\n",
      "[175]\tvalid_0's multi_logloss: 0.358254\tvalid_0's multi_logloss: 0.358254\n",
      "[176]\tvalid_0's multi_logloss: 0.358372\tvalid_0's multi_logloss: 0.358372\n",
      "[177]\tvalid_0's multi_logloss: 0.358595\tvalid_0's multi_logloss: 0.358595\n",
      "[178]\tvalid_0's multi_logloss: 0.358628\tvalid_0's multi_logloss: 0.358628\n",
      "[179]\tvalid_0's multi_logloss: 0.358686\tvalid_0's multi_logloss: 0.358686\n",
      "[180]\tvalid_0's multi_logloss: 0.358771\tvalid_0's multi_logloss: 0.358771\n",
      "[181]\tvalid_0's multi_logloss: 0.358801\tvalid_0's multi_logloss: 0.358801\n",
      "[182]\tvalid_0's multi_logloss: 0.358763\tvalid_0's multi_logloss: 0.358763\n",
      "[183]\tvalid_0's multi_logloss: 0.358858\tvalid_0's multi_logloss: 0.358858\n",
      "[184]\tvalid_0's multi_logloss: 0.358911\tvalid_0's multi_logloss: 0.358911\n",
      "[185]\tvalid_0's multi_logloss: 0.359049\tvalid_0's multi_logloss: 0.359049\n",
      "[186]\tvalid_0's multi_logloss: 0.35911\tvalid_0's multi_logloss: 0.35911\n",
      "[187]\tvalid_0's multi_logloss: 0.359166\tvalid_0's multi_logloss: 0.359166\n",
      "[188]\tvalid_0's multi_logloss: 0.359231\tvalid_0's multi_logloss: 0.359231\n",
      "[189]\tvalid_0's multi_logloss: 0.359306\tvalid_0's multi_logloss: 0.359306\n",
      "[190]\tvalid_0's multi_logloss: 0.359391\tvalid_0's multi_logloss: 0.359391\n",
      "[191]\tvalid_0's multi_logloss: 0.359413\tvalid_0's multi_logloss: 0.359413\n",
      "[192]\tvalid_0's multi_logloss: 0.359584\tvalid_0's multi_logloss: 0.359584\n",
      "[193]\tvalid_0's multi_logloss: 0.359733\tvalid_0's multi_logloss: 0.359733\n",
      "[194]\tvalid_0's multi_logloss: 0.359742\tvalid_0's multi_logloss: 0.359742\n",
      "[195]\tvalid_0's multi_logloss: 0.359799\tvalid_0's multi_logloss: 0.359799\n",
      "[196]\tvalid_0's multi_logloss: 0.359836\tvalid_0's multi_logloss: 0.359836\n",
      "[197]\tvalid_0's multi_logloss: 0.359846\tvalid_0's multi_logloss: 0.359846\n",
      "[198]\tvalid_0's multi_logloss: 0.359958\tvalid_0's multi_logloss: 0.359958\n",
      "[199]\tvalid_0's multi_logloss: 0.359964\tvalid_0's multi_logloss: 0.359964\n",
      "[200]\tvalid_0's multi_logloss: 0.359969\tvalid_0's multi_logloss: 0.359969\n",
      "[201]\tvalid_0's multi_logloss: 0.359957\tvalid_0's multi_logloss: 0.359957\n",
      "[202]\tvalid_0's multi_logloss: 0.359952\tvalid_0's multi_logloss: 0.359952\n",
      "[203]\tvalid_0's multi_logloss: 0.359926\tvalid_0's multi_logloss: 0.359926\n",
      "[204]\tvalid_0's multi_logloss: 0.359926\tvalid_0's multi_logloss: 0.359926\n",
      "[205]\tvalid_0's multi_logloss: 0.359926\tvalid_0's multi_logloss: 0.359926\n",
      "[206]\tvalid_0's multi_logloss: 0.359926\tvalid_0's multi_logloss: 0.359926\n",
      "[207]\tvalid_0's multi_logloss: 0.359926\tvalid_0's multi_logloss: 0.359926\n",
      "[208]\tvalid_0's multi_logloss: 0.359926\tvalid_0's multi_logloss: 0.359926\n",
      "[209]\tvalid_0's multi_logloss: 0.359926\tvalid_0's multi_logloss: 0.359926\n",
      "[210]\tvalid_0's multi_logloss: 0.359926\tvalid_0's multi_logloss: 0.359926\n",
      "[211]\tvalid_0's multi_logloss: 0.359926\tvalid_0's multi_logloss: 0.359926\n",
      "Early stopping, best iteration is:\n",
      "[11]\tvalid_0's multi_logloss: 0.333956\tvalid_0's multi_logloss: 0.333956\n",
      "    1 | 00m09s | \u001b[35m   0.86060\u001b[0m | \u001b[32m     0.1749\u001b[0m | \u001b[32m     0.5100\u001b[0m | \u001b[32m         0.7752\u001b[0m | \u001b[32m    99.4704\u001b[0m | \u001b[32m          389.5666\u001b[0m | \u001b[32m          0.1053\u001b[0m | \u001b[32m      971.5627\u001b[0m | \u001b[32m    509.3642\u001b[0m | \n",
      "\u001b[31mBayesian Optimization\u001b[0m\n",
      "\u001b[94m-----------------------------------------------------------------------------------------------------------------------------------------------------------------\u001b[0m\n",
      " Step |   Time |      Value |   lambda_l1 |   lambda_l2 |   learning_rate |   max_depth |   min_child_weight |   min_split_gain |   n_estimators |   num_leaves | \n",
      "[1]\tvalid_0's multi_logloss: 0.517506\tvalid_0's multi_logloss: 0.517506\n",
      "Training until validation scores don't improve for 200 rounds.\n",
      "[2]\tvalid_0's multi_logloss: 0.403627\tvalid_0's multi_logloss: 0.403627\n",
      "[3]\tvalid_0's multi_logloss: 0.362812\tvalid_0's multi_logloss: 0.362812\n",
      "[4]\tvalid_0's multi_logloss: 0.346565\tvalid_0's multi_logloss: 0.346565\n",
      "[5]\tvalid_0's multi_logloss: 0.33913\tvalid_0's multi_logloss: 0.33913\n"
     ]
    },
    {
     "name": "stdout",
     "output_type": "stream",
     "text": [
      "[6]\tvalid_0's multi_logloss: 0.336385\tvalid_0's multi_logloss: 0.336385\n",
      "[7]\tvalid_0's multi_logloss: 0.335547\tvalid_0's multi_logloss: 0.335547\n",
      "[8]\tvalid_0's multi_logloss: 0.335388\tvalid_0's multi_logloss: 0.335388\n",
      "[9]\tvalid_0's multi_logloss: 0.335055\tvalid_0's multi_logloss: 0.335055\n",
      "[10]\tvalid_0's multi_logloss: 0.335145\tvalid_0's multi_logloss: 0.335145\n",
      "[11]\tvalid_0's multi_logloss: 0.334957\tvalid_0's multi_logloss: 0.334957\n",
      "[12]\tvalid_0's multi_logloss: 0.334864\tvalid_0's multi_logloss: 0.334864\n",
      "[13]\tvalid_0's multi_logloss: 0.334969\tvalid_0's multi_logloss: 0.334969\n",
      "[14]\tvalid_0's multi_logloss: 0.335182\tvalid_0's multi_logloss: 0.335182\n",
      "[15]\tvalid_0's multi_logloss: 0.335523\tvalid_0's multi_logloss: 0.335523\n",
      "[16]\tvalid_0's multi_logloss: 0.335531\tvalid_0's multi_logloss: 0.335531\n",
      "[17]\tvalid_0's multi_logloss: 0.335371\tvalid_0's multi_logloss: 0.335371\n",
      "[18]\tvalid_0's multi_logloss: 0.335497\tvalid_0's multi_logloss: 0.335497\n",
      "[19]\tvalid_0's multi_logloss: 0.335715\tvalid_0's multi_logloss: 0.335715\n",
      "[20]\tvalid_0's multi_logloss: 0.335533\tvalid_0's multi_logloss: 0.335533\n",
      "[21]\tvalid_0's multi_logloss: 0.335594\tvalid_0's multi_logloss: 0.335594\n",
      "[22]\tvalid_0's multi_logloss: 0.335873\tvalid_0's multi_logloss: 0.335873\n",
      "[23]\tvalid_0's multi_logloss: 0.336005\tvalid_0's multi_logloss: 0.336005\n",
      "[24]\tvalid_0's multi_logloss: 0.33618\tvalid_0's multi_logloss: 0.33618\n",
      "[25]\tvalid_0's multi_logloss: 0.336564\tvalid_0's multi_logloss: 0.336564\n",
      "[26]\tvalid_0's multi_logloss: 0.336855\tvalid_0's multi_logloss: 0.336855\n",
      "[27]\tvalid_0's multi_logloss: 0.337025\tvalid_0's multi_logloss: 0.337025\n",
      "[28]\tvalid_0's multi_logloss: 0.337298\tvalid_0's multi_logloss: 0.337298\n",
      "[29]\tvalid_0's multi_logloss: 0.337464\tvalid_0's multi_logloss: 0.337464\n",
      "[30]\tvalid_0's multi_logloss: 0.337583\tvalid_0's multi_logloss: 0.337583\n",
      "[31]\tvalid_0's multi_logloss: 0.337898\tvalid_0's multi_logloss: 0.337898\n",
      "[32]\tvalid_0's multi_logloss: 0.338077\tvalid_0's multi_logloss: 0.338077\n",
      "[33]\tvalid_0's multi_logloss: 0.338281\tvalid_0's multi_logloss: 0.338281\n",
      "[34]\tvalid_0's multi_logloss: 0.338515\tvalid_0's multi_logloss: 0.338515\n",
      "[35]\tvalid_0's multi_logloss: 0.338486\tvalid_0's multi_logloss: 0.338486\n",
      "[36]\tvalid_0's multi_logloss: 0.338535\tvalid_0's multi_logloss: 0.338535\n",
      "[37]\tvalid_0's multi_logloss: 0.338671\tvalid_0's multi_logloss: 0.338671\n",
      "[38]\tvalid_0's multi_logloss: 0.338677\tvalid_0's multi_logloss: 0.338677\n",
      "[39]\tvalid_0's multi_logloss: 0.338859\tvalid_0's multi_logloss: 0.338859\n",
      "[40]\tvalid_0's multi_logloss: 0.338874\tvalid_0's multi_logloss: 0.338874\n",
      "[41]\tvalid_0's multi_logloss: 0.338916\tvalid_0's multi_logloss: 0.338916\n",
      "[42]\tvalid_0's multi_logloss: 0.338871\tvalid_0's multi_logloss: 0.338871\n",
      "[43]\tvalid_0's multi_logloss: 0.338884\tvalid_0's multi_logloss: 0.338884\n",
      "[44]\tvalid_0's multi_logloss: 0.338952\tvalid_0's multi_logloss: 0.338952\n",
      "[45]\tvalid_0's multi_logloss: 0.338891\tvalid_0's multi_logloss: 0.338891\n",
      "[46]\tvalid_0's multi_logloss: 0.33906\tvalid_0's multi_logloss: 0.33906\n",
      "[47]\tvalid_0's multi_logloss: 0.339055\tvalid_0's multi_logloss: 0.339055\n",
      "[48]\tvalid_0's multi_logloss: 0.339114\tvalid_0's multi_logloss: 0.339114\n",
      "[49]\tvalid_0's multi_logloss: 0.339144\tvalid_0's multi_logloss: 0.339144\n",
      "[50]\tvalid_0's multi_logloss: 0.339161\tvalid_0's multi_logloss: 0.339161\n",
      "[51]\tvalid_0's multi_logloss: 0.339157\tvalid_0's multi_logloss: 0.339157\n",
      "[52]\tvalid_0's multi_logloss: 0.339154\tvalid_0's multi_logloss: 0.339154\n",
      "[53]\tvalid_0's multi_logloss: 0.33916\tvalid_0's multi_logloss: 0.33916\n",
      "[54]\tvalid_0's multi_logloss: 0.339164\tvalid_0's multi_logloss: 0.339164\n",
      "[55]\tvalid_0's multi_logloss: 0.339164\tvalid_0's multi_logloss: 0.339164\n",
      "[56]\tvalid_0's multi_logloss: 0.339164\tvalid_0's multi_logloss: 0.339164\n",
      "[57]\tvalid_0's multi_logloss: 0.339164\tvalid_0's multi_logloss: 0.339164\n",
      "[58]\tvalid_0's multi_logloss: 0.339164\tvalid_0's multi_logloss: 0.339164\n",
      "[59]\tvalid_0's multi_logloss: 0.339164\tvalid_0's multi_logloss: 0.339164\n",
      "[60]\tvalid_0's multi_logloss: 0.339164\tvalid_0's multi_logloss: 0.339164\n",
      "[61]\tvalid_0's multi_logloss: 0.339164\tvalid_0's multi_logloss: 0.339164\n",
      "[62]\tvalid_0's multi_logloss: 0.339164\tvalid_0's multi_logloss: 0.339164\n",
      "[63]\tvalid_0's multi_logloss: 0.339164\tvalid_0's multi_logloss: 0.339164\n",
      "[64]\tvalid_0's multi_logloss: 0.339164\tvalid_0's multi_logloss: 0.339164\n",
      "[65]\tvalid_0's multi_logloss: 0.339164\tvalid_0's multi_logloss: 0.339164\n",
      "[66]\tvalid_0's multi_logloss: 0.339164\tvalid_0's multi_logloss: 0.339164\n",
      "[67]\tvalid_0's multi_logloss: 0.339164\tvalid_0's multi_logloss: 0.339164\n",
      "[68]\tvalid_0's multi_logloss: 0.339164\tvalid_0's multi_logloss: 0.339164\n",
      "[69]\tvalid_0's multi_logloss: 0.339164\tvalid_0's multi_logloss: 0.339164\n",
      "[70]\tvalid_0's multi_logloss: 0.339164\tvalid_0's multi_logloss: 0.339164\n",
      "[71]\tvalid_0's multi_logloss: 0.339164\tvalid_0's multi_logloss: 0.339164\n",
      "[72]\tvalid_0's multi_logloss: 0.339164\tvalid_0's multi_logloss: 0.339164\n",
      "[73]\tvalid_0's multi_logloss: 0.339164\tvalid_0's multi_logloss: 0.339164\n",
      "[74]\tvalid_0's multi_logloss: 0.339164\tvalid_0's multi_logloss: 0.339164\n",
      "[75]\tvalid_0's multi_logloss: 0.339164\tvalid_0's multi_logloss: 0.339164\n",
      "[76]\tvalid_0's multi_logloss: 0.339164\tvalid_0's multi_logloss: 0.339164\n",
      "[77]\tvalid_0's multi_logloss: 0.339164\tvalid_0's multi_logloss: 0.339164\n",
      "[78]\tvalid_0's multi_logloss: 0.339164\tvalid_0's multi_logloss: 0.339164\n",
      "[79]\tvalid_0's multi_logloss: 0.339164\tvalid_0's multi_logloss: 0.339164\n",
      "[80]\tvalid_0's multi_logloss: 0.339164\tvalid_0's multi_logloss: 0.339164\n",
      "[81]\tvalid_0's multi_logloss: 0.339164\tvalid_0's multi_logloss: 0.339164\n",
      "[82]\tvalid_0's multi_logloss: 0.339164\tvalid_0's multi_logloss: 0.339164\n",
      "[83]\tvalid_0's multi_logloss: 0.339164\tvalid_0's multi_logloss: 0.339164\n",
      "[84]\tvalid_0's multi_logloss: 0.339164\tvalid_0's multi_logloss: 0.339164\n",
      "[85]\tvalid_0's multi_logloss: 0.339164\tvalid_0's multi_logloss: 0.339164\n",
      "[86]\tvalid_0's multi_logloss: 0.339164\tvalid_0's multi_logloss: 0.339164\n",
      "[87]\tvalid_0's multi_logloss: 0.339164\tvalid_0's multi_logloss: 0.339164\n",
      "[88]\tvalid_0's multi_logloss: 0.339164\tvalid_0's multi_logloss: 0.339164\n",
      "[89]\tvalid_0's multi_logloss: 0.339164\tvalid_0's multi_logloss: 0.339164\n",
      "[90]\tvalid_0's multi_logloss: 0.339164\tvalid_0's multi_logloss: 0.339164\n",
      "[91]\tvalid_0's multi_logloss: 0.339164\tvalid_0's multi_logloss: 0.339164\n",
      "[92]\tvalid_0's multi_logloss: 0.339164\tvalid_0's multi_logloss: 0.339164\n",
      "[93]\tvalid_0's multi_logloss: 0.339164\tvalid_0's multi_logloss: 0.339164\n",
      "[94]\tvalid_0's multi_logloss: 0.339164\tvalid_0's multi_logloss: 0.339164\n",
      "[95]\tvalid_0's multi_logloss: 0.339164\tvalid_0's multi_logloss: 0.339164\n",
      "[96]\tvalid_0's multi_logloss: 0.339164\tvalid_0's multi_logloss: 0.339164\n",
      "[97]\tvalid_0's multi_logloss: 0.339164\tvalid_0's multi_logloss: 0.339164\n",
      "[98]\tvalid_0's multi_logloss: 0.339164\tvalid_0's multi_logloss: 0.339164\n",
      "[99]\tvalid_0's multi_logloss: 0.339164\tvalid_0's multi_logloss: 0.339164\n",
      "[100]\tvalid_0's multi_logloss: 0.339164\tvalid_0's multi_logloss: 0.339164\n",
      "[101]\tvalid_0's multi_logloss: 0.339164\tvalid_0's multi_logloss: 0.339164\n",
      "[102]\tvalid_0's multi_logloss: 0.339164\tvalid_0's multi_logloss: 0.339164\n",
      "[103]\tvalid_0's multi_logloss: 0.339164\tvalid_0's multi_logloss: 0.339164\n",
      "[104]\tvalid_0's multi_logloss: 0.339164\tvalid_0's multi_logloss: 0.339164\n",
      "[105]\tvalid_0's multi_logloss: 0.339164\tvalid_0's multi_logloss: 0.339164\n",
      "[106]\tvalid_0's multi_logloss: 0.339164\tvalid_0's multi_logloss: 0.339164\n",
      "[107]\tvalid_0's multi_logloss: 0.339164\tvalid_0's multi_logloss: 0.339164\n",
      "[108]\tvalid_0's multi_logloss: 0.339164\tvalid_0's multi_logloss: 0.339164\n",
      "[109]\tvalid_0's multi_logloss: 0.339164\tvalid_0's multi_logloss: 0.339164\n",
      "[110]\tvalid_0's multi_logloss: 0.339164\tvalid_0's multi_logloss: 0.339164\n",
      "[111]\tvalid_0's multi_logloss: 0.339164\tvalid_0's multi_logloss: 0.339164\n",
      "[112]\tvalid_0's multi_logloss: 0.339164\tvalid_0's multi_logloss: 0.339164\n",
      "[113]\tvalid_0's multi_logloss: 0.339164\tvalid_0's multi_logloss: 0.339164\n",
      "[114]\tvalid_0's multi_logloss: 0.339164\tvalid_0's multi_logloss: 0.339164\n",
      "[115]\tvalid_0's multi_logloss: 0.339164\tvalid_0's multi_logloss: 0.339164\n",
      "[116]\tvalid_0's multi_logloss: 0.339164\tvalid_0's multi_logloss: 0.339164\n",
      "[117]\tvalid_0's multi_logloss: 0.339164\tvalid_0's multi_logloss: 0.339164\n",
      "[118]\tvalid_0's multi_logloss: 0.339164\tvalid_0's multi_logloss: 0.339164\n",
      "[119]\tvalid_0's multi_logloss: 0.339164\tvalid_0's multi_logloss: 0.339164\n",
      "[120]\tvalid_0's multi_logloss: 0.339164\tvalid_0's multi_logloss: 0.339164\n"
     ]
    },
    {
     "name": "stdout",
     "output_type": "stream",
     "text": [
      "[121]\tvalid_0's multi_logloss: 0.339164\tvalid_0's multi_logloss: 0.339164\n",
      "[122]\tvalid_0's multi_logloss: 0.339164\tvalid_0's multi_logloss: 0.339164\n",
      "[123]\tvalid_0's multi_logloss: 0.339164\tvalid_0's multi_logloss: 0.339164\n",
      "[124]\tvalid_0's multi_logloss: 0.339164\tvalid_0's multi_logloss: 0.339164\n",
      "[125]\tvalid_0's multi_logloss: 0.339164\tvalid_0's multi_logloss: 0.339164\n",
      "[126]\tvalid_0's multi_logloss: 0.339164\tvalid_0's multi_logloss: 0.339164\n",
      "[127]\tvalid_0's multi_logloss: 0.339164\tvalid_0's multi_logloss: 0.339164\n",
      "[128]\tvalid_0's multi_logloss: 0.339164\tvalid_0's multi_logloss: 0.339164\n",
      "[129]\tvalid_0's multi_logloss: 0.339164\tvalid_0's multi_logloss: 0.339164\n",
      "[130]\tvalid_0's multi_logloss: 0.339164\tvalid_0's multi_logloss: 0.339164\n",
      "[131]\tvalid_0's multi_logloss: 0.339164\tvalid_0's multi_logloss: 0.339164\n",
      "[132]\tvalid_0's multi_logloss: 0.339164\tvalid_0's multi_logloss: 0.339164\n",
      "[133]\tvalid_0's multi_logloss: 0.339164\tvalid_0's multi_logloss: 0.339164\n",
      "[134]\tvalid_0's multi_logloss: 0.339164\tvalid_0's multi_logloss: 0.339164\n",
      "[135]\tvalid_0's multi_logloss: 0.339164\tvalid_0's multi_logloss: 0.339164\n",
      "[136]\tvalid_0's multi_logloss: 0.339164\tvalid_0's multi_logloss: 0.339164\n",
      "[137]\tvalid_0's multi_logloss: 0.339164\tvalid_0's multi_logloss: 0.339164\n",
      "[138]\tvalid_0's multi_logloss: 0.339164\tvalid_0's multi_logloss: 0.339164\n",
      "[139]\tvalid_0's multi_logloss: 0.339164\tvalid_0's multi_logloss: 0.339164\n",
      "[140]\tvalid_0's multi_logloss: 0.339164\tvalid_0's multi_logloss: 0.339164\n",
      "[141]\tvalid_0's multi_logloss: 0.339164\tvalid_0's multi_logloss: 0.339164\n",
      "[142]\tvalid_0's multi_logloss: 0.339164\tvalid_0's multi_logloss: 0.339164\n",
      "[143]\tvalid_0's multi_logloss: 0.339164\tvalid_0's multi_logloss: 0.339164\n",
      "[144]\tvalid_0's multi_logloss: 0.339164\tvalid_0's multi_logloss: 0.339164\n",
      "[145]\tvalid_0's multi_logloss: 0.339164\tvalid_0's multi_logloss: 0.339164\n",
      "[146]\tvalid_0's multi_logloss: 0.339164\tvalid_0's multi_logloss: 0.339164\n",
      "[147]\tvalid_0's multi_logloss: 0.339164\tvalid_0's multi_logloss: 0.339164\n",
      "[148]\tvalid_0's multi_logloss: 0.339164\tvalid_0's multi_logloss: 0.339164\n",
      "[149]\tvalid_0's multi_logloss: 0.339164\tvalid_0's multi_logloss: 0.339164\n",
      "[150]\tvalid_0's multi_logloss: 0.339164\tvalid_0's multi_logloss: 0.339164\n",
      "[151]\tvalid_0's multi_logloss: 0.339164\tvalid_0's multi_logloss: 0.339164\n",
      "[152]\tvalid_0's multi_logloss: 0.339164\tvalid_0's multi_logloss: 0.339164\n",
      "[153]\tvalid_0's multi_logloss: 0.339164\tvalid_0's multi_logloss: 0.339164\n",
      "[154]\tvalid_0's multi_logloss: 0.339164\tvalid_0's multi_logloss: 0.339164\n",
      "[155]\tvalid_0's multi_logloss: 0.339164\tvalid_0's multi_logloss: 0.339164\n",
      "[156]\tvalid_0's multi_logloss: 0.339164\tvalid_0's multi_logloss: 0.339164\n",
      "[157]\tvalid_0's multi_logloss: 0.339164\tvalid_0's multi_logloss: 0.339164\n",
      "[158]\tvalid_0's multi_logloss: 0.339164\tvalid_0's multi_logloss: 0.339164\n",
      "[159]\tvalid_0's multi_logloss: 0.339164\tvalid_0's multi_logloss: 0.339164\n",
      "[160]\tvalid_0's multi_logloss: 0.339164\tvalid_0's multi_logloss: 0.339164\n",
      "[161]\tvalid_0's multi_logloss: 0.339164\tvalid_0's multi_logloss: 0.339164\n",
      "[162]\tvalid_0's multi_logloss: 0.339164\tvalid_0's multi_logloss: 0.339164\n",
      "[163]\tvalid_0's multi_logloss: 0.339164\tvalid_0's multi_logloss: 0.339164\n",
      "[164]\tvalid_0's multi_logloss: 0.339164\tvalid_0's multi_logloss: 0.339164\n",
      "[165]\tvalid_0's multi_logloss: 0.339164\tvalid_0's multi_logloss: 0.339164\n",
      "[166]\tvalid_0's multi_logloss: 0.339164\tvalid_0's multi_logloss: 0.339164\n",
      "[167]\tvalid_0's multi_logloss: 0.339164\tvalid_0's multi_logloss: 0.339164\n",
      "[168]\tvalid_0's multi_logloss: 0.339164\tvalid_0's multi_logloss: 0.339164\n",
      "[169]\tvalid_0's multi_logloss: 0.339164\tvalid_0's multi_logloss: 0.339164\n",
      "[170]\tvalid_0's multi_logloss: 0.339164\tvalid_0's multi_logloss: 0.339164\n",
      "[171]\tvalid_0's multi_logloss: 0.339164\tvalid_0's multi_logloss: 0.339164\n",
      "[172]\tvalid_0's multi_logloss: 0.339164\tvalid_0's multi_logloss: 0.339164\n",
      "[173]\tvalid_0's multi_logloss: 0.339164\tvalid_0's multi_logloss: 0.339164\n",
      "[174]\tvalid_0's multi_logloss: 0.339164\tvalid_0's multi_logloss: 0.339164\n",
      "[175]\tvalid_0's multi_logloss: 0.339164\tvalid_0's multi_logloss: 0.339164\n",
      "[176]\tvalid_0's multi_logloss: 0.339164\tvalid_0's multi_logloss: 0.339164\n",
      "[177]\tvalid_0's multi_logloss: 0.339164\tvalid_0's multi_logloss: 0.339164\n",
      "[178]\tvalid_0's multi_logloss: 0.339164\tvalid_0's multi_logloss: 0.339164\n",
      "[179]\tvalid_0's multi_logloss: 0.339164\tvalid_0's multi_logloss: 0.339164\n",
      "[180]\tvalid_0's multi_logloss: 0.339164\tvalid_0's multi_logloss: 0.339164\n",
      "[181]\tvalid_0's multi_logloss: 0.339164\tvalid_0's multi_logloss: 0.339164\n",
      "[182]\tvalid_0's multi_logloss: 0.339164\tvalid_0's multi_logloss: 0.339164\n",
      "[183]\tvalid_0's multi_logloss: 0.339164\tvalid_0's multi_logloss: 0.339164\n",
      "[184]\tvalid_0's multi_logloss: 0.339164\tvalid_0's multi_logloss: 0.339164\n",
      "[185]\tvalid_0's multi_logloss: 0.339164\tvalid_0's multi_logloss: 0.339164\n",
      "[186]\tvalid_0's multi_logloss: 0.339164\tvalid_0's multi_logloss: 0.339164\n",
      "[187]\tvalid_0's multi_logloss: 0.339164\tvalid_0's multi_logloss: 0.339164\n",
      "[188]\tvalid_0's multi_logloss: 0.339164\tvalid_0's multi_logloss: 0.339164\n",
      "[189]\tvalid_0's multi_logloss: 0.339164\tvalid_0's multi_logloss: 0.339164\n",
      "[190]\tvalid_0's multi_logloss: 0.339164\tvalid_0's multi_logloss: 0.339164\n",
      "[191]\tvalid_0's multi_logloss: 0.339164\tvalid_0's multi_logloss: 0.339164\n",
      "[192]\tvalid_0's multi_logloss: 0.339164\tvalid_0's multi_logloss: 0.339164\n",
      "[193]\tvalid_0's multi_logloss: 0.339164\tvalid_0's multi_logloss: 0.339164\n",
      "[194]\tvalid_0's multi_logloss: 0.339164\tvalid_0's multi_logloss: 0.339164\n",
      "[195]\tvalid_0's multi_logloss: 0.339164\tvalid_0's multi_logloss: 0.339164\n",
      "[196]\tvalid_0's multi_logloss: 0.339164\tvalid_0's multi_logloss: 0.339164\n",
      "[197]\tvalid_0's multi_logloss: 0.339164\tvalid_0's multi_logloss: 0.339164\n",
      "[198]\tvalid_0's multi_logloss: 0.339164\tvalid_0's multi_logloss: 0.339164\n",
      "[199]\tvalid_0's multi_logloss: 0.339164\tvalid_0's multi_logloss: 0.339164\n",
      "[200]\tvalid_0's multi_logloss: 0.339164\tvalid_0's multi_logloss: 0.339164\n",
      "[201]\tvalid_0's multi_logloss: 0.339164\tvalid_0's multi_logloss: 0.339164\n",
      "[202]\tvalid_0's multi_logloss: 0.339164\tvalid_0's multi_logloss: 0.339164\n",
      "[203]\tvalid_0's multi_logloss: 0.339164\tvalid_0's multi_logloss: 0.339164\n",
      "[204]\tvalid_0's multi_logloss: 0.339164\tvalid_0's multi_logloss: 0.339164\n",
      "[205]\tvalid_0's multi_logloss: 0.339164\tvalid_0's multi_logloss: 0.339164\n",
      "[206]\tvalid_0's multi_logloss: 0.339164\tvalid_0's multi_logloss: 0.339164\n",
      "[207]\tvalid_0's multi_logloss: 0.339164\tvalid_0's multi_logloss: 0.339164\n",
      "[208]\tvalid_0's multi_logloss: 0.339164\tvalid_0's multi_logloss: 0.339164\n",
      "[209]\tvalid_0's multi_logloss: 0.339164\tvalid_0's multi_logloss: 0.339164\n",
      "[210]\tvalid_0's multi_logloss: 0.339164\tvalid_0's multi_logloss: 0.339164\n",
      "[211]\tvalid_0's multi_logloss: 0.339164\tvalid_0's multi_logloss: 0.339164\n",
      "[212]\tvalid_0's multi_logloss: 0.339164\tvalid_0's multi_logloss: 0.339164\n",
      "Early stopping, best iteration is:\n",
      "[12]\tvalid_0's multi_logloss: 0.334864\tvalid_0's multi_logloss: 0.334864\n",
      "    2 | 00m05s | \u001b[35m   0.86068\u001b[0m | \u001b[32m     0.6359\u001b[0m | \u001b[32m     1.5989\u001b[0m | \u001b[32m         0.8452\u001b[0m | \u001b[32m    96.6816\u001b[0m | \u001b[32m          382.1430\u001b[0m | \u001b[32m          0.3271\u001b[0m | \u001b[32m      975.2053\u001b[0m | \u001b[32m    512.2811\u001b[0m | \n"
     ]
    }
   ],
   "source": [
    "opt_params = bayes_parameter_opt_lgb(X_train, y_train, X_validate, y_validate, init_round=1, opt_round=1)"
   ]
  },
  {
   "cell_type": "code",
   "execution_count": 163,
   "metadata": {},
   "outputs": [
    {
     "data": {
      "text/plain": [
       "{'max_val': 0.8606817741623087,\n",
       " 'max_params': {'learning_rate': 0.8452193147776897,\n",
       "  'n_estimators': 975.2053168635805,\n",
       "  'num_leaves': 512.281120492506,\n",
       "  'max_depth': 96.68159655124637,\n",
       "  'lambda_l1': 0.6359469388237938,\n",
       "  'lambda_l2': 1.5989495850645994,\n",
       "  'min_split_gain': 0.3270589793835691,\n",
       "  'min_child_weight': 382.14300153947573}}"
      ]
     },
     "execution_count": 163,
     "metadata": {},
     "output_type": "execute_result"
    }
   ],
   "source": [
    "opt_params.res['max']"
   ]
  },
  {
   "cell_type": "code",
   "execution_count": null,
   "metadata": {},
   "outputs": [],
   "source": [
    "# 0.8627348440828976\n",
    "# {'learning_rate': 0.1386500136508193,\n",
    "#  'n_estimators': 358.05178999366126,\n",
    "#  'num_leaves': 411.83694928592564,\n",
    "#  'max_depth': 58.410142023835064,\n",
    "#  'lambda_l1': 0.9946285477898449,\n",
    "#  'lambda_l2': 3.6479877739422446,\n",
    "#  'min_split_gain': 0.3772608807213311,\n",
    "#  'min_child_weight': 193.91574405974183}\n",
    "\n",
    "\n",
    "# {'max_val': 0.863257795855123,\n",
    "#  'max_params': {'learning_rate': 0.27201596157942154,\n",
    "#   'n_estimators': 993.3688372520834,\n",
    "#   'num_leaves': 574.7187524038648,\n",
    "#   'max_depth': 62.488789829408745,\n",
    "#   'lambda_l1': 0.3493254134565104,\n",
    "#   'lambda_l2': 0.10893183989673129,\n",
    "#   'min_split_gain': 0.2238516674953104,\n",
    "#   'min_child_weight': 359.24528857050746}}"
   ]
  },
  {
   "cell_type": "markdown",
   "metadata": {},
   "source": [
    "## 7.0 Final LightGBM Model Implementation"
   ]
  },
  {
   "cell_type": "code",
   "execution_count": 96,
   "metadata": {},
   "outputs": [],
   "source": [
    "# numeric_features = ['usd_goal_real', 'backers', 'name_length', \n",
    "#                      'name_num_words', 'launch_month', \n",
    "#                      'duration_launched_month', 'launch_year','usd_goal_per_backer',\n",
    "#                    'deadline_year', 'deadline_month']\n",
    "numeric_features = ['goal', 'backers', 'usd_goal_real', 'name_length',\n",
    "                   'name_num_words', 'launch_month', 'duration_launched_month',\n",
    "                   'launch_year', 'usd_goal_per_backer', 'deadline_year', 'deadline_month',\n",
    "                   'usd_goal_per_month', 'usd_goal_per_month_per_backer',\n",
    "                   'backers_per_month']\n",
    "# numeric_features = ['goal', 'backers', 'usd_goal_real', 'name_length',\n",
    "#        'name_num_words', 'launch_month', 'duration_launched_month',\n",
    "#        'launch_year', 'deadline_year', 'deadline_month', 'usd_goal_per_backer',\n",
    "#        'usd_goal_per_month', 'backers_per_month',\n",
    "#        'usd_goal_per_month_per_backer', 'month_10', 'month_11', 'month_2',\n",
    "#        'month_3', 'month_4', 'month_8', 'month_6', 'month_7', 'month_5',\n",
    "#        'month_9', 'month_1', 'month_12']\n",
    "\n",
    "categorical_features = ['category', 'main_category', 'country', 'main_category-category']\n",
    "y = data_v3['new_state']"
   ]
  },
  {
   "cell_type": "code",
   "execution_count": 97,
   "metadata": {},
   "outputs": [
    {
     "name": "stderr",
     "output_type": "stream",
     "text": [
      "/Users/joashc/anaconda3/lib/python3.6/site-packages/sklearn/preprocessing/data.py:323: DataConversionWarning: Data with input dtype int64, float64 were all converted to float64 by MinMaxScaler.\n",
      "  return self.partial_fit(X, y)\n"
     ]
    }
   ],
   "source": [
    "numerical_data = data_v3[numeric_features]\n",
    "scaler = MinMaxScaler()\n",
    "numerical_data_scaled = pd.DataFrame(scaler.fit_transform(numerical_data), columns = numerical_data.columns)"
   ]
  },
  {
   "cell_type": "code",
   "execution_count": 98,
   "metadata": {},
   "outputs": [
    {
     "name": "stderr",
     "output_type": "stream",
     "text": [
      "/Users/joashc/anaconda3/lib/python3.6/site-packages/ipykernel_launcher.py:3: SettingWithCopyWarning: \n",
      "A value is trying to be set on a copy of a slice from a DataFrame.\n",
      "Try using .loc[row_indexer,col_indexer] = value instead\n",
      "\n",
      "See the caveats in the documentation: http://pandas.pydata.org/pandas-docs/stable/indexing.html#indexing-view-versus-copy\n",
      "  This is separate from the ipykernel package so we can avoid doing imports until\n"
     ]
    },
    {
     "data": {
      "text/plain": [
       "category                  category\n",
       "main_category             category\n",
       "country                   category\n",
       "main_category-category    category\n",
       "dtype: object"
      ]
     },
     "execution_count": 98,
     "metadata": {},
     "output_type": "execute_result"
    }
   ],
   "source": [
    "categorical_data = data_v3[categorical_features]\n",
    "for col in categorical_data.columns: \n",
    "     categorical_data[col] = categorical_data[col].astype('category')\n",
    "\n",
    "categorical_data.dtypes"
   ]
  },
  {
   "cell_type": "code",
   "execution_count": 99,
   "metadata": {},
   "outputs": [],
   "source": [
    "X_lgbm = pd.concat([numerical_data_scaled.reset_index(drop=True), categorical_data.reset_index(drop=True)], axis=1)"
   ]
  },
  {
   "cell_type": "code",
   "execution_count": 100,
   "metadata": {},
   "outputs": [
    {
     "name": "stdout",
     "output_type": "stream",
     "text": [
      "Following columns are used in the final model:\n"
     ]
    },
    {
     "data": {
      "text/plain": [
       "Index(['goal', 'backers', 'usd_goal_real', 'name_length', 'name_num_words',\n",
       "       'launch_month', 'duration_launched_month', 'launch_year',\n",
       "       'usd_goal_per_backer', 'deadline_year', 'deadline_month',\n",
       "       'usd_goal_per_month', 'usd_goal_per_month_per_backer',\n",
       "       'backers_per_month', 'category', 'main_category', 'country',\n",
       "       'main_category-category'],\n",
       "      dtype='object')"
      ]
     },
     "execution_count": 100,
     "metadata": {},
     "output_type": "execute_result"
    }
   ],
   "source": [
    "print('Following columns are used in the final model:')\n",
    "X_lgbm.columns"
   ]
  },
  {
   "cell_type": "code",
   "execution_count": 101,
   "metadata": {},
   "outputs": [
    {
     "name": "stdout",
     "output_type": "stream",
     "text": [
      "Shape of train & validation set is: (206516, 18)\n",
      "Shape of testing set is: (51630, 18)\n"
     ]
    }
   ],
   "source": [
    "X_data, X_test, y_data, y_test = train_test_split(X_lgbm, y, test_size=0.2, random_state=42) #Updated\n",
    "print('Shape of train & validation set is:', X_data.shape)  \n",
    "print('Shape of testing set is:', X_test.shape)"
   ]
  },
  {
   "cell_type": "code",
   "execution_count": 102,
   "metadata": {},
   "outputs": [],
   "source": [
    "params = {'learning_rate':0.272,\n",
    "         'boosting_type': 'gbdt',\n",
    "         'num_class':3,\n",
    "         'objective':'multiclass',\n",
    "         'metric': 'multi_logloss',\n",
    "          'max_depth': 10,\n",
    "          'reg_alpha': 0.349,\n",
    "          'reg_lambda': 0.109,\n",
    "          'n_estimators': 1000,\n",
    "         'num_leaves': 600,\n",
    "         'min_split_gain': 0.1,\n",
    "         'min_child_samples': 400}"
   ]
  },
  {
   "cell_type": "code",
   "execution_count": 103,
   "metadata": {
    "scrolled": true
   },
   "outputs": [
    {
     "name": "stdout",
     "output_type": "stream",
     "text": [
      "[1]\tvalid_0's multi_logloss: 0.845846\n",
      "Training until validation scores don't improve for 100 rounds.\n",
      "[2]\tvalid_0's multi_logloss: 0.693062\n",
      "[3]\tvalid_0's multi_logloss: 0.591943\n",
      "[4]\tvalid_0's multi_logloss: 0.521984\n",
      "[5]\tvalid_0's multi_logloss: 0.472382\n",
      "[6]\tvalid_0's multi_logloss: 0.436494\n",
      "[7]\tvalid_0's multi_logloss: 0.410134\n",
      "[8]\tvalid_0's multi_logloss: 0.390927\n",
      "[9]\tvalid_0's multi_logloss: 0.376595\n",
      "[10]\tvalid_0's multi_logloss: 0.365789\n",
      "[11]\tvalid_0's multi_logloss: 0.357748\n",
      "[12]\tvalid_0's multi_logloss: 0.351537\n",
      "[13]\tvalid_0's multi_logloss: 0.346818\n",
      "[14]\tvalid_0's multi_logloss: 0.343169\n",
      "[15]\tvalid_0's multi_logloss: 0.340413\n",
      "[16]\tvalid_0's multi_logloss: 0.338374\n",
      "[17]\tvalid_0's multi_logloss: 0.336834\n",
      "[18]\tvalid_0's multi_logloss: 0.335597\n",
      "[19]\tvalid_0's multi_logloss: 0.334614\n",
      "[20]\tvalid_0's multi_logloss: 0.333714\n",
      "[21]\tvalid_0's multi_logloss: 0.333121\n",
      "[22]\tvalid_0's multi_logloss: 0.332714\n",
      "[23]\tvalid_0's multi_logloss: 0.332395\n",
      "[24]\tvalid_0's multi_logloss: 0.332153\n",
      "[25]\tvalid_0's multi_logloss: 0.332028\n",
      "[26]\tvalid_0's multi_logloss: 0.331943\n",
      "[27]\tvalid_0's multi_logloss: 0.331828\n",
      "[28]\tvalid_0's multi_logloss: 0.331823\n",
      "[29]\tvalid_0's multi_logloss: 0.331918\n",
      "[30]\tvalid_0's multi_logloss: 0.331837\n",
      "[31]\tvalid_0's multi_logloss: 0.331749\n",
      "[32]\tvalid_0's multi_logloss: 0.331724\n",
      "[33]\tvalid_0's multi_logloss: 0.331633\n",
      "[34]\tvalid_0's multi_logloss: 0.331695\n",
      "[35]\tvalid_0's multi_logloss: 0.331634\n",
      "[36]\tvalid_0's multi_logloss: 0.33173\n",
      "[37]\tvalid_0's multi_logloss: 0.33171\n",
      "[38]\tvalid_0's multi_logloss: 0.331812\n",
      "[39]\tvalid_0's multi_logloss: 0.331934\n",
      "[40]\tvalid_0's multi_logloss: 0.331906\n",
      "[41]\tvalid_0's multi_logloss: 0.331926\n",
      "[42]\tvalid_0's multi_logloss: 0.332018\n",
      "[43]\tvalid_0's multi_logloss: 0.332027\n",
      "[44]\tvalid_0's multi_logloss: 0.332155\n",
      "[45]\tvalid_0's multi_logloss: 0.332151\n",
      "[46]\tvalid_0's multi_logloss: 0.332214\n",
      "[47]\tvalid_0's multi_logloss: 0.332366\n",
      "[48]\tvalid_0's multi_logloss: 0.332452\n",
      "[49]\tvalid_0's multi_logloss: 0.33248\n",
      "[50]\tvalid_0's multi_logloss: 0.332605\n",
      "[51]\tvalid_0's multi_logloss: 0.332835\n",
      "[52]\tvalid_0's multi_logloss: 0.332855\n",
      "[53]\tvalid_0's multi_logloss: 0.33289\n",
      "[54]\tvalid_0's multi_logloss: 0.332961\n",
      "[55]\tvalid_0's multi_logloss: 0.333066\n",
      "[56]\tvalid_0's multi_logloss: 0.333123\n",
      "[57]\tvalid_0's multi_logloss: 0.333255\n",
      "[58]\tvalid_0's multi_logloss: 0.333494\n",
      "[59]\tvalid_0's multi_logloss: 0.333613\n",
      "[60]\tvalid_0's multi_logloss: 0.333684\n",
      "[61]\tvalid_0's multi_logloss: 0.333785\n",
      "[62]\tvalid_0's multi_logloss: 0.333904\n",
      "[63]\tvalid_0's multi_logloss: 0.333954\n",
      "[64]\tvalid_0's multi_logloss: 0.334021\n",
      "[65]\tvalid_0's multi_logloss: 0.33414\n",
      "[66]\tvalid_0's multi_logloss: 0.334316\n",
      "[67]\tvalid_0's multi_logloss: 0.334406\n",
      "[68]\tvalid_0's multi_logloss: 0.334419\n",
      "[69]\tvalid_0's multi_logloss: 0.334604\n",
      "[70]\tvalid_0's multi_logloss: 0.334677\n",
      "[71]\tvalid_0's multi_logloss: 0.334771\n",
      "[72]\tvalid_0's multi_logloss: 0.334975\n",
      "[73]\tvalid_0's multi_logloss: 0.335064\n",
      "[74]\tvalid_0's multi_logloss: 0.335143\n",
      "[75]\tvalid_0's multi_logloss: 0.335218\n",
      "[76]\tvalid_0's multi_logloss: 0.335461\n",
      "[77]\tvalid_0's multi_logloss: 0.335525\n",
      "[78]\tvalid_0's multi_logloss: 0.335698\n",
      "[79]\tvalid_0's multi_logloss: 0.335931\n",
      "[80]\tvalid_0's multi_logloss: 0.336075\n",
      "[81]\tvalid_0's multi_logloss: 0.336198\n",
      "[82]\tvalid_0's multi_logloss: 0.336289\n",
      "[83]\tvalid_0's multi_logloss: 0.336439\n",
      "[84]\tvalid_0's multi_logloss: 0.33657\n",
      "[85]\tvalid_0's multi_logloss: 0.336751\n",
      "[86]\tvalid_0's multi_logloss: 0.337012\n",
      "[87]\tvalid_0's multi_logloss: 0.337154\n",
      "[88]\tvalid_0's multi_logloss: 0.337228\n",
      "[89]\tvalid_0's multi_logloss: 0.337407\n",
      "[90]\tvalid_0's multi_logloss: 0.337518\n",
      "[91]\tvalid_0's multi_logloss: 0.337599\n",
      "[92]\tvalid_0's multi_logloss: 0.337881\n",
      "[93]\tvalid_0's multi_logloss: 0.33801\n",
      "[94]\tvalid_0's multi_logloss: 0.338165\n",
      "[95]\tvalid_0's multi_logloss: 0.338249\n",
      "[96]\tvalid_0's multi_logloss: 0.338362\n",
      "[97]\tvalid_0's multi_logloss: 0.338525\n",
      "[98]\tvalid_0's multi_logloss: 0.338715\n",
      "[99]\tvalid_0's multi_logloss: 0.3389\n",
      "[100]\tvalid_0's multi_logloss: 0.339022\n",
      "[101]\tvalid_0's multi_logloss: 0.339075\n",
      "[102]\tvalid_0's multi_logloss: 0.339147\n",
      "[103]\tvalid_0's multi_logloss: 0.339263\n",
      "[104]\tvalid_0's multi_logloss: 0.33938\n",
      "[105]\tvalid_0's multi_logloss: 0.3395\n",
      "[106]\tvalid_0's multi_logloss: 0.33966\n",
      "[107]\tvalid_0's multi_logloss: 0.33972\n",
      "[108]\tvalid_0's multi_logloss: 0.339765\n",
      "[109]\tvalid_0's multi_logloss: 0.339827\n",
      "[110]\tvalid_0's multi_logloss: 0.340041\n",
      "[111]\tvalid_0's multi_logloss: 0.340238\n",
      "[112]\tvalid_0's multi_logloss: 0.340333\n",
      "[113]\tvalid_0's multi_logloss: 0.340435\n",
      "[114]\tvalid_0's multi_logloss: 0.340484\n",
      "[115]\tvalid_0's multi_logloss: 0.340551\n",
      "[116]\tvalid_0's multi_logloss: 0.340622\n",
      "[117]\tvalid_0's multi_logloss: 0.340722\n",
      "[118]\tvalid_0's multi_logloss: 0.340812\n",
      "[119]\tvalid_0's multi_logloss: 0.340872\n",
      "[120]\tvalid_0's multi_logloss: 0.340963\n",
      "[121]\tvalid_0's multi_logloss: 0.341023\n",
      "[122]\tvalid_0's multi_logloss: 0.341094\n",
      "[123]\tvalid_0's multi_logloss: 0.341142\n",
      "[124]\tvalid_0's multi_logloss: 0.341222\n",
      "[125]\tvalid_0's multi_logloss: 0.34128\n",
      "[126]\tvalid_0's multi_logloss: 0.341303\n",
      "[127]\tvalid_0's multi_logloss: 0.341347\n",
      "[128]\tvalid_0's multi_logloss: 0.341338\n",
      "[129]\tvalid_0's multi_logloss: 0.34137\n",
      "[130]\tvalid_0's multi_logloss: 0.34142\n",
      "[131]\tvalid_0's multi_logloss: 0.341419\n",
      "[132]\tvalid_0's multi_logloss: 0.341437\n",
      "[133]\tvalid_0's multi_logloss: 0.341459\n",
      "Early stopping, best iteration is:\n",
      "[33]\tvalid_0's multi_logloss: 0.331633\n",
      "[1]\tvalid_0's multi_logloss: 0.846989\n",
      "Training until validation scores don't improve for 100 rounds.\n",
      "[2]\tvalid_0's multi_logloss: 0.694977\n",
      "[3]\tvalid_0's multi_logloss: 0.594154\n",
      "[4]\tvalid_0's multi_logloss: 0.52455\n",
      "[5]\tvalid_0's multi_logloss: 0.475209\n",
      "[6]\tvalid_0's multi_logloss: 0.439687\n",
      "[7]\tvalid_0's multi_logloss: 0.413572\n",
      "[8]\tvalid_0's multi_logloss: 0.394455\n",
      "[9]\tvalid_0's multi_logloss: 0.380256\n",
      "[10]\tvalid_0's multi_logloss: 0.369634\n",
      "[11]\tvalid_0's multi_logloss: 0.361712\n",
      "[12]\tvalid_0's multi_logloss: 0.355815\n",
      "[13]\tvalid_0's multi_logloss: 0.351469\n",
      "[14]\tvalid_0's multi_logloss: 0.348056\n",
      "[15]\tvalid_0's multi_logloss: 0.345414\n",
      "[16]\tvalid_0's multi_logloss: 0.343457\n",
      "[17]\tvalid_0's multi_logloss: 0.341879\n",
      "[18]\tvalid_0's multi_logloss: 0.340594\n",
      "[19]\tvalid_0's multi_logloss: 0.339728\n",
      "[20]\tvalid_0's multi_logloss: 0.339092\n",
      "[21]\tvalid_0's multi_logloss: 0.338499\n",
      "[22]\tvalid_0's multi_logloss: 0.338114\n",
      "[23]\tvalid_0's multi_logloss: 0.337793\n",
      "[24]\tvalid_0's multi_logloss: 0.33761\n",
      "[25]\tvalid_0's multi_logloss: 0.3375\n",
      "[26]\tvalid_0's multi_logloss: 0.337354\n",
      "[27]\tvalid_0's multi_logloss: 0.337397\n",
      "[28]\tvalid_0's multi_logloss: 0.337473\n",
      "[29]\tvalid_0's multi_logloss: 0.337468\n",
      "[30]\tvalid_0's multi_logloss: 0.337591\n",
      "[31]\tvalid_0's multi_logloss: 0.337618\n",
      "[32]\tvalid_0's multi_logloss: 0.33762\n",
      "[33]\tvalid_0's multi_logloss: 0.337669\n",
      "[34]\tvalid_0's multi_logloss: 0.337721\n",
      "[35]\tvalid_0's multi_logloss: 0.337838\n",
      "[36]\tvalid_0's multi_logloss: 0.33789\n",
      "[37]\tvalid_0's multi_logloss: 0.338004\n",
      "[38]\tvalid_0's multi_logloss: 0.338073\n",
      "[39]\tvalid_0's multi_logloss: 0.338167\n",
      "[40]\tvalid_0's multi_logloss: 0.338226\n",
      "[41]\tvalid_0's multi_logloss: 0.338329\n",
      "[42]\tvalid_0's multi_logloss: 0.338594\n",
      "[43]\tvalid_0's multi_logloss: 0.338696\n",
      "[44]\tvalid_0's multi_logloss: 0.338777\n",
      "[45]\tvalid_0's multi_logloss: 0.338864\n",
      "[46]\tvalid_0's multi_logloss: 0.339116\n",
      "[47]\tvalid_0's multi_logloss: 0.339157\n",
      "[48]\tvalid_0's multi_logloss: 0.339199\n",
      "[49]\tvalid_0's multi_logloss: 0.339357\n",
      "[50]\tvalid_0's multi_logloss: 0.339521\n",
      "[51]\tvalid_0's multi_logloss: 0.339593\n",
      "[52]\tvalid_0's multi_logloss: 0.339709\n",
      "[53]\tvalid_0's multi_logloss: 0.339805\n",
      "[54]\tvalid_0's multi_logloss: 0.339995\n",
      "[55]\tvalid_0's multi_logloss: 0.340121\n",
      "[56]\tvalid_0's multi_logloss: 0.340268\n",
      "[57]\tvalid_0's multi_logloss: 0.340344\n",
      "[58]\tvalid_0's multi_logloss: 0.34041\n",
      "[59]\tvalid_0's multi_logloss: 0.340501\n",
      "[60]\tvalid_0's multi_logloss: 0.34067\n",
      "[61]\tvalid_0's multi_logloss: 0.340757\n",
      "[62]\tvalid_0's multi_logloss: 0.340834\n",
      "[63]\tvalid_0's multi_logloss: 0.340908\n",
      "[64]\tvalid_0's multi_logloss: 0.340917\n",
      "[65]\tvalid_0's multi_logloss: 0.341\n",
      "[66]\tvalid_0's multi_logloss: 0.341218\n",
      "[67]\tvalid_0's multi_logloss: 0.341419\n",
      "[68]\tvalid_0's multi_logloss: 0.341589\n",
      "[69]\tvalid_0's multi_logloss: 0.341728\n",
      "[70]\tvalid_0's multi_logloss: 0.341976\n",
      "[71]\tvalid_0's multi_logloss: 0.342157\n",
      "[72]\tvalid_0's multi_logloss: 0.342352\n",
      "[73]\tvalid_0's multi_logloss: 0.342509\n",
      "[74]\tvalid_0's multi_logloss: 0.342647\n",
      "[75]\tvalid_0's multi_logloss: 0.342763\n",
      "[76]\tvalid_0's multi_logloss: 0.343031\n",
      "[77]\tvalid_0's multi_logloss: 0.343233\n"
     ]
    },
    {
     "name": "stdout",
     "output_type": "stream",
     "text": [
      "[78]\tvalid_0's multi_logloss: 0.343348\n",
      "[79]\tvalid_0's multi_logloss: 0.343497\n",
      "[80]\tvalid_0's multi_logloss: 0.343662\n",
      "[81]\tvalid_0's multi_logloss: 0.343903\n",
      "[82]\tvalid_0's multi_logloss: 0.344043\n",
      "[83]\tvalid_0's multi_logloss: 0.344096\n",
      "[84]\tvalid_0's multi_logloss: 0.344221\n",
      "[85]\tvalid_0's multi_logloss: 0.344381\n",
      "[86]\tvalid_0's multi_logloss: 0.344573\n",
      "[87]\tvalid_0's multi_logloss: 0.344613\n",
      "[88]\tvalid_0's multi_logloss: 0.344745\n",
      "[89]\tvalid_0's multi_logloss: 0.344896\n",
      "[90]\tvalid_0's multi_logloss: 0.34504\n",
      "[91]\tvalid_0's multi_logloss: 0.345155\n",
      "[92]\tvalid_0's multi_logloss: 0.345311\n",
      "[93]\tvalid_0's multi_logloss: 0.34545\n",
      "[94]\tvalid_0's multi_logloss: 0.345579\n",
      "[95]\tvalid_0's multi_logloss: 0.345697\n",
      "[96]\tvalid_0's multi_logloss: 0.345987\n",
      "[97]\tvalid_0's multi_logloss: 0.346054\n",
      "[98]\tvalid_0's multi_logloss: 0.34616\n",
      "[99]\tvalid_0's multi_logloss: 0.346291\n",
      "[100]\tvalid_0's multi_logloss: 0.346364\n",
      "[101]\tvalid_0's multi_logloss: 0.34643\n",
      "[102]\tvalid_0's multi_logloss: 0.346549\n",
      "[103]\tvalid_0's multi_logloss: 0.346607\n",
      "[104]\tvalid_0's multi_logloss: 0.346661\n",
      "[105]\tvalid_0's multi_logloss: 0.346743\n",
      "[106]\tvalid_0's multi_logloss: 0.346735\n",
      "[107]\tvalid_0's multi_logloss: 0.346791\n",
      "[108]\tvalid_0's multi_logloss: 0.346948\n",
      "[109]\tvalid_0's multi_logloss: 0.347072\n",
      "[110]\tvalid_0's multi_logloss: 0.347239\n",
      "[111]\tvalid_0's multi_logloss: 0.347375\n",
      "[112]\tvalid_0's multi_logloss: 0.347532\n",
      "[113]\tvalid_0's multi_logloss: 0.347647\n",
      "[114]\tvalid_0's multi_logloss: 0.347767\n",
      "[115]\tvalid_0's multi_logloss: 0.347911\n",
      "[116]\tvalid_0's multi_logloss: 0.348063\n",
      "[117]\tvalid_0's multi_logloss: 0.348155\n",
      "[118]\tvalid_0's multi_logloss: 0.348265\n",
      "[119]\tvalid_0's multi_logloss: 0.348356\n",
      "[120]\tvalid_0's multi_logloss: 0.348527\n",
      "[121]\tvalid_0's multi_logloss: 0.348561\n",
      "[122]\tvalid_0's multi_logloss: 0.348791\n",
      "[123]\tvalid_0's multi_logloss: 0.348852\n",
      "[124]\tvalid_0's multi_logloss: 0.349078\n",
      "[125]\tvalid_0's multi_logloss: 0.349199\n",
      "[126]\tvalid_0's multi_logloss: 0.349393\n",
      "Early stopping, best iteration is:\n",
      "[26]\tvalid_0's multi_logloss: 0.337354\n",
      "[1]\tvalid_0's multi_logloss: 0.845971\n",
      "Training until validation scores don't improve for 100 rounds.\n",
      "[2]\tvalid_0's multi_logloss: 0.693568\n",
      "[3]\tvalid_0's multi_logloss: 0.59263\n",
      "[4]\tvalid_0's multi_logloss: 0.522637\n",
      "[5]\tvalid_0's multi_logloss: 0.473007\n",
      "[6]\tvalid_0's multi_logloss: 0.437122\n",
      "[7]\tvalid_0's multi_logloss: 0.410865\n",
      "[8]\tvalid_0's multi_logloss: 0.391567\n",
      "[9]\tvalid_0's multi_logloss: 0.377208\n",
      "[10]\tvalid_0's multi_logloss: 0.366335\n",
      "[11]\tvalid_0's multi_logloss: 0.358277\n",
      "[12]\tvalid_0's multi_logloss: 0.352258\n",
      "[13]\tvalid_0's multi_logloss: 0.347493\n",
      "[14]\tvalid_0's multi_logloss: 0.344021\n",
      "[15]\tvalid_0's multi_logloss: 0.341287\n",
      "[16]\tvalid_0's multi_logloss: 0.339191\n",
      "[17]\tvalid_0's multi_logloss: 0.337656\n",
      "[18]\tvalid_0's multi_logloss: 0.336452\n",
      "[19]\tvalid_0's multi_logloss: 0.335386\n",
      "[20]\tvalid_0's multi_logloss: 0.334666\n",
      "[21]\tvalid_0's multi_logloss: 0.334092\n",
      "[22]\tvalid_0's multi_logloss: 0.333647\n",
      "[23]\tvalid_0's multi_logloss: 0.333308\n",
      "[24]\tvalid_0's multi_logloss: 0.333051\n",
      "[25]\tvalid_0's multi_logloss: 0.33283\n",
      "[26]\tvalid_0's multi_logloss: 0.332641\n",
      "[27]\tvalid_0's multi_logloss: 0.332508\n",
      "[28]\tvalid_0's multi_logloss: 0.33249\n",
      "[29]\tvalid_0's multi_logloss: 0.332498\n",
      "[30]\tvalid_0's multi_logloss: 0.332486\n",
      "[31]\tvalid_0's multi_logloss: 0.332488\n",
      "[32]\tvalid_0's multi_logloss: 0.33248\n",
      "[33]\tvalid_0's multi_logloss: 0.332525\n",
      "[34]\tvalid_0's multi_logloss: 0.332519\n",
      "[35]\tvalid_0's multi_logloss: 0.332453\n",
      "[36]\tvalid_0's multi_logloss: 0.332456\n",
      "[37]\tvalid_0's multi_logloss: 0.332502\n",
      "[38]\tvalid_0's multi_logloss: 0.332688\n",
      "[39]\tvalid_0's multi_logloss: 0.332761\n",
      "[40]\tvalid_0's multi_logloss: 0.332894\n",
      "[41]\tvalid_0's multi_logloss: 0.333008\n",
      "[42]\tvalid_0's multi_logloss: 0.332943\n",
      "[43]\tvalid_0's multi_logloss: 0.333022\n",
      "[44]\tvalid_0's multi_logloss: 0.333087\n",
      "[45]\tvalid_0's multi_logloss: 0.333125\n",
      "[46]\tvalid_0's multi_logloss: 0.333082\n",
      "[47]\tvalid_0's multi_logloss: 0.333222\n",
      "[48]\tvalid_0's multi_logloss: 0.333246\n",
      "[49]\tvalid_0's multi_logloss: 0.333348\n",
      "[50]\tvalid_0's multi_logloss: 0.333375\n",
      "[51]\tvalid_0's multi_logloss: 0.333506\n",
      "[52]\tvalid_0's multi_logloss: 0.333712\n",
      "[53]\tvalid_0's multi_logloss: 0.333791\n",
      "[54]\tvalid_0's multi_logloss: 0.333762\n",
      "[55]\tvalid_0's multi_logloss: 0.3338\n",
      "[56]\tvalid_0's multi_logloss: 0.333992\n",
      "[57]\tvalid_0's multi_logloss: 0.334039\n",
      "[58]\tvalid_0's multi_logloss: 0.334218\n",
      "[59]\tvalid_0's multi_logloss: 0.334295\n",
      "[60]\tvalid_0's multi_logloss: 0.33443\n",
      "[61]\tvalid_0's multi_logloss: 0.334532\n",
      "[62]\tvalid_0's multi_logloss: 0.334656\n",
      "[63]\tvalid_0's multi_logloss: 0.334788\n",
      "[64]\tvalid_0's multi_logloss: 0.334863\n",
      "[65]\tvalid_0's multi_logloss: 0.335038\n",
      "[66]\tvalid_0's multi_logloss: 0.33513\n",
      "[67]\tvalid_0's multi_logloss: 0.335282\n",
      "[68]\tvalid_0's multi_logloss: 0.335387\n",
      "[69]\tvalid_0's multi_logloss: 0.335462\n",
      "[70]\tvalid_0's multi_logloss: 0.335563\n",
      "[71]\tvalid_0's multi_logloss: 0.335618\n",
      "[72]\tvalid_0's multi_logloss: 0.335687\n",
      "[73]\tvalid_0's multi_logloss: 0.335856\n",
      "[74]\tvalid_0's multi_logloss: 0.335984\n",
      "[75]\tvalid_0's multi_logloss: 0.336106\n",
      "[76]\tvalid_0's multi_logloss: 0.336299\n",
      "[77]\tvalid_0's multi_logloss: 0.336443\n",
      "[78]\tvalid_0's multi_logloss: 0.33678\n",
      "[79]\tvalid_0's multi_logloss: 0.337019\n",
      "[80]\tvalid_0's multi_logloss: 0.337156\n",
      "[81]\tvalid_0's multi_logloss: 0.337306\n",
      "[82]\tvalid_0's multi_logloss: 0.337474\n",
      "[83]\tvalid_0's multi_logloss: 0.337646\n",
      "[84]\tvalid_0's multi_logloss: 0.337851\n",
      "[85]\tvalid_0's multi_logloss: 0.337993\n",
      "[86]\tvalid_0's multi_logloss: 0.338127\n",
      "[87]\tvalid_0's multi_logloss: 0.338246\n",
      "[88]\tvalid_0's multi_logloss: 0.3384\n",
      "[89]\tvalid_0's multi_logloss: 0.338505\n",
      "[90]\tvalid_0's multi_logloss: 0.338624\n",
      "[91]\tvalid_0's multi_logloss: 0.338679\n",
      "[92]\tvalid_0's multi_logloss: 0.338827\n",
      "[93]\tvalid_0's multi_logloss: 0.338886\n",
      "[94]\tvalid_0's multi_logloss: 0.339115\n",
      "[95]\tvalid_0's multi_logloss: 0.339177\n",
      "[96]\tvalid_0's multi_logloss: 0.339275\n",
      "[97]\tvalid_0's multi_logloss: 0.339451\n",
      "[98]\tvalid_0's multi_logloss: 0.339577\n",
      "[99]\tvalid_0's multi_logloss: 0.339835\n",
      "[100]\tvalid_0's multi_logloss: 0.339979\n",
      "[101]\tvalid_0's multi_logloss: 0.339938\n",
      "[102]\tvalid_0's multi_logloss: 0.340152\n",
      "[103]\tvalid_0's multi_logloss: 0.34022\n",
      "[104]\tvalid_0's multi_logloss: 0.340356\n",
      "[105]\tvalid_0's multi_logloss: 0.340442\n",
      "[106]\tvalid_0's multi_logloss: 0.340574\n",
      "[107]\tvalid_0's multi_logloss: 0.340754\n",
      "[108]\tvalid_0's multi_logloss: 0.340815\n",
      "[109]\tvalid_0's multi_logloss: 0.340927\n",
      "[110]\tvalid_0's multi_logloss: 0.341087\n",
      "[111]\tvalid_0's multi_logloss: 0.341132\n",
      "[112]\tvalid_0's multi_logloss: 0.341235\n",
      "[113]\tvalid_0's multi_logloss: 0.341311\n",
      "[114]\tvalid_0's multi_logloss: 0.341449\n",
      "[115]\tvalid_0's multi_logloss: 0.341522\n",
      "[116]\tvalid_0's multi_logloss: 0.341644\n",
      "[117]\tvalid_0's multi_logloss: 0.341774\n",
      "[118]\tvalid_0's multi_logloss: 0.341819\n",
      "[119]\tvalid_0's multi_logloss: 0.341989\n",
      "[120]\tvalid_0's multi_logloss: 0.342073\n",
      "[121]\tvalid_0's multi_logloss: 0.342125\n",
      "[122]\tvalid_0's multi_logloss: 0.342261\n",
      "[123]\tvalid_0's multi_logloss: 0.342487\n",
      "[124]\tvalid_0's multi_logloss: 0.342568\n",
      "[125]\tvalid_0's multi_logloss: 0.342599\n",
      "[126]\tvalid_0's multi_logloss: 0.342655\n",
      "[127]\tvalid_0's multi_logloss: 0.342715\n",
      "[128]\tvalid_0's multi_logloss: 0.342755\n",
      "[129]\tvalid_0's multi_logloss: 0.342809\n",
      "[130]\tvalid_0's multi_logloss: 0.34292\n",
      "[131]\tvalid_0's multi_logloss: 0.342912\n",
      "[132]\tvalid_0's multi_logloss: 0.342961\n",
      "[133]\tvalid_0's multi_logloss: 0.342997\n",
      "[134]\tvalid_0's multi_logloss: 0.343096\n",
      "[135]\tvalid_0's multi_logloss: 0.343228\n",
      "Early stopping, best iteration is:\n",
      "[35]\tvalid_0's multi_logloss: 0.332453\n",
      "[1]\tvalid_0's multi_logloss: 0.847115\n",
      "Training until validation scores don't improve for 100 rounds.\n",
      "[2]\tvalid_0's multi_logloss: 0.695043\n",
      "[3]\tvalid_0's multi_logloss: 0.594401\n",
      "[4]\tvalid_0's multi_logloss: 0.524852\n",
      "[5]\tvalid_0's multi_logloss: 0.475422\n",
      "[6]\tvalid_0's multi_logloss: 0.439735\n",
      "[7]\tvalid_0's multi_logloss: 0.413503\n",
      "[8]\tvalid_0's multi_logloss: 0.394364\n",
      "[9]\tvalid_0's multi_logloss: 0.380122\n",
      "[10]\tvalid_0's multi_logloss: 0.369521\n",
      "[11]\tvalid_0's multi_logloss: 0.361405\n",
      "[12]\tvalid_0's multi_logloss: 0.355256\n",
      "[13]\tvalid_0's multi_logloss: 0.350696\n",
      "[14]\tvalid_0's multi_logloss: 0.347161\n",
      "[15]\tvalid_0's multi_logloss: 0.344544\n",
      "[16]\tvalid_0's multi_logloss: 0.342407\n",
      "[17]\tvalid_0's multi_logloss: 0.340841\n",
      "[18]\tvalid_0's multi_logloss: 0.339601\n",
      "[19]\tvalid_0's multi_logloss: 0.338583\n",
      "[20]\tvalid_0's multi_logloss: 0.337873\n",
      "[21]\tvalid_0's multi_logloss: 0.337315\n"
     ]
    },
    {
     "name": "stdout",
     "output_type": "stream",
     "text": [
      "[22]\tvalid_0's multi_logloss: 0.337023\n",
      "[23]\tvalid_0's multi_logloss: 0.336615\n",
      "[24]\tvalid_0's multi_logloss: 0.336416\n",
      "[25]\tvalid_0's multi_logloss: 0.33618\n",
      "[26]\tvalid_0's multi_logloss: 0.335976\n",
      "[27]\tvalid_0's multi_logloss: 0.335882\n",
      "[28]\tvalid_0's multi_logloss: 0.335883\n",
      "[29]\tvalid_0's multi_logloss: 0.335867\n",
      "[30]\tvalid_0's multi_logloss: 0.335867\n",
      "[31]\tvalid_0's multi_logloss: 0.335845\n",
      "[32]\tvalid_0's multi_logloss: 0.33595\n",
      "[33]\tvalid_0's multi_logloss: 0.335986\n",
      "[34]\tvalid_0's multi_logloss: 0.336048\n",
      "[35]\tvalid_0's multi_logloss: 0.336033\n",
      "[36]\tvalid_0's multi_logloss: 0.336107\n",
      "[37]\tvalid_0's multi_logloss: 0.33627\n",
      "[38]\tvalid_0's multi_logloss: 0.336328\n",
      "[39]\tvalid_0's multi_logloss: 0.336428\n",
      "[40]\tvalid_0's multi_logloss: 0.336605\n",
      "[41]\tvalid_0's multi_logloss: 0.336791\n",
      "[42]\tvalid_0's multi_logloss: 0.336959\n",
      "[43]\tvalid_0's multi_logloss: 0.336965\n",
      "[44]\tvalid_0's multi_logloss: 0.337003\n",
      "[45]\tvalid_0's multi_logloss: 0.337067\n",
      "[46]\tvalid_0's multi_logloss: 0.337134\n",
      "[47]\tvalid_0's multi_logloss: 0.33726\n",
      "[48]\tvalid_0's multi_logloss: 0.337286\n",
      "[49]\tvalid_0's multi_logloss: 0.337382\n",
      "[50]\tvalid_0's multi_logloss: 0.33745\n",
      "[51]\tvalid_0's multi_logloss: 0.337568\n",
      "[52]\tvalid_0's multi_logloss: 0.337658\n",
      "[53]\tvalid_0's multi_logloss: 0.337785\n",
      "[54]\tvalid_0's multi_logloss: 0.337991\n",
      "[55]\tvalid_0's multi_logloss: 0.338041\n",
      "[56]\tvalid_0's multi_logloss: 0.338332\n",
      "[57]\tvalid_0's multi_logloss: 0.338405\n",
      "[58]\tvalid_0's multi_logloss: 0.338529\n",
      "[59]\tvalid_0's multi_logloss: 0.338644\n",
      "[60]\tvalid_0's multi_logloss: 0.338654\n",
      "[61]\tvalid_0's multi_logloss: 0.338777\n",
      "[62]\tvalid_0's multi_logloss: 0.338951\n",
      "[63]\tvalid_0's multi_logloss: 0.33909\n",
      "[64]\tvalid_0's multi_logloss: 0.33914\n",
      "[65]\tvalid_0's multi_logloss: 0.339306\n",
      "[66]\tvalid_0's multi_logloss: 0.339443\n",
      "[67]\tvalid_0's multi_logloss: 0.339593\n",
      "[68]\tvalid_0's multi_logloss: 0.339664\n",
      "[69]\tvalid_0's multi_logloss: 0.339739\n",
      "[70]\tvalid_0's multi_logloss: 0.339984\n",
      "[71]\tvalid_0's multi_logloss: 0.340132\n",
      "[72]\tvalid_0's multi_logloss: 0.340353\n",
      "[73]\tvalid_0's multi_logloss: 0.34045\n",
      "[74]\tvalid_0's multi_logloss: 0.340559\n",
      "[75]\tvalid_0's multi_logloss: 0.340702\n",
      "[76]\tvalid_0's multi_logloss: 0.340905\n",
      "[77]\tvalid_0's multi_logloss: 0.340962\n",
      "[78]\tvalid_0's multi_logloss: 0.341144\n",
      "[79]\tvalid_0's multi_logloss: 0.341269\n",
      "[80]\tvalid_0's multi_logloss: 0.341353\n",
      "[81]\tvalid_0's multi_logloss: 0.34159\n",
      "[82]\tvalid_0's multi_logloss: 0.341745\n",
      "[83]\tvalid_0's multi_logloss: 0.34183\n",
      "[84]\tvalid_0's multi_logloss: 0.341987\n",
      "[85]\tvalid_0's multi_logloss: 0.342104\n",
      "[86]\tvalid_0's multi_logloss: 0.342322\n",
      "[87]\tvalid_0's multi_logloss: 0.342448\n",
      "[88]\tvalid_0's multi_logloss: 0.342511\n",
      "[89]\tvalid_0's multi_logloss: 0.342594\n",
      "[90]\tvalid_0's multi_logloss: 0.342722\n",
      "[91]\tvalid_0's multi_logloss: 0.342802\n",
      "[92]\tvalid_0's multi_logloss: 0.343003\n",
      "[93]\tvalid_0's multi_logloss: 0.343101\n",
      "[94]\tvalid_0's multi_logloss: 0.34331\n",
      "[95]\tvalid_0's multi_logloss: 0.343453\n",
      "[96]\tvalid_0's multi_logloss: 0.343555\n",
      "[97]\tvalid_0's multi_logloss: 0.343803\n",
      "[98]\tvalid_0's multi_logloss: 0.343878\n",
      "[99]\tvalid_0's multi_logloss: 0.343949\n",
      "[100]\tvalid_0's multi_logloss: 0.344045\n",
      "[101]\tvalid_0's multi_logloss: 0.344136\n",
      "[102]\tvalid_0's multi_logloss: 0.344261\n",
      "[103]\tvalid_0's multi_logloss: 0.344399\n",
      "[104]\tvalid_0's multi_logloss: 0.344461\n",
      "[105]\tvalid_0's multi_logloss: 0.344561\n",
      "[106]\tvalid_0's multi_logloss: 0.34473\n",
      "[107]\tvalid_0's multi_logloss: 0.344888\n",
      "[108]\tvalid_0's multi_logloss: 0.344932\n",
      "[109]\tvalid_0's multi_logloss: 0.344989\n",
      "[110]\tvalid_0's multi_logloss: 0.345\n",
      "[111]\tvalid_0's multi_logloss: 0.345072\n",
      "[112]\tvalid_0's multi_logloss: 0.34527\n",
      "[113]\tvalid_0's multi_logloss: 0.345396\n",
      "[114]\tvalid_0's multi_logloss: 0.345603\n",
      "[115]\tvalid_0's multi_logloss: 0.345709\n",
      "[116]\tvalid_0's multi_logloss: 0.345833\n",
      "[117]\tvalid_0's multi_logloss: 0.345901\n",
      "[118]\tvalid_0's multi_logloss: 0.346153\n",
      "[119]\tvalid_0's multi_logloss: 0.346283\n",
      "[120]\tvalid_0's multi_logloss: 0.346338\n",
      "[121]\tvalid_0's multi_logloss: 0.346403\n",
      "[122]\tvalid_0's multi_logloss: 0.346497\n",
      "[123]\tvalid_0's multi_logloss: 0.346595\n",
      "[124]\tvalid_0's multi_logloss: 0.346624\n",
      "[125]\tvalid_0's multi_logloss: 0.346683\n",
      "[126]\tvalid_0's multi_logloss: 0.346722\n",
      "[127]\tvalid_0's multi_logloss: 0.346819\n",
      "[128]\tvalid_0's multi_logloss: 0.346913\n",
      "[129]\tvalid_0's multi_logloss: 0.346922\n",
      "[130]\tvalid_0's multi_logloss: 0.346997\n",
      "[131]\tvalid_0's multi_logloss: 0.347053\n",
      "Early stopping, best iteration is:\n",
      "[31]\tvalid_0's multi_logloss: 0.335845\n",
      "[1]\tvalid_0's multi_logloss: 0.846951\n",
      "Training until validation scores don't improve for 100 rounds.\n",
      "[2]\tvalid_0's multi_logloss: 0.694853\n",
      "[3]\tvalid_0's multi_logloss: 0.594218\n",
      "[4]\tvalid_0's multi_logloss: 0.5246\n",
      "[5]\tvalid_0's multi_logloss: 0.475194\n",
      "[6]\tvalid_0's multi_logloss: 0.439325\n",
      "[7]\tvalid_0's multi_logloss: 0.413128\n",
      "[8]\tvalid_0's multi_logloss: 0.393815\n",
      "[9]\tvalid_0's multi_logloss: 0.379423\n",
      "[10]\tvalid_0's multi_logloss: 0.368791\n",
      "[11]\tvalid_0's multi_logloss: 0.360663\n",
      "[12]\tvalid_0's multi_logloss: 0.354559\n",
      "[13]\tvalid_0's multi_logloss: 0.34986\n",
      "[14]\tvalid_0's multi_logloss: 0.346338\n",
      "[15]\tvalid_0's multi_logloss: 0.343578\n",
      "[16]\tvalid_0's multi_logloss: 0.341408\n",
      "[17]\tvalid_0's multi_logloss: 0.339736\n",
      "[18]\tvalid_0's multi_logloss: 0.338616\n",
      "[19]\tvalid_0's multi_logloss: 0.337656\n",
      "[20]\tvalid_0's multi_logloss: 0.336889\n",
      "[21]\tvalid_0's multi_logloss: 0.336306\n",
      "[22]\tvalid_0's multi_logloss: 0.335841\n",
      "[23]\tvalid_0's multi_logloss: 0.335482\n",
      "[24]\tvalid_0's multi_logloss: 0.335281\n",
      "[25]\tvalid_0's multi_logloss: 0.335158\n",
      "[26]\tvalid_0's multi_logloss: 0.334939\n",
      "[27]\tvalid_0's multi_logloss: 0.334844\n",
      "[28]\tvalid_0's multi_logloss: 0.334852\n",
      "[29]\tvalid_0's multi_logloss: 0.334708\n",
      "[30]\tvalid_0's multi_logloss: 0.334712\n",
      "[31]\tvalid_0's multi_logloss: 0.334783\n",
      "[32]\tvalid_0's multi_logloss: 0.33488\n",
      "[33]\tvalid_0's multi_logloss: 0.33486\n",
      "[34]\tvalid_0's multi_logloss: 0.334852\n",
      "[35]\tvalid_0's multi_logloss: 0.334933\n",
      "[36]\tvalid_0's multi_logloss: 0.335001\n",
      "[37]\tvalid_0's multi_logloss: 0.335074\n",
      "[38]\tvalid_0's multi_logloss: 0.335129\n",
      "[39]\tvalid_0's multi_logloss: 0.335213\n",
      "[40]\tvalid_0's multi_logloss: 0.335232\n",
      "[41]\tvalid_0's multi_logloss: 0.335411\n",
      "[42]\tvalid_0's multi_logloss: 0.335653\n",
      "[43]\tvalid_0's multi_logloss: 0.335689\n",
      "[44]\tvalid_0's multi_logloss: 0.33584\n",
      "[45]\tvalid_0's multi_logloss: 0.336031\n",
      "[46]\tvalid_0's multi_logloss: 0.336211\n",
      "[47]\tvalid_0's multi_logloss: 0.336358\n",
      "[48]\tvalid_0's multi_logloss: 0.336432\n",
      "[49]\tvalid_0's multi_logloss: 0.336446\n",
      "[50]\tvalid_0's multi_logloss: 0.336533\n",
      "[51]\tvalid_0's multi_logloss: 0.336631\n",
      "[52]\tvalid_0's multi_logloss: 0.336924\n",
      "[53]\tvalid_0's multi_logloss: 0.337056\n",
      "[54]\tvalid_0's multi_logloss: 0.337133\n",
      "[55]\tvalid_0's multi_logloss: 0.337282\n",
      "[56]\tvalid_0's multi_logloss: 0.337418\n",
      "[57]\tvalid_0's multi_logloss: 0.337469\n",
      "[58]\tvalid_0's multi_logloss: 0.337626\n",
      "[59]\tvalid_0's multi_logloss: 0.337849\n",
      "[60]\tvalid_0's multi_logloss: 0.337856\n",
      "[61]\tvalid_0's multi_logloss: 0.337953\n",
      "[62]\tvalid_0's multi_logloss: 0.338143\n",
      "[63]\tvalid_0's multi_logloss: 0.338284\n",
      "[64]\tvalid_0's multi_logloss: 0.338431\n",
      "[65]\tvalid_0's multi_logloss: 0.338568\n",
      "[66]\tvalid_0's multi_logloss: 0.338724\n",
      "[67]\tvalid_0's multi_logloss: 0.33884\n",
      "[68]\tvalid_0's multi_logloss: 0.339003\n",
      "[69]\tvalid_0's multi_logloss: 0.339093\n",
      "[70]\tvalid_0's multi_logloss: 0.339255\n",
      "[71]\tvalid_0's multi_logloss: 0.33936\n",
      "[72]\tvalid_0's multi_logloss: 0.339359\n",
      "[73]\tvalid_0's multi_logloss: 0.339434\n",
      "[74]\tvalid_0's multi_logloss: 0.339472\n",
      "[75]\tvalid_0's multi_logloss: 0.339569\n",
      "[76]\tvalid_0's multi_logloss: 0.339676\n",
      "[77]\tvalid_0's multi_logloss: 0.339781\n",
      "[78]\tvalid_0's multi_logloss: 0.340009\n",
      "[79]\tvalid_0's multi_logloss: 0.340149\n",
      "[80]\tvalid_0's multi_logloss: 0.340325\n",
      "[81]\tvalid_0's multi_logloss: 0.340436\n",
      "[82]\tvalid_0's multi_logloss: 0.340509\n",
      "[83]\tvalid_0's multi_logloss: 0.340654\n",
      "[84]\tvalid_0's multi_logloss: 0.340727\n",
      "[85]\tvalid_0's multi_logloss: 0.340843\n",
      "[86]\tvalid_0's multi_logloss: 0.340973\n",
      "[87]\tvalid_0's multi_logloss: 0.341086\n",
      "[88]\tvalid_0's multi_logloss: 0.341241\n",
      "[89]\tvalid_0's multi_logloss: 0.341303\n",
      "[90]\tvalid_0's multi_logloss: 0.341424\n",
      "[91]\tvalid_0's multi_logloss: 0.341659\n",
      "[92]\tvalid_0's multi_logloss: 0.341863\n",
      "[93]\tvalid_0's multi_logloss: 0.342049\n",
      "[94]\tvalid_0's multi_logloss: 0.341985\n",
      "[95]\tvalid_0's multi_logloss: 0.342121\n",
      "[96]\tvalid_0's multi_logloss: 0.342286\n",
      "[97]\tvalid_0's multi_logloss: 0.342437\n",
      "[98]\tvalid_0's multi_logloss: 0.342521\n",
      "[99]\tvalid_0's multi_logloss: 0.342588\n"
     ]
    },
    {
     "name": "stdout",
     "output_type": "stream",
     "text": [
      "[100]\tvalid_0's multi_logloss: 0.342764\n",
      "[101]\tvalid_0's multi_logloss: 0.342942\n",
      "[102]\tvalid_0's multi_logloss: 0.34301\n",
      "[103]\tvalid_0's multi_logloss: 0.343118\n",
      "[104]\tvalid_0's multi_logloss: 0.343309\n",
      "[105]\tvalid_0's multi_logloss: 0.343393\n",
      "[106]\tvalid_0's multi_logloss: 0.343469\n",
      "[107]\tvalid_0's multi_logloss: 0.343544\n",
      "[108]\tvalid_0's multi_logloss: 0.3436\n",
      "[109]\tvalid_0's multi_logloss: 0.343768\n",
      "[110]\tvalid_0's multi_logloss: 0.343899\n",
      "[111]\tvalid_0's multi_logloss: 0.343968\n",
      "[112]\tvalid_0's multi_logloss: 0.34404\n",
      "[113]\tvalid_0's multi_logloss: 0.344098\n",
      "[114]\tvalid_0's multi_logloss: 0.344167\n",
      "[115]\tvalid_0's multi_logloss: 0.344341\n",
      "[116]\tvalid_0's multi_logloss: 0.344397\n",
      "[117]\tvalid_0's multi_logloss: 0.344465\n",
      "[118]\tvalid_0's multi_logloss: 0.344539\n",
      "[119]\tvalid_0's multi_logloss: 0.344668\n",
      "[120]\tvalid_0's multi_logloss: 0.344795\n",
      "[121]\tvalid_0's multi_logloss: 0.344851\n",
      "[122]\tvalid_0's multi_logloss: 0.344976\n",
      "[123]\tvalid_0's multi_logloss: 0.345015\n",
      "[124]\tvalid_0's multi_logloss: 0.345132\n",
      "[125]\tvalid_0's multi_logloss: 0.345303\n",
      "[126]\tvalid_0's multi_logloss: 0.345408\n",
      "[127]\tvalid_0's multi_logloss: 0.345548\n",
      "[128]\tvalid_0's multi_logloss: 0.345612\n",
      "[129]\tvalid_0's multi_logloss: 0.345732\n",
      "Early stopping, best iteration is:\n",
      "[29]\tvalid_0's multi_logloss: 0.334708\n"
     ]
    }
   ],
   "source": [
    "model_eval, result_model = lgbm_model(X_data, y_data,params,  5)"
   ]
  },
  {
   "cell_type": "markdown",
   "metadata": {},
   "source": [
    "## 7.1 Final Model Results"
   ]
  },
  {
   "cell_type": "code",
   "execution_count": 104,
   "metadata": {},
   "outputs": [
    {
     "name": "stdout",
     "output_type": "stream",
     "text": [
      "Train Accuracy: 0.8732337940293293\n",
      "Train Log_loss: 0.29887170562989124\n",
      "\n",
      "Validation Accuracy: 0.860189998504507\n",
      "Validation Log_loss: 0.33439871968516577\n"
     ]
    }
   ],
   "source": [
    "print(\"Train Accuracy:\",model_eval[0])\n",
    "print(\"Train Log_loss:\",model_eval[1])\n",
    "print()\n",
    "print(\"Validation Accuracy:\",model_eval[2])\n",
    "print(\"Validation Log_loss:\",model_eval[3])"
   ]
  },
  {
   "cell_type": "code",
   "execution_count": 105,
   "metadata": {
    "scrolled": true
   },
   "outputs": [
    {
     "name": "stdout",
     "output_type": "stream",
     "text": [
      "Following is the feature importance bar plot:\n"
     ]
    },
    {
     "data": {
      "text/plain": [
       "<matplotlib.axes._subplots.AxesSubplot at 0x1290074a8>"
      ]
     },
     "execution_count": 105,
     "metadata": {},
     "output_type": "execute_result"
    },
    {
     "data": {
      "image/png": "[encoded data removed]",
      "text/plain": [
       "<Figure size 432x288 with 1 Axes>"
      ]
     },
     "metadata": {},
     "output_type": "display_data"
    }
   ],
   "source": [
    "print('Following is the feature importance bar plot:')\n",
    "(pd.Series(result_model.feature_importances_, index=X_lgbm.columns)\n",
    "   .nlargest(40)\n",
    "   .plot(kind='barh')) "
   ]
  },
  {
   "cell_type": "code",
   "execution_count": 106,
   "metadata": {},
   "outputs": [
    {
     "name": "stdout",
     "output_type": "stream",
     "text": [
      "Test Accuracy: 0.8618826263800117\n",
      "Test Log_loss: 0.32959245838126167\n"
     ]
    }
   ],
   "source": [
    "y_pred = result_model.predict(X_test, num_iteration=result_model.best_iteration_)\n",
    "y_pred_proba = result_model.predict_proba(X_test, num_iteration=result_model.best_iteration_)\n",
    "print(\"Test Accuracy:\",metrics.accuracy_score(y_test, y_pred))\n",
    "print(\"Test Log_loss:\",metrics.log_loss(y_test, y_pred_proba))"
   ]
  },
  {
   "cell_type": "markdown",
   "metadata": {},
   "source": [
    "## 7.2 Summary of Final LightGBM Model\n",
    "- Train, validation and test set accuracy and log-losses are (~87%, 0.298), (~86%, 0.335) and (~86%, 0.330)\n",
    "- The backer, usd_goal_real and the category column were the most important features to determine if the kickerstarter project failed, succeeded or surged. The top 5 important features of the model are: category, usd_goal_per_backer, backers, backers_per_month and usd_goal_per_month_per_backer. \n",
    "- The model does not overfit as the evaluation metrics do not differ much from each other"
   ]
  },
  {
   "cell_type": "markdown",
   "metadata": {},
   "source": [
    "# 8.0 Improvements\n",
    "\n",
    "- To possibly increase accuracy, model could have been split and trained by category, year (launch_year or deadline year), duration of kickstarter in months and usd_goal_real\n",
    "    - For model to be split and trained by usd_goal_real: split rows into <=25 percentile usd_goal_real, split rows into >25 percentile and <75 percentile usd_goal_real and split rows into >75% percentile usd_goal_real\n",
    "    - Then train individual models and evaluate\n",
    "    \n",
    "- Clean up the code more and use functions so I do not have to have repeated cells anymore\n",
    "    \n",
    "- Benchmarking took too long using K-NN (~1 hours to run the code). Could replace with the following:\n",
    "    - Sample the original dataset instead of benchmarking on the entire dataset\n",
    "    - Benchmarking can be done by mapping a predictions to a simple function using the distributions of the dataset. \n",
    "        - Eg: Derive a random number for each row in the dataset. If the random number is between [0,60], [61,87] and [87,100], predict classes failed, succeeded and surged.\n",
    "        \n",
    "- Due to time constraint, I trained the k-nn model based on accuracy instead of log_loss by mistake. Should not make too much of a difference but I should have trained using log_loss to keep it consistent.\n",
    "\n",
    "- With respect to EDA\n",
    "    - Do EDA for all features and see classification for all features\n",
    "        - eg. Number of failed, succeeded and surged for main_category \"Music\"\n",
    "    - Do some correlation analysis between numerical features to get a better idea of the dataset\n",
    "    - Change all bar plots and histograms to display the class variables using color\n",
    "    - Overall more in-depth EDA\n",
    "\n",
    "  \n",
    "\n",
    "\n"
   ]
  }
 ],
 "metadata": {
  "kernelspec": {
   "display_name": "Python 3",
   "language": "python",
   "name": "python3"
  },
  "language_info": {
   "codemirror_mode": {
    "name": "ipython",
    "version": 3
   },
   "file_extension": ".py",
   "mimetype": "text/x-python",
   "name": "python",
   "nbconvert_exporter": "python",
   "pygments_lexer": "ipython3",
   "version": "3.6.5"
  }
 },
 "nbformat": 4,
 "nbformat_minor": 2
}
