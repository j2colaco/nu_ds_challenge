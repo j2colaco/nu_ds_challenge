{
 "cells": [
  {
   "cell_type": "code",
   "execution_count": null,
   "metadata": {
    "scrolled": true
   },
   "outputs": [],
   "source": [
    "from IPython.display import HTML\n",
    "HTML('''<script>\n",
    "code_show=true; \n",
    "function code_toggle() {\n",
    " if (code_show){\n",
    " $('div.input').hide();\n",
    " } else {\n",
    " $('div.input').show();\n",
    " }\n",
    " code_show = !code_show\n",
    "} \n",
    "$( document ).ready(code_toggle);\n",
    "</script>\n",
    "The raw code for this IPython notebook is by default hidden for easier reading.\n",
    "To toggle on/off the raw code, click <a href=\"javascript:code_toggle()\">here</a>.''')"
   ]
  },
  {
   "cell_type": "code",
   "execution_count": null,
   "metadata": {},
   "outputs": [],
   "source": [
    "# All import statements\n",
    "import pandas as pd\n",
    "import numpy as np\n",
    "import matplotlib.pyplot as plt\n",
    "import seaborn as sns\n",
    "import datetime as dt\n",
    "from sklearn.neighbors import KNeighborsClassifier\n",
    "from sklearn.preprocessing import MinMaxScaler\n",
    "from sklearn.model_selection import train_test_split\n",
    "from sklearn.model_selection import GridSearchCV\n",
    "from sklearn import metrics"
   ]
  },
  {
   "cell_type": "markdown",
   "metadata": {},
   "source": [
    "# Read Data"
   ]
  },
  {
   "cell_type": "code",
   "execution_count": 2,
   "metadata": {},
   "outputs": [
    {
     "name": "stdout",
     "output_type": "stream",
     "text": [
      "Shape of the dataset is: (258325, 11)\n"
     ]
    },
    {
     "data": {
      "text/html": [
       "<div>\n",
       "<style scoped>\n",
       "    .dataframe tbody tr th:only-of-type {\n",
       "        vertical-align: middle;\n",
       "    }\n",
       "\n",
       "    .dataframe tbody tr th {\n",
       "        vertical-align: top;\n",
       "    }\n",
       "\n",
       "    .dataframe thead th {\n",
       "        text-align: right;\n",
       "    }\n",
       "</style>\n",
       "<table border=\"1\" class=\"dataframe\">\n",
       "  <thead>\n",
       "    <tr style=\"text-align: right;\">\n",
       "      <th></th>\n",
       "      <th>name</th>\n",
       "      <th>category</th>\n",
       "      <th>main_category</th>\n",
       "      <th>currency</th>\n",
       "      <th>deadline</th>\n",
       "      <th>goal</th>\n",
       "      <th>launched</th>\n",
       "      <th>backers</th>\n",
       "      <th>country</th>\n",
       "      <th>usd_goal_real</th>\n",
       "      <th>new_state</th>\n",
       "    </tr>\n",
       "  </thead>\n",
       "  <tbody>\n",
       "    <tr>\n",
       "      <th>0</th>\n",
       "      <td>The Life and Times of a Nutcracker</td>\n",
       "      <td>Fiction</td>\n",
       "      <td>Publishing</td>\n",
       "      <td>USD</td>\n",
       "      <td>2012-12-01</td>\n",
       "      <td>8000.0</td>\n",
       "      <td>2012-10-26 18:31:19</td>\n",
       "      <td>0</td>\n",
       "      <td>US</td>\n",
       "      <td>8000.00</td>\n",
       "      <td>failed</td>\n",
       "    </tr>\n",
       "    <tr>\n",
       "      <th>1</th>\n",
       "      <td>Kochi community outreach 2017</td>\n",
       "      <td>Web</td>\n",
       "      <td>Journalism</td>\n",
       "      <td>GBP</td>\n",
       "      <td>2017-04-28</td>\n",
       "      <td>2000.0</td>\n",
       "      <td>2017-02-27 22:49:51</td>\n",
       "      <td>2</td>\n",
       "      <td>GB</td>\n",
       "      <td>2587.82</td>\n",
       "      <td>failed</td>\n",
       "    </tr>\n",
       "    <tr>\n",
       "      <th>2</th>\n",
       "      <td>Get Expert Advice for your Fantasy Football Team</td>\n",
       "      <td>Apps</td>\n",
       "      <td>Technology</td>\n",
       "      <td>USD</td>\n",
       "      <td>2016-09-16</td>\n",
       "      <td>1000.0</td>\n",
       "      <td>2016-08-16 17:54:07</td>\n",
       "      <td>3</td>\n",
       "      <td>US</td>\n",
       "      <td>1000.00</td>\n",
       "      <td>failed</td>\n",
       "    </tr>\n",
       "    <tr>\n",
       "      <th>3</th>\n",
       "      <td>Realms of the Ancients (ROTA)</td>\n",
       "      <td>Tabletop Games</td>\n",
       "      <td>Games</td>\n",
       "      <td>USD</td>\n",
       "      <td>2013-08-02</td>\n",
       "      <td>30000.0</td>\n",
       "      <td>2013-06-16 00:47:10</td>\n",
       "      <td>49</td>\n",
       "      <td>US</td>\n",
       "      <td>30000.00</td>\n",
       "      <td>failed</td>\n",
       "    </tr>\n",
       "    <tr>\n",
       "      <th>4</th>\n",
       "      <td>Innr. Change the way you experience lighting</td>\n",
       "      <td>Product Design</td>\n",
       "      <td>Design</td>\n",
       "      <td>GBP</td>\n",
       "      <td>2013-12-07</td>\n",
       "      <td>50000.0</td>\n",
       "      <td>2013-11-07 17:09:09</td>\n",
       "      <td>165</td>\n",
       "      <td>GB</td>\n",
       "      <td>81349.76</td>\n",
       "      <td>succeeded</td>\n",
       "    </tr>\n",
       "  </tbody>\n",
       "</table>\n",
       "</div>"
      ],
      "text/plain": [
       "                                               name        category  \\\n",
       "0                The Life and Times of a Nutcracker         Fiction   \n",
       "1                     Kochi community outreach 2017             Web   \n",
       "2  Get Expert Advice for your Fantasy Football Team            Apps   \n",
       "3                     Realms of the Ancients (ROTA)  Tabletop Games   \n",
       "4      Innr. Change the way you experience lighting  Product Design   \n",
       "\n",
       "  main_category currency    deadline     goal             launched  backers  \\\n",
       "0    Publishing      USD  2012-12-01   8000.0  2012-10-26 18:31:19        0   \n",
       "1    Journalism      GBP  2017-04-28   2000.0  2017-02-27 22:49:51        2   \n",
       "2    Technology      USD  2016-09-16   1000.0  2016-08-16 17:54:07        3   \n",
       "3         Games      USD  2013-08-02  30000.0  2013-06-16 00:47:10       49   \n",
       "4        Design      GBP  2013-12-07  50000.0  2013-11-07 17:09:09      165   \n",
       "\n",
       "  country  usd_goal_real  new_state  \n",
       "0      US        8000.00     failed  \n",
       "1      GB        2587.82     failed  \n",
       "2      US        1000.00     failed  \n",
       "3      US       30000.00     failed  \n",
       "4      GB       81349.76  succeeded  "
      ]
     },
     "execution_count": 2,
     "metadata": {},
     "output_type": "execute_result"
    }
   ],
   "source": [
    "data = pd.read_csv('~/nu_ds_challenge/ml_assignment_data_train.csv')\n",
    "print('Shape of the dataset is:', data.shape)\n",
    "data.head()"
   ]
  },
  {
   "cell_type": "markdown",
   "metadata": {},
   "source": [
    "# Data Cleaning\n",
    "\n",
    "- Ensure all columns are the correct dtype\n",
    "    - 'lauched' and 'deadline' column to datetime dtype\n"
   ]
  },
  {
   "cell_type": "code",
   "execution_count": 3,
   "metadata": {},
   "outputs": [
    {
     "data": {
      "text/plain": [
       "name              object\n",
       "category          object\n",
       "main_category     object\n",
       "currency          object\n",
       "deadline          object\n",
       "goal             float64\n",
       "launched          object\n",
       "backers            int64\n",
       "country           object\n",
       "usd_goal_real    float64\n",
       "new_state         object\n",
       "dtype: object"
      ]
     },
     "execution_count": 3,
     "metadata": {},
     "output_type": "execute_result"
    }
   ],
   "source": [
    "data.dtypes"
   ]
  },
  {
   "cell_type": "code",
   "execution_count": 4,
   "metadata": {},
   "outputs": [
    {
     "data": {
      "text/html": [
       "<div>\n",
       "<style scoped>\n",
       "    .dataframe tbody tr th:only-of-type {\n",
       "        vertical-align: middle;\n",
       "    }\n",
       "\n",
       "    .dataframe tbody tr th {\n",
       "        vertical-align: top;\n",
       "    }\n",
       "\n",
       "    .dataframe thead th {\n",
       "        text-align: right;\n",
       "    }\n",
       "</style>\n",
       "<table border=\"1\" class=\"dataframe\">\n",
       "  <thead>\n",
       "    <tr style=\"text-align: right;\">\n",
       "      <th></th>\n",
       "      <th>name</th>\n",
       "      <th>category</th>\n",
       "      <th>main_category</th>\n",
       "      <th>currency</th>\n",
       "      <th>deadline</th>\n",
       "      <th>goal</th>\n",
       "      <th>launched</th>\n",
       "      <th>backers</th>\n",
       "      <th>country</th>\n",
       "      <th>usd_goal_real</th>\n",
       "      <th>new_state</th>\n",
       "    </tr>\n",
       "  </thead>\n",
       "  <tbody>\n",
       "    <tr>\n",
       "      <th>0</th>\n",
       "      <td>The Life and Times of a Nutcracker</td>\n",
       "      <td>Fiction</td>\n",
       "      <td>Publishing</td>\n",
       "      <td>USD</td>\n",
       "      <td>2012-12-01</td>\n",
       "      <td>8000.0</td>\n",
       "      <td>2012-10-26</td>\n",
       "      <td>0</td>\n",
       "      <td>US</td>\n",
       "      <td>8000.00</td>\n",
       "      <td>failed</td>\n",
       "    </tr>\n",
       "    <tr>\n",
       "      <th>1</th>\n",
       "      <td>Kochi community outreach 2017</td>\n",
       "      <td>Web</td>\n",
       "      <td>Journalism</td>\n",
       "      <td>GBP</td>\n",
       "      <td>2017-04-28</td>\n",
       "      <td>2000.0</td>\n",
       "      <td>2017-02-27</td>\n",
       "      <td>2</td>\n",
       "      <td>GB</td>\n",
       "      <td>2587.82</td>\n",
       "      <td>failed</td>\n",
       "    </tr>\n",
       "    <tr>\n",
       "      <th>2</th>\n",
       "      <td>Get Expert Advice for your Fantasy Football Team</td>\n",
       "      <td>Apps</td>\n",
       "      <td>Technology</td>\n",
       "      <td>USD</td>\n",
       "      <td>2016-09-16</td>\n",
       "      <td>1000.0</td>\n",
       "      <td>2016-08-16</td>\n",
       "      <td>3</td>\n",
       "      <td>US</td>\n",
       "      <td>1000.00</td>\n",
       "      <td>failed</td>\n",
       "    </tr>\n",
       "    <tr>\n",
       "      <th>3</th>\n",
       "      <td>Realms of the Ancients (ROTA)</td>\n",
       "      <td>Tabletop Games</td>\n",
       "      <td>Games</td>\n",
       "      <td>USD</td>\n",
       "      <td>2013-08-02</td>\n",
       "      <td>30000.0</td>\n",
       "      <td>2013-06-16</td>\n",
       "      <td>49</td>\n",
       "      <td>US</td>\n",
       "      <td>30000.00</td>\n",
       "      <td>failed</td>\n",
       "    </tr>\n",
       "    <tr>\n",
       "      <th>4</th>\n",
       "      <td>Innr. Change the way you experience lighting</td>\n",
       "      <td>Product Design</td>\n",
       "      <td>Design</td>\n",
       "      <td>GBP</td>\n",
       "      <td>2013-12-07</td>\n",
       "      <td>50000.0</td>\n",
       "      <td>2013-11-07</td>\n",
       "      <td>165</td>\n",
       "      <td>GB</td>\n",
       "      <td>81349.76</td>\n",
       "      <td>succeeded</td>\n",
       "    </tr>\n",
       "  </tbody>\n",
       "</table>\n",
       "</div>"
      ],
      "text/plain": [
       "                                               name        category  \\\n",
       "0                The Life and Times of a Nutcracker         Fiction   \n",
       "1                     Kochi community outreach 2017             Web   \n",
       "2  Get Expert Advice for your Fantasy Football Team            Apps   \n",
       "3                     Realms of the Ancients (ROTA)  Tabletop Games   \n",
       "4      Innr. Change the way you experience lighting  Product Design   \n",
       "\n",
       "  main_category currency   deadline     goal   launched  backers country  \\\n",
       "0    Publishing      USD 2012-12-01   8000.0 2012-10-26        0      US   \n",
       "1    Journalism      GBP 2017-04-28   2000.0 2017-02-27        2      GB   \n",
       "2    Technology      USD 2016-09-16   1000.0 2016-08-16        3      US   \n",
       "3         Games      USD 2013-08-02  30000.0 2013-06-16       49      US   \n",
       "4        Design      GBP 2013-12-07  50000.0 2013-11-07      165      GB   \n",
       "\n",
       "   usd_goal_real  new_state  \n",
       "0        8000.00     failed  \n",
       "1        2587.82     failed  \n",
       "2        1000.00     failed  \n",
       "3       30000.00     failed  \n",
       "4       81349.76  succeeded  "
      ]
     },
     "execution_count": 4,
     "metadata": {},
     "output_type": "execute_result"
    }
   ],
   "source": [
    "data_v1 = data.assign(\n",
    "    deadline = pd.to_datetime(pd.to_datetime(data.deadline).dt.date),\n",
    "    launched = pd.to_datetime(pd.to_datetime(data.launched).dt.date)\n",
    ")\n",
    "data_v1.head()"
   ]
  },
  {
   "cell_type": "markdown",
   "metadata": {},
   "source": [
    "- Check for missing values\n",
    "        - 3 missing values in the name column. Delete these rows as they account for less than 0.1% of the dataset"
   ]
  },
  {
   "cell_type": "code",
   "execution_count": 5,
   "metadata": {},
   "outputs": [
    {
     "data": {
      "text/html": [
       "<div>\n",
       "<style scoped>\n",
       "    .dataframe tbody tr th:only-of-type {\n",
       "        vertical-align: middle;\n",
       "    }\n",
       "\n",
       "    .dataframe tbody tr th {\n",
       "        vertical-align: top;\n",
       "    }\n",
       "\n",
       "    .dataframe thead th {\n",
       "        text-align: right;\n",
       "    }\n",
       "</style>\n",
       "<table border=\"1\" class=\"dataframe\">\n",
       "  <thead>\n",
       "    <tr style=\"text-align: right;\">\n",
       "      <th></th>\n",
       "      <th>count_nulls</th>\n",
       "    </tr>\n",
       "  </thead>\n",
       "  <tbody>\n",
       "    <tr>\n",
       "      <th>name</th>\n",
       "      <td>3</td>\n",
       "    </tr>\n",
       "  </tbody>\n",
       "</table>\n",
       "</div>"
      ],
      "text/plain": [
       "      count_nulls\n",
       "name            3"
      ]
     },
     "execution_count": 5,
     "metadata": {},
     "output_type": "execute_result"
    }
   ],
   "source": [
    "nulls = pd.DataFrame(data_v1.isnull().sum(), columns=['count_nulls']).sort_values(by=['count_nulls'], ascending=False)\n",
    "nulls[nulls.count_nulls > 0]"
   ]
  },
  {
   "cell_type": "code",
   "execution_count": 6,
   "metadata": {},
   "outputs": [],
   "source": [
    "# removing rows with missing names\n",
    "data_v2 = data_v1[data_v1.name.isnull() == False]"
   ]
  },
  {
   "cell_type": "markdown",
   "metadata": {},
   "source": [
    "- Map output variables [failed, succeeded, surged] to [0,1,2]"
   ]
  },
  {
   "cell_type": "code",
   "execution_count": 7,
   "metadata": {},
   "outputs": [
    {
     "name": "stderr",
     "output_type": "stream",
     "text": [
      "/Users/joashc/anaconda3/lib/python3.6/site-packages/ipykernel_launcher.py:1: SettingWithCopyWarning: \n",
      "A value is trying to be set on a copy of a slice from a DataFrame.\n",
      "Try using .loc[row_indexer,col_indexer] = value instead\n",
      "\n",
      "See the caveats in the documentation: http://pandas.pydata.org/pandas-docs/stable/indexing.html#indexing-view-versus-copy\n",
      "  \"\"\"Entry point for launching an IPython kernel.\n"
     ]
    }
   ],
   "source": [
    "data_v2['new_state'] = data_v2.new_state.map({'failed':0,'succeeded':1, 'surged':2 })"
   ]
  },
  {
   "cell_type": "code",
   "execution_count": 8,
   "metadata": {
    "scrolled": true
   },
   "outputs": [
    {
     "data": {
      "text/html": [
       "<div>\n",
       "<style scoped>\n",
       "    .dataframe tbody tr th:only-of-type {\n",
       "        vertical-align: middle;\n",
       "    }\n",
       "\n",
       "    .dataframe tbody tr th {\n",
       "        vertical-align: top;\n",
       "    }\n",
       "\n",
       "    .dataframe thead th {\n",
       "        text-align: right;\n",
       "    }\n",
       "</style>\n",
       "<table border=\"1\" class=\"dataframe\">\n",
       "  <thead>\n",
       "    <tr style=\"text-align: right;\">\n",
       "      <th></th>\n",
       "      <th>name</th>\n",
       "      <th>category</th>\n",
       "      <th>main_category</th>\n",
       "      <th>currency</th>\n",
       "      <th>deadline</th>\n",
       "      <th>goal</th>\n",
       "      <th>launched</th>\n",
       "      <th>backers</th>\n",
       "      <th>country</th>\n",
       "      <th>usd_goal_real</th>\n",
       "      <th>new_state</th>\n",
       "    </tr>\n",
       "  </thead>\n",
       "  <tbody>\n",
       "    <tr>\n",
       "      <th>0</th>\n",
       "      <td>The Life and Times of a Nutcracker</td>\n",
       "      <td>Fiction</td>\n",
       "      <td>Publishing</td>\n",
       "      <td>USD</td>\n",
       "      <td>2012-12-01</td>\n",
       "      <td>8000.0</td>\n",
       "      <td>2012-10-26</td>\n",
       "      <td>0</td>\n",
       "      <td>US</td>\n",
       "      <td>8000.00</td>\n",
       "      <td>0</td>\n",
       "    </tr>\n",
       "    <tr>\n",
       "      <th>1</th>\n",
       "      <td>Kochi community outreach 2017</td>\n",
       "      <td>Web</td>\n",
       "      <td>Journalism</td>\n",
       "      <td>GBP</td>\n",
       "      <td>2017-04-28</td>\n",
       "      <td>2000.0</td>\n",
       "      <td>2017-02-27</td>\n",
       "      <td>2</td>\n",
       "      <td>GB</td>\n",
       "      <td>2587.82</td>\n",
       "      <td>0</td>\n",
       "    </tr>\n",
       "    <tr>\n",
       "      <th>2</th>\n",
       "      <td>Get Expert Advice for your Fantasy Football Team</td>\n",
       "      <td>Apps</td>\n",
       "      <td>Technology</td>\n",
       "      <td>USD</td>\n",
       "      <td>2016-09-16</td>\n",
       "      <td>1000.0</td>\n",
       "      <td>2016-08-16</td>\n",
       "      <td>3</td>\n",
       "      <td>US</td>\n",
       "      <td>1000.00</td>\n",
       "      <td>0</td>\n",
       "    </tr>\n",
       "    <tr>\n",
       "      <th>3</th>\n",
       "      <td>Realms of the Ancients (ROTA)</td>\n",
       "      <td>Tabletop Games</td>\n",
       "      <td>Games</td>\n",
       "      <td>USD</td>\n",
       "      <td>2013-08-02</td>\n",
       "      <td>30000.0</td>\n",
       "      <td>2013-06-16</td>\n",
       "      <td>49</td>\n",
       "      <td>US</td>\n",
       "      <td>30000.00</td>\n",
       "      <td>0</td>\n",
       "    </tr>\n",
       "    <tr>\n",
       "      <th>4</th>\n",
       "      <td>Innr. Change the way you experience lighting</td>\n",
       "      <td>Product Design</td>\n",
       "      <td>Design</td>\n",
       "      <td>GBP</td>\n",
       "      <td>2013-12-07</td>\n",
       "      <td>50000.0</td>\n",
       "      <td>2013-11-07</td>\n",
       "      <td>165</td>\n",
       "      <td>GB</td>\n",
       "      <td>81349.76</td>\n",
       "      <td>1</td>\n",
       "    </tr>\n",
       "  </tbody>\n",
       "</table>\n",
       "</div>"
      ],
      "text/plain": [
       "                                               name        category  \\\n",
       "0                The Life and Times of a Nutcracker         Fiction   \n",
       "1                     Kochi community outreach 2017             Web   \n",
       "2  Get Expert Advice for your Fantasy Football Team            Apps   \n",
       "3                     Realms of the Ancients (ROTA)  Tabletop Games   \n",
       "4      Innr. Change the way you experience lighting  Product Design   \n",
       "\n",
       "  main_category currency   deadline     goal   launched  backers country  \\\n",
       "0    Publishing      USD 2012-12-01   8000.0 2012-10-26        0      US   \n",
       "1    Journalism      GBP 2017-04-28   2000.0 2017-02-27        2      GB   \n",
       "2    Technology      USD 2016-09-16   1000.0 2016-08-16        3      US   \n",
       "3         Games      USD 2013-08-02  30000.0 2013-06-16       49      US   \n",
       "4        Design      GBP 2013-12-07  50000.0 2013-11-07      165      GB   \n",
       "\n",
       "   usd_goal_real  new_state  \n",
       "0        8000.00          0  \n",
       "1        2587.82          0  \n",
       "2        1000.00          0  \n",
       "3       30000.00          0  \n",
       "4       81349.76          1  "
      ]
     },
     "execution_count": 8,
     "metadata": {},
     "output_type": "execute_result"
    }
   ],
   "source": [
    "data_v2.new_state.unique()\n",
    "data_v2.head()"
   ]
  },
  {
   "cell_type": "markdown",
   "metadata": {},
   "source": [
    "# Initial Feature Engineering\n",
    "\n",
    "- For date columns\n",
    "    - time_period = deadline - launched\n",
    "    - Month of year launched\n",
    "    - Year of launch\n",
    "- For name column\n",
    "    - len of title\n",
    "    - number of words in the title\n",
    "    - (Note: Maybe for future model improvement) Look at the successful or surged titles, remove stop words and make features of the words "
   ]
  },
  {
   "cell_type": "code",
   "execution_count": 9,
   "metadata": {},
   "outputs": [
    {
     "name": "stderr",
     "output_type": "stream",
     "text": [
      "/Users/joashc/anaconda3/lib/python3.6/site-packages/ipykernel_launcher.py:1: SettingWithCopyWarning: \n",
      "A value is trying to be set on a copy of a slice from a DataFrame.\n",
      "Try using .loc[row_indexer,col_indexer] = value instead\n",
      "\n",
      "See the caveats in the documentation: http://pandas.pydata.org/pandas-docs/stable/indexing.html#indexing-view-versus-copy\n",
      "  \"\"\"Entry point for launching an IPython kernel.\n",
      "/Users/joashc/anaconda3/lib/python3.6/site-packages/ipykernel_launcher.py:2: SettingWithCopyWarning: \n",
      "A value is trying to be set on a copy of a slice from a DataFrame.\n",
      "Try using .loc[row_indexer,col_indexer] = value instead\n",
      "\n",
      "See the caveats in the documentation: http://pandas.pydata.org/pandas-docs/stable/indexing.html#indexing-view-versus-copy\n",
      "  \n"
     ]
    },
    {
     "data": {
      "text/html": [
       "<div>\n",
       "<style scoped>\n",
       "    .dataframe tbody tr th:only-of-type {\n",
       "        vertical-align: middle;\n",
       "    }\n",
       "\n",
       "    .dataframe tbody tr th {\n",
       "        vertical-align: top;\n",
       "    }\n",
       "\n",
       "    .dataframe thead th {\n",
       "        text-align: right;\n",
       "    }\n",
       "</style>\n",
       "<table border=\"1\" class=\"dataframe\">\n",
       "  <thead>\n",
       "    <tr style=\"text-align: right;\">\n",
       "      <th></th>\n",
       "      <th>name</th>\n",
       "      <th>category</th>\n",
       "      <th>main_category</th>\n",
       "      <th>currency</th>\n",
       "      <th>deadline</th>\n",
       "      <th>goal</th>\n",
       "      <th>launched</th>\n",
       "      <th>backers</th>\n",
       "      <th>country</th>\n",
       "      <th>usd_goal_real</th>\n",
       "      <th>new_state</th>\n",
       "      <th>name_length</th>\n",
       "      <th>name_num_words</th>\n",
       "    </tr>\n",
       "  </thead>\n",
       "  <tbody>\n",
       "    <tr>\n",
       "      <th>0</th>\n",
       "      <td>The Life and Times of a Nutcracker</td>\n",
       "      <td>Fiction</td>\n",
       "      <td>Publishing</td>\n",
       "      <td>USD</td>\n",
       "      <td>2012-12-01</td>\n",
       "      <td>8000.0</td>\n",
       "      <td>2012-10-26</td>\n",
       "      <td>0</td>\n",
       "      <td>US</td>\n",
       "      <td>8000.00</td>\n",
       "      <td>0</td>\n",
       "      <td>34</td>\n",
       "      <td>7</td>\n",
       "    </tr>\n",
       "    <tr>\n",
       "      <th>1</th>\n",
       "      <td>Kochi community outreach 2017</td>\n",
       "      <td>Web</td>\n",
       "      <td>Journalism</td>\n",
       "      <td>GBP</td>\n",
       "      <td>2017-04-28</td>\n",
       "      <td>2000.0</td>\n",
       "      <td>2017-02-27</td>\n",
       "      <td>2</td>\n",
       "      <td>GB</td>\n",
       "      <td>2587.82</td>\n",
       "      <td>0</td>\n",
       "      <td>29</td>\n",
       "      <td>4</td>\n",
       "    </tr>\n",
       "    <tr>\n",
       "      <th>2</th>\n",
       "      <td>Get Expert Advice for your Fantasy Football Team</td>\n",
       "      <td>Apps</td>\n",
       "      <td>Technology</td>\n",
       "      <td>USD</td>\n",
       "      <td>2016-09-16</td>\n",
       "      <td>1000.0</td>\n",
       "      <td>2016-08-16</td>\n",
       "      <td>3</td>\n",
       "      <td>US</td>\n",
       "      <td>1000.00</td>\n",
       "      <td>0</td>\n",
       "      <td>48</td>\n",
       "      <td>8</td>\n",
       "    </tr>\n",
       "    <tr>\n",
       "      <th>3</th>\n",
       "      <td>Realms of the Ancients (ROTA)</td>\n",
       "      <td>Tabletop Games</td>\n",
       "      <td>Games</td>\n",
       "      <td>USD</td>\n",
       "      <td>2013-08-02</td>\n",
       "      <td>30000.0</td>\n",
       "      <td>2013-06-16</td>\n",
       "      <td>49</td>\n",
       "      <td>US</td>\n",
       "      <td>30000.00</td>\n",
       "      <td>0</td>\n",
       "      <td>29</td>\n",
       "      <td>5</td>\n",
       "    </tr>\n",
       "    <tr>\n",
       "      <th>4</th>\n",
       "      <td>Innr. Change the way you experience lighting</td>\n",
       "      <td>Product Design</td>\n",
       "      <td>Design</td>\n",
       "      <td>GBP</td>\n",
       "      <td>2013-12-07</td>\n",
       "      <td>50000.0</td>\n",
       "      <td>2013-11-07</td>\n",
       "      <td>165</td>\n",
       "      <td>GB</td>\n",
       "      <td>81349.76</td>\n",
       "      <td>1</td>\n",
       "      <td>44</td>\n",
       "      <td>7</td>\n",
       "    </tr>\n",
       "  </tbody>\n",
       "</table>\n",
       "</div>"
      ],
      "text/plain": [
       "                                               name        category  \\\n",
       "0                The Life and Times of a Nutcracker         Fiction   \n",
       "1                     Kochi community outreach 2017             Web   \n",
       "2  Get Expert Advice for your Fantasy Football Team            Apps   \n",
       "3                     Realms of the Ancients (ROTA)  Tabletop Games   \n",
       "4      Innr. Change the way you experience lighting  Product Design   \n",
       "\n",
       "  main_category currency   deadline     goal   launched  backers country  \\\n",
       "0    Publishing      USD 2012-12-01   8000.0 2012-10-26        0      US   \n",
       "1    Journalism      GBP 2017-04-28   2000.0 2017-02-27        2      GB   \n",
       "2    Technology      USD 2016-09-16   1000.0 2016-08-16        3      US   \n",
       "3         Games      USD 2013-08-02  30000.0 2013-06-16       49      US   \n",
       "4        Design      GBP 2013-12-07  50000.0 2013-11-07      165      GB   \n",
       "\n",
       "   usd_goal_real  new_state  name_length  name_num_words  \n",
       "0        8000.00          0           34               7  \n",
       "1        2587.82          0           29               4  \n",
       "2        1000.00          0           48               8  \n",
       "3       30000.00          0           29               5  \n",
       "4       81349.76          1           44               7  "
      ]
     },
     "execution_count": 9,
     "metadata": {},
     "output_type": "execute_result"
    }
   ],
   "source": [
    "data_v2['name_length'] = data_v2.name.apply(lambda x: len(x))\n",
    "data_v2['name_num_words'] = data_v2.name.apply(lambda x: len(x.split()))\n",
    "data_v2.head()"
   ]
  },
  {
   "cell_type": "code",
   "execution_count": 10,
   "metadata": {},
   "outputs": [
    {
     "data": {
      "text/html": [
       "<div>\n",
       "<style scoped>\n",
       "    .dataframe tbody tr th:only-of-type {\n",
       "        vertical-align: middle;\n",
       "    }\n",
       "\n",
       "    .dataframe tbody tr th {\n",
       "        vertical-align: top;\n",
       "    }\n",
       "\n",
       "    .dataframe thead th {\n",
       "        text-align: right;\n",
       "    }\n",
       "</style>\n",
       "<table border=\"1\" class=\"dataframe\">\n",
       "  <thead>\n",
       "    <tr style=\"text-align: right;\">\n",
       "      <th></th>\n",
       "      <th>name</th>\n",
       "      <th>category</th>\n",
       "      <th>main_category</th>\n",
       "      <th>currency</th>\n",
       "      <th>deadline</th>\n",
       "      <th>goal</th>\n",
       "      <th>launched</th>\n",
       "      <th>backers</th>\n",
       "      <th>country</th>\n",
       "      <th>usd_goal_real</th>\n",
       "      <th>new_state</th>\n",
       "      <th>name_length</th>\n",
       "      <th>name_num_words</th>\n",
       "      <th>launch_month</th>\n",
       "      <th>duration_launched_month</th>\n",
       "      <th>launch_year</th>\n",
       "    </tr>\n",
       "  </thead>\n",
       "  <tbody>\n",
       "    <tr>\n",
       "      <th>0</th>\n",
       "      <td>The Life and Times of a Nutcracker</td>\n",
       "      <td>Fiction</td>\n",
       "      <td>Publishing</td>\n",
       "      <td>USD</td>\n",
       "      <td>2012-12-01</td>\n",
       "      <td>8000.0</td>\n",
       "      <td>2012-10-26</td>\n",
       "      <td>0</td>\n",
       "      <td>US</td>\n",
       "      <td>8000.00</td>\n",
       "      <td>0</td>\n",
       "      <td>34</td>\n",
       "      <td>7</td>\n",
       "      <td>10</td>\n",
       "      <td>1.182776</td>\n",
       "      <td>2012</td>\n",
       "    </tr>\n",
       "    <tr>\n",
       "      <th>1</th>\n",
       "      <td>Kochi community outreach 2017</td>\n",
       "      <td>Web</td>\n",
       "      <td>Journalism</td>\n",
       "      <td>GBP</td>\n",
       "      <td>2017-04-28</td>\n",
       "      <td>2000.0</td>\n",
       "      <td>2017-02-27</td>\n",
       "      <td>2</td>\n",
       "      <td>GB</td>\n",
       "      <td>2587.82</td>\n",
       "      <td>0</td>\n",
       "      <td>29</td>\n",
       "      <td>4</td>\n",
       "      <td>2</td>\n",
       "      <td>1.971293</td>\n",
       "      <td>2017</td>\n",
       "    </tr>\n",
       "    <tr>\n",
       "      <th>2</th>\n",
       "      <td>Get Expert Advice for your Fantasy Football Team</td>\n",
       "      <td>Apps</td>\n",
       "      <td>Technology</td>\n",
       "      <td>USD</td>\n",
       "      <td>2016-09-16</td>\n",
       "      <td>1000.0</td>\n",
       "      <td>2016-08-16</td>\n",
       "      <td>3</td>\n",
       "      <td>US</td>\n",
       "      <td>1000.00</td>\n",
       "      <td>0</td>\n",
       "      <td>48</td>\n",
       "      <td>8</td>\n",
       "      <td>8</td>\n",
       "      <td>1.018501</td>\n",
       "      <td>2016</td>\n",
       "    </tr>\n",
       "    <tr>\n",
       "      <th>3</th>\n",
       "      <td>Realms of the Ancients (ROTA)</td>\n",
       "      <td>Tabletop Games</td>\n",
       "      <td>Games</td>\n",
       "      <td>USD</td>\n",
       "      <td>2013-08-02</td>\n",
       "      <td>30000.0</td>\n",
       "      <td>2013-06-16</td>\n",
       "      <td>49</td>\n",
       "      <td>US</td>\n",
       "      <td>30000.00</td>\n",
       "      <td>0</td>\n",
       "      <td>29</td>\n",
       "      <td>5</td>\n",
       "      <td>6</td>\n",
       "      <td>1.544180</td>\n",
       "      <td>2013</td>\n",
       "    </tr>\n",
       "    <tr>\n",
       "      <th>4</th>\n",
       "      <td>Innr. Change the way you experience lighting</td>\n",
       "      <td>Product Design</td>\n",
       "      <td>Design</td>\n",
       "      <td>GBP</td>\n",
       "      <td>2013-12-07</td>\n",
       "      <td>50000.0</td>\n",
       "      <td>2013-11-07</td>\n",
       "      <td>165</td>\n",
       "      <td>GB</td>\n",
       "      <td>81349.76</td>\n",
       "      <td>1</td>\n",
       "      <td>44</td>\n",
       "      <td>7</td>\n",
       "      <td>11</td>\n",
       "      <td>0.985647</td>\n",
       "      <td>2013</td>\n",
       "    </tr>\n",
       "  </tbody>\n",
       "</table>\n",
       "</div>"
      ],
      "text/plain": [
       "                                               name        category  \\\n",
       "0                The Life and Times of a Nutcracker         Fiction   \n",
       "1                     Kochi community outreach 2017             Web   \n",
       "2  Get Expert Advice for your Fantasy Football Team            Apps   \n",
       "3                     Realms of the Ancients (ROTA)  Tabletop Games   \n",
       "4      Innr. Change the way you experience lighting  Product Design   \n",
       "\n",
       "  main_category currency   deadline     goal   launched  backers country  \\\n",
       "0    Publishing      USD 2012-12-01   8000.0 2012-10-26        0      US   \n",
       "1    Journalism      GBP 2017-04-28   2000.0 2017-02-27        2      GB   \n",
       "2    Technology      USD 2016-09-16   1000.0 2016-08-16        3      US   \n",
       "3         Games      USD 2013-08-02  30000.0 2013-06-16       49      US   \n",
       "4        Design      GBP 2013-12-07  50000.0 2013-11-07      165      GB   \n",
       "\n",
       "   usd_goal_real  new_state  name_length  name_num_words  launch_month  \\\n",
       "0        8000.00          0           34               7            10   \n",
       "1        2587.82          0           29               4             2   \n",
       "2        1000.00          0           48               8             8   \n",
       "3       30000.00          0           29               5             6   \n",
       "4       81349.76          1           44               7            11   \n",
       "\n",
       "   duration_launched_month  launch_year  \n",
       "0                 1.182776         2012  \n",
       "1                 1.971293         2017  \n",
       "2                 1.018501         2016  \n",
       "3                 1.544180         2013  \n",
       "4                 0.985647         2013  "
      ]
     },
     "execution_count": 10,
     "metadata": {},
     "output_type": "execute_result"
    }
   ],
   "source": [
    "data_v2 = data_v2.assign(\n",
    "    launch_month = data_v2.launched.dt.month,\n",
    "    duration_launched_month = ((data_v2.deadline - data_v2.launched)/np.timedelta64(1, 'M')),\n",
    "    launch_year = data_v2.launched.dt.year\n",
    ")\n",
    "data_v2.head()"
   ]
  },
  {
   "cell_type": "markdown",
   "metadata": {},
   "source": [
    "# EDA"
   ]
  },
  {
   "cell_type": "markdown",
   "metadata": {},
   "source": [
    "There are a total of 10 features in the dataset. I want to do some quick introductory analysis on each of them so I have a good understand of the distrubution of the dataset. "
   ]
  },
  {
   "cell_type": "markdown",
   "metadata": {},
   "source": [
    "First Up: new_state"
   ]
  },
  {
   "cell_type": "code",
   "execution_count": 12,
   "metadata": {},
   "outputs": [
    {
     "name": "stdout",
     "output_type": "stream",
     "text": [
      "These are the classification variables of the dataset [0 1 2]\n",
      "   new_state  percent_class\n",
      "0     158171           61.0\n",
      "1      66635           26.0\n",
      "2      33516           13.0\n"
     ]
    }
   ],
   "source": [
    "print('These are the classification variables of the dataset', data_v2.new_state.unique())\n",
    "class_var = pd.DataFrame(data_v2.new_state.value_counts())\n",
    "class_var = class_var.assign(percent_class = round(class_var.new_state/258322, 2)*100)\n",
    "print(class_var)"
   ]
  },
  {
   "cell_type": "markdown",
   "metadata": {},
   "source": [
    "61%, 26% and 13% of the dataset consist of books that failed, succeeded and surged.\n",
    "\n",
    "\n",
    "Next: goal and usd_goal_real\n",
    "\n",
    "\n",
    "I will assume the 'goal' column is also in USD"
   ]
  },
  {
   "cell_type": "code",
   "execution_count": 13,
   "metadata": {},
   "outputs": [
    {
     "data": {
      "text/plain": [
       "<seaborn.axisgrid.FacetGrid at 0x116126358>"
      ]
     },
     "execution_count": 13,
     "metadata": {},
     "output_type": "execute_result"
    },
    {
     "data": {
      "image/png": "[encoded data removed]",
      "text/plain": [
       "<Figure size 418.875x360 with 1 Axes>"
      ]
     },
     "metadata": {},
     "output_type": "display_data"
    }
   ],
   "source": [
    "sns.lmplot( x=\"goal\", y=\"usd_goal_real\", \n",
    "           data=data_v2, fit_reg=False, hue='new_state', legend=True, scatter_kws={'alpha':0.15})"
   ]
  },
  {
   "cell_type": "markdown",
   "metadata": {},
   "source": [
    "Based on the plot, it is evident that the extremely high goals are unlikely to be successful. I hypothesize that this could be due to unrealistic expectations or over hypness of the book. Let's take out some outliers and see the same scatter plot."
   ]
  },
  {
   "cell_type": "code",
   "execution_count": 41,
   "metadata": {},
   "outputs": [
    {
     "name": "stdout",
     "output_type": "stream",
     "text": [
      "Shape of the data removing 99 percentile from the goals columns is: (255738, 16)\n"
     ]
    },
    {
     "data": {
      "text/plain": [
       "<seaborn.axisgrid.FacetGrid at 0x11b44e780>"
      ]
     },
     "execution_count": 41,
     "metadata": {},
     "output_type": "execute_result"
    },
    {
     "data": {
      "image/png": "[encoded data removed]",
      "text/plain": [
       "<Figure size 418.875x360 with 1 Axes>"
      ]
     },
     "metadata": {},
     "output_type": "display_data"
    }
   ],
   "source": [
    "quantile = .99\n",
    "print('Shape of the data removing 99 percentile from the goals columns is:',\n",
    "      data_v2[data_v2['goal'] < data_v2.goal.quantile(quantile)].shape)\n",
    "\n",
    "sns.lmplot( x=\"goal\", y=\"usd_goal_real\", \n",
    "           data=data_v2[data_v2['goal'] < data_v2.goal.quantile(quantile)], \n",
    "           fit_reg=False, hue='new_state', legend=True, scatter_kws={'alpha':0.15})"
   ]
  },
  {
   "cell_type": "markdown",
   "metadata": {},
   "source": [
    "In the plot above, the lower the goal the higher the probability of success."
   ]
  },
  {
   "cell_type": "markdown",
   "metadata": {},
   "source": [
    "Next: Currency"
   ]
  },
  {
   "cell_type": "code",
   "execution_count": 15,
   "metadata": {},
   "outputs": [
    {
     "name": "stdout",
     "output_type": "stream",
     "text": [
      "There are 14 different currencies in this dataset.\n",
      "USD    203876\n",
      "GBP     22949\n",
      "EUR     11120\n",
      "CAD      9613\n",
      "AUD      5083\n",
      "Name: currency, dtype: int64\n"
     ]
    },
    {
     "data": {
      "text/plain": [
       "<matplotlib.axes._subplots.AxesSubplot at 0x1165cdf98>"
      ]
     },
     "execution_count": 15,
     "metadata": {},
     "output_type": "execute_result"
    },
    {
     "data": {
      "image/png": "[encoded data removed]",
      "text/plain": [
       "<Figure size 432x288 with 1 Axes>"
      ]
     },
     "metadata": {},
     "output_type": "display_data"
    }
   ],
   "source": [
    "print('There are', data_v2.currency.nunique(), 'different currencies in this dataset.')\n",
    "print(data_v2.currency.value_counts().head())\n",
    "data_v2.currency.value_counts().plot(kind=\"bar\")"
   ]
  },
  {
   "cell_type": "markdown",
   "metadata": {},
   "source": [
    "In the plot above, it is evident that over 75% of the currency in the dataset is USD.\n",
    "\n",
    "\n",
    "Next: Country"
   ]
  },
  {
   "cell_type": "code",
   "execution_count": 16,
   "metadata": {},
   "outputs": [
    {
     "name": "stdout",
     "output_type": "stream",
     "text": [
      "There are 23 different countries in the dataset.\n",
      "US    203749\n",
      "GB     22930\n",
      "CA      9609\n",
      "AU      5082\n",
      "DE      2640\n",
      "Name: country, dtype: int64\n"
     ]
    },
    {
     "data": {
      "text/plain": [
       "<matplotlib.axes._subplots.AxesSubplot at 0x10f91e518>"
      ]
     },
     "execution_count": 16,
     "metadata": {},
     "output_type": "execute_result"
    },
    {
     "data": {
      "image/png": "[encoded data removed]",
      "text/plain": [
       "<Figure size 432x288 with 1 Axes>"
      ]
     },
     "metadata": {},
     "output_type": "display_data"
    }
   ],
   "source": [
    "data_v2.country.unique()\n",
    "print('There are', data_v2.country.nunique(), 'different countries in the dataset.')\n",
    "print(data_v2.country.value_counts().head())\n",
    "data_v2.country.value_counts().plot(kind=\"bar\")"
   ]
  },
  {
   "cell_type": "markdown",
   "metadata": {},
   "source": [
    "The country distribution is similar to the currency distribution"
   ]
  },
  {
   "cell_type": "markdown",
   "metadata": {},
   "source": [
    "Next: Names of the Books"
   ]
  },
  {
   "cell_type": "code",
   "execution_count": 17,
   "metadata": {},
   "outputs": [
    {
     "name": "stdout",
     "output_type": "stream",
     "text": [
      "1072 books in the dataset have duplicate names. This is 2432 total rows in the dataset with duplicate book names ( 1.0 % of the dataset)\n"
     ]
    }
   ],
   "source": [
    "data_v2.name.nunique()/data_v2.shape[0]\n",
    "name_counts = pd.DataFrame(data_v2.name.value_counts())\n",
    "name_counts[name_counts['name'] > 1].shape\n",
    "\n",
    "print(name_counts[name_counts['name'] > 1].shape[0], 'books in the dataset have duplicate names.',\n",
    "     'This is', name_counts['name'][name_counts['name'] > 1].sum(), \n",
    "      'total rows in the dataset with duplicate book names (', \n",
    "      round((1-(data_v2.name.nunique()/data_v2.shape[0])),2)*100,\n",
    "     '% of the dataset)')"
   ]
  },
  {
   "cell_type": "markdown",
   "metadata": {},
   "source": [
    "Next: main_category"
   ]
  },
  {
   "cell_type": "code",
   "execution_count": 18,
   "metadata": {
    "scrolled": false
   },
   "outputs": [
    {
     "name": "stdout",
     "output_type": "stream",
     "text": [
      "There are 15 different main categories.\n",
      "Here are the t\n",
      "              main_category\n",
      "Film & Video          44878\n",
      "Music                 36541\n",
      "Publishing            28058\n",
      "Technology            20676\n",
      "Games                 20630\n"
     ]
    },
    {
     "data": {
      "text/plain": [
       "<matplotlib.axes._subplots.AxesSubplot at 0x11427e9b0>"
      ]
     },
     "execution_count": 18,
     "metadata": {},
     "output_type": "execute_result"
    },
    {
     "data": {
      "image/png": "[encoded data removed]",
      "text/plain": [
       "<Figure size 432x288 with 1 Axes>"
      ]
     },
     "metadata": {},
     "output_type": "display_data"
    }
   ],
   "source": [
    "data_v2.main_category.unique()\n",
    "print('There are', data_v2.main_category.nunique(), 'different main categories.')\n",
    "main_category_counts = pd.DataFrame(data_v2.main_category.value_counts())\n",
    "print('Here are the t')\n",
    "print(main_category_counts.head())\n",
    "main_category_counts.plot.bar()"
   ]
  },
  {
   "cell_type": "markdown",
   "metadata": {},
   "source": [
    "For unique book names, I do not think it would add much value to one-hot-encode the names as a feature to the model. There are also very few duplicate names. Thus, other features may have to be extracted from the name which will be done in the feature engineering section of the code!\n",
    "\n",
    "\n",
    "Next: category"
   ]
  },
  {
   "cell_type": "code",
   "execution_count": 19,
   "metadata": {},
   "outputs": [
    {
     "name": "stdout",
     "output_type": "stream",
     "text": [
      "There are a total of 159 categories\n",
      "Here are the top 5 categories:\n",
      "                category\n",
      "Product Design     13723\n",
      "Documentary        11578\n",
      "Music              10071\n",
      "Shorts              9035\n",
      "Food                8303\n",
      "Following is a bar plot of the top 20 categories:\n"
     ]
    },
    {
     "data": {
      "text/plain": [
       "<matplotlib.axes._subplots.AxesSubplot at 0x11663e518>"
      ]
     },
     "execution_count": 19,
     "metadata": {},
     "output_type": "execute_result"
    },
    {
     "data": {
      "image/png": "[encoded data removed]",
      "text/plain": [
       "<Figure size 432x288 with 1 Axes>"
      ]
     },
     "metadata": {},
     "output_type": "display_data"
    }
   ],
   "source": [
    "data_v2.category.unique()\n",
    "print('There are a total of', data_v2.category.nunique(),'categories')\n",
    "print('Here are the top 5 categories:')\n",
    "category_counts = pd.DataFrame(data_v2.category.value_counts())\n",
    "print(category_counts.head())\n",
    "print('Following is a bar plot of the top 20 categories:')\n",
    "category_counts.head(20).plot.bar()"
   ]
  },
  {
   "cell_type": "markdown",
   "metadata": {},
   "source": [
    "Next: launch_year"
   ]
  },
  {
   "cell_type": "code",
   "execution_count": 23,
   "metadata": {},
   "outputs": [
    {
     "data": {
      "text/plain": [
       "Index(['name', 'category', 'main_category', 'currency', 'deadline', 'goal',\n",
       "       'launched', 'backers', 'country', 'usd_goal_real', 'new_state',\n",
       "       'name_length', 'name_num_words', 'launch_month',\n",
       "       'duration_launched_month', 'launch_year'],\n",
       "      dtype='object')"
      ]
     },
     "execution_count": 23,
     "metadata": {},
     "output_type": "execute_result"
    }
   ],
   "source": [
    "data_v2.columns"
   ]
  },
  {
   "cell_type": "code",
   "execution_count": 39,
   "metadata": {},
   "outputs": [
    {
     "name": "stdout",
     "output_type": "stream",
     "text": [
      "These are the following counts by year:\n",
      "   year  count\n",
      "8  2009    924\n",
      "7  2010   7619\n",
      "6  2011  19012\n",
      "5  2012  30350\n",
      "4  2013  31955\n",
      "1  2014  46484\n",
      "0  2015  50853\n",
      "2  2016  38028\n",
      "3  2017  33097\n"
     ]
    },
    {
     "data": {
      "text/plain": [
       "<BarContainer object of 9 artists>"
      ]
     },
     "execution_count": 39,
     "metadata": {},
     "output_type": "execute_result"
    },
    {
     "data": {
      "image/png": "[encoded data removed]",
      "text/plain": [
       "<Figure size 432x288 with 1 Axes>"
      ]
     },
     "metadata": {},
     "output_type": "display_data"
    }
   ],
   "source": [
    "year_counts = (data_v2.launch_year.value_counts()\n",
    "                    .reset_index()\n",
    "                    .sort_values(by=['index'], ascending=True)\n",
    "                    .rename(columns={'index': 'year', 'launch_year': 'count'})\n",
    "                )\n",
    "print('These are the following counts by year:')\n",
    "print(year_counts)\n",
    "plt.bar(year_counts['year'], year_counts['count'])"
   ]
  },
  {
   "cell_type": "markdown",
   "metadata": {},
   "source": [
    "There is an increasing trend in the number of kickstarters year over year till 2015 (peak year). After 2015, there is a drop in the number of kickstarters by more tha 10000."
   ]
  },
  {
   "cell_type": "code",
   "execution_count": 51,
   "metadata": {},
   "outputs": [
    {
     "data": {
      "text/html": [
       "<div>\n",
       "<style scoped>\n",
       "    .dataframe tbody tr th:only-of-type {\n",
       "        vertical-align: middle;\n",
       "    }\n",
       "\n",
       "    .dataframe tbody tr th {\n",
       "        vertical-align: top;\n",
       "    }\n",
       "\n",
       "    .dataframe thead th {\n",
       "        text-align: right;\n",
       "    }\n",
       "</style>\n",
       "<table border=\"1\" class=\"dataframe\">\n",
       "  <thead>\n",
       "    <tr style=\"text-align: right;\">\n",
       "      <th></th>\n",
       "      <th>name</th>\n",
       "      <th>category</th>\n",
       "      <th>main_category</th>\n",
       "      <th>currency</th>\n",
       "      <th>deadline</th>\n",
       "      <th>goal</th>\n",
       "      <th>launched</th>\n",
       "      <th>backers</th>\n",
       "      <th>country</th>\n",
       "      <th>usd_goal_real</th>\n",
       "      <th>new_state</th>\n",
       "      <th>name_length</th>\n",
       "      <th>name_num_words</th>\n",
       "      <th>launch_month</th>\n",
       "      <th>duration_launched_month</th>\n",
       "      <th>launch_year</th>\n",
       "      <th>char_per_name_word</th>\n",
       "    </tr>\n",
       "  </thead>\n",
       "  <tbody>\n",
       "    <tr>\n",
       "      <th>0</th>\n",
       "      <td>The Life and Times of a Nutcracker</td>\n",
       "      <td>Fiction</td>\n",
       "      <td>Publishing</td>\n",
       "      <td>USD</td>\n",
       "      <td>2012-12-01</td>\n",
       "      <td>8000.0</td>\n",
       "      <td>2012-10-26</td>\n",
       "      <td>0</td>\n",
       "      <td>US</td>\n",
       "      <td>8000.0</td>\n",
       "      <td>0</td>\n",
       "      <td>34</td>\n",
       "      <td>7</td>\n",
       "      <td>10</td>\n",
       "      <td>1.182776</td>\n",
       "      <td>2012</td>\n",
       "      <td>4.857143</td>\n",
       "    </tr>\n",
       "  </tbody>\n",
       "</table>\n",
       "</div>"
      ],
      "text/plain": [
       "                                 name category main_category currency  \\\n",
       "0  The Life and Times of a Nutcracker  Fiction    Publishing      USD   \n",
       "\n",
       "    deadline    goal   launched  backers country  usd_goal_real  new_state  \\\n",
       "0 2012-12-01  8000.0 2012-10-26        0      US         8000.0          0   \n",
       "\n",
       "   name_length  name_num_words  launch_month  duration_launched_month  \\\n",
       "0           34               7            10                 1.182776   \n",
       "\n",
       "   launch_year  char_per_name_word  \n",
       "0         2012            4.857143  "
      ]
     },
     "execution_count": 51,
     "metadata": {},
     "output_type": "execute_result"
    }
   ],
   "source": [
    "data_v2.head(1)"
   ]
  },
  {
   "cell_type": "code",
   "execution_count": 52,
   "metadata": {},
   "outputs": [
    {
     "name": "stdout",
     "output_type": "stream",
     "text": [
      "These are the following counts by month:\n",
      "    month  count\n",
      "10      1  18878\n",
      "9       2  20502\n",
      "1       3  23466\n",
      "5       4  22317\n",
      "3       5  22754\n",
      "4       6  22578\n",
      "0       7  24975\n",
      "6       8  22249\n",
      "8       9  21333\n",
      "2      10  22779\n",
      "7      11  22118\n",
      "11     12  14373\n"
     ]
    },
    {
     "data": {
      "text/plain": [
       "<BarContainer object of 12 artists>"
      ]
     },
     "execution_count": 52,
     "metadata": {},
     "output_type": "execute_result"
    },
    {
     "data": {
      "image/png": "[encoded data removed]",
      "text/plain": [
       "<Figure size 432x288 with 1 Axes>"
      ]
     },
     "metadata": {},
     "output_type": "display_data"
    }
   ],
   "source": [
    "month_counts = (data_v2.launch_month.value_counts()\n",
    "                    .reset_index()\n",
    "                    .sort_values(by=['index'], ascending=True)\n",
    "                    .rename(columns={'index': 'month', 'launch_month': 'count'})\n",
    "                )\n",
    "print('These are the following counts by month:')\n",
    "print(month_counts)\n",
    "plt.bar(month_counts['month'], month_counts['count'])"
   ]
  },
  {
   "cell_type": "markdown",
   "metadata": {},
   "source": [
    "December (14373) has the least number of kickstarter projects launched whereas July (24,975) has the most.\n",
    "\n",
    "\n",
    "Next: name_length & name_num_words"
   ]
  },
  {
   "cell_type": "code",
   "execution_count": 56,
   "metadata": {},
   "outputs": [
    {
     "name": "stdout",
     "output_type": "stream",
     "text": [
      "Histogram of the length of kickstarter names:\n"
     ]
    },
    {
     "data": {
      "text/plain": [
       "<matplotlib.axes._subplots.AxesSubplot at 0x1a334c7630>"
      ]
     },
     "execution_count": 56,
     "metadata": {},
     "output_type": "execute_result"
    },
    {
     "data": {
      "image/png": "[encoded data removed]",
      "text/plain": [
       "<Figure size 432x288 with 1 Axes>"
      ]
     },
     "metadata": {},
     "output_type": "display_data"
    }
   ],
   "source": [
    "print('Histogram of the length of kickstarter names:')\n",
    "data_v2.name_length.hist(bins=10)"
   ]
  },
  {
   "cell_type": "code",
   "execution_count": 55,
   "metadata": {},
   "outputs": [
    {
     "name": "stdout",
     "output_type": "stream",
     "text": [
      "Histogram of the number of words of kickstarter names:\n"
     ]
    },
    {
     "data": {
      "text/plain": [
       "<matplotlib.axes._subplots.AxesSubplot at 0x1a314b8da0>"
      ]
     },
     "execution_count": 55,
     "metadata": {},
     "output_type": "execute_result"
    },
    {
     "data": {
      "image/png": "[encoded data removed]",
      "text/plain": [
       "<Figure size 432x288 with 1 Axes>"
      ]
     },
     "metadata": {},
     "output_type": "display_data"
    }
   ],
   "source": [
    "print('Histogram of the number of words of kickstarter names:')\n",
    "data_v2.name_num_words.hist(bins=10)"
   ]
  },
  {
   "cell_type": "markdown",
   "metadata": {},
   "source": [
    "Next: backers"
   ]
  },
  {
   "cell_type": "code",
   "execution_count": 43,
   "metadata": {},
   "outputs": [
    {
     "data": {
      "text/plain": [
       "<seaborn.axisgrid.FacetGrid at 0x11d33f710>"
      ]
     },
     "execution_count": 43,
     "metadata": {},
     "output_type": "execute_result"
    },
    {
     "data": {
      "image/png": "[encoded data removed]",
      "text/plain": [
       "<Figure size 418.875x360 with 1 Axes>"
      ]
     },
     "metadata": {},
     "output_type": "display_data"
    }
   ],
   "source": [
    "backers_plot_data = data_v2[data_v2['goal'] < data_v2.goal.quantile(quantile)]\n",
    "sns.lmplot( x=\"goal\", y=\"backers\", \n",
    "           data=backers_plot_data, fit_reg=False, hue='new_state', legend=True, scatter_kws={'alpha':0.15})"
   ]
  },
  {
   "cell_type": "markdown",
   "metadata": {},
   "source": [
    "From the plot above, the higher the goal the more likely the kickstarter is to fail. However, if the kickstarter project has a lot of backers, then it is evident to have a higher probability of success."
   ]
  },
  {
   "cell_type": "code",
   "execution_count": 49,
   "metadata": {},
   "outputs": [
    {
     "data": {
      "text/plain": [
       "<seaborn.axisgrid.FacetGrid at 0x11b551668>"
      ]
     },
     "execution_count": 49,
     "metadata": {},
     "output_type": "execute_result"
    },
    {
     "data": {
      "image/png": "[encoded data removed]",
      "text/plain": [
       "<Figure size 418.875x360 with 1 Axes>"
      ]
     },
     "metadata": {},
     "output_type": "display_data"
    }
   ],
   "source": [
    "backers_plot_data = data_v2[data_v2['goal'] < data_v2.goal.quantile(quantile)]\n",
    "sns.lmplot( x=\"name_num_words\", y=\"name_length\", \n",
    "           data=backers_plot_data, fit_reg=False, hue='new_state', legend=True, scatter_kws={'alpha':0.15})"
   ]
  },
  {
   "cell_type": "markdown",
   "metadata": {},
   "source": [
    "# Benchmarking\n",
    "I will be using K-nearest neighbors as a benchmark model. K-NN does not usually provide competitive accuracy in comparision to other more complex supervised machine learning algorithms.\n",
    "\n",
    "#### Preprocessing Data for K-NN\n",
    "Specfic features from the dataset will be picked and scaled using MinMaxScaler for the model. The model will be divided into a train and test set. The best K will be picked using GridSearchcv on the train set. The model will then be implemented on the test set to get the benchmarking metrics.\n",
    "\n",
    "#### Model Performance\n",
    "Accuracy and log_loss will be used to evaluate model performance."
   ]
  },
  {
   "cell_type": "markdown",
   "metadata": {},
   "source": [
    "## K-NN Preprocessing\n",
    "#### Picking Features\n",
    "I will use the following features for the K-NN model:\n",
    "\n",
    "\n",
    "'main_category', 'country', 'backers', 'usd_goal_real', 'launch_month', 'launch_year', 'duration_launched_month'"
   ]
  },
  {
   "cell_type": "code",
   "execution_count": 62,
   "metadata": {},
   "outputs": [
    {
     "data": {
      "text/html": [
       "<div>\n",
       "<style scoped>\n",
       "    .dataframe tbody tr th:only-of-type {\n",
       "        vertical-align: middle;\n",
       "    }\n",
       "\n",
       "    .dataframe tbody tr th {\n",
       "        vertical-align: top;\n",
       "    }\n",
       "\n",
       "    .dataframe thead th {\n",
       "        text-align: right;\n",
       "    }\n",
       "</style>\n",
       "<table border=\"1\" class=\"dataframe\">\n",
       "  <thead>\n",
       "    <tr style=\"text-align: right;\">\n",
       "      <th></th>\n",
       "      <th>main_category</th>\n",
       "      <th>country</th>\n",
       "      <th>backers</th>\n",
       "      <th>usd_goal_real</th>\n",
       "      <th>launch_month</th>\n",
       "      <th>launch_year</th>\n",
       "      <th>duration_launched_month</th>\n",
       "    </tr>\n",
       "  </thead>\n",
       "  <tbody>\n",
       "    <tr>\n",
       "      <th>0</th>\n",
       "      <td>Publishing</td>\n",
       "      <td>US</td>\n",
       "      <td>0</td>\n",
       "      <td>8000.00</td>\n",
       "      <td>10</td>\n",
       "      <td>2012</td>\n",
       "      <td>1.182776</td>\n",
       "    </tr>\n",
       "    <tr>\n",
       "      <th>1</th>\n",
       "      <td>Journalism</td>\n",
       "      <td>GB</td>\n",
       "      <td>2</td>\n",
       "      <td>2587.82</td>\n",
       "      <td>2</td>\n",
       "      <td>2017</td>\n",
       "      <td>1.971293</td>\n",
       "    </tr>\n",
       "  </tbody>\n",
       "</table>\n",
       "</div>"
      ],
      "text/plain": [
       "  main_category country  backers  usd_goal_real  launch_month  launch_year  \\\n",
       "0    Publishing      US        0        8000.00            10         2012   \n",
       "1    Journalism      GB        2        2587.82             2         2017   \n",
       "\n",
       "   duration_launched_month  \n",
       "0                 1.182776  \n",
       "1                 1.971293  "
      ]
     },
     "execution_count": 62,
     "metadata": {},
     "output_type": "execute_result"
    }
   ],
   "source": [
    "X = data_v2[['main_category', 'country', 'backers', 'usd_goal_real', 'launch_month', 'launch_year',\n",
    "             'duration_launched_month']]\n",
    "y = data_v2[['new_state']]\n",
    "X.head(2)"
   ]
  },
  {
   "cell_type": "markdown",
   "metadata": {},
   "source": [
    "#### Preprocessing Features\n",
    "- one hot encode object features"
   ]
  },
  {
   "cell_type": "code",
   "execution_count": 64,
   "metadata": {
    "scrolled": true
   },
   "outputs": [
    {
     "data": {
      "text/html": [
       "<div>\n",
       "<style scoped>\n",
       "    .dataframe tbody tr th:only-of-type {\n",
       "        vertical-align: middle;\n",
       "    }\n",
       "\n",
       "    .dataframe tbody tr th {\n",
       "        vertical-align: top;\n",
       "    }\n",
       "\n",
       "    .dataframe thead th {\n",
       "        text-align: right;\n",
       "    }\n",
       "</style>\n",
       "<table border=\"1\" class=\"dataframe\">\n",
       "  <thead>\n",
       "    <tr style=\"text-align: right;\">\n",
       "      <th></th>\n",
       "      <th>backers</th>\n",
       "      <th>usd_goal_real</th>\n",
       "      <th>launch_month</th>\n",
       "      <th>launch_year</th>\n",
       "      <th>duration_launched_month</th>\n",
       "      <th>main_category_Art</th>\n",
       "      <th>main_category_Comics</th>\n",
       "      <th>main_category_Crafts</th>\n",
       "      <th>main_category_Dance</th>\n",
       "      <th>main_category_Design</th>\n",
       "      <th>...</th>\n",
       "      <th>country_JP</th>\n",
       "      <th>country_LU</th>\n",
       "      <th>country_MX</th>\n",
       "      <th>country_N,0\"</th>\n",
       "      <th>country_NL</th>\n",
       "      <th>country_NO</th>\n",
       "      <th>country_NZ</th>\n",
       "      <th>country_SE</th>\n",
       "      <th>country_SG</th>\n",
       "      <th>country_US</th>\n",
       "    </tr>\n",
       "  </thead>\n",
       "  <tbody>\n",
       "    <tr>\n",
       "      <th>0</th>\n",
       "      <td>0</td>\n",
       "      <td>8000.00</td>\n",
       "      <td>10</td>\n",
       "      <td>2012</td>\n",
       "      <td>1.182776</td>\n",
       "      <td>0</td>\n",
       "      <td>0</td>\n",
       "      <td>0</td>\n",
       "      <td>0</td>\n",
       "      <td>0</td>\n",
       "      <td>...</td>\n",
       "      <td>0</td>\n",
       "      <td>0</td>\n",
       "      <td>0</td>\n",
       "      <td>0</td>\n",
       "      <td>0</td>\n",
       "      <td>0</td>\n",
       "      <td>0</td>\n",
       "      <td>0</td>\n",
       "      <td>0</td>\n",
       "      <td>1</td>\n",
       "    </tr>\n",
       "    <tr>\n",
       "      <th>1</th>\n",
       "      <td>2</td>\n",
       "      <td>2587.82</td>\n",
       "      <td>2</td>\n",
       "      <td>2017</td>\n",
       "      <td>1.971293</td>\n",
       "      <td>0</td>\n",
       "      <td>0</td>\n",
       "      <td>0</td>\n",
       "      <td>0</td>\n",
       "      <td>0</td>\n",
       "      <td>...</td>\n",
       "      <td>0</td>\n",
       "      <td>0</td>\n",
       "      <td>0</td>\n",
       "      <td>0</td>\n",
       "      <td>0</td>\n",
       "      <td>0</td>\n",
       "      <td>0</td>\n",
       "      <td>0</td>\n",
       "      <td>0</td>\n",
       "      <td>0</td>\n",
       "    </tr>\n",
       "  </tbody>\n",
       "</table>\n",
       "<p>2 rows × 43 columns</p>\n",
       "</div>"
      ],
      "text/plain": [
       "   backers  usd_goal_real  launch_month  launch_year  duration_launched_month  \\\n",
       "0        0        8000.00            10         2012                 1.182776   \n",
       "1        2        2587.82             2         2017                 1.971293   \n",
       "\n",
       "   main_category_Art  main_category_Comics  main_category_Crafts  \\\n",
       "0                  0                     0                     0   \n",
       "1                  0                     0                     0   \n",
       "\n",
       "   main_category_Dance  main_category_Design     ...      country_JP  \\\n",
       "0                    0                     0     ...               0   \n",
       "1                    0                     0     ...               0   \n",
       "\n",
       "   country_LU  country_MX  country_N,0\"  country_NL  country_NO  country_NZ  \\\n",
       "0           0           0             0           0           0           0   \n",
       "1           0           0             0           0           0           0   \n",
       "\n",
       "   country_SE  country_SG  country_US  \n",
       "0           0           0           1  \n",
       "1           0           0           0  \n",
       "\n",
       "[2 rows x 43 columns]"
      ]
     },
     "execution_count": 64,
     "metadata": {},
     "output_type": "execute_result"
    }
   ],
   "source": [
    "X_dummies = pd.get_dummies(X)\n",
    "X_dummies.head(2)"
   ]
  },
  {
   "cell_type": "markdown",
   "metadata": {},
   "source": [
    "- MinMaxScaler on entire set"
   ]
  },
  {
   "cell_type": "code",
   "execution_count": 72,
   "metadata": {},
   "outputs": [
    {
     "data": {
      "text/html": [
       "<div>\n",
       "<style scoped>\n",
       "    .dataframe tbody tr th:only-of-type {\n",
       "        vertical-align: middle;\n",
       "    }\n",
       "\n",
       "    .dataframe tbody tr th {\n",
       "        vertical-align: top;\n",
       "    }\n",
       "\n",
       "    .dataframe thead th {\n",
       "        text-align: right;\n",
       "    }\n",
       "</style>\n",
       "<table border=\"1\" class=\"dataframe\">\n",
       "  <thead>\n",
       "    <tr style=\"text-align: right;\">\n",
       "      <th></th>\n",
       "      <th>backers</th>\n",
       "      <th>usd_goal_real</th>\n",
       "      <th>launch_month</th>\n",
       "      <th>launch_year</th>\n",
       "      <th>duration_launched_month</th>\n",
       "      <th>main_category_Art</th>\n",
       "      <th>main_category_Comics</th>\n",
       "      <th>main_category_Crafts</th>\n",
       "      <th>main_category_Dance</th>\n",
       "      <th>main_category_Design</th>\n",
       "      <th>...</th>\n",
       "      <th>country_JP</th>\n",
       "      <th>country_LU</th>\n",
       "      <th>country_MX</th>\n",
       "      <th>country_N,0\"</th>\n",
       "      <th>country_NL</th>\n",
       "      <th>country_NO</th>\n",
       "      <th>country_NZ</th>\n",
       "      <th>country_SE</th>\n",
       "      <th>country_SG</th>\n",
       "      <th>country_US</th>\n",
       "    </tr>\n",
       "  </thead>\n",
       "  <tbody>\n",
       "    <tr>\n",
       "      <th>0</th>\n",
       "      <td>0.000000</td>\n",
       "      <td>0.000048</td>\n",
       "      <td>0.818182</td>\n",
       "      <td>0.375</td>\n",
       "      <td>0.384615</td>\n",
       "      <td>0.0</td>\n",
       "      <td>0.0</td>\n",
       "      <td>0.0</td>\n",
       "      <td>0.0</td>\n",
       "      <td>0.0</td>\n",
       "      <td>...</td>\n",
       "      <td>0.0</td>\n",
       "      <td>0.0</td>\n",
       "      <td>0.0</td>\n",
       "      <td>0.0</td>\n",
       "      <td>0.0</td>\n",
       "      <td>0.0</td>\n",
       "      <td>0.0</td>\n",
       "      <td>0.0</td>\n",
       "      <td>0.0</td>\n",
       "      <td>1.0</td>\n",
       "    </tr>\n",
       "    <tr>\n",
       "      <th>1</th>\n",
       "      <td>0.000027</td>\n",
       "      <td>0.000016</td>\n",
       "      <td>0.090909</td>\n",
       "      <td>1.000</td>\n",
       "      <td>0.648352</td>\n",
       "      <td>0.0</td>\n",
       "      <td>0.0</td>\n",
       "      <td>0.0</td>\n",
       "      <td>0.0</td>\n",
       "      <td>0.0</td>\n",
       "      <td>...</td>\n",
       "      <td>0.0</td>\n",
       "      <td>0.0</td>\n",
       "      <td>0.0</td>\n",
       "      <td>0.0</td>\n",
       "      <td>0.0</td>\n",
       "      <td>0.0</td>\n",
       "      <td>0.0</td>\n",
       "      <td>0.0</td>\n",
       "      <td>0.0</td>\n",
       "      <td>0.0</td>\n",
       "    </tr>\n",
       "  </tbody>\n",
       "</table>\n",
       "<p>2 rows × 43 columns</p>\n",
       "</div>"
      ],
      "text/plain": [
       "    backers  usd_goal_real  launch_month  launch_year  \\\n",
       "0  0.000000       0.000048      0.818182        0.375   \n",
       "1  0.000027       0.000016      0.090909        1.000   \n",
       "\n",
       "   duration_launched_month  main_category_Art  main_category_Comics  \\\n",
       "0                 0.384615                0.0                   0.0   \n",
       "1                 0.648352                0.0                   0.0   \n",
       "\n",
       "   main_category_Crafts  main_category_Dance  main_category_Design  \\\n",
       "0                   0.0                  0.0                   0.0   \n",
       "1                   0.0                  0.0                   0.0   \n",
       "\n",
       "      ...      country_JP  country_LU  country_MX  country_N,0\"  country_NL  \\\n",
       "0     ...             0.0         0.0         0.0           0.0         0.0   \n",
       "1     ...             0.0         0.0         0.0           0.0         0.0   \n",
       "\n",
       "   country_NO  country_NZ  country_SE  country_SG  country_US  \n",
       "0         0.0         0.0         0.0         0.0         1.0  \n",
       "1         0.0         0.0         0.0         0.0         0.0  \n",
       "\n",
       "[2 rows x 43 columns]"
      ]
     },
     "execution_count": 72,
     "metadata": {},
     "output_type": "execute_result"
    }
   ],
   "source": [
    "scaler = MinMaxScaler()\n",
    "X_scaled = pd.DataFrame(scaler.fit_transform(X_dummies), columns=X_dummies.columns)\n",
    "X_scaled.head(2)"
   ]
  },
  {
   "cell_type": "markdown",
   "metadata": {},
   "source": [
    "- change the shape of y\n",
    "- Split data into training and testing set"
   ]
  },
  {
   "cell_type": "code",
   "execution_count": 90,
   "metadata": {},
   "outputs": [
    {
     "data": {
      "text/plain": [
       "(258322,)"
      ]
     },
     "execution_count": 90,
     "metadata": {},
     "output_type": "execute_result"
    }
   ],
   "source": [
    "y = np.array(y).ravel()\n",
    "y.shape"
   ]
  },
  {
   "cell_type": "code",
   "execution_count": 91,
   "metadata": {},
   "outputs": [
    {
     "name": "stdout",
     "output_type": "stream",
     "text": [
      "Shape of training set is: (206657, 43)\n",
      "Shape of testing set is: (51665, 43)\n"
     ]
    }
   ],
   "source": [
    "X_train, X_test, y_train, y_test = train_test_split(X_scaled, y, test_size=0.20, random_state=42)\n",
    "print('Shape of training set is:', X_train.shape)\n",
    "print('Shape of testing set is:', X_test.shape)"
   ]
  },
  {
   "cell_type": "markdown",
   "metadata": {},
   "source": [
    "#### Train K-NN model\n",
    "- Using gridsearchcv to try out different ranges of k on the training set"
   ]
  },
  {
   "cell_type": "code",
   "execution_count": 97,
   "metadata": {},
   "outputs": [],
   "source": [
    "knn_model = KNeighborsClassifier()\n",
    "knn_model_params = {'n_neighbors': np.arange(1,5)}"
   ]
  },
  {
   "cell_type": "code",
   "execution_count": 98,
   "metadata": {
    "scrolled": false
   },
   "outputs": [
    {
     "name": "stdout",
     "output_type": "stream",
     "text": [
      "Fitting 3 folds for each of 4 candidates, totalling 12 fits\n",
      "[CV] n_neighbors=1 ...................................................\n",
      "[CV] .......... n_neighbors=1, score=0.6553726446592921, total= 2.6min\n",
      "[CV] n_neighbors=1 ...................................................\n"
     ]
    },
    {
     "name": "stderr",
     "output_type": "stream",
     "text": [
      "[Parallel(n_jobs=1)]: Done   1 out of   1 | elapsed:  7.0min remaining:    0.0s\n"
     ]
    },
    {
     "name": "stdout",
     "output_type": "stream",
     "text": [
      "[CV] .......... n_neighbors=1, score=0.6568678686525564, total= 2.4min\n",
      "[CV] n_neighbors=1 ...................................................\n"
     ]
    },
    {
     "name": "stderr",
     "output_type": "stream",
     "text": [
      "[Parallel(n_jobs=1)]: Done   2 out of   2 | elapsed: 13.2min remaining:    0.0s\n"
     ]
    },
    {
     "name": "stdout",
     "output_type": "stream",
     "text": [
      "[CV] .......... n_neighbors=1, score=0.6546853451404515, total= 2.7min\n",
      "[CV] n_neighbors=2 ...................................................\n",
      "[CV] .......... n_neighbors=2, score=0.6775832534912755, total= 2.8min\n",
      "[CV] n_neighbors=2 ...................................................\n",
      "[CV] .......... n_neighbors=2, score=0.6793542955027146, total= 2.4min\n",
      "[CV] n_neighbors=2 ...................................................\n",
      "[CV] .......... n_neighbors=2, score=0.6777382594178704, total= 2.7min\n",
      "[CV] n_neighbors=3 ...................................................\n",
      "[CV] .......... n_neighbors=3, score=0.6709636210550765, total= 2.7min\n",
      "[CV] n_neighbors=3 ...................................................\n",
      "[CV] .......... n_neighbors=3, score=0.6720523763899776, total= 2.4min\n",
      "[CV] n_neighbors=3 ...................................................\n",
      "[CV] .......... n_neighbors=3, score=0.6711040139362706, total= 2.8min\n",
      "[CV] n_neighbors=4 ...................................................\n",
      "[CV] ........... n_neighbors=4, score=0.676189646662602, total= 2.7min\n",
      "[CV] n_neighbors=4 ...................................................\n",
      "[CV] .......... n_neighbors=4, score=0.6801091658682461, total= 2.4min\n",
      "[CV] n_neighbors=4 ...................................................\n",
      "[CV] ........... n_neighbors=4, score=0.677970530594469, total= 3.1min\n"
     ]
    },
    {
     "name": "stderr",
     "output_type": "stream",
     "text": [
      "[Parallel(n_jobs=1)]: Done  12 out of  12 | elapsed: 84.9min finished\n"
     ]
    },
    {
     "name": "stdout",
     "output_type": "stream",
     "text": [
      "CPU times: user 1h 23min 33s, sys: 34.9 s, total: 1h 24min 8s\n",
      "Wall time: 1h 25min 48s\n"
     ]
    }
   ],
   "source": [
    "# %%time\n",
    "# knn_model_cv = GridSearchCV(knn_model,param_grid=knn_model_params,cv=3, verbose=3)\n",
    "# knn_model_cv.fit(X_train,y_train)"
   ]
  },
  {
   "cell_type": "code",
   "execution_count": 99,
   "metadata": {},
   "outputs": [
    {
     "name": "stdout",
     "output_type": "stream",
     "text": [
      "The best score is: 0.6782252718272306\n",
      "The best k value is: {'n_neighbors': 2}\n"
     ]
    }
   ],
   "source": [
    "# print('The best score is:', knn_model_cv.best_score_)\n",
    "# print('The best k value is:', knn_model_cv.best_params_)"
   ]
  },
  {
   "cell_type": "markdown",
   "metadata": {},
   "source": [
    "#### Testing K-NN model\n",
    "- apply k-nn model on test set\n"
   ]
  },
  {
   "cell_type": "code",
   "execution_count": 101,
   "metadata": {},
   "outputs": [
    {
     "name": "stdout",
     "output_type": "stream",
     "text": [
      "CPU times: user 3min 54s, sys: 1.61 s, total: 3min 56s\n",
      "Wall time: 4min 1s\n"
     ]
    }
   ],
   "source": [
    "%%time\n",
    "knn_test = KNeighborsClassifier()\n",
    "knn_test.fit(X_train,y_train)\n",
    "knn_predictions = knn_test.predict(X_test)"
   ]
  },
  {
   "cell_type": "code",
   "execution_count": 125,
   "metadata": {},
   "outputs": [
    {
     "name": "stdout",
     "output_type": "stream",
     "text": [
      "CPU times: user 2min 48s, sys: 717 ms, total: 2min 49s\n",
      "Wall time: 2min 50s\n"
     ]
    }
   ],
   "source": [
    "%%time\n",
    "knn_prob_predictions = knn_test.predict_proba(X_test)"
   ]
  },
  {
   "cell_type": "markdown",
   "metadata": {},
   "source": [
    "- Evaluate the model performance"
   ]
  },
  {
   "cell_type": "code",
   "execution_count": 127,
   "metadata": {
    "scrolled": true
   },
   "outputs": [
    {
     "name": "stdout",
     "output_type": "stream",
     "text": [
      "Accuracy: 0.6866156972805575\n",
      "Log_loss: 3.5592535094921773\n"
     ]
    }
   ],
   "source": [
    "print(\"Accuracy:\",metrics.accuracy_score(y_test, knn_predictions))\n",
    "print(\"Log_loss:\",metrics.log_loss(y_test, knn_prob_predictions))"
   ]
  },
  {
   "cell_type": "markdown",
   "metadata": {},
   "source": [
    "Will use the accuracy of 68.7% and log loss of 3.56 as a benchmark for the model. These benchmark metrics are credible because if every row in the test dataset was predicted as failed, the accuracy would be approximately 61% (61% of the dataset is labeled as failed).\n",
    "\n",
    "\n",
    "Let's apply a more sophisticated model to see if we can improve these evalution metrics."
   ]
  },
  {
   "cell_type": "markdown",
   "metadata": {},
   "source": [
    "# Model Implementation"
   ]
  },
  {
   "cell_type": "markdown",
   "metadata": {},
   "source": [
    "## Boosting via LightGBM"
   ]
  },
  {
   "cell_type": "markdown",
   "metadata": {},
   "source": [
    "## Neural Networks via PyTorch (for fun)"
   ]
  },
  {
   "cell_type": "markdown",
   "metadata": {},
   "source": [
    "Improvements\n",
    "- Benchmarking took too long using K-NN. Next time benchmarking can be done by mapping a predictions to a simple function using the distributions of the dataset. \n",
    "    - Eg: Derive a random number for each row in the dataset. If the random number is between [0,60], [61,87] and [87,100], predict classes failed, succeeded and surged.\n",
    "- Due to time constraint, I trained the k-nn model based on accuracy instead of log_loss (Cross Entropy)\n",
    "- Removing outliers in the model?"
   ]
  },
  {
   "cell_type": "code",
   "execution_count": null,
   "metadata": {},
   "outputs": [],
   "source": []
  }
 ],
 "metadata": {
  "kernelspec": {
   "display_name": "Python 3",
   "language": "python",
   "name": "python3"
  },
  "language_info": {
   "codemirror_mode": {
    "name": "ipython",
    "version": 3
   },
   "file_extension": ".py",
   "mimetype": "text/x-python",
   "name": "python",
   "nbconvert_exporter": "python",
   "pygments_lexer": "ipython3",
   "version": "3.6.5"
  }
 },
 "nbformat": 4,
 "nbformat_minor": 2
}
