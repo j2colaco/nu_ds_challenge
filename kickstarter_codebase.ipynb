{
 "cells": [
  {
   "cell_type": "code",
   "execution_count": null,
   "metadata": {
    "scrolled": true
   },
   "outputs": [],
   "source": [
    "from IPython.display import HTML\n",
    "HTML('''<script>\n",
    "code_show=true; \n",
    "function code_toggle() {\n",
    " if (code_show){\n",
    " $('div.input').hide();\n",
    " } else {\n",
    " $('div.input').show();\n",
    " }\n",
    " code_show = !code_show\n",
    "} \n",
    "$( document ).ready(code_toggle);\n",
    "</script>\n",
    "The raw code for this IPython notebook is by default hidden for easier reading.\n",
    "To toggle on/off the raw code, click <a href=\"javascript:code_toggle()\">here</a>.''')"
   ]
  },
  {
   "cell_type": "markdown",
   "metadata": {},
   "source": [
    "# Summary\n",
    "\n",
    "I aimed to do this challenge in 4-5 hours. Took me a total of x hours (exception of neural networks). Everything I did in this challenge was to build simple models with a well-thought out process. Did not try any fancy models.\n",
    "\n",
    "## Assumption\n",
    "- goal and usd_goal_real are the same column. One is just converted to usd"
   ]
  },
  {
   "cell_type": "code",
   "execution_count": 1,
   "metadata": {},
   "outputs": [
    {
     "name": "stderr",
     "output_type": "stream",
     "text": [
      "/Users/joashc/anaconda3/lib/python3.6/site-packages/lightgbm/__init__.py:46: UserWarning: Starting from version 2.2.1, the library file in distribution wheels for macOS is built by the Apple Clang (Xcode_9.4.1) compiler.\n",
      "This means that in case of installing LightGBM from PyPI via the ``pip install lightgbm`` command, you don't need to install the gcc compiler anymore.\n",
      "Instead of that, you need to install the OpenMP library, which is required for running LightGBM on the system with the Apple Clang compiler.\n",
      "You can install the OpenMP library by the following command: ``brew install libomp``.\n",
      "  \"You can install the OpenMP library by the following command: ``brew install libomp``.\", UserWarning)\n"
     ]
    }
   ],
   "source": [
    "# All import statements\n",
    "import pandas as pd\n",
    "import numpy as np\n",
    "import matplotlib.pyplot as plt\n",
    "import seaborn as sns\n",
    "import datetime as dt\n",
    "from sklearn.neighbors import KNeighborsClassifier\n",
    "from sklearn.preprocessing import MinMaxScaler\n",
    "from sklearn.model_selection import train_test_split\n",
    "from sklearn.model_selection import GridSearchCV\n",
    "from sklearn import metrics\n",
    "import lightgbm as lgb\n",
    "from sklearn.metrics import confusion_matrix\n",
    "from imblearn.over_sampling import SMOTE\n",
    "from dateutil.relativedelta import relativedelta\n",
    "from bayes_opt import BayesianOptimization\n",
    "import math"
   ]
  },
  {
   "cell_type": "markdown",
   "metadata": {},
   "source": [
    "# Read Data"
   ]
  },
  {
   "cell_type": "code",
   "execution_count": 2,
   "metadata": {},
   "outputs": [
    {
     "name": "stdout",
     "output_type": "stream",
     "text": [
      "Shape of the dataset is: (258325, 11)\n"
     ]
    },
    {
     "data": {
      "text/html": [
       "<div>\n",
       "<style scoped>\n",
       "    .dataframe tbody tr th:only-of-type {\n",
       "        vertical-align: middle;\n",
       "    }\n",
       "\n",
       "    .dataframe tbody tr th {\n",
       "        vertical-align: top;\n",
       "    }\n",
       "\n",
       "    .dataframe thead th {\n",
       "        text-align: right;\n",
       "    }\n",
       "</style>\n",
       "<table border=\"1\" class=\"dataframe\">\n",
       "  <thead>\n",
       "    <tr style=\"text-align: right;\">\n",
       "      <th></th>\n",
       "      <th>name</th>\n",
       "      <th>category</th>\n",
       "      <th>main_category</th>\n",
       "      <th>currency</th>\n",
       "      <th>deadline</th>\n",
       "      <th>goal</th>\n",
       "      <th>launched</th>\n",
       "      <th>backers</th>\n",
       "      <th>country</th>\n",
       "      <th>usd_goal_real</th>\n",
       "      <th>new_state</th>\n",
       "    </tr>\n",
       "  </thead>\n",
       "  <tbody>\n",
       "    <tr>\n",
       "      <th>0</th>\n",
       "      <td>The Life and Times of a Nutcracker</td>\n",
       "      <td>Fiction</td>\n",
       "      <td>Publishing</td>\n",
       "      <td>USD</td>\n",
       "      <td>2012-12-01</td>\n",
       "      <td>8000.0</td>\n",
       "      <td>2012-10-26 18:31:19</td>\n",
       "      <td>0</td>\n",
       "      <td>US</td>\n",
       "      <td>8000.00</td>\n",
       "      <td>failed</td>\n",
       "    </tr>\n",
       "    <tr>\n",
       "      <th>1</th>\n",
       "      <td>Kochi community outreach 2017</td>\n",
       "      <td>Web</td>\n",
       "      <td>Journalism</td>\n",
       "      <td>GBP</td>\n",
       "      <td>2017-04-28</td>\n",
       "      <td>2000.0</td>\n",
       "      <td>2017-02-27 22:49:51</td>\n",
       "      <td>2</td>\n",
       "      <td>GB</td>\n",
       "      <td>2587.82</td>\n",
       "      <td>failed</td>\n",
       "    </tr>\n",
       "    <tr>\n",
       "      <th>2</th>\n",
       "      <td>Get Expert Advice for your Fantasy Football Team</td>\n",
       "      <td>Apps</td>\n",
       "      <td>Technology</td>\n",
       "      <td>USD</td>\n",
       "      <td>2016-09-16</td>\n",
       "      <td>1000.0</td>\n",
       "      <td>2016-08-16 17:54:07</td>\n",
       "      <td>3</td>\n",
       "      <td>US</td>\n",
       "      <td>1000.00</td>\n",
       "      <td>failed</td>\n",
       "    </tr>\n",
       "    <tr>\n",
       "      <th>3</th>\n",
       "      <td>Realms of the Ancients (ROTA)</td>\n",
       "      <td>Tabletop Games</td>\n",
       "      <td>Games</td>\n",
       "      <td>USD</td>\n",
       "      <td>2013-08-02</td>\n",
       "      <td>30000.0</td>\n",
       "      <td>2013-06-16 00:47:10</td>\n",
       "      <td>49</td>\n",
       "      <td>US</td>\n",
       "      <td>30000.00</td>\n",
       "      <td>failed</td>\n",
       "    </tr>\n",
       "    <tr>\n",
       "      <th>4</th>\n",
       "      <td>Innr. Change the way you experience lighting</td>\n",
       "      <td>Product Design</td>\n",
       "      <td>Design</td>\n",
       "      <td>GBP</td>\n",
       "      <td>2013-12-07</td>\n",
       "      <td>50000.0</td>\n",
       "      <td>2013-11-07 17:09:09</td>\n",
       "      <td>165</td>\n",
       "      <td>GB</td>\n",
       "      <td>81349.76</td>\n",
       "      <td>succeeded</td>\n",
       "    </tr>\n",
       "  </tbody>\n",
       "</table>\n",
       "</div>"
      ],
      "text/plain": [
       "                                               name        category  \\\n",
       "0                The Life and Times of a Nutcracker         Fiction   \n",
       "1                     Kochi community outreach 2017             Web   \n",
       "2  Get Expert Advice for your Fantasy Football Team            Apps   \n",
       "3                     Realms of the Ancients (ROTA)  Tabletop Games   \n",
       "4      Innr. Change the way you experience lighting  Product Design   \n",
       "\n",
       "  main_category currency    deadline     goal             launched  backers  \\\n",
       "0    Publishing      USD  2012-12-01   8000.0  2012-10-26 18:31:19        0   \n",
       "1    Journalism      GBP  2017-04-28   2000.0  2017-02-27 22:49:51        2   \n",
       "2    Technology      USD  2016-09-16   1000.0  2016-08-16 17:54:07        3   \n",
       "3         Games      USD  2013-08-02  30000.0  2013-06-16 00:47:10       49   \n",
       "4        Design      GBP  2013-12-07  50000.0  2013-11-07 17:09:09      165   \n",
       "\n",
       "  country  usd_goal_real  new_state  \n",
       "0      US        8000.00     failed  \n",
       "1      GB        2587.82     failed  \n",
       "2      US        1000.00     failed  \n",
       "3      US       30000.00     failed  \n",
       "4      GB       81349.76  succeeded  "
      ]
     },
     "execution_count": 2,
     "metadata": {},
     "output_type": "execute_result"
    }
   ],
   "source": [
    "data = pd.read_csv('~/nu_ds_challenge/ml_assignment_data_train.csv')\n",
    "print('Shape of the dataset is:', data.shape)\n",
    "data.head()"
   ]
  },
  {
   "cell_type": "markdown",
   "metadata": {},
   "source": [
    "# Data Cleaning\n",
    "\n",
    "- Ensure all columns are the correct dtype\n",
    "    - 'lauched' and 'deadline' column to datetime dtype\n"
   ]
  },
  {
   "cell_type": "code",
   "execution_count": 3,
   "metadata": {},
   "outputs": [
    {
     "data": {
      "text/plain": [
       "name              object\n",
       "category          object\n",
       "main_category     object\n",
       "currency          object\n",
       "deadline          object\n",
       "goal             float64\n",
       "launched          object\n",
       "backers            int64\n",
       "country           object\n",
       "usd_goal_real    float64\n",
       "new_state         object\n",
       "dtype: object"
      ]
     },
     "execution_count": 3,
     "metadata": {},
     "output_type": "execute_result"
    }
   ],
   "source": [
    "data.dtypes"
   ]
  },
  {
   "cell_type": "code",
   "execution_count": 4,
   "metadata": {},
   "outputs": [
    {
     "data": {
      "text/html": [
       "<div>\n",
       "<style scoped>\n",
       "    .dataframe tbody tr th:only-of-type {\n",
       "        vertical-align: middle;\n",
       "    }\n",
       "\n",
       "    .dataframe tbody tr th {\n",
       "        vertical-align: top;\n",
       "    }\n",
       "\n",
       "    .dataframe thead th {\n",
       "        text-align: right;\n",
       "    }\n",
       "</style>\n",
       "<table border=\"1\" class=\"dataframe\">\n",
       "  <thead>\n",
       "    <tr style=\"text-align: right;\">\n",
       "      <th></th>\n",
       "      <th>name</th>\n",
       "      <th>category</th>\n",
       "      <th>main_category</th>\n",
       "      <th>currency</th>\n",
       "      <th>deadline</th>\n",
       "      <th>goal</th>\n",
       "      <th>launched</th>\n",
       "      <th>backers</th>\n",
       "      <th>country</th>\n",
       "      <th>usd_goal_real</th>\n",
       "      <th>new_state</th>\n",
       "    </tr>\n",
       "  </thead>\n",
       "  <tbody>\n",
       "    <tr>\n",
       "      <th>0</th>\n",
       "      <td>The Life and Times of a Nutcracker</td>\n",
       "      <td>Fiction</td>\n",
       "      <td>Publishing</td>\n",
       "      <td>USD</td>\n",
       "      <td>2012-12-01</td>\n",
       "      <td>8000.0</td>\n",
       "      <td>2012-10-26</td>\n",
       "      <td>0</td>\n",
       "      <td>US</td>\n",
       "      <td>8000.00</td>\n",
       "      <td>failed</td>\n",
       "    </tr>\n",
       "    <tr>\n",
       "      <th>1</th>\n",
       "      <td>Kochi community outreach 2017</td>\n",
       "      <td>Web</td>\n",
       "      <td>Journalism</td>\n",
       "      <td>GBP</td>\n",
       "      <td>2017-04-28</td>\n",
       "      <td>2000.0</td>\n",
       "      <td>2017-02-27</td>\n",
       "      <td>2</td>\n",
       "      <td>GB</td>\n",
       "      <td>2587.82</td>\n",
       "      <td>failed</td>\n",
       "    </tr>\n",
       "    <tr>\n",
       "      <th>2</th>\n",
       "      <td>Get Expert Advice for your Fantasy Football Team</td>\n",
       "      <td>Apps</td>\n",
       "      <td>Technology</td>\n",
       "      <td>USD</td>\n",
       "      <td>2016-09-16</td>\n",
       "      <td>1000.0</td>\n",
       "      <td>2016-08-16</td>\n",
       "      <td>3</td>\n",
       "      <td>US</td>\n",
       "      <td>1000.00</td>\n",
       "      <td>failed</td>\n",
       "    </tr>\n",
       "    <tr>\n",
       "      <th>3</th>\n",
       "      <td>Realms of the Ancients (ROTA)</td>\n",
       "      <td>Tabletop Games</td>\n",
       "      <td>Games</td>\n",
       "      <td>USD</td>\n",
       "      <td>2013-08-02</td>\n",
       "      <td>30000.0</td>\n",
       "      <td>2013-06-16</td>\n",
       "      <td>49</td>\n",
       "      <td>US</td>\n",
       "      <td>30000.00</td>\n",
       "      <td>failed</td>\n",
       "    </tr>\n",
       "    <tr>\n",
       "      <th>4</th>\n",
       "      <td>Innr. Change the way you experience lighting</td>\n",
       "      <td>Product Design</td>\n",
       "      <td>Design</td>\n",
       "      <td>GBP</td>\n",
       "      <td>2013-12-07</td>\n",
       "      <td>50000.0</td>\n",
       "      <td>2013-11-07</td>\n",
       "      <td>165</td>\n",
       "      <td>GB</td>\n",
       "      <td>81349.76</td>\n",
       "      <td>succeeded</td>\n",
       "    </tr>\n",
       "  </tbody>\n",
       "</table>\n",
       "</div>"
      ],
      "text/plain": [
       "                                               name        category  \\\n",
       "0                The Life and Times of a Nutcracker         Fiction   \n",
       "1                     Kochi community outreach 2017             Web   \n",
       "2  Get Expert Advice for your Fantasy Football Team            Apps   \n",
       "3                     Realms of the Ancients (ROTA)  Tabletop Games   \n",
       "4      Innr. Change the way you experience lighting  Product Design   \n",
       "\n",
       "  main_category currency   deadline     goal   launched  backers country  \\\n",
       "0    Publishing      USD 2012-12-01   8000.0 2012-10-26        0      US   \n",
       "1    Journalism      GBP 2017-04-28   2000.0 2017-02-27        2      GB   \n",
       "2    Technology      USD 2016-09-16   1000.0 2016-08-16        3      US   \n",
       "3         Games      USD 2013-08-02  30000.0 2013-06-16       49      US   \n",
       "4        Design      GBP 2013-12-07  50000.0 2013-11-07      165      GB   \n",
       "\n",
       "   usd_goal_real  new_state  \n",
       "0        8000.00     failed  \n",
       "1        2587.82     failed  \n",
       "2        1000.00     failed  \n",
       "3       30000.00     failed  \n",
       "4       81349.76  succeeded  "
      ]
     },
     "execution_count": 4,
     "metadata": {},
     "output_type": "execute_result"
    }
   ],
   "source": [
    "data_v1 = data.assign(\n",
    "    deadline = pd.to_datetime(pd.to_datetime(data.deadline).dt.date),\n",
    "    launched = pd.to_datetime(pd.to_datetime(data.launched).dt.date)\n",
    ")\n",
    "data_v1.head()"
   ]
  },
  {
   "cell_type": "markdown",
   "metadata": {},
   "source": [
    "- Check for missing values\n",
    "        - 3 missing values in the name column. Delete these rows as they account for less than 0.1% of the dataset"
   ]
  },
  {
   "cell_type": "code",
   "execution_count": 5,
   "metadata": {},
   "outputs": [
    {
     "data": {
      "text/html": [
       "<div>\n",
       "<style scoped>\n",
       "    .dataframe tbody tr th:only-of-type {\n",
       "        vertical-align: middle;\n",
       "    }\n",
       "\n",
       "    .dataframe tbody tr th {\n",
       "        vertical-align: top;\n",
       "    }\n",
       "\n",
       "    .dataframe thead th {\n",
       "        text-align: right;\n",
       "    }\n",
       "</style>\n",
       "<table border=\"1\" class=\"dataframe\">\n",
       "  <thead>\n",
       "    <tr style=\"text-align: right;\">\n",
       "      <th></th>\n",
       "      <th>count_nulls</th>\n",
       "    </tr>\n",
       "  </thead>\n",
       "  <tbody>\n",
       "    <tr>\n",
       "      <th>name</th>\n",
       "      <td>3</td>\n",
       "    </tr>\n",
       "  </tbody>\n",
       "</table>\n",
       "</div>"
      ],
      "text/plain": [
       "      count_nulls\n",
       "name            3"
      ]
     },
     "execution_count": 5,
     "metadata": {},
     "output_type": "execute_result"
    }
   ],
   "source": [
    "nulls = pd.DataFrame(data_v1.isnull().sum(), columns=['count_nulls']).sort_values(by=['count_nulls'], ascending=False)\n",
    "nulls[nulls.count_nulls > 0]"
   ]
  },
  {
   "cell_type": "code",
   "execution_count": 6,
   "metadata": {},
   "outputs": [],
   "source": [
    "# removing rows with missing names\n",
    "data_v2 = data_v1[data_v1.name.isnull() == False]"
   ]
  },
  {
   "cell_type": "markdown",
   "metadata": {},
   "source": [
    "- Map output variables [failed, succeeded, surged] to [0,1,2]"
   ]
  },
  {
   "cell_type": "code",
   "execution_count": 7,
   "metadata": {},
   "outputs": [
    {
     "name": "stderr",
     "output_type": "stream",
     "text": [
      "/Users/joashc/anaconda3/lib/python3.6/site-packages/ipykernel_launcher.py:1: SettingWithCopyWarning: \n",
      "A value is trying to be set on a copy of a slice from a DataFrame.\n",
      "Try using .loc[row_indexer,col_indexer] = value instead\n",
      "\n",
      "See the caveats in the documentation: http://pandas.pydata.org/pandas-docs/stable/indexing.html#indexing-view-versus-copy\n",
      "  \"\"\"Entry point for launching an IPython kernel.\n"
     ]
    }
   ],
   "source": [
    "data_v2['new_state'] = data_v2.new_state.map({'failed':0,'succeeded':1, 'surged':2 })"
   ]
  },
  {
   "cell_type": "markdown",
   "metadata": {},
   "source": [
    "- Found an invalid entry for country: 'N,0\"'. This only occurs when the main_category and category are the same.\n",
    "    - Eg: main_category: Music, category: Music"
   ]
  },
  {
   "cell_type": "code",
   "execution_count": 8,
   "metadata": {},
   "outputs": [
    {
     "name": "stdout",
     "output_type": "stream",
     "text": [
      "Invalid entry for country: N,0\"\n",
      "Number of rows with invalid entry are: 176\n",
      "        category main_category country\n",
      "105        Music         Music    N,0\"\n",
      "572        Music         Music    N,0\"\n",
      "698   Publishing    Publishing    N,0\"\n",
      "1592       Music         Music    N,0\"\n",
      "7615  Technology    Technology    N,0\"\n"
     ]
    }
   ],
   "source": [
    "print('Invalid entry for country: N,0\"')\n",
    "print('Number of rows with invalid entry are:', data_v2[data_v2['country'] == 'N,0\"'].shape[0])      \n",
    "print(data_v2[['category', 'main_category', 'country']][data_v2['country'] == 'N,0\"'].head())"
   ]
  },
  {
   "cell_type": "markdown",
   "metadata": {},
   "source": [
    "- Remove these rows as they account for less than 0.1% of the dataset"
   ]
  },
  {
   "cell_type": "code",
   "execution_count": 9,
   "metadata": {},
   "outputs": [
    {
     "data": {
      "text/plain": [
       "(258146, 11)"
      ]
     },
     "execution_count": 9,
     "metadata": {},
     "output_type": "execute_result"
    }
   ],
   "source": [
    "data_v3 = data_v2[data_v2['country'] != 'N,0\"']\n",
    "data_v3.shape"
   ]
  },
  {
   "cell_type": "code",
   "execution_count": 10,
   "metadata": {},
   "outputs": [
    {
     "data": {
      "text/html": [
       "<div>\n",
       "<style scoped>\n",
       "    .dataframe tbody tr th:only-of-type {\n",
       "        vertical-align: middle;\n",
       "    }\n",
       "\n",
       "    .dataframe tbody tr th {\n",
       "        vertical-align: top;\n",
       "    }\n",
       "\n",
       "    .dataframe thead th {\n",
       "        text-align: right;\n",
       "    }\n",
       "</style>\n",
       "<table border=\"1\" class=\"dataframe\">\n",
       "  <thead>\n",
       "    <tr style=\"text-align: right;\">\n",
       "      <th></th>\n",
       "      <th>name</th>\n",
       "      <th>category</th>\n",
       "      <th>main_category</th>\n",
       "      <th>currency</th>\n",
       "      <th>deadline</th>\n",
       "      <th>goal</th>\n",
       "      <th>launched</th>\n",
       "      <th>backers</th>\n",
       "      <th>country</th>\n",
       "      <th>usd_goal_real</th>\n",
       "      <th>new_state</th>\n",
       "    </tr>\n",
       "  </thead>\n",
       "  <tbody>\n",
       "    <tr>\n",
       "      <th>0</th>\n",
       "      <td>The Life and Times of a Nutcracker</td>\n",
       "      <td>Fiction</td>\n",
       "      <td>Publishing</td>\n",
       "      <td>USD</td>\n",
       "      <td>2012-12-01</td>\n",
       "      <td>8000.0</td>\n",
       "      <td>2012-10-26</td>\n",
       "      <td>0</td>\n",
       "      <td>US</td>\n",
       "      <td>8000.0</td>\n",
       "      <td>0</td>\n",
       "    </tr>\n",
       "  </tbody>\n",
       "</table>\n",
       "</div>"
      ],
      "text/plain": [
       "                                 name category main_category currency  \\\n",
       "0  The Life and Times of a Nutcracker  Fiction    Publishing      USD   \n",
       "\n",
       "    deadline    goal   launched  backers country  usd_goal_real  new_state  \n",
       "0 2012-12-01  8000.0 2012-10-26        0      US         8000.0          0  "
      ]
     },
     "execution_count": 10,
     "metadata": {},
     "output_type": "execute_result"
    }
   ],
   "source": [
    "data_v3.head(1)"
   ]
  },
  {
   "cell_type": "markdown",
   "metadata": {},
   "source": [
    "# Feature Engineering\n",
    "\n",
    "- For date columns\n",
    "    - time_period = deadline - launched\n",
    "    - Month of year launched\n",
    "    - Year of launch\n",
    "    - Deadline Year\n",
    "    - Deadline Month\n",
    "    - **Months of active: column for each month (1 if active, 0 OW)**\n",
    "- For name column\n",
    "    - len of title\n",
    "    - number of words in the title\n",
    "    - **(Note: Maybe for future model improvement) Look at the successful or surged titles, remove stop words and make features of the words**\n",
    "- For category columns\n",
    "    - Concatenating main category and category as a feature\n",
    "- For usd_goal_real\n",
    "    - usd_goal_real/backers: number of dollars per backer\n",
    "    - usd_goal_real/duration_launched_month: number of usd_goal_real needed to earn per month\n",
    "    - usd_goal_real/duration_launched_month/backers: number of usd_goal_real needed to earn per month per backer\n",
    "- For backer column\n",
    "    - backer/duration_launched_month: number of backers per month the kickstarter was live"
   ]
  },
  {
   "cell_type": "code",
   "execution_count": 11,
   "metadata": {},
   "outputs": [
    {
     "name": "stderr",
     "output_type": "stream",
     "text": [
      "/Users/joashc/anaconda3/lib/python3.6/site-packages/ipykernel_launcher.py:2: SettingWithCopyWarning: \n",
      "A value is trying to be set on a copy of a slice from a DataFrame.\n",
      "Try using .loc[row_indexer,col_indexer] = value instead\n",
      "\n",
      "See the caveats in the documentation: http://pandas.pydata.org/pandas-docs/stable/indexing.html#indexing-view-versus-copy\n",
      "  \n",
      "/Users/joashc/anaconda3/lib/python3.6/site-packages/ipykernel_launcher.py:3: SettingWithCopyWarning: \n",
      "A value is trying to be set on a copy of a slice from a DataFrame.\n",
      "Try using .loc[row_indexer,col_indexer] = value instead\n",
      "\n",
      "See the caveats in the documentation: http://pandas.pydata.org/pandas-docs/stable/indexing.html#indexing-view-versus-copy\n",
      "  This is separate from the ipykernel package so we can avoid doing imports until\n"
     ]
    },
    {
     "data": {
      "text/html": [
       "<div>\n",
       "<style scoped>\n",
       "    .dataframe tbody tr th:only-of-type {\n",
       "        vertical-align: middle;\n",
       "    }\n",
       "\n",
       "    .dataframe tbody tr th {\n",
       "        vertical-align: top;\n",
       "    }\n",
       "\n",
       "    .dataframe thead th {\n",
       "        text-align: right;\n",
       "    }\n",
       "</style>\n",
       "<table border=\"1\" class=\"dataframe\">\n",
       "  <thead>\n",
       "    <tr style=\"text-align: right;\">\n",
       "      <th></th>\n",
       "      <th>name</th>\n",
       "      <th>category</th>\n",
       "      <th>main_category</th>\n",
       "      <th>currency</th>\n",
       "      <th>deadline</th>\n",
       "      <th>goal</th>\n",
       "      <th>launched</th>\n",
       "      <th>backers</th>\n",
       "      <th>country</th>\n",
       "      <th>usd_goal_real</th>\n",
       "      <th>new_state</th>\n",
       "      <th>name_length</th>\n",
       "      <th>name_num_words</th>\n",
       "    </tr>\n",
       "  </thead>\n",
       "  <tbody>\n",
       "    <tr>\n",
       "      <th>0</th>\n",
       "      <td>The Life and Times of a Nutcracker</td>\n",
       "      <td>Fiction</td>\n",
       "      <td>Publishing</td>\n",
       "      <td>USD</td>\n",
       "      <td>2012-12-01</td>\n",
       "      <td>8000.0</td>\n",
       "      <td>2012-10-26</td>\n",
       "      <td>0</td>\n",
       "      <td>US</td>\n",
       "      <td>8000.00</td>\n",
       "      <td>0</td>\n",
       "      <td>34</td>\n",
       "      <td>7</td>\n",
       "    </tr>\n",
       "    <tr>\n",
       "      <th>1</th>\n",
       "      <td>Kochi community outreach 2017</td>\n",
       "      <td>Web</td>\n",
       "      <td>Journalism</td>\n",
       "      <td>GBP</td>\n",
       "      <td>2017-04-28</td>\n",
       "      <td>2000.0</td>\n",
       "      <td>2017-02-27</td>\n",
       "      <td>2</td>\n",
       "      <td>GB</td>\n",
       "      <td>2587.82</td>\n",
       "      <td>0</td>\n",
       "      <td>29</td>\n",
       "      <td>4</td>\n",
       "    </tr>\n",
       "    <tr>\n",
       "      <th>2</th>\n",
       "      <td>Get Expert Advice for your Fantasy Football Team</td>\n",
       "      <td>Apps</td>\n",
       "      <td>Technology</td>\n",
       "      <td>USD</td>\n",
       "      <td>2016-09-16</td>\n",
       "      <td>1000.0</td>\n",
       "      <td>2016-08-16</td>\n",
       "      <td>3</td>\n",
       "      <td>US</td>\n",
       "      <td>1000.00</td>\n",
       "      <td>0</td>\n",
       "      <td>48</td>\n",
       "      <td>8</td>\n",
       "    </tr>\n",
       "    <tr>\n",
       "      <th>3</th>\n",
       "      <td>Realms of the Ancients (ROTA)</td>\n",
       "      <td>Tabletop Games</td>\n",
       "      <td>Games</td>\n",
       "      <td>USD</td>\n",
       "      <td>2013-08-02</td>\n",
       "      <td>30000.0</td>\n",
       "      <td>2013-06-16</td>\n",
       "      <td>49</td>\n",
       "      <td>US</td>\n",
       "      <td>30000.00</td>\n",
       "      <td>0</td>\n",
       "      <td>29</td>\n",
       "      <td>5</td>\n",
       "    </tr>\n",
       "    <tr>\n",
       "      <th>4</th>\n",
       "      <td>Innr. Change the way you experience lighting</td>\n",
       "      <td>Product Design</td>\n",
       "      <td>Design</td>\n",
       "      <td>GBP</td>\n",
       "      <td>2013-12-07</td>\n",
       "      <td>50000.0</td>\n",
       "      <td>2013-11-07</td>\n",
       "      <td>165</td>\n",
       "      <td>GB</td>\n",
       "      <td>81349.76</td>\n",
       "      <td>1</td>\n",
       "      <td>44</td>\n",
       "      <td>7</td>\n",
       "    </tr>\n",
       "  </tbody>\n",
       "</table>\n",
       "</div>"
      ],
      "text/plain": [
       "                                               name        category  \\\n",
       "0                The Life and Times of a Nutcracker         Fiction   \n",
       "1                     Kochi community outreach 2017             Web   \n",
       "2  Get Expert Advice for your Fantasy Football Team            Apps   \n",
       "3                     Realms of the Ancients (ROTA)  Tabletop Games   \n",
       "4      Innr. Change the way you experience lighting  Product Design   \n",
       "\n",
       "  main_category currency   deadline     goal   launched  backers country  \\\n",
       "0    Publishing      USD 2012-12-01   8000.0 2012-10-26        0      US   \n",
       "1    Journalism      GBP 2017-04-28   2000.0 2017-02-27        2      GB   \n",
       "2    Technology      USD 2016-09-16   1000.0 2016-08-16        3      US   \n",
       "3         Games      USD 2013-08-02  30000.0 2013-06-16       49      US   \n",
       "4        Design      GBP 2013-12-07  50000.0 2013-11-07      165      GB   \n",
       "\n",
       "   usd_goal_real  new_state  name_length  name_num_words  \n",
       "0        8000.00          0           34               7  \n",
       "1        2587.82          0           29               4  \n",
       "2        1000.00          0           48               8  \n",
       "3       30000.00          0           29               5  \n",
       "4       81349.76          1           44               7  "
      ]
     },
     "execution_count": 11,
     "metadata": {},
     "output_type": "execute_result"
    }
   ],
   "source": [
    "# Name features\n",
    "data_v3['name_length'] = data_v3.name.apply(lambda x: len(x))\n",
    "data_v3['name_num_words'] = data_v3.name.apply(lambda x: len(x.split()))\n",
    "data_v3.head()"
   ]
  },
  {
   "cell_type": "code",
   "execution_count": 12,
   "metadata": {},
   "outputs": [
    {
     "data": {
      "text/html": [
       "<div>\n",
       "<style scoped>\n",
       "    .dataframe tbody tr th:only-of-type {\n",
       "        vertical-align: middle;\n",
       "    }\n",
       "\n",
       "    .dataframe tbody tr th {\n",
       "        vertical-align: top;\n",
       "    }\n",
       "\n",
       "    .dataframe thead th {\n",
       "        text-align: right;\n",
       "    }\n",
       "</style>\n",
       "<table border=\"1\" class=\"dataframe\">\n",
       "  <thead>\n",
       "    <tr style=\"text-align: right;\">\n",
       "      <th></th>\n",
       "      <th>name</th>\n",
       "      <th>category</th>\n",
       "      <th>main_category</th>\n",
       "      <th>currency</th>\n",
       "      <th>deadline</th>\n",
       "      <th>goal</th>\n",
       "      <th>launched</th>\n",
       "      <th>backers</th>\n",
       "      <th>country</th>\n",
       "      <th>usd_goal_real</th>\n",
       "      <th>new_state</th>\n",
       "      <th>name_length</th>\n",
       "      <th>name_num_words</th>\n",
       "      <th>launch_month</th>\n",
       "      <th>duration_launched_month</th>\n",
       "      <th>launch_year</th>\n",
       "      <th>deadline_year</th>\n",
       "      <th>deadline_month</th>\n",
       "    </tr>\n",
       "  </thead>\n",
       "  <tbody>\n",
       "    <tr>\n",
       "      <th>0</th>\n",
       "      <td>The Life and Times of a Nutcracker</td>\n",
       "      <td>Fiction</td>\n",
       "      <td>Publishing</td>\n",
       "      <td>USD</td>\n",
       "      <td>2012-12-01</td>\n",
       "      <td>8000.0</td>\n",
       "      <td>2012-10-26</td>\n",
       "      <td>0</td>\n",
       "      <td>US</td>\n",
       "      <td>8000.00</td>\n",
       "      <td>0</td>\n",
       "      <td>34</td>\n",
       "      <td>7</td>\n",
       "      <td>10</td>\n",
       "      <td>1.182776</td>\n",
       "      <td>2012</td>\n",
       "      <td>2012</td>\n",
       "      <td>12</td>\n",
       "    </tr>\n",
       "    <tr>\n",
       "      <th>1</th>\n",
       "      <td>Kochi community outreach 2017</td>\n",
       "      <td>Web</td>\n",
       "      <td>Journalism</td>\n",
       "      <td>GBP</td>\n",
       "      <td>2017-04-28</td>\n",
       "      <td>2000.0</td>\n",
       "      <td>2017-02-27</td>\n",
       "      <td>2</td>\n",
       "      <td>GB</td>\n",
       "      <td>2587.82</td>\n",
       "      <td>0</td>\n",
       "      <td>29</td>\n",
       "      <td>4</td>\n",
       "      <td>2</td>\n",
       "      <td>1.971293</td>\n",
       "      <td>2017</td>\n",
       "      <td>2017</td>\n",
       "      <td>4</td>\n",
       "    </tr>\n",
       "    <tr>\n",
       "      <th>2</th>\n",
       "      <td>Get Expert Advice for your Fantasy Football Team</td>\n",
       "      <td>Apps</td>\n",
       "      <td>Technology</td>\n",
       "      <td>USD</td>\n",
       "      <td>2016-09-16</td>\n",
       "      <td>1000.0</td>\n",
       "      <td>2016-08-16</td>\n",
       "      <td>3</td>\n",
       "      <td>US</td>\n",
       "      <td>1000.00</td>\n",
       "      <td>0</td>\n",
       "      <td>48</td>\n",
       "      <td>8</td>\n",
       "      <td>8</td>\n",
       "      <td>1.018501</td>\n",
       "      <td>2016</td>\n",
       "      <td>2016</td>\n",
       "      <td>9</td>\n",
       "    </tr>\n",
       "    <tr>\n",
       "      <th>3</th>\n",
       "      <td>Realms of the Ancients (ROTA)</td>\n",
       "      <td>Tabletop Games</td>\n",
       "      <td>Games</td>\n",
       "      <td>USD</td>\n",
       "      <td>2013-08-02</td>\n",
       "      <td>30000.0</td>\n",
       "      <td>2013-06-16</td>\n",
       "      <td>49</td>\n",
       "      <td>US</td>\n",
       "      <td>30000.00</td>\n",
       "      <td>0</td>\n",
       "      <td>29</td>\n",
       "      <td>5</td>\n",
       "      <td>6</td>\n",
       "      <td>1.544180</td>\n",
       "      <td>2013</td>\n",
       "      <td>2013</td>\n",
       "      <td>8</td>\n",
       "    </tr>\n",
       "    <tr>\n",
       "      <th>4</th>\n",
       "      <td>Innr. Change the way you experience lighting</td>\n",
       "      <td>Product Design</td>\n",
       "      <td>Design</td>\n",
       "      <td>GBP</td>\n",
       "      <td>2013-12-07</td>\n",
       "      <td>50000.0</td>\n",
       "      <td>2013-11-07</td>\n",
       "      <td>165</td>\n",
       "      <td>GB</td>\n",
       "      <td>81349.76</td>\n",
       "      <td>1</td>\n",
       "      <td>44</td>\n",
       "      <td>7</td>\n",
       "      <td>11</td>\n",
       "      <td>0.985647</td>\n",
       "      <td>2013</td>\n",
       "      <td>2013</td>\n",
       "      <td>12</td>\n",
       "    </tr>\n",
       "  </tbody>\n",
       "</table>\n",
       "</div>"
      ],
      "text/plain": [
       "                                               name        category  \\\n",
       "0                The Life and Times of a Nutcracker         Fiction   \n",
       "1                     Kochi community outreach 2017             Web   \n",
       "2  Get Expert Advice for your Fantasy Football Team            Apps   \n",
       "3                     Realms of the Ancients (ROTA)  Tabletop Games   \n",
       "4      Innr. Change the way you experience lighting  Product Design   \n",
       "\n",
       "  main_category currency   deadline     goal   launched  backers country  \\\n",
       "0    Publishing      USD 2012-12-01   8000.0 2012-10-26        0      US   \n",
       "1    Journalism      GBP 2017-04-28   2000.0 2017-02-27        2      GB   \n",
       "2    Technology      USD 2016-09-16   1000.0 2016-08-16        3      US   \n",
       "3         Games      USD 2013-08-02  30000.0 2013-06-16       49      US   \n",
       "4        Design      GBP 2013-12-07  50000.0 2013-11-07      165      GB   \n",
       "\n",
       "   usd_goal_real  new_state  name_length  name_num_words  launch_month  \\\n",
       "0        8000.00          0           34               7            10   \n",
       "1        2587.82          0           29               4             2   \n",
       "2        1000.00          0           48               8             8   \n",
       "3       30000.00          0           29               5             6   \n",
       "4       81349.76          1           44               7            11   \n",
       "\n",
       "   duration_launched_month  launch_year  deadline_year  deadline_month  \n",
       "0                 1.182776         2012           2012              12  \n",
       "1                 1.971293         2017           2017               4  \n",
       "2                 1.018501         2016           2016               9  \n",
       "3                 1.544180         2013           2013               8  \n",
       "4                 0.985647         2013           2013              12  "
      ]
     },
     "execution_count": 12,
     "metadata": {},
     "output_type": "execute_result"
    }
   ],
   "source": [
    "# Date Features\n",
    "data_v3 = data_v3.assign(\n",
    "    launch_month = data_v3.launched.dt.month,\n",
    "    duration_launched_month = ((data_v3.deadline - data_v3.launched)/np.timedelta64(1, 'M')),\n",
    "    launch_year = data_v3.launched.dt.year,\n",
    "    deadline_year = data_v3.deadline.dt.year,\n",
    "    deadline_month = data_v3.deadline.dt.month\n",
    ")\n",
    "data_v3.head()"
   ]
  },
  {
   "cell_type": "code",
   "execution_count": 13,
   "metadata": {},
   "outputs": [
    {
     "data": {
      "text/html": [
       "<div>\n",
       "<style scoped>\n",
       "    .dataframe tbody tr th:only-of-type {\n",
       "        vertical-align: middle;\n",
       "    }\n",
       "\n",
       "    .dataframe tbody tr th {\n",
       "        vertical-align: top;\n",
       "    }\n",
       "\n",
       "    .dataframe thead th {\n",
       "        text-align: right;\n",
       "    }\n",
       "</style>\n",
       "<table border=\"1\" class=\"dataframe\">\n",
       "  <thead>\n",
       "    <tr style=\"text-align: right;\">\n",
       "      <th></th>\n",
       "      <th>name</th>\n",
       "      <th>category</th>\n",
       "      <th>main_category</th>\n",
       "      <th>currency</th>\n",
       "      <th>deadline</th>\n",
       "      <th>goal</th>\n",
       "      <th>launched</th>\n",
       "      <th>backers</th>\n",
       "      <th>country</th>\n",
       "      <th>usd_goal_real</th>\n",
       "      <th>new_state</th>\n",
       "      <th>name_length</th>\n",
       "      <th>name_num_words</th>\n",
       "      <th>launch_month</th>\n",
       "      <th>duration_launched_month</th>\n",
       "      <th>launch_year</th>\n",
       "      <th>deadline_year</th>\n",
       "      <th>deadline_month</th>\n",
       "      <th>usd_goal_per_backer</th>\n",
       "    </tr>\n",
       "  </thead>\n",
       "  <tbody>\n",
       "    <tr>\n",
       "      <th>0</th>\n",
       "      <td>The Life and Times of a Nutcracker</td>\n",
       "      <td>Fiction</td>\n",
       "      <td>Publishing</td>\n",
       "      <td>USD</td>\n",
       "      <td>2012-12-01</td>\n",
       "      <td>8000.0</td>\n",
       "      <td>2012-10-26</td>\n",
       "      <td>0</td>\n",
       "      <td>US</td>\n",
       "      <td>8000.00</td>\n",
       "      <td>0</td>\n",
       "      <td>34</td>\n",
       "      <td>7</td>\n",
       "      <td>10</td>\n",
       "      <td>1.182776</td>\n",
       "      <td>2012</td>\n",
       "      <td>2012</td>\n",
       "      <td>12</td>\n",
       "      <td>0.00</td>\n",
       "    </tr>\n",
       "    <tr>\n",
       "      <th>1</th>\n",
       "      <td>Kochi community outreach 2017</td>\n",
       "      <td>Web</td>\n",
       "      <td>Journalism</td>\n",
       "      <td>GBP</td>\n",
       "      <td>2017-04-28</td>\n",
       "      <td>2000.0</td>\n",
       "      <td>2017-02-27</td>\n",
       "      <td>2</td>\n",
       "      <td>GB</td>\n",
       "      <td>2587.82</td>\n",
       "      <td>0</td>\n",
       "      <td>29</td>\n",
       "      <td>4</td>\n",
       "      <td>2</td>\n",
       "      <td>1.971293</td>\n",
       "      <td>2017</td>\n",
       "      <td>2017</td>\n",
       "      <td>4</td>\n",
       "      <td>1293.91</td>\n",
       "    </tr>\n",
       "  </tbody>\n",
       "</table>\n",
       "</div>"
      ],
      "text/plain": [
       "                                 name category main_category currency  \\\n",
       "0  The Life and Times of a Nutcracker  Fiction    Publishing      USD   \n",
       "1       Kochi community outreach 2017      Web    Journalism      GBP   \n",
       "\n",
       "    deadline    goal   launched  backers country  usd_goal_real  new_state  \\\n",
       "0 2012-12-01  8000.0 2012-10-26        0      US        8000.00          0   \n",
       "1 2017-04-28  2000.0 2017-02-27        2      GB        2587.82          0   \n",
       "\n",
       "   name_length  name_num_words  launch_month  duration_launched_month  \\\n",
       "0           34               7            10                 1.182776   \n",
       "1           29               4             2                 1.971293   \n",
       "\n",
       "   launch_year  deadline_year  deadline_month  usd_goal_per_backer  \n",
       "0         2012           2012              12                 0.00  \n",
       "1         2017           2017               4              1293.91  "
      ]
     },
     "execution_count": 13,
     "metadata": {},
     "output_type": "execute_result"
    }
   ],
   "source": [
    "# Did this feature engineering later so it won't be in knn\n",
    "# usd_goal_real/backers\n",
    "data_v3['usd_goal_per_backer'] = np.where(data_v3['backers']>0, \n",
    "                                          data_v3['usd_goal_real']/data_v3['backers'],\n",
    "                                         0)\n",
    "data_v3.head(2)"
   ]
  },
  {
   "cell_type": "code",
   "execution_count": 14,
   "metadata": {},
   "outputs": [
    {
     "data": {
      "text/html": [
       "<div>\n",
       "<style scoped>\n",
       "    .dataframe tbody tr th:only-of-type {\n",
       "        vertical-align: middle;\n",
       "    }\n",
       "\n",
       "    .dataframe tbody tr th {\n",
       "        vertical-align: top;\n",
       "    }\n",
       "\n",
       "    .dataframe thead th {\n",
       "        text-align: right;\n",
       "    }\n",
       "</style>\n",
       "<table border=\"1\" class=\"dataframe\">\n",
       "  <thead>\n",
       "    <tr style=\"text-align: right;\">\n",
       "      <th></th>\n",
       "      <th>name</th>\n",
       "      <th>category</th>\n",
       "      <th>main_category</th>\n",
       "      <th>currency</th>\n",
       "      <th>deadline</th>\n",
       "      <th>goal</th>\n",
       "      <th>launched</th>\n",
       "      <th>backers</th>\n",
       "      <th>country</th>\n",
       "      <th>usd_goal_real</th>\n",
       "      <th>...</th>\n",
       "      <th>name_length</th>\n",
       "      <th>name_num_words</th>\n",
       "      <th>launch_month</th>\n",
       "      <th>duration_launched_month</th>\n",
       "      <th>launch_year</th>\n",
       "      <th>deadline_year</th>\n",
       "      <th>deadline_month</th>\n",
       "      <th>usd_goal_per_backer</th>\n",
       "      <th>usd_goal_per_month</th>\n",
       "      <th>backers_per_month</th>\n",
       "    </tr>\n",
       "  </thead>\n",
       "  <tbody>\n",
       "    <tr>\n",
       "      <th>0</th>\n",
       "      <td>The Life and Times of a Nutcracker</td>\n",
       "      <td>Fiction</td>\n",
       "      <td>Publishing</td>\n",
       "      <td>USD</td>\n",
       "      <td>2012-12-01</td>\n",
       "      <td>8000.0</td>\n",
       "      <td>2012-10-26</td>\n",
       "      <td>0</td>\n",
       "      <td>US</td>\n",
       "      <td>8000.0</td>\n",
       "      <td>...</td>\n",
       "      <td>34</td>\n",
       "      <td>7</td>\n",
       "      <td>10</td>\n",
       "      <td>1.182776</td>\n",
       "      <td>2012</td>\n",
       "      <td>2012</td>\n",
       "      <td>12</td>\n",
       "      <td>0.0</td>\n",
       "      <td>6763.75</td>\n",
       "      <td>0.0</td>\n",
       "    </tr>\n",
       "  </tbody>\n",
       "</table>\n",
       "<p>1 rows × 21 columns</p>\n",
       "</div>"
      ],
      "text/plain": [
       "                                 name category main_category currency  \\\n",
       "0  The Life and Times of a Nutcracker  Fiction    Publishing      USD   \n",
       "\n",
       "    deadline    goal   launched  backers country  usd_goal_real  \\\n",
       "0 2012-12-01  8000.0 2012-10-26        0      US         8000.0   \n",
       "\n",
       "         ...          name_length  name_num_words  launch_month  \\\n",
       "0        ...                   34               7            10   \n",
       "\n",
       "   duration_launched_month  launch_year  deadline_year  deadline_month  \\\n",
       "0                 1.182776         2012           2012              12   \n",
       "\n",
       "   usd_goal_per_backer  usd_goal_per_month  backers_per_month  \n",
       "0                  0.0             6763.75                0.0  \n",
       "\n",
       "[1 rows x 21 columns]"
      ]
     },
     "execution_count": 14,
     "metadata": {},
     "output_type": "execute_result"
    }
   ],
   "source": [
    "# usd_goal_real/duration_launched_month: number of usd_goal_real needed to earn per month\n",
    "# backer/duration_launched_month: number of backers per month the kickstarter was live\n",
    "data_v3 = data_v3.assign(\n",
    "    usd_goal_per_month = data_v3.usd_goal_real/data_v3.duration_launched_month,\n",
    "    backers_per_month = data_v3.backers/data_v3.duration_launched_month\n",
    ")\n",
    "data_v3.head(1)"
   ]
  },
  {
   "cell_type": "code",
   "execution_count": 15,
   "metadata": {},
   "outputs": [
    {
     "data": {
      "text/html": [
       "<div>\n",
       "<style scoped>\n",
       "    .dataframe tbody tr th:only-of-type {\n",
       "        vertical-align: middle;\n",
       "    }\n",
       "\n",
       "    .dataframe tbody tr th {\n",
       "        vertical-align: top;\n",
       "    }\n",
       "\n",
       "    .dataframe thead th {\n",
       "        text-align: right;\n",
       "    }\n",
       "</style>\n",
       "<table border=\"1\" class=\"dataframe\">\n",
       "  <thead>\n",
       "    <tr style=\"text-align: right;\">\n",
       "      <th></th>\n",
       "      <th>name</th>\n",
       "      <th>category</th>\n",
       "      <th>main_category</th>\n",
       "      <th>currency</th>\n",
       "      <th>deadline</th>\n",
       "      <th>goal</th>\n",
       "      <th>launched</th>\n",
       "      <th>backers</th>\n",
       "      <th>country</th>\n",
       "      <th>usd_goal_real</th>\n",
       "      <th>...</th>\n",
       "      <th>name_num_words</th>\n",
       "      <th>launch_month</th>\n",
       "      <th>duration_launched_month</th>\n",
       "      <th>launch_year</th>\n",
       "      <th>deadline_year</th>\n",
       "      <th>deadline_month</th>\n",
       "      <th>usd_goal_per_backer</th>\n",
       "      <th>usd_goal_per_month</th>\n",
       "      <th>backers_per_month</th>\n",
       "      <th>usd_goal_per_month_per_backer</th>\n",
       "    </tr>\n",
       "  </thead>\n",
       "  <tbody>\n",
       "    <tr>\n",
       "      <th>0</th>\n",
       "      <td>The Life and Times of a Nutcracker</td>\n",
       "      <td>Fiction</td>\n",
       "      <td>Publishing</td>\n",
       "      <td>USD</td>\n",
       "      <td>2012-12-01</td>\n",
       "      <td>8000.0</td>\n",
       "      <td>2012-10-26</td>\n",
       "      <td>0</td>\n",
       "      <td>US</td>\n",
       "      <td>8000.0</td>\n",
       "      <td>...</td>\n",
       "      <td>7</td>\n",
       "      <td>10</td>\n",
       "      <td>1.182776</td>\n",
       "      <td>2012</td>\n",
       "      <td>2012</td>\n",
       "      <td>12</td>\n",
       "      <td>0.0</td>\n",
       "      <td>6763.75</td>\n",
       "      <td>0.0</td>\n",
       "      <td>0.0</td>\n",
       "    </tr>\n",
       "  </tbody>\n",
       "</table>\n",
       "<p>1 rows × 22 columns</p>\n",
       "</div>"
      ],
      "text/plain": [
       "                                 name category main_category currency  \\\n",
       "0  The Life and Times of a Nutcracker  Fiction    Publishing      USD   \n",
       "\n",
       "    deadline    goal   launched  backers country  usd_goal_real  \\\n",
       "0 2012-12-01  8000.0 2012-10-26        0      US         8000.0   \n",
       "\n",
       "               ...                name_num_words  launch_month  \\\n",
       "0              ...                             7            10   \n",
       "\n",
       "   duration_launched_month  launch_year  deadline_year  deadline_month  \\\n",
       "0                 1.182776         2012           2012              12   \n",
       "\n",
       "   usd_goal_per_backer  usd_goal_per_month  backers_per_month  \\\n",
       "0                  0.0             6763.75                0.0   \n",
       "\n",
       "   usd_goal_per_month_per_backer  \n",
       "0                            0.0  \n",
       "\n",
       "[1 rows x 22 columns]"
      ]
     },
     "execution_count": 15,
     "metadata": {},
     "output_type": "execute_result"
    }
   ],
   "source": [
    "data_v3['usd_goal_per_month_per_backer'] = np.where(data_v3['backers']>0, \n",
    "                                                    ((data_v3['usd_goal_real']/data_v3['duration_launched_month'])\n",
    "                                                     /data_v3['backers'])\n",
    "                                                    ,0)\n",
    "data_v3.head(1)"
   ]
  },
  {
   "cell_type": "code",
   "execution_count": 16,
   "metadata": {},
   "outputs": [
    {
     "data": {
      "text/html": [
       "<div>\n",
       "<style scoped>\n",
       "    .dataframe tbody tr th:only-of-type {\n",
       "        vertical-align: middle;\n",
       "    }\n",
       "\n",
       "    .dataframe tbody tr th {\n",
       "        vertical-align: top;\n",
       "    }\n",
       "\n",
       "    .dataframe thead th {\n",
       "        text-align: right;\n",
       "    }\n",
       "</style>\n",
       "<table border=\"1\" class=\"dataframe\">\n",
       "  <thead>\n",
       "    <tr style=\"text-align: right;\">\n",
       "      <th></th>\n",
       "      <th>name</th>\n",
       "      <th>category</th>\n",
       "      <th>main_category</th>\n",
       "      <th>currency</th>\n",
       "      <th>deadline</th>\n",
       "      <th>goal</th>\n",
       "      <th>launched</th>\n",
       "      <th>backers</th>\n",
       "      <th>country</th>\n",
       "      <th>usd_goal_real</th>\n",
       "      <th>...</th>\n",
       "      <th>launch_month</th>\n",
       "      <th>duration_launched_month</th>\n",
       "      <th>launch_year</th>\n",
       "      <th>deadline_year</th>\n",
       "      <th>deadline_month</th>\n",
       "      <th>usd_goal_per_backer</th>\n",
       "      <th>usd_goal_per_month</th>\n",
       "      <th>backers_per_month</th>\n",
       "      <th>usd_goal_per_month_per_backer</th>\n",
       "      <th>main_category-category</th>\n",
       "    </tr>\n",
       "  </thead>\n",
       "  <tbody>\n",
       "    <tr>\n",
       "      <th>0</th>\n",
       "      <td>The Life and Times of a Nutcracker</td>\n",
       "      <td>Fiction</td>\n",
       "      <td>Publishing</td>\n",
       "      <td>USD</td>\n",
       "      <td>2012-12-01</td>\n",
       "      <td>8000.0</td>\n",
       "      <td>2012-10-26</td>\n",
       "      <td>0</td>\n",
       "      <td>US</td>\n",
       "      <td>8000.00</td>\n",
       "      <td>...</td>\n",
       "      <td>10</td>\n",
       "      <td>1.182776</td>\n",
       "      <td>2012</td>\n",
       "      <td>2012</td>\n",
       "      <td>12</td>\n",
       "      <td>0.00</td>\n",
       "      <td>6763.750000</td>\n",
       "      <td>0.000000</td>\n",
       "      <td>0.000000</td>\n",
       "      <td>Publishing-Fiction</td>\n",
       "    </tr>\n",
       "    <tr>\n",
       "      <th>1</th>\n",
       "      <td>Kochi community outreach 2017</td>\n",
       "      <td>Web</td>\n",
       "      <td>Journalism</td>\n",
       "      <td>GBP</td>\n",
       "      <td>2017-04-28</td>\n",
       "      <td>2000.0</td>\n",
       "      <td>2017-02-27</td>\n",
       "      <td>2</td>\n",
       "      <td>GB</td>\n",
       "      <td>2587.82</td>\n",
       "      <td>...</td>\n",
       "      <td>2</td>\n",
       "      <td>1.971293</td>\n",
       "      <td>2017</td>\n",
       "      <td>2017</td>\n",
       "      <td>4</td>\n",
       "      <td>1293.91</td>\n",
       "      <td>1312.752564</td>\n",
       "      <td>1.014563</td>\n",
       "      <td>656.376282</td>\n",
       "      <td>Journalism-Web</td>\n",
       "    </tr>\n",
       "  </tbody>\n",
       "</table>\n",
       "<p>2 rows × 23 columns</p>\n",
       "</div>"
      ],
      "text/plain": [
       "                                 name category main_category currency  \\\n",
       "0  The Life and Times of a Nutcracker  Fiction    Publishing      USD   \n",
       "1       Kochi community outreach 2017      Web    Journalism      GBP   \n",
       "\n",
       "    deadline    goal   launched  backers country  usd_goal_real  \\\n",
       "0 2012-12-01  8000.0 2012-10-26        0      US        8000.00   \n",
       "1 2017-04-28  2000.0 2017-02-27        2      GB        2587.82   \n",
       "\n",
       "            ...            launch_month  duration_launched_month  launch_year  \\\n",
       "0           ...                      10                 1.182776         2012   \n",
       "1           ...                       2                 1.971293         2017   \n",
       "\n",
       "   deadline_year  deadline_month  usd_goal_per_backer  usd_goal_per_month  \\\n",
       "0           2012              12                 0.00         6763.750000   \n",
       "1           2017               4              1293.91         1312.752564   \n",
       "\n",
       "   backers_per_month  usd_goal_per_month_per_backer  main_category-category  \n",
       "0           0.000000                       0.000000      Publishing-Fiction  \n",
       "1           1.014563                     656.376282          Journalism-Web  \n",
       "\n",
       "[2 rows x 23 columns]"
      ]
     },
     "execution_count": 16,
     "metadata": {},
     "output_type": "execute_result"
    }
   ],
   "source": [
    "# Concatenating main category and category as a feature\n",
    "data_v3['main_category-category'] = data_v3[['main_category', 'category']].apply(lambda x: '-'.join(x), axis=1)\n",
    "data_v3.head(2)"
   ]
  },
  {
   "cell_type": "code",
   "execution_count": 17,
   "metadata": {},
   "outputs": [
    {
     "data": {
      "text/html": [
       "<div>\n",
       "<style scoped>\n",
       "    .dataframe tbody tr th:only-of-type {\n",
       "        vertical-align: middle;\n",
       "    }\n",
       "\n",
       "    .dataframe tbody tr th {\n",
       "        vertical-align: top;\n",
       "    }\n",
       "\n",
       "    .dataframe thead th {\n",
       "        text-align: right;\n",
       "    }\n",
       "</style>\n",
       "<table border=\"1\" class=\"dataframe\">\n",
       "  <thead>\n",
       "    <tr style=\"text-align: right;\">\n",
       "      <th></th>\n",
       "      <th>name</th>\n",
       "      <th>category</th>\n",
       "      <th>main_category</th>\n",
       "      <th>currency</th>\n",
       "      <th>deadline</th>\n",
       "      <th>goal</th>\n",
       "      <th>launched</th>\n",
       "      <th>backers</th>\n",
       "      <th>country</th>\n",
       "      <th>usd_goal_real</th>\n",
       "      <th>...</th>\n",
       "      <th>launch_month</th>\n",
       "      <th>duration_launched_month</th>\n",
       "      <th>launch_year</th>\n",
       "      <th>deadline_year</th>\n",
       "      <th>deadline_month</th>\n",
       "      <th>usd_goal_per_backer</th>\n",
       "      <th>usd_goal_per_month</th>\n",
       "      <th>backers_per_month</th>\n",
       "      <th>usd_goal_per_month_per_backer</th>\n",
       "      <th>main_category-category</th>\n",
       "    </tr>\n",
       "  </thead>\n",
       "  <tbody>\n",
       "    <tr>\n",
       "      <th>0</th>\n",
       "      <td>The Life and Times of a Nutcracker</td>\n",
       "      <td>Fiction</td>\n",
       "      <td>Publishing</td>\n",
       "      <td>USD</td>\n",
       "      <td>2012-12-01</td>\n",
       "      <td>8000.0</td>\n",
       "      <td>2012-10-26</td>\n",
       "      <td>0</td>\n",
       "      <td>US</td>\n",
       "      <td>8000.00</td>\n",
       "      <td>...</td>\n",
       "      <td>10</td>\n",
       "      <td>1.182776</td>\n",
       "      <td>2012</td>\n",
       "      <td>2012</td>\n",
       "      <td>12</td>\n",
       "      <td>0.00</td>\n",
       "      <td>6763.750000</td>\n",
       "      <td>0.000000</td>\n",
       "      <td>0.000000</td>\n",
       "      <td>Publishing-Fiction</td>\n",
       "    </tr>\n",
       "    <tr>\n",
       "      <th>1</th>\n",
       "      <td>Kochi community outreach 2017</td>\n",
       "      <td>Web</td>\n",
       "      <td>Journalism</td>\n",
       "      <td>GBP</td>\n",
       "      <td>2017-04-28</td>\n",
       "      <td>2000.0</td>\n",
       "      <td>2017-02-27</td>\n",
       "      <td>2</td>\n",
       "      <td>GB</td>\n",
       "      <td>2587.82</td>\n",
       "      <td>...</td>\n",
       "      <td>2</td>\n",
       "      <td>1.971293</td>\n",
       "      <td>2017</td>\n",
       "      <td>2017</td>\n",
       "      <td>4</td>\n",
       "      <td>1293.91</td>\n",
       "      <td>1312.752564</td>\n",
       "      <td>1.014563</td>\n",
       "      <td>656.376282</td>\n",
       "      <td>Journalism-Web</td>\n",
       "    </tr>\n",
       "  </tbody>\n",
       "</table>\n",
       "<p>2 rows × 23 columns</p>\n",
       "</div>"
      ],
      "text/plain": [
       "                                 name category main_category currency  \\\n",
       "0  The Life and Times of a Nutcracker  Fiction    Publishing      USD   \n",
       "1       Kochi community outreach 2017      Web    Journalism      GBP   \n",
       "\n",
       "    deadline    goal   launched  backers country  usd_goal_real  \\\n",
       "0 2012-12-01  8000.0 2012-10-26        0      US        8000.00   \n",
       "1 2017-04-28  2000.0 2017-02-27        2      GB        2587.82   \n",
       "\n",
       "            ...            launch_month  duration_launched_month  launch_year  \\\n",
       "0           ...                      10                 1.182776         2012   \n",
       "1           ...                       2                 1.971293         2017   \n",
       "\n",
       "   deadline_year  deadline_month  usd_goal_per_backer  usd_goal_per_month  \\\n",
       "0           2012              12                 0.00         6763.750000   \n",
       "1           2017               4              1293.91         1312.752564   \n",
       "\n",
       "   backers_per_month  usd_goal_per_month_per_backer  main_category-category  \n",
       "0           0.000000                       0.000000      Publishing-Fiction  \n",
       "1           1.014563                     656.376282          Journalism-Web  \n",
       "\n",
       "[2 rows x 23 columns]"
      ]
     },
     "execution_count": 17,
     "metadata": {},
     "output_type": "execute_result"
    }
   ],
   "source": [
    "test_data = data_v3.head(2)\n",
    "test_data"
   ]
  },
  {
   "cell_type": "code",
   "execution_count": 18,
   "metadata": {},
   "outputs": [],
   "source": [
    "# %%time\n",
    "# # inputing month cols\n",
    "# for index, row in data_v3.iterrows():\n",
    "#     date1 = row['launched']\n",
    "#     date2 = row['deadline']\n",
    "    \n",
    "#     while date1 < date2:\n",
    "#         data_v3.loc[index, 'month_' + str(date1.month)] = 1\n",
    "#         date1 += relativedelta(months=1)"
   ]
  },
  {
   "cell_type": "code",
   "execution_count": 19,
   "metadata": {},
   "outputs": [],
   "source": [
    "# %%time\n",
    "# # inputing month_year cols\n",
    "# for index, row in data_v3.iterrows():\n",
    "#     date1 = row['launched']\n",
    "#     date2 = row['deadline']\n",
    "    \n",
    "#     while date1 < date2:\n",
    "#         data_v3.loc[index, 'month_year' + str(date1.month)] = str(1)+'-'+str(date1.year)\n",
    "#         date1 += relativedelta(months=1)"
   ]
  },
  {
   "cell_type": "markdown",
   "metadata": {},
   "source": [
    "# EDA"
   ]
  },
  {
   "cell_type": "markdown",
   "metadata": {},
   "source": [
    "There are a total of 10 features in the dataset. I want to do some quick introductory analysis on each of them so I have a good understand of the distrubution of the dataset. "
   ]
  },
  {
   "cell_type": "markdown",
   "metadata": {},
   "source": [
    "First Up: new_state"
   ]
  },
  {
   "cell_type": "code",
   "execution_count": 14,
   "metadata": {},
   "outputs": [
    {
     "name": "stdout",
     "output_type": "stream",
     "text": [
      "These are the classification variables of the dataset [0 1 2]\n",
      "   new_state  percent_class\n",
      "0     158080           61.0\n",
      "1      66559           26.0\n",
      "2      33507           13.0\n"
     ]
    }
   ],
   "source": [
    "print('These are the classification variables of the dataset', data_v3.new_state.unique())\n",
    "class_var = pd.DataFrame(data_v3.new_state.value_counts())\n",
    "class_var = class_var.assign(percent_class = round(class_var.new_state/258322, 2)*100)\n",
    "print(class_var)"
   ]
  },
  {
   "cell_type": "markdown",
   "metadata": {},
   "source": [
    "61%, 26% and 13% of the dataset consist of books that failed, succeeded and surged.\n",
    "\n",
    "\n",
    "Next: usd_goal_real"
   ]
  },
  {
   "cell_type": "code",
   "execution_count": 15,
   "metadata": {},
   "outputs": [
    {
     "name": "stdout",
     "output_type": "stream",
     "text": [
      "Following is a histogram of usd_goal_real (taking out 99th percentile)\n"
     ]
    },
    {
     "data": {
      "text/plain": [
       "<matplotlib.axes._subplots.AxesSubplot at 0x127fc8438>"
      ]
     },
     "execution_count": 15,
     "metadata": {},
     "output_type": "execute_result"
    },
    {
     "data": {
      "image/png": "[encoded data removed]",
      "text/plain": [
       "<Figure size 432x288 with 1 Axes>"
      ]
     },
     "metadata": {},
     "output_type": "display_data"
    }
   ],
   "source": [
    "# data_v2.usd_goal_real.hist(bins=10)\n",
    "print('Following is a histogram of usd_goal_real (taking out 99th percentile)')\n",
    "data_v3['usd_goal_real'][data_v3['usd_goal_real'] < data_v3['usd_goal_real'].quantile(.99)].hist(bins=10)"
   ]
  },
  {
   "cell_type": "code",
   "execution_count": 16,
   "metadata": {},
   "outputs": [
    {
     "name": "stdout",
     "output_type": "stream",
     "text": [
      "Following is a histogram of usd_goal_real less than $50,000\n"
     ]
    },
    {
     "data": {
      "text/plain": [
       "<matplotlib.axes._subplots.AxesSubplot at 0x1284b3d30>"
      ]
     },
     "execution_count": 16,
     "metadata": {},
     "output_type": "execute_result"
    },
    {
     "data": {
      "image/png": "[encoded data removed]",
      "text/plain": [
       "<Figure size 432x288 with 1 Axes>"
      ]
     },
     "metadata": {},
     "output_type": "display_data"
    }
   ],
   "source": [
    "print('Following is a histogram of usd_goal_real less than $50,000')\n",
    "data_v3['usd_goal_real'][data_v3['usd_goal_real'] < 50000].hist(bins=10)"
   ]
  },
  {
   "cell_type": "markdown",
   "metadata": {},
   "source": [
    "Based on the histograms above, majority of $ goals are between 0 and 5000"
   ]
  },
  {
   "cell_type": "code",
   "execution_count": 17,
   "metadata": {},
   "outputs": [
    {
     "data": {
      "text/plain": [
       "<seaborn.axisgrid.FacetGrid at 0x128bbad30>"
      ]
     },
     "execution_count": 17,
     "metadata": {},
     "output_type": "execute_result"
    },
    {
     "data": {
      "image/png": "[encoded data removed]",
      "text/plain": [
       "<Figure size 418.875x360 with 1 Axes>"
      ]
     },
     "metadata": {},
     "output_type": "display_data"
    }
   ],
   "source": [
    "sns.lmplot( x=\"duration_launched_month\", y=\"usd_goal_real\", \n",
    "           data=data_v3[(data_v3['usd_goal_real'] < 50000)], \n",
    "           fit_reg=False, hue='new_state', legend=True, scatter_kws={'alpha':0.15})"
   ]
  },
  {
   "cell_type": "markdown",
   "metadata": {},
   "source": [
    "Next: Currency"
   ]
  },
  {
   "cell_type": "code",
   "execution_count": 18,
   "metadata": {},
   "outputs": [
    {
     "name": "stdout",
     "output_type": "stream",
     "text": [
      "There are 14 different currencies in this dataset.\n",
      "USD    203749\n",
      "GBP     22930\n",
      "EUR     11101\n",
      "CAD      9609\n",
      "AUD      5082\n",
      "Name: currency, dtype: int64\n"
     ]
    },
    {
     "data": {
      "text/plain": [
       "<matplotlib.axes._subplots.AxesSubplot at 0x129393780>"
      ]
     },
     "execution_count": 18,
     "metadata": {},
     "output_type": "execute_result"
    },
    {
     "data": {
      "image/png": "[encoded data removed]",
      "text/plain": [
       "<Figure size 432x288 with 1 Axes>"
      ]
     },
     "metadata": {},
     "output_type": "display_data"
    }
   ],
   "source": [
    "print('There are', data_v3.currency.nunique(), 'different currencies in this dataset.')\n",
    "print(data_v3.currency.value_counts().head())\n",
    "data_v3.currency.value_counts().plot(kind=\"bar\")"
   ]
  },
  {
   "cell_type": "markdown",
   "metadata": {},
   "source": [
    "In the plot above, it is evident that over 75% of the currency in the dataset is USD.\n",
    "\n",
    "\n",
    "Next: Country"
   ]
  },
  {
   "cell_type": "code",
   "execution_count": 19,
   "metadata": {},
   "outputs": [
    {
     "name": "stdout",
     "output_type": "stream",
     "text": [
      "There are 22 different countries in the dataset.\n",
      "US    203749\n",
      "GB     22930\n",
      "CA      9609\n",
      "AU      5082\n",
      "DE      2640\n",
      "Name: country, dtype: int64\n"
     ]
    },
    {
     "data": {
      "text/plain": [
       "<matplotlib.axes._subplots.AxesSubplot at 0x12940fc88>"
      ]
     },
     "execution_count": 19,
     "metadata": {},
     "output_type": "execute_result"
    },
    {
     "data": {
      "image/png": "[encoded data removed]",
      "text/plain": [
       "<Figure size 432x288 with 1 Axes>"
      ]
     },
     "metadata": {},
     "output_type": "display_data"
    }
   ],
   "source": [
    "data_v3.country.unique()\n",
    "print('There are', data_v3.country.nunique(), 'different countries in the dataset.')\n",
    "print(data_v3.country.value_counts().head())\n",
    "data_v3.country.value_counts().plot(kind=\"bar\")"
   ]
  },
  {
   "cell_type": "markdown",
   "metadata": {},
   "source": [
    "The country distribution is similar to the currency distribution"
   ]
  },
  {
   "cell_type": "markdown",
   "metadata": {},
   "source": [
    "Next: Names of the Books"
   ]
  },
  {
   "cell_type": "code",
   "execution_count": 20,
   "metadata": {},
   "outputs": [
    {
     "name": "stdout",
     "output_type": "stream",
     "text": [
      "1072 books in the dataset have duplicate names. This is 2430 total rows in the dataset with duplicate book names ( 1.0 % of the dataset)\n"
     ]
    }
   ],
   "source": [
    "data_v3.name.nunique()/data_v3.shape[0]\n",
    "name_counts = pd.DataFrame(data_v3.name.value_counts())\n",
    "name_counts[name_counts['name'] > 1].shape\n",
    "\n",
    "print(name_counts[name_counts['name'] > 1].shape[0], 'books in the dataset have duplicate names.',\n",
    "     'This is', name_counts['name'][name_counts['name'] > 1].sum(), \n",
    "      'total rows in the dataset with duplicate book names (', \n",
    "      round((1-(data_v3.name.nunique()/data_v3.shape[0])),2)*100,\n",
    "     '% of the dataset)')"
   ]
  },
  {
   "cell_type": "markdown",
   "metadata": {},
   "source": [
    "Next: main_category"
   ]
  },
  {
   "cell_type": "code",
   "execution_count": 21,
   "metadata": {
    "scrolled": false
   },
   "outputs": [
    {
     "name": "stdout",
     "output_type": "stream",
     "text": [
      "There are 15 different main categories.\n",
      "Here are the t\n",
      "              main_category\n",
      "Film & Video          44858\n",
      "Music                 36415\n",
      "Publishing            28032\n",
      "Technology            20673\n",
      "Games                 20630\n"
     ]
    },
    {
     "data": {
      "text/plain": [
       "<matplotlib.axes._subplots.AxesSubplot at 0x12926c550>"
      ]
     },
     "execution_count": 21,
     "metadata": {},
     "output_type": "execute_result"
    },
    {
     "data": {
      "image/png": "[encoded data removed]",
      "text/plain": [
       "<Figure size 432x288 with 1 Axes>"
      ]
     },
     "metadata": {},
     "output_type": "display_data"
    }
   ],
   "source": [
    "data_v3.main_category.unique()\n",
    "print('There are', data_v3.main_category.nunique(), 'different main categories.')\n",
    "main_category_counts = pd.DataFrame(data_v3.main_category.value_counts())\n",
    "print('Here are the t')\n",
    "print(main_category_counts.head())\n",
    "main_category_counts.plot.bar()"
   ]
  },
  {
   "cell_type": "markdown",
   "metadata": {},
   "source": [
    "For unique book names, I do not think it would add much value to one-hot-encode the names as a feature to the model. There are also very few duplicate names. Thus, other features may have to be extracted from the name which will be done in the feature engineering section of the code!\n",
    "\n",
    "\n",
    "Next: category"
   ]
  },
  {
   "cell_type": "code",
   "execution_count": 22,
   "metadata": {},
   "outputs": [
    {
     "name": "stdout",
     "output_type": "stream",
     "text": [
      "There are a total of 159 categories\n",
      "Here are the top 5 categories:\n",
      "                category\n",
      "Product Design     13723\n",
      "Documentary        11578\n",
      "Music               9945\n",
      "Shorts              9035\n",
      "Food                8303\n",
      "Following is a bar plot of the top 20 categories:\n"
     ]
    },
    {
     "data": {
      "text/plain": [
       "<matplotlib.axes._subplots.AxesSubplot at 0x125077b00>"
      ]
     },
     "execution_count": 22,
     "metadata": {},
     "output_type": "execute_result"
    },
    {
     "data": {
      "image/png": "[encoded data removed]",
      "text/plain": [
       "<Figure size 432x288 with 1 Axes>"
      ]
     },
     "metadata": {},
     "output_type": "display_data"
    }
   ],
   "source": [
    "data_v3.category.unique()\n",
    "print('There are a total of', data_v3.category.nunique(),'categories')\n",
    "print('Here are the top 5 categories:')\n",
    "category_counts = pd.DataFrame(data_v3.category.value_counts())\n",
    "print(category_counts.head())\n",
    "print('Following is a bar plot of the top 20 categories:')\n",
    "category_counts.head(20).plot.bar()"
   ]
  },
  {
   "cell_type": "markdown",
   "metadata": {},
   "source": [
    "Next: launch_year"
   ]
  },
  {
   "cell_type": "code",
   "execution_count": 24,
   "metadata": {},
   "outputs": [
    {
     "name": "stdout",
     "output_type": "stream",
     "text": [
      "These are the following counts by year:\n",
      "   year  count\n",
      "8  2009    924\n",
      "7  2010   7619\n",
      "6  2011  19012\n",
      "5  2012  30350\n",
      "4  2013  31946\n",
      "1  2014  46484\n",
      "0  2015  50853\n",
      "2  2016  37861\n",
      "3  2017  33097\n"
     ]
    },
    {
     "data": {
      "text/plain": [
       "<BarContainer object of 9 artists>"
      ]
     },
     "execution_count": 24,
     "metadata": {},
     "output_type": "execute_result"
    },
    {
     "data": {
      "image/png": "[encoded data removed]",
      "text/plain": [
       "<Figure size 432x288 with 1 Axes>"
      ]
     },
     "metadata": {},
     "output_type": "display_data"
    }
   ],
   "source": [
    "year_counts = (data_v3.launch_year.value_counts()\n",
    "                    .reset_index()\n",
    "                    .sort_values(by=['index'], ascending=True)\n",
    "                    .rename(columns={'index': 'year', 'launch_year': 'count'})\n",
    "                )\n",
    "print('These are the following counts by year:')\n",
    "print(year_counts)\n",
    "plt.bar(year_counts['year'], year_counts['count'])"
   ]
  },
  {
   "cell_type": "markdown",
   "metadata": {},
   "source": [
    "There is an increasing trend in the number of kickstarters year over year till 2015 (peak year). After 2015, there is a drop in the number of kickstarters by more tha 10000."
   ]
  },
  {
   "cell_type": "code",
   "execution_count": 26,
   "metadata": {},
   "outputs": [
    {
     "name": "stdout",
     "output_type": "stream",
     "text": [
      "These are the following counts by month:\n",
      "    month  count\n",
      "10      1  18878\n",
      "9       2  20499\n",
      "1       3  23408\n",
      "6       4  22210\n",
      "3       5  22746\n",
      "4       6  22578\n",
      "0       7  24975\n",
      "5       8  22249\n",
      "8       9  21333\n",
      "2      10  22779\n",
      "7      11  22118\n",
      "11     12  14373\n"
     ]
    },
    {
     "data": {
      "text/plain": [
       "<BarContainer object of 12 artists>"
      ]
     },
     "execution_count": 26,
     "metadata": {},
     "output_type": "execute_result"
    },
    {
     "data": {
      "image/png": "[encoded data removed]",
      "text/plain": [
       "<Figure size 432x288 with 1 Axes>"
      ]
     },
     "metadata": {},
     "output_type": "display_data"
    }
   ],
   "source": [
    "month_counts = (data_v3.launch_month.value_counts()\n",
    "                    .reset_index()\n",
    "                    .sort_values(by=['index'], ascending=True)\n",
    "                    .rename(columns={'index': 'month', 'launch_month': 'count'})\n",
    "                )\n",
    "print('These are the following counts by month:')\n",
    "print(month_counts)\n",
    "plt.bar(month_counts['month'], month_counts['count'])"
   ]
  },
  {
   "cell_type": "markdown",
   "metadata": {},
   "source": [
    "December (14373) has the least number of kickstarter projects launched whereas July (24,975) has the most.\n",
    "\n",
    "\n",
    "Next: name_length & name_num_words"
   ]
  },
  {
   "cell_type": "code",
   "execution_count": 27,
   "metadata": {},
   "outputs": [
    {
     "name": "stdout",
     "output_type": "stream",
     "text": [
      "Histogram of the length of kickstarter names:\n"
     ]
    },
    {
     "data": {
      "text/plain": [
       "<matplotlib.axes._subplots.AxesSubplot at 0x125077d68>"
      ]
     },
     "execution_count": 27,
     "metadata": {},
     "output_type": "execute_result"
    },
    {
     "data": {
      "image/png": "[encoded data removed]",
      "text/plain": [
       "<Figure size 432x288 with 1 Axes>"
      ]
     },
     "metadata": {},
     "output_type": "display_data"
    }
   ],
   "source": [
    "print('Histogram of the length of kickstarter names:')\n",
    "data_v3.name_length.hist(bins=10)"
   ]
  },
  {
   "cell_type": "code",
   "execution_count": 28,
   "metadata": {},
   "outputs": [
    {
     "name": "stdout",
     "output_type": "stream",
     "text": [
      "Histogram of the number of words of kickstarter names:\n"
     ]
    },
    {
     "data": {
      "text/plain": [
       "<matplotlib.axes._subplots.AxesSubplot at 0x13dfef550>"
      ]
     },
     "execution_count": 28,
     "metadata": {},
     "output_type": "execute_result"
    },
    {
     "data": {
      "image/png": "[encoded data removed]",
      "text/plain": [
       "<Figure size 432x288 with 1 Axes>"
      ]
     },
     "metadata": {},
     "output_type": "display_data"
    }
   ],
   "source": [
    "print('Histogram of the number of words of kickstarter names:')\n",
    "data_v3.name_num_words.hist(bins=10)"
   ]
  },
  {
   "cell_type": "markdown",
   "metadata": {},
   "source": [
    "Next: backers"
   ]
  },
  {
   "cell_type": "code",
   "execution_count": 30,
   "metadata": {},
   "outputs": [
    {
     "data": {
      "text/plain": [
       "<seaborn.axisgrid.FacetGrid at 0x13ece1588>"
      ]
     },
     "execution_count": 30,
     "metadata": {},
     "output_type": "execute_result"
    },
    {
     "data": {
      "image/png": "[encoded data removed]",
      "text/plain": [
       "<Figure size 418.875x360 with 1 Axes>"
      ]
     },
     "metadata": {},
     "output_type": "display_data"
    }
   ],
   "source": [
    "quantile = .99\n",
    "backers_plot_data = data_v3[data_v3['goal'] < data_v3.goal.quantile(quantile)]\n",
    "sns.lmplot( x=\"goal\", y=\"backers\", \n",
    "           data=backers_plot_data, fit_reg=False, hue='new_state', legend=True, scatter_kws={'alpha':0.15})"
   ]
  },
  {
   "cell_type": "markdown",
   "metadata": {},
   "source": [
    "From the plot above, the higher the goal the more likely the kickstarter is to fail. However, if the kickstarter project has a lot of backers, then it is evident to have a higher probability of success."
   ]
  },
  {
   "cell_type": "code",
   "execution_count": 31,
   "metadata": {},
   "outputs": [
    {
     "data": {
      "text/plain": [
       "<seaborn.axisgrid.FacetGrid at 0x1292b6ac8>"
      ]
     },
     "execution_count": 31,
     "metadata": {},
     "output_type": "execute_result"
    },
    {
     "data": {
      "image/png": "[encoded data removed]",
      "text/plain": [
       "<Figure size 418.875x360 with 1 Axes>"
      ]
     },
     "metadata": {},
     "output_type": "display_data"
    }
   ],
   "source": [
    "backers_plot_data = data_v3[data_v3['goal'] < data_v3.goal.quantile(quantile)]\n",
    "sns.lmplot( x=\"name_num_words\", y=\"name_length\", \n",
    "           data=backers_plot_data, fit_reg=False, hue='new_state', legend=True, scatter_kws={'alpha':0.15})"
   ]
  },
  {
   "cell_type": "markdown",
   "metadata": {},
   "source": [
    "Future improvement\n",
    "- Correation analysis\n",
    "- pca on numerical features to see if there is separation with the data\n",
    "- Change all bar plots to ones with hue of new_state"
   ]
  },
  {
   "cell_type": "markdown",
   "metadata": {},
   "source": [
    "# Benchmarking\n",
    "I will be using K-nearest neighbors as a benchmark model. K-NN does not usually provide competitive accuracy in comparision to other more complex supervised machine learning algorithms.\n",
    "\n",
    "#### Preprocessing Data for K-NN\n",
    "Specfic features from the dataset will be picked and scaled using MinMaxScaler for the model. The model will be divided into a train and test set. The best K will be picked using GridSearchcv on the train set. The model will then be implemented on the test set to get the benchmarking metrics.\n",
    "\n",
    "#### Model Performance\n",
    "Accuracy and log_loss will be used to evaluate model performance."
   ]
  },
  {
   "cell_type": "markdown",
   "metadata": {},
   "source": [
    "## K-NN Preprocessing\n",
    "#### Picking Features\n",
    "I will use the following features for the K-NN model:\n",
    "\n",
    "\n",
    "'main_category', 'country', 'backers', 'usd_goal_real', 'launch_month', 'launch_year', 'duration_launched_month'"
   ]
  },
  {
   "cell_type": "code",
   "execution_count": 62,
   "metadata": {},
   "outputs": [
    {
     "data": {
      "text/html": [
       "<div>\n",
       "<style scoped>\n",
       "    .dataframe tbody tr th:only-of-type {\n",
       "        vertical-align: middle;\n",
       "    }\n",
       "\n",
       "    .dataframe tbody tr th {\n",
       "        vertical-align: top;\n",
       "    }\n",
       "\n",
       "    .dataframe thead th {\n",
       "        text-align: right;\n",
       "    }\n",
       "</style>\n",
       "<table border=\"1\" class=\"dataframe\">\n",
       "  <thead>\n",
       "    <tr style=\"text-align: right;\">\n",
       "      <th></th>\n",
       "      <th>main_category</th>\n",
       "      <th>country</th>\n",
       "      <th>backers</th>\n",
       "      <th>usd_goal_real</th>\n",
       "      <th>launch_month</th>\n",
       "      <th>launch_year</th>\n",
       "      <th>duration_launched_month</th>\n",
       "    </tr>\n",
       "  </thead>\n",
       "  <tbody>\n",
       "    <tr>\n",
       "      <th>0</th>\n",
       "      <td>Publishing</td>\n",
       "      <td>US</td>\n",
       "      <td>0</td>\n",
       "      <td>8000.00</td>\n",
       "      <td>10</td>\n",
       "      <td>2012</td>\n",
       "      <td>1.182776</td>\n",
       "    </tr>\n",
       "    <tr>\n",
       "      <th>1</th>\n",
       "      <td>Journalism</td>\n",
       "      <td>GB</td>\n",
       "      <td>2</td>\n",
       "      <td>2587.82</td>\n",
       "      <td>2</td>\n",
       "      <td>2017</td>\n",
       "      <td>1.971293</td>\n",
       "    </tr>\n",
       "  </tbody>\n",
       "</table>\n",
       "</div>"
      ],
      "text/plain": [
       "  main_category country  backers  usd_goal_real  launch_month  launch_year  \\\n",
       "0    Publishing      US        0        8000.00            10         2012   \n",
       "1    Journalism      GB        2        2587.82             2         2017   \n",
       "\n",
       "   duration_launched_month  \n",
       "0                 1.182776  \n",
       "1                 1.971293  "
      ]
     },
     "execution_count": 62,
     "metadata": {},
     "output_type": "execute_result"
    }
   ],
   "source": [
    "X = data_v3[['main_category', 'country', 'backers', 'usd_goal_real', 'launch_month', 'launch_year',\n",
    "             'duration_launched_month']]\n",
    "y = data_v3[['new_state']]\n",
    "X.head(2)"
   ]
  },
  {
   "cell_type": "markdown",
   "metadata": {},
   "source": [
    "#### Preprocessing Features\n",
    "- one hot encode object features"
   ]
  },
  {
   "cell_type": "code",
   "execution_count": 64,
   "metadata": {
    "scrolled": true
   },
   "outputs": [
    {
     "data": {
      "text/html": [
       "<div>\n",
       "<style scoped>\n",
       "    .dataframe tbody tr th:only-of-type {\n",
       "        vertical-align: middle;\n",
       "    }\n",
       "\n",
       "    .dataframe tbody tr th {\n",
       "        vertical-align: top;\n",
       "    }\n",
       "\n",
       "    .dataframe thead th {\n",
       "        text-align: right;\n",
       "    }\n",
       "</style>\n",
       "<table border=\"1\" class=\"dataframe\">\n",
       "  <thead>\n",
       "    <tr style=\"text-align: right;\">\n",
       "      <th></th>\n",
       "      <th>backers</th>\n",
       "      <th>usd_goal_real</th>\n",
       "      <th>launch_month</th>\n",
       "      <th>launch_year</th>\n",
       "      <th>duration_launched_month</th>\n",
       "      <th>main_category_Art</th>\n",
       "      <th>main_category_Comics</th>\n",
       "      <th>main_category_Crafts</th>\n",
       "      <th>main_category_Dance</th>\n",
       "      <th>main_category_Design</th>\n",
       "      <th>...</th>\n",
       "      <th>country_JP</th>\n",
       "      <th>country_LU</th>\n",
       "      <th>country_MX</th>\n",
       "      <th>country_N,0\"</th>\n",
       "      <th>country_NL</th>\n",
       "      <th>country_NO</th>\n",
       "      <th>country_NZ</th>\n",
       "      <th>country_SE</th>\n",
       "      <th>country_SG</th>\n",
       "      <th>country_US</th>\n",
       "    </tr>\n",
       "  </thead>\n",
       "  <tbody>\n",
       "    <tr>\n",
       "      <th>0</th>\n",
       "      <td>0</td>\n",
       "      <td>8000.00</td>\n",
       "      <td>10</td>\n",
       "      <td>2012</td>\n",
       "      <td>1.182776</td>\n",
       "      <td>0</td>\n",
       "      <td>0</td>\n",
       "      <td>0</td>\n",
       "      <td>0</td>\n",
       "      <td>0</td>\n",
       "      <td>...</td>\n",
       "      <td>0</td>\n",
       "      <td>0</td>\n",
       "      <td>0</td>\n",
       "      <td>0</td>\n",
       "      <td>0</td>\n",
       "      <td>0</td>\n",
       "      <td>0</td>\n",
       "      <td>0</td>\n",
       "      <td>0</td>\n",
       "      <td>1</td>\n",
       "    </tr>\n",
       "    <tr>\n",
       "      <th>1</th>\n",
       "      <td>2</td>\n",
       "      <td>2587.82</td>\n",
       "      <td>2</td>\n",
       "      <td>2017</td>\n",
       "      <td>1.971293</td>\n",
       "      <td>0</td>\n",
       "      <td>0</td>\n",
       "      <td>0</td>\n",
       "      <td>0</td>\n",
       "      <td>0</td>\n",
       "      <td>...</td>\n",
       "      <td>0</td>\n",
       "      <td>0</td>\n",
       "      <td>0</td>\n",
       "      <td>0</td>\n",
       "      <td>0</td>\n",
       "      <td>0</td>\n",
       "      <td>0</td>\n",
       "      <td>0</td>\n",
       "      <td>0</td>\n",
       "      <td>0</td>\n",
       "    </tr>\n",
       "  </tbody>\n",
       "</table>\n",
       "<p>2 rows × 43 columns</p>\n",
       "</div>"
      ],
      "text/plain": [
       "   backers  usd_goal_real  launch_month  launch_year  duration_launched_month  \\\n",
       "0        0        8000.00            10         2012                 1.182776   \n",
       "1        2        2587.82             2         2017                 1.971293   \n",
       "\n",
       "   main_category_Art  main_category_Comics  main_category_Crafts  \\\n",
       "0                  0                     0                     0   \n",
       "1                  0                     0                     0   \n",
       "\n",
       "   main_category_Dance  main_category_Design     ...      country_JP  \\\n",
       "0                    0                     0     ...               0   \n",
       "1                    0                     0     ...               0   \n",
       "\n",
       "   country_LU  country_MX  country_N,0\"  country_NL  country_NO  country_NZ  \\\n",
       "0           0           0             0           0           0           0   \n",
       "1           0           0             0           0           0           0   \n",
       "\n",
       "   country_SE  country_SG  country_US  \n",
       "0           0           0           1  \n",
       "1           0           0           0  \n",
       "\n",
       "[2 rows x 43 columns]"
      ]
     },
     "execution_count": 64,
     "metadata": {},
     "output_type": "execute_result"
    }
   ],
   "source": [
    "X_dummies = pd.get_dummies(X)\n",
    "X_dummies.head(2)"
   ]
  },
  {
   "cell_type": "markdown",
   "metadata": {},
   "source": [
    "- MinMaxScaler on entire set"
   ]
  },
  {
   "cell_type": "code",
   "execution_count": 72,
   "metadata": {},
   "outputs": [
    {
     "data": {
      "text/html": [
       "<div>\n",
       "<style scoped>\n",
       "    .dataframe tbody tr th:only-of-type {\n",
       "        vertical-align: middle;\n",
       "    }\n",
       "\n",
       "    .dataframe tbody tr th {\n",
       "        vertical-align: top;\n",
       "    }\n",
       "\n",
       "    .dataframe thead th {\n",
       "        text-align: right;\n",
       "    }\n",
       "</style>\n",
       "<table border=\"1\" class=\"dataframe\">\n",
       "  <thead>\n",
       "    <tr style=\"text-align: right;\">\n",
       "      <th></th>\n",
       "      <th>backers</th>\n",
       "      <th>usd_goal_real</th>\n",
       "      <th>launch_month</th>\n",
       "      <th>launch_year</th>\n",
       "      <th>duration_launched_month</th>\n",
       "      <th>main_category_Art</th>\n",
       "      <th>main_category_Comics</th>\n",
       "      <th>main_category_Crafts</th>\n",
       "      <th>main_category_Dance</th>\n",
       "      <th>main_category_Design</th>\n",
       "      <th>...</th>\n",
       "      <th>country_JP</th>\n",
       "      <th>country_LU</th>\n",
       "      <th>country_MX</th>\n",
       "      <th>country_N,0\"</th>\n",
       "      <th>country_NL</th>\n",
       "      <th>country_NO</th>\n",
       "      <th>country_NZ</th>\n",
       "      <th>country_SE</th>\n",
       "      <th>country_SG</th>\n",
       "      <th>country_US</th>\n",
       "    </tr>\n",
       "  </thead>\n",
       "  <tbody>\n",
       "    <tr>\n",
       "      <th>0</th>\n",
       "      <td>0.000000</td>\n",
       "      <td>0.000048</td>\n",
       "      <td>0.818182</td>\n",
       "      <td>0.375</td>\n",
       "      <td>0.384615</td>\n",
       "      <td>0.0</td>\n",
       "      <td>0.0</td>\n",
       "      <td>0.0</td>\n",
       "      <td>0.0</td>\n",
       "      <td>0.0</td>\n",
       "      <td>...</td>\n",
       "      <td>0.0</td>\n",
       "      <td>0.0</td>\n",
       "      <td>0.0</td>\n",
       "      <td>0.0</td>\n",
       "      <td>0.0</td>\n",
       "      <td>0.0</td>\n",
       "      <td>0.0</td>\n",
       "      <td>0.0</td>\n",
       "      <td>0.0</td>\n",
       "      <td>1.0</td>\n",
       "    </tr>\n",
       "    <tr>\n",
       "      <th>1</th>\n",
       "      <td>0.000027</td>\n",
       "      <td>0.000016</td>\n",
       "      <td>0.090909</td>\n",
       "      <td>1.000</td>\n",
       "      <td>0.648352</td>\n",
       "      <td>0.0</td>\n",
       "      <td>0.0</td>\n",
       "      <td>0.0</td>\n",
       "      <td>0.0</td>\n",
       "      <td>0.0</td>\n",
       "      <td>...</td>\n",
       "      <td>0.0</td>\n",
       "      <td>0.0</td>\n",
       "      <td>0.0</td>\n",
       "      <td>0.0</td>\n",
       "      <td>0.0</td>\n",
       "      <td>0.0</td>\n",
       "      <td>0.0</td>\n",
       "      <td>0.0</td>\n",
       "      <td>0.0</td>\n",
       "      <td>0.0</td>\n",
       "    </tr>\n",
       "  </tbody>\n",
       "</table>\n",
       "<p>2 rows × 43 columns</p>\n",
       "</div>"
      ],
      "text/plain": [
       "    backers  usd_goal_real  launch_month  launch_year  \\\n",
       "0  0.000000       0.000048      0.818182        0.375   \n",
       "1  0.000027       0.000016      0.090909        1.000   \n",
       "\n",
       "   duration_launched_month  main_category_Art  main_category_Comics  \\\n",
       "0                 0.384615                0.0                   0.0   \n",
       "1                 0.648352                0.0                   0.0   \n",
       "\n",
       "   main_category_Crafts  main_category_Dance  main_category_Design  \\\n",
       "0                   0.0                  0.0                   0.0   \n",
       "1                   0.0                  0.0                   0.0   \n",
       "\n",
       "      ...      country_JP  country_LU  country_MX  country_N,0\"  country_NL  \\\n",
       "0     ...             0.0         0.0         0.0           0.0         0.0   \n",
       "1     ...             0.0         0.0         0.0           0.0         0.0   \n",
       "\n",
       "   country_NO  country_NZ  country_SE  country_SG  country_US  \n",
       "0         0.0         0.0         0.0         0.0         1.0  \n",
       "1         0.0         0.0         0.0         0.0         0.0  \n",
       "\n",
       "[2 rows x 43 columns]"
      ]
     },
     "execution_count": 72,
     "metadata": {},
     "output_type": "execute_result"
    }
   ],
   "source": [
    "scaler = MinMaxScaler()\n",
    "X_scaled = pd.DataFrame(scaler.fit_transform(X_dummies), columns=X_dummies.columns)\n",
    "X_scaled.head(2)"
   ]
  },
  {
   "cell_type": "markdown",
   "metadata": {},
   "source": [
    "- change the shape of y\n",
    "- Split data into training and testing set"
   ]
  },
  {
   "cell_type": "code",
   "execution_count": 90,
   "metadata": {},
   "outputs": [
    {
     "data": {
      "text/plain": [
       "(258322,)"
      ]
     },
     "execution_count": 90,
     "metadata": {},
     "output_type": "execute_result"
    }
   ],
   "source": [
    "y = np.array(y).ravel()\n",
    "y.shape"
   ]
  },
  {
   "cell_type": "code",
   "execution_count": 91,
   "metadata": {},
   "outputs": [
    {
     "name": "stdout",
     "output_type": "stream",
     "text": [
      "Shape of training set is: (206657, 43)\n",
      "Shape of testing set is: (51665, 43)\n"
     ]
    }
   ],
   "source": [
    "X_train, X_test, y_train, y_test = train_test_split(X_scaled, y, test_size=0.20, random_state=42)\n",
    "print('Shape of training set is:', X_train.shape)\n",
    "print('Shape of testing set is:', X_test.shape)"
   ]
  },
  {
   "cell_type": "markdown",
   "metadata": {},
   "source": [
    "#### Train K-NN model\n",
    "- Using gridsearchcv to try out different ranges of k on the training set"
   ]
  },
  {
   "cell_type": "code",
   "execution_count": 97,
   "metadata": {},
   "outputs": [],
   "source": [
    "knn_model = KNeighborsClassifier()\n",
    "knn_model_params = {'n_neighbors': np.arange(1,5)}"
   ]
  },
  {
   "cell_type": "code",
   "execution_count": 98,
   "metadata": {
    "scrolled": false
   },
   "outputs": [
    {
     "name": "stdout",
     "output_type": "stream",
     "text": [
      "Fitting 3 folds for each of 4 candidates, totalling 12 fits\n",
      "[CV] n_neighbors=1 ...................................................\n",
      "[CV] .......... n_neighbors=1, score=0.6553726446592921, total= 2.6min\n",
      "[CV] n_neighbors=1 ...................................................\n"
     ]
    },
    {
     "name": "stderr",
     "output_type": "stream",
     "text": [
      "[Parallel(n_jobs=1)]: Done   1 out of   1 | elapsed:  7.0min remaining:    0.0s\n"
     ]
    },
    {
     "name": "stdout",
     "output_type": "stream",
     "text": [
      "[CV] .......... n_neighbors=1, score=0.6568678686525564, total= 2.4min\n",
      "[CV] n_neighbors=1 ...................................................\n"
     ]
    },
    {
     "name": "stderr",
     "output_type": "stream",
     "text": [
      "[Parallel(n_jobs=1)]: Done   2 out of   2 | elapsed: 13.2min remaining:    0.0s\n"
     ]
    },
    {
     "name": "stdout",
     "output_type": "stream",
     "text": [
      "[CV] .......... n_neighbors=1, score=0.6546853451404515, total= 2.7min\n",
      "[CV] n_neighbors=2 ...................................................\n",
      "[CV] .......... n_neighbors=2, score=0.6775832534912755, total= 2.8min\n",
      "[CV] n_neighbors=2 ...................................................\n",
      "[CV] .......... n_neighbors=2, score=0.6793542955027146, total= 2.4min\n",
      "[CV] n_neighbors=2 ...................................................\n",
      "[CV] .......... n_neighbors=2, score=0.6777382594178704, total= 2.7min\n",
      "[CV] n_neighbors=3 ...................................................\n",
      "[CV] .......... n_neighbors=3, score=0.6709636210550765, total= 2.7min\n",
      "[CV] n_neighbors=3 ...................................................\n",
      "[CV] .......... n_neighbors=3, score=0.6720523763899776, total= 2.4min\n",
      "[CV] n_neighbors=3 ...................................................\n",
      "[CV] .......... n_neighbors=3, score=0.6711040139362706, total= 2.8min\n",
      "[CV] n_neighbors=4 ...................................................\n",
      "[CV] ........... n_neighbors=4, score=0.676189646662602, total= 2.7min\n",
      "[CV] n_neighbors=4 ...................................................\n",
      "[CV] .......... n_neighbors=4, score=0.6801091658682461, total= 2.4min\n",
      "[CV] n_neighbors=4 ...................................................\n",
      "[CV] ........... n_neighbors=4, score=0.677970530594469, total= 3.1min\n"
     ]
    },
    {
     "name": "stderr",
     "output_type": "stream",
     "text": [
      "[Parallel(n_jobs=1)]: Done  12 out of  12 | elapsed: 84.9min finished\n"
     ]
    },
    {
     "name": "stdout",
     "output_type": "stream",
     "text": [
      "CPU times: user 1h 23min 33s, sys: 34.9 s, total: 1h 24min 8s\n",
      "Wall time: 1h 25min 48s\n"
     ]
    }
   ],
   "source": [
    "# %%time\n",
    "# knn_model_cv = GridSearchCV(knn_model,param_grid=knn_model_params,cv=3, verbose=3)\n",
    "# knn_model_cv.fit(X_train,y_train)"
   ]
  },
  {
   "cell_type": "code",
   "execution_count": 99,
   "metadata": {},
   "outputs": [
    {
     "name": "stdout",
     "output_type": "stream",
     "text": [
      "The best score is: 0.6782252718272306\n",
      "The best k value is: {'n_neighbors': 2}\n"
     ]
    }
   ],
   "source": [
    "# print('The best score is:', knn_model_cv.best_score_)\n",
    "# print('The best k value is:', knn_model_cv.best_params_)"
   ]
  },
  {
   "cell_type": "markdown",
   "metadata": {},
   "source": [
    "#### Testing K-NN model\n",
    "- apply k-nn model on test set\n"
   ]
  },
  {
   "cell_type": "code",
   "execution_count": 101,
   "metadata": {},
   "outputs": [
    {
     "name": "stdout",
     "output_type": "stream",
     "text": [
      "CPU times: user 3min 54s, sys: 1.61 s, total: 3min 56s\n",
      "Wall time: 4min 1s\n"
     ]
    }
   ],
   "source": [
    "%%time\n",
    "knn_test = KNeighborsClassifier()\n",
    "knn_test.fit(X_train,y_train)\n",
    "knn_predictions = knn_test.predict(X_test)"
   ]
  },
  {
   "cell_type": "code",
   "execution_count": 125,
   "metadata": {},
   "outputs": [
    {
     "name": "stdout",
     "output_type": "stream",
     "text": [
      "CPU times: user 2min 48s, sys: 717 ms, total: 2min 49s\n",
      "Wall time: 2min 50s\n"
     ]
    }
   ],
   "source": [
    "%%time\n",
    "knn_prob_predictions = knn_test.predict_proba(X_test)"
   ]
  },
  {
   "cell_type": "markdown",
   "metadata": {},
   "source": [
    "- Evaluate the model performance"
   ]
  },
  {
   "cell_type": "code",
   "execution_count": 127,
   "metadata": {
    "scrolled": true
   },
   "outputs": [
    {
     "name": "stdout",
     "output_type": "stream",
     "text": [
      "Accuracy: 0.6866156972805575\n",
      "Log_loss: 3.5592535094921773\n"
     ]
    }
   ],
   "source": [
    "print(\"Accuracy:\",metrics.accuracy_score(y_test, knn_predictions))\n",
    "print(\"Log_loss:\",metrics.log_loss(y_test, knn_prob_predictions))"
   ]
  },
  {
   "cell_type": "markdown",
   "metadata": {},
   "source": [
    "Will use the accuracy of 68.7% and log loss of 3.56 as a benchmark for the model. These benchmark metrics are credible because if every row in the test dataset was predicted as failed, the accuracy would be approximately 61% (61% of the dataset is labeled as failed).\n",
    "\n",
    "\n",
    "Let's apply a more sophisticated model to see if we can improve these evalution metrics."
   ]
  },
  {
   "cell_type": "markdown",
   "metadata": {},
   "source": [
    "# Model Implementation"
   ]
  },
  {
   "cell_type": "markdown",
   "metadata": {},
   "source": [
    "## Boosting via LightGBM"
   ]
  },
  {
   "cell_type": "markdown",
   "metadata": {},
   "source": [
    "### Preprocessing Features\n",
    "- picking features"
   ]
  },
  {
   "cell_type": "markdown",
   "metadata": {},
   "source": [
    "### Test Model 3 "
   ]
  },
  {
   "cell_type": "code",
   "execution_count": 128,
   "metadata": {},
   "outputs": [],
   "source": [
    "# numeric_features = ['usd_goal_real', 'backers', 'name_length', \n",
    "#                      'name_num_words', 'launch_month', \n",
    "#                      'duration_launched_month', 'launch_year','usd_goal_per_backer',\n",
    "#                    'deadline_year', 'deadline_month']\n",
    "numeric_features = ['goal', 'backers', 'usd_goal_real', 'name_length',\n",
    "                   'name_num_words', 'launch_month', 'duration_launched_month',\n",
    "                   'launch_year', 'usd_goal_per_backer', 'deadline_year', 'deadline_month',\n",
    "                   'usd_goal_per_month', 'usd_goal_per_month_per_backer',\n",
    "                   'backers_per_month']\n",
    "# numeric_features = ['goal', 'backers', 'usd_goal_real', 'name_length',\n",
    "#        'name_num_words', 'launch_month', 'duration_launched_month',\n",
    "#        'launch_year', 'deadline_year', 'deadline_month', 'usd_goal_per_backer',\n",
    "#        'usd_goal_per_month', 'backers_per_month',\n",
    "#        'usd_goal_per_month_per_backer', 'month_10', 'month_11', 'month_2',\n",
    "#        'month_3', 'month_4', 'month_8', 'month_6', 'month_7', 'month_5',\n",
    "#        'month_9', 'month_1', 'month_12']\n",
    "\n",
    "categorical_features = ['category', 'main_category', 'country', 'main_category-category']\n",
    "y = data_v3['new_state']"
   ]
  },
  {
   "cell_type": "code",
   "execution_count": 129,
   "metadata": {},
   "outputs": [
    {
     "name": "stderr",
     "output_type": "stream",
     "text": [
      "/Users/joashc/anaconda3/lib/python3.6/site-packages/sklearn/preprocessing/data.py:323: DataConversionWarning: Data with input dtype int64, float64 were all converted to float64 by MinMaxScaler.\n",
      "  return self.partial_fit(X, y)\n"
     ]
    }
   ],
   "source": [
    "numerical_data = data_v3[numeric_features]\n",
    "scaler = MinMaxScaler()\n",
    "numerical_data_scaled = pd.DataFrame(scaler.fit_transform(numerical_data), columns = numerical_data.columns)"
   ]
  },
  {
   "cell_type": "code",
   "execution_count": 130,
   "metadata": {},
   "outputs": [
    {
     "name": "stderr",
     "output_type": "stream",
     "text": [
      "/Users/joashc/anaconda3/lib/python3.6/site-packages/ipykernel_launcher.py:3: SettingWithCopyWarning: \n",
      "A value is trying to be set on a copy of a slice from a DataFrame.\n",
      "Try using .loc[row_indexer,col_indexer] = value instead\n",
      "\n",
      "See the caveats in the documentation: http://pandas.pydata.org/pandas-docs/stable/indexing.html#indexing-view-versus-copy\n",
      "  This is separate from the ipykernel package so we can avoid doing imports until\n"
     ]
    },
    {
     "data": {
      "text/plain": [
       "category                  category\n",
       "main_category             category\n",
       "country                   category\n",
       "main_category-category    category\n",
       "dtype: object"
      ]
     },
     "execution_count": 130,
     "metadata": {},
     "output_type": "execute_result"
    }
   ],
   "source": [
    "categorical_data = data_v3[categorical_features]\n",
    "for col in categorical_data.columns: \n",
    "     categorical_data[col] = categorical_data[col].astype('category')\n",
    "\n",
    "categorical_data.dtypes"
   ]
  },
  {
   "cell_type": "code",
   "execution_count": 131,
   "metadata": {},
   "outputs": [],
   "source": [
    "X_lgbm = pd.concat([numerical_data_scaled.reset_index(drop=True), categorical_data.reset_index(drop=True)], axis=1)"
   ]
  },
  {
   "cell_type": "code",
   "execution_count": 132,
   "metadata": {},
   "outputs": [
    {
     "name": "stdout",
     "output_type": "stream",
     "text": [
      "Shape of train & validation set is: (206516, 18)\n",
      "Shape of testing set is: (51630, 18)\n"
     ]
    }
   ],
   "source": [
    "X_data, X_test, y_data, y_test = train_test_split(X_lgbm, y, test_size=0.2, random_state=42) #Updated\n",
    "print('Shape of train & validation set is:', X_data.shape)  \n",
    "print('Shape of testing set is:', X_test.shape)"
   ]
  },
  {
   "cell_type": "code",
   "execution_count": 133,
   "metadata": {},
   "outputs": [
    {
     "name": "stdout",
     "output_type": "stream",
     "text": [
      "Shape of train & validation set is: (165212, 18)\n",
      "Shape of testing set is: (41304, 18)\n"
     ]
    }
   ],
   "source": [
    "X_train, X_validate, y_train, y_validate = train_test_split(X_data, y_data, test_size=0.2, random_state=42) #Updated\n",
    "print('Shape of train & validation set is:', X_train.shape)  \n",
    "print('Shape of testing set is:', X_validate.shape)"
   ]
  },
  {
   "cell_type": "code",
   "execution_count": 134,
   "metadata": {},
   "outputs": [],
   "source": [
    "params = {'learning_rate':0.09,\n",
    "         'boosting_type': 'gbdt',\n",
    "         'num_class':3,\n",
    "         'objective':'multiclass',\n",
    "         'metric': 'multi_logloss',\n",
    "          'max_depth': 10,\n",
    "          'reg_alpha': 0.5,\n",
    "          'reg_lambda': 0.5,\n",
    "          'n_estimators': 100,\n",
    "         'num_leaves': 80,\n",
    "         'min_split_gain': 0.1,\n",
    "         'min_child_samples': 20}"
   ]
  },
  {
   "cell_type": "code",
   "execution_count": 135,
   "metadata": {},
   "outputs": [
    {
     "data": {
      "text/plain": [
       "{'boosting_type': 'gbdt',\n",
       " 'class_weight': None,\n",
       " 'colsample_bytree': 1.0,\n",
       " 'importance_type': 'split',\n",
       " 'learning_rate': 0.09,\n",
       " 'max_depth': 10,\n",
       " 'min_child_samples': 20,\n",
       " 'min_child_weight': 0.001,\n",
       " 'min_split_gain': 0.1,\n",
       " 'n_estimators': 100,\n",
       " 'n_jobs': 4,\n",
       " 'num_leaves': 80,\n",
       " 'objective': 'multiclass',\n",
       " 'random_state': None,\n",
       " 'reg_alpha': 0.5,\n",
       " 'reg_lambda': 0.5,\n",
       " 'silent': True,\n",
       " 'subsample': 1.0,\n",
       " 'subsample_for_bin': 200000,\n",
       " 'subsample_freq': 0,\n",
       " 'num_class': 3,\n",
       " 'metric': 'multi_logloss'}"
      ]
     },
     "execution_count": 135,
     "metadata": {},
     "output_type": "execute_result"
    }
   ],
   "source": [
    "lgb_model = lgb.LGBMClassifier(**params, n_jobs=4)\n",
    "lgb_model.get_params()"
   ]
  },
  {
   "cell_type": "code",
   "execution_count": 136,
   "metadata": {},
   "outputs": [
    {
     "name": "stdout",
     "output_type": "stream",
     "text": [
      "[1]\tvalid_0's multi_logloss: 1.00833\n",
      "Training until validation scores don't improve for 200 rounds.\n",
      "[2]\tvalid_0's multi_logloss: 0.931741\n",
      "[3]\tvalid_0's multi_logloss: 0.865852\n",
      "[4]\tvalid_0's multi_logloss: 0.808796\n",
      "[5]\tvalid_0's multi_logloss: 0.758972\n",
      "[6]\tvalid_0's multi_logloss: 0.71524\n",
      "[7]\tvalid_0's multi_logloss: 0.676639\n",
      "[8]\tvalid_0's multi_logloss: 0.642373\n",
      "[9]\tvalid_0's multi_logloss: 0.611984\n",
      "[10]\tvalid_0's multi_logloss: 0.584908\n",
      "[11]\tvalid_0's multi_logloss: 0.560705\n",
      "[12]\tvalid_0's multi_logloss: 0.539126\n",
      "[13]\tvalid_0's multi_logloss: 0.519768\n",
      "[14]\tvalid_0's multi_logloss: 0.502405\n",
      "[15]\tvalid_0's multi_logloss: 0.486782\n",
      "[16]\tvalid_0's multi_logloss: 0.472682\n",
      "[17]\tvalid_0's multi_logloss: 0.459966\n",
      "[18]\tvalid_0's multi_logloss: 0.448513\n",
      "[19]\tvalid_0's multi_logloss: 0.438146\n",
      "[20]\tvalid_0's multi_logloss: 0.428792\n",
      "[21]\tvalid_0's multi_logloss: 0.420303\n",
      "[22]\tvalid_0's multi_logloss: 0.412621\n",
      "[23]\tvalid_0's multi_logloss: 0.405666\n",
      "[24]\tvalid_0's multi_logloss: 0.399341\n",
      "[25]\tvalid_0's multi_logloss: 0.3936\n",
      "[26]\tvalid_0's multi_logloss: 0.38839\n",
      "[27]\tvalid_0's multi_logloss: 0.38367\n",
      "[28]\tvalid_0's multi_logloss: 0.37937\n",
      "[29]\tvalid_0's multi_logloss: 0.375482\n",
      "[30]\tvalid_0's multi_logloss: 0.371884\n",
      "[31]\tvalid_0's multi_logloss: 0.368633\n",
      "[32]\tvalid_0's multi_logloss: 0.365694\n",
      "[33]\tvalid_0's multi_logloss: 0.362978\n",
      "[34]\tvalid_0's multi_logloss: 0.36049\n",
      "[35]\tvalid_0's multi_logloss: 0.358248\n",
      "[36]\tvalid_0's multi_logloss: 0.356235\n",
      "[37]\tvalid_0's multi_logloss: 0.354379\n",
      "[38]\tvalid_0's multi_logloss: 0.352656\n",
      "[39]\tvalid_0's multi_logloss: 0.35108\n",
      "[40]\tvalid_0's multi_logloss: 0.349671\n",
      "[41]\tvalid_0's multi_logloss: 0.348371\n",
      "[42]\tvalid_0's multi_logloss: 0.347216\n",
      "[43]\tvalid_0's multi_logloss: 0.346111\n",
      "[44]\tvalid_0's multi_logloss: 0.345149\n",
      "[45]\tvalid_0's multi_logloss: 0.344254\n",
      "[46]\tvalid_0's multi_logloss: 0.343466\n",
      "[47]\tvalid_0's multi_logloss: 0.342708\n",
      "[48]\tvalid_0's multi_logloss: 0.342008\n",
      "[49]\tvalid_0's multi_logloss: 0.341336\n",
      "[50]\tvalid_0's multi_logloss: 0.340752\n",
      "[51]\tvalid_0's multi_logloss: 0.340247\n",
      "[52]\tvalid_0's multi_logloss: 0.339751\n",
      "[53]\tvalid_0's multi_logloss: 0.339317\n",
      "[54]\tvalid_0's multi_logloss: 0.338911\n",
      "[55]\tvalid_0's multi_logloss: 0.338521\n",
      "[56]\tvalid_0's multi_logloss: 0.338185\n",
      "[57]\tvalid_0's multi_logloss: 0.337833\n",
      "[58]\tvalid_0's multi_logloss: 0.337501\n",
      "[59]\tvalid_0's multi_logloss: 0.337237\n",
      "[60]\tvalid_0's multi_logloss: 0.33698\n",
      "[61]\tvalid_0's multi_logloss: 0.336731\n",
      "[62]\tvalid_0's multi_logloss: 0.336484\n",
      "[63]\tvalid_0's multi_logloss: 0.336313\n",
      "[64]\tvalid_0's multi_logloss: 0.336181\n",
      "[65]\tvalid_0's multi_logloss: 0.335992\n",
      "[66]\tvalid_0's multi_logloss: 0.335909\n",
      "[67]\tvalid_0's multi_logloss: 0.335813\n",
      "[68]\tvalid_0's multi_logloss: 0.335613\n",
      "[69]\tvalid_0's multi_logloss: 0.335517\n",
      "[70]\tvalid_0's multi_logloss: 0.335428\n",
      "[71]\tvalid_0's multi_logloss: 0.335328\n",
      "[72]\tvalid_0's multi_logloss: 0.335259\n",
      "[73]\tvalid_0's multi_logloss: 0.335175\n",
      "[74]\tvalid_0's multi_logloss: 0.335132\n",
      "[75]\tvalid_0's multi_logloss: 0.335103\n",
      "[76]\tvalid_0's multi_logloss: 0.335046\n",
      "[77]\tvalid_0's multi_logloss: 0.334994\n",
      "[78]\tvalid_0's multi_logloss: 0.334964\n",
      "[79]\tvalid_0's multi_logloss: 0.334941\n",
      "[80]\tvalid_0's multi_logloss: 0.334866\n",
      "[81]\tvalid_0's multi_logloss: 0.3348\n",
      "[82]\tvalid_0's multi_logloss: 0.334755\n",
      "[83]\tvalid_0's multi_logloss: 0.334736\n",
      "[84]\tvalid_0's multi_logloss: 0.334668\n",
      "[85]\tvalid_0's multi_logloss: 0.334681\n",
      "[86]\tvalid_0's multi_logloss: 0.334675\n",
      "[87]\tvalid_0's multi_logloss: 0.334637\n",
      "[88]\tvalid_0's multi_logloss: 0.334635\n",
      "[89]\tvalid_0's multi_logloss: 0.33463\n",
      "[90]\tvalid_0's multi_logloss: 0.334644\n",
      "[91]\tvalid_0's multi_logloss: 0.334626\n",
      "[92]\tvalid_0's multi_logloss: 0.334635\n",
      "[93]\tvalid_0's multi_logloss: 0.334621\n",
      "[94]\tvalid_0's multi_logloss: 0.334652\n",
      "[95]\tvalid_0's multi_logloss: 0.334691\n",
      "[96]\tvalid_0's multi_logloss: 0.334681\n",
      "[97]\tvalid_0's multi_logloss: 0.334682\n",
      "[98]\tvalid_0's multi_logloss: 0.334703\n",
      "[99]\tvalid_0's multi_logloss: 0.334705\n",
      "[100]\tvalid_0's multi_logloss: 0.334732\n",
      "Did not meet early stopping. Best iteration is:\n",
      "[93]\tvalid_0's multi_logloss: 0.334621\n"
     ]
    },
    {
     "data": {
      "text/plain": [
       "LGBMClassifier(boosting_type='gbdt', class_weight=None, colsample_bytree=1.0,\n",
       "        importance_type='split', learning_rate=0.09, max_depth=10,\n",
       "        metric='multi_logloss', min_child_samples=20,\n",
       "        min_child_weight=0.001, min_split_gain=0.1, n_estimators=100,\n",
       "        n_jobs=4, num_class=3, num_leaves=80, objective='multiclass',\n",
       "        random_state=None, reg_alpha=0.5, reg_lambda=0.5, silent=True,\n",
       "        subsample=1.0, subsample_for_bin=200000, subsample_freq=0)"
      ]
     },
     "execution_count": 136,
     "metadata": {},
     "output_type": "execute_result"
    }
   ],
   "source": [
    "lgb_model.fit(X_train, y_train, early_stopping_rounds=200, eval_set=(X_validate, y_validate), eval_metric='multi_logloss')"
   ]
  },
  {
   "cell_type": "code",
   "execution_count": 137,
   "metadata": {},
   "outputs": [
    {
     "name": "stdout",
     "output_type": "stream",
     "text": [
      "Train Accuracy: 0.8776602183860737\n",
      "Train Log_loss: 0.29031909253295146\n"
     ]
    }
   ],
   "source": [
    "y_train_pred = lgb_model.predict(X_train, num_iteration=lgb_model.best_iteration_)\n",
    "y_train_pred_proba = lgb_model.predict_proba(X_train, num_iteration=lgb_model.best_iteration_)\n",
    "print(\"Train Accuracy:\",metrics.accuracy_score(y_train, y_train_pred))\n",
    "print(\"Train Log_loss:\",metrics.log_loss(y_train, y_train_pred_proba))"
   ]
  },
  {
   "cell_type": "code",
   "execution_count": 142,
   "metadata": {},
   "outputs": [
    {
     "name": "stdout",
     "output_type": "stream",
     "text": [
      "Validation Accuracy: 0.8603525082316482\n",
      "Validation Log_loss: 0.33462124492849626\n"
     ]
    }
   ],
   "source": [
    "y_pred = lgb_model.predict(X_validate, num_iteration=lgb_model.best_iteration_)\n",
    "y_pred_proba = lgb_model.predict_proba(X_validate, num_iteration=lgb_model.best_iteration_)\n",
    "print(\"Validation Accuracy:\",metrics.accuracy_score(y_validate, y_pred))\n",
    "print(\"Validation Log_loss:\",metrics.log_loss(y_validate, y_pred_proba))"
   ]
  },
  {
   "cell_type": "code",
   "execution_count": 143,
   "metadata": {
    "scrolled": true
   },
   "outputs": [
    {
     "data": {
      "text/plain": [
       "<matplotlib.axes._subplots.AxesSubplot at 0x1342e1e80>"
      ]
     },
     "execution_count": 143,
     "metadata": {},
     "output_type": "execute_result"
    },
    {
     "data": {
      "image/png": "[encoded data removed]",
      "text/plain": [
       "<Figure size 432x288 with 1 Axes>"
      ]
     },
     "metadata": {},
     "output_type": "display_data"
    }
   ],
   "source": [
    "(pd.Series(lgb_model.feature_importances_, index=X_lgbm.columns)\n",
    "   .nlargest(40)\n",
    "   .plot(kind='barh')) "
   ]
  },
  {
   "cell_type": "code",
   "execution_count": 144,
   "metadata": {},
   "outputs": [
    {
     "ename": "ValueError",
     "evalue": "Found input variables with inconsistent numbers of samples: [51630, 41304]",
     "output_type": "error",
     "traceback": [
      "\u001b[0;31m---------------------------------------------------------------------------\u001b[0m",
      "\u001b[0;31mValueError\u001b[0m                                Traceback (most recent call last)",
      "\u001b[0;32m<ipython-input-144-a96ed7e5bfd7>\u001b[0m in \u001b[0;36m<module>\u001b[0;34m()\u001b[0m\n\u001b[0;32m----> 1\u001b[0;31m \u001b[0mcm\u001b[0m \u001b[0;34m=\u001b[0m \u001b[0mconfusion_matrix\u001b[0m\u001b[0;34m(\u001b[0m\u001b[0my_test\u001b[0m\u001b[0;34m,\u001b[0m \u001b[0my_pred\u001b[0m\u001b[0;34m)\u001b[0m\u001b[0;34m\u001b[0m\u001b[0m\n\u001b[0m\u001b[1;32m      2\u001b[0m accuracy_per_class = pd.DataFrame(((cm.astype('float') / cm.sum(axis=1)[:, np.newaxis]).diagonal())*100,\n\u001b[1;32m      3\u001b[0m                                  index=['failed', 'succeeded', 'surged'], columns=['accuracy_per_class'])\n\u001b[1;32m      4\u001b[0m \u001b[0mprint\u001b[0m\u001b[0;34m(\u001b[0m\u001b[0;34m'Following is the accuracy per class:'\u001b[0m\u001b[0;34m)\u001b[0m\u001b[0;34m\u001b[0m\u001b[0m\n\u001b[1;32m      5\u001b[0m \u001b[0maccuracy_per_class\u001b[0m\u001b[0;34m\u001b[0m\u001b[0m\n",
      "\u001b[0;32m~/anaconda3/lib/python3.6/site-packages/sklearn/metrics/classification.py\u001b[0m in \u001b[0;36mconfusion_matrix\u001b[0;34m(y_true, y_pred, labels, sample_weight)\u001b[0m\n\u001b[1;32m    251\u001b[0m \u001b[0;34m\u001b[0m\u001b[0m\n\u001b[1;32m    252\u001b[0m     \"\"\"\n\u001b[0;32m--> 253\u001b[0;31m     \u001b[0my_type\u001b[0m\u001b[0;34m,\u001b[0m \u001b[0my_true\u001b[0m\u001b[0;34m,\u001b[0m \u001b[0my_pred\u001b[0m \u001b[0;34m=\u001b[0m \u001b[0m_check_targets\u001b[0m\u001b[0;34m(\u001b[0m\u001b[0my_true\u001b[0m\u001b[0;34m,\u001b[0m \u001b[0my_pred\u001b[0m\u001b[0;34m)\u001b[0m\u001b[0;34m\u001b[0m\u001b[0m\n\u001b[0m\u001b[1;32m    254\u001b[0m     \u001b[0;32mif\u001b[0m \u001b[0my_type\u001b[0m \u001b[0;32mnot\u001b[0m \u001b[0;32min\u001b[0m \u001b[0;34m(\u001b[0m\u001b[0;34m\"binary\"\u001b[0m\u001b[0;34m,\u001b[0m \u001b[0;34m\"multiclass\"\u001b[0m\u001b[0;34m)\u001b[0m\u001b[0;34m:\u001b[0m\u001b[0;34m\u001b[0m\u001b[0m\n\u001b[1;32m    255\u001b[0m         \u001b[0;32mraise\u001b[0m \u001b[0mValueError\u001b[0m\u001b[0;34m(\u001b[0m\u001b[0;34m\"%s is not supported\"\u001b[0m \u001b[0;34m%\u001b[0m \u001b[0my_type\u001b[0m\u001b[0;34m)\u001b[0m\u001b[0;34m\u001b[0m\u001b[0m\n",
      "\u001b[0;32m~/anaconda3/lib/python3.6/site-packages/sklearn/metrics/classification.py\u001b[0m in \u001b[0;36m_check_targets\u001b[0;34m(y_true, y_pred)\u001b[0m\n\u001b[1;32m     69\u001b[0m     \u001b[0my_pred\u001b[0m \u001b[0;34m:\u001b[0m \u001b[0marray\u001b[0m \u001b[0;32mor\u001b[0m \u001b[0mindicator\u001b[0m \u001b[0mmatrix\u001b[0m\u001b[0;34m\u001b[0m\u001b[0m\n\u001b[1;32m     70\u001b[0m     \"\"\"\n\u001b[0;32m---> 71\u001b[0;31m     \u001b[0mcheck_consistent_length\u001b[0m\u001b[0;34m(\u001b[0m\u001b[0my_true\u001b[0m\u001b[0;34m,\u001b[0m \u001b[0my_pred\u001b[0m\u001b[0;34m)\u001b[0m\u001b[0;34m\u001b[0m\u001b[0m\n\u001b[0m\u001b[1;32m     72\u001b[0m     \u001b[0mtype_true\u001b[0m \u001b[0;34m=\u001b[0m \u001b[0mtype_of_target\u001b[0m\u001b[0;34m(\u001b[0m\u001b[0my_true\u001b[0m\u001b[0;34m)\u001b[0m\u001b[0;34m\u001b[0m\u001b[0m\n\u001b[1;32m     73\u001b[0m     \u001b[0mtype_pred\u001b[0m \u001b[0;34m=\u001b[0m \u001b[0mtype_of_target\u001b[0m\u001b[0;34m(\u001b[0m\u001b[0my_pred\u001b[0m\u001b[0;34m)\u001b[0m\u001b[0;34m\u001b[0m\u001b[0m\n",
      "\u001b[0;32m~/anaconda3/lib/python3.6/site-packages/sklearn/utils/validation.py\u001b[0m in \u001b[0;36mcheck_consistent_length\u001b[0;34m(*arrays)\u001b[0m\n\u001b[1;32m    233\u001b[0m     \u001b[0;32mif\u001b[0m \u001b[0mlen\u001b[0m\u001b[0;34m(\u001b[0m\u001b[0muniques\u001b[0m\u001b[0;34m)\u001b[0m \u001b[0;34m>\u001b[0m \u001b[0;36m1\u001b[0m\u001b[0;34m:\u001b[0m\u001b[0;34m\u001b[0m\u001b[0m\n\u001b[1;32m    234\u001b[0m         raise ValueError(\"Found input variables with inconsistent numbers of\"\n\u001b[0;32m--> 235\u001b[0;31m                          \" samples: %r\" % [int(l) for l in lengths])\n\u001b[0m\u001b[1;32m    236\u001b[0m \u001b[0;34m\u001b[0m\u001b[0m\n\u001b[1;32m    237\u001b[0m \u001b[0;34m\u001b[0m\u001b[0m\n",
      "\u001b[0;31mValueError\u001b[0m: Found input variables with inconsistent numbers of samples: [51630, 41304]"
     ]
    }
   ],
   "source": [
    "cm = confusion_matrix(y_test, y_pred)\n",
    "accuracy_per_class = pd.DataFrame(((cm.astype('float') / cm.sum(axis=1)[:, np.newaxis]).diagonal())*100,\n",
    "                                 index=['failed', 'succeeded', 'surged'], columns=['accuracy_per_class'])\n",
    "print('Following is the accuracy per class:')\n",
    "accuracy_per_class"
   ]
  },
  {
   "cell_type": "code",
   "execution_count": 145,
   "metadata": {},
   "outputs": [
    {
     "name": "stdout",
     "output_type": "stream",
     "text": [
      "Following is the confusion matrix:\n"
     ]
    },
    {
     "ename": "NameError",
     "evalue": "name 'cm' is not defined",
     "output_type": "error",
     "traceback": [
      "\u001b[0;31m---------------------------------------------------------------------------\u001b[0m",
      "\u001b[0;31mNameError\u001b[0m                                 Traceback (most recent call last)",
      "\u001b[0;32m<ipython-input-145-42668d229b5c>\u001b[0m in \u001b[0;36m<module>\u001b[0;34m()\u001b[0m\n\u001b[1;32m      1\u001b[0m \u001b[0mprint\u001b[0m\u001b[0;34m(\u001b[0m\u001b[0;34m'Following is the confusion matrix:'\u001b[0m\u001b[0;34m)\u001b[0m\u001b[0;34m\u001b[0m\u001b[0m\n\u001b[0;32m----> 2\u001b[0;31m cm_df = pd.DataFrame(((cm.astype('float') / cm.sum(axis=1)[:, np.newaxis]))*100, index=['actual_failed', 'actual_succeeded', 'actual_surged'],\n\u001b[0m\u001b[1;32m      3\u001b[0m             columns=['predicted_failed', 'predicted_succeeded', 'predicted_surged'])\n\u001b[1;32m      4\u001b[0m \u001b[0mcm_df\u001b[0m\u001b[0;34m\u001b[0m\u001b[0m\n",
      "\u001b[0;31mNameError\u001b[0m: name 'cm' is not defined"
     ]
    }
   ],
   "source": [
    "print('Following is the confusion matrix:')\n",
    "cm_df = pd.DataFrame(((cm.astype('float') / cm.sum(axis=1)[:, np.newaxis]))*100, index=['actual_failed', 'actual_succeeded', 'actual_surged'],\n",
    "            columns=['predicted_failed', 'predicted_succeeded', 'predicted_surged'])\n",
    "cm_df"
   ]
  },
  {
   "cell_type": "code",
   "execution_count": 146,
   "metadata": {},
   "outputs": [
    {
     "name": "stdout",
     "output_type": "stream",
     "text": [
      "Test Accuracy: 0.8618438892116986\n",
      "Test Log_loss: 0.3292696080851943\n"
     ]
    }
   ],
   "source": [
    "y_pred = lgb_model.predict(X_test, num_iteration=lgb_model.best_iteration_)\n",
    "y_pred_proba = lgb_model.predict_proba(X_test, num_iteration=lgb_model.best_iteration_)\n",
    "print(\"Test Accuracy:\",metrics.accuracy_score(y_test, y_pred))\n",
    "print(\"Test Log_loss:\",metrics.log_loss(y_test, y_pred_proba))"
   ]
  },
  {
   "cell_type": "markdown",
   "metadata": {},
   "source": [
    "Model does not overfit"
   ]
  },
  {
   "cell_type": "markdown",
   "metadata": {},
   "source": [
    "### Test Model 3 w SMOTE of Surged Examples"
   ]
  },
  {
   "cell_type": "markdown",
   "metadata": {},
   "source": [
    "SMOTE only works with numerical data. So I will try only using numerical features to understand if it makes a difference in the accuracy"
   ]
  },
  {
   "cell_type": "markdown",
   "metadata": {},
   "source": [
    "I want to oversample the surged rows as there are consistently being misclassified with suceeded. To increase the accuracy of the model, I want to use an oversampling technique such as SMOTE to increase the accuracy of the model. Only numerical features are used. \n",
    "\n",
    "I have tried two approaches to oversampling. However, the code only shows one approach as I deleted the code\n",
    "\n",
    "\n",
    "**1)** Over sampling only the surged rows in the training data. I oversampled the surged rows in the training set from 26,818 to 50,000. This increased the accuracy of the training dataset from ~86% to ~88%. But, the testing accuracy dropped to ~83%.\n",
    "\n",
    "**2)** Over sampling all rows and classes. Training dataset grew from 206,516 to 378,915. The training and testing accuracy reduced from ~87% and ~87% to ~82% and ~83%."
   ]
  },
  {
   "cell_type": "code",
   "execution_count": 147,
   "metadata": {
    "scrolled": true
   },
   "outputs": [
    {
     "name": "stderr",
     "output_type": "stream",
     "text": [
      "/Users/joashc/anaconda3/lib/python3.6/site-packages/sklearn/preprocessing/data.py:323: DataConversionWarning: Data with input dtype int64, float64 were all converted to float64 by MinMaxScaler.\n",
      "  return self.partial_fit(X, y)\n"
     ]
    }
   ],
   "source": [
    "numeric_features = ['goal', 'backers', 'usd_goal_real', 'name_length',\n",
    "                   'name_num_words', 'launch_month', 'duration_launched_month',\n",
    "                   'launch_year', 'usd_goal_per_backer', 'deadline_year', 'deadline_month',\n",
    "                   'usd_goal_per_month', 'usd_goal_per_month_per_backer',\n",
    "                   'backers_per_month']\n",
    "\n",
    "y = data_v3['new_state']\n",
    "numerical_data = data_v3[numeric_features]\n",
    "scaler = MinMaxScaler()\n",
    "numerical_data_scaled = pd.DataFrame(scaler.fit_transform(numerical_data), columns = numerical_data.columns)"
   ]
  },
  {
   "cell_type": "code",
   "execution_count": 148,
   "metadata": {},
   "outputs": [
    {
     "name": "stdout",
     "output_type": "stream",
     "text": [
      "Shape of train & validation set is: (206516, 14)\n",
      "Shape of testing set is: (51630, 14)\n"
     ]
    }
   ],
   "source": [
    "X_data, X_test, y_data, y_test = train_test_split(numerical_data_scaled, y, test_size=0.2, random_state=42) #Updated\n",
    "print('Shape of train & validation set is:', X_data.shape)  \n",
    "print('Shape of testing set is:', X_test.shape)"
   ]
  },
  {
   "cell_type": "code",
   "execution_count": 149,
   "metadata": {},
   "outputs": [
    {
     "name": "stdout",
     "output_type": "stream",
     "text": [
      "Shape of train & validation set is: (165212, 14)\n",
      "Shape of testing set is: (41304, 14)\n"
     ]
    }
   ],
   "source": [
    "X_train, X_validate, y_train, y_validate = train_test_split(X_data, y_data, test_size=0.2, random_state=42) #Updated\n",
    "print('Shape of train & validation set is:', X_train.shape)  \n",
    "print('Shape of testing set is:', X_validate.shape)"
   ]
  },
  {
   "cell_type": "code",
   "execution_count": 150,
   "metadata": {},
   "outputs": [
    {
     "name": "stdout",
     "output_type": "stream",
     "text": [
      "length of oversampled data is  303027\n",
      "Number of no subscription in oversampled data 101009\n",
      "Number of subscription 101009\n",
      "Proportion of no subscription data in oversampled data is  0.3333333333333333\n",
      "Proportion of subscription data in oversampled data is  0.3333333333333333\n"
     ]
    }
   ],
   "source": [
    "os = SMOTE(random_state=0)\n",
    "os_data_X,os_data_y=os.fit_sample(X_train, y_train)\n",
    "os_data_X = pd.DataFrame(data=os_data_X,columns=X_train.columns)\n",
    "os_data_y= pd.DataFrame(data=os_data_y,columns=['new_state'])\n",
    "\n",
    "# we can Check the numbers of our data\n",
    "print(\"length of oversampled data is \",len(os_data_X))\n",
    "print(\"Number of no subscription in oversampled data\",len(os_data_y[os_data_y['new_state']==0]))\n",
    "print(\"Number of subscription\",len(os_data_y[os_data_y['new_state']==1]))\n",
    "print(\"Proportion of no subscription data in oversampled data is \",len(os_data_y[os_data_y['new_state']==0])/len(os_data_X))\n",
    "print(\"Proportion of subscription data in oversampled data is \",len(os_data_y[os_data_y['new_state']==1])/len(os_data_X))"
   ]
  },
  {
   "cell_type": "code",
   "execution_count": 151,
   "metadata": {
    "scrolled": true
   },
   "outputs": [
    {
     "name": "stderr",
     "output_type": "stream",
     "text": [
      "/Users/joashc/anaconda3/lib/python3.6/site-packages/sklearn/preprocessing/label.py:219: DataConversionWarning: A column-vector y was passed when a 1d array was expected. Please change the shape of y to (n_samples, ), for example using ravel().\n",
      "  y = column_or_1d(y, warn=True)\n",
      "/Users/joashc/anaconda3/lib/python3.6/site-packages/sklearn/preprocessing/label.py:252: DataConversionWarning: A column-vector y was passed when a 1d array was expected. Please change the shape of y to (n_samples, ), for example using ravel().\n",
      "  y = column_or_1d(y, warn=True)\n"
     ]
    },
    {
     "name": "stdout",
     "output_type": "stream",
     "text": [
      "[1]\tvalid_0's multi_logloss: 1.01283\n",
      "Training until validation scores don't improve for 200 rounds.\n",
      "[2]\tvalid_0's multi_logloss: 0.940144\n",
      "[3]\tvalid_0's multi_logloss: 0.877777\n",
      "[4]\tvalid_0's multi_logloss: 0.823838\n",
      "[5]\tvalid_0's multi_logloss: 0.776854\n",
      "[6]\tvalid_0's multi_logloss: 0.735675\n",
      "[7]\tvalid_0's multi_logloss: 0.699413\n",
      "[8]\tvalid_0's multi_logloss: 0.667469\n",
      "[9]\tvalid_0's multi_logloss: 0.639209\n",
      "[10]\tvalid_0's multi_logloss: 0.614088\n",
      "[11]\tvalid_0's multi_logloss: 0.591676\n",
      "[12]\tvalid_0's multi_logloss: 0.571719\n",
      "[13]\tvalid_0's multi_logloss: 0.553893\n",
      "[14]\tvalid_0's multi_logloss: 0.537916\n",
      "[15]\tvalid_0's multi_logloss: 0.523627\n",
      "[16]\tvalid_0's multi_logloss: 0.510806\n",
      "[17]\tvalid_0's multi_logloss: 0.499259\n",
      "[18]\tvalid_0's multi_logloss: 0.488889\n",
      "[19]\tvalid_0's multi_logloss: 0.479573\n",
      "[20]\tvalid_0's multi_logloss: 0.471142\n",
      "[21]\tvalid_0's multi_logloss: 0.463586\n",
      "[22]\tvalid_0's multi_logloss: 0.456733\n",
      "[23]\tvalid_0's multi_logloss: 0.450549\n",
      "[24]\tvalid_0's multi_logloss: 0.444943\n",
      "[25]\tvalid_0's multi_logloss: 0.439811\n",
      "[26]\tvalid_0's multi_logloss: 0.435223\n",
      "[27]\tvalid_0's multi_logloss: 0.43109\n",
      "[28]\tvalid_0's multi_logloss: 0.42732\n",
      "[29]\tvalid_0's multi_logloss: 0.423897\n",
      "[30]\tvalid_0's multi_logloss: 0.420734\n",
      "[31]\tvalid_0's multi_logloss: 0.417881\n",
      "[32]\tvalid_0's multi_logloss: 0.415244\n",
      "[33]\tvalid_0's multi_logloss: 0.412848\n",
      "[34]\tvalid_0's multi_logloss: 0.410638\n",
      "[35]\tvalid_0's multi_logloss: 0.408754\n",
      "[36]\tvalid_0's multi_logloss: 0.406969\n",
      "[37]\tvalid_0's multi_logloss: 0.405347\n",
      "[38]\tvalid_0's multi_logloss: 0.403764\n",
      "[39]\tvalid_0's multi_logloss: 0.402294\n",
      "[40]\tvalid_0's multi_logloss: 0.400973\n",
      "[41]\tvalid_0's multi_logloss: 0.399738\n",
      "[42]\tvalid_0's multi_logloss: 0.398727\n",
      "[43]\tvalid_0's multi_logloss: 0.397715\n",
      "[44]\tvalid_0's multi_logloss: 0.396915\n",
      "[45]\tvalid_0's multi_logloss: 0.39596\n",
      "[46]\tvalid_0's multi_logloss: 0.395115\n",
      "[47]\tvalid_0's multi_logloss: 0.394406\n",
      "[48]\tvalid_0's multi_logloss: 0.393775\n",
      "[49]\tvalid_0's multi_logloss: 0.393118\n",
      "[50]\tvalid_0's multi_logloss: 0.392629\n",
      "[51]\tvalid_0's multi_logloss: 0.392049\n",
      "[52]\tvalid_0's multi_logloss: 0.391522\n",
      "[53]\tvalid_0's multi_logloss: 0.390935\n",
      "[54]\tvalid_0's multi_logloss: 0.390328\n",
      "[55]\tvalid_0's multi_logloss: 0.389896\n",
      "[56]\tvalid_0's multi_logloss: 0.38944\n",
      "[57]\tvalid_0's multi_logloss: 0.38897\n",
      "[58]\tvalid_0's multi_logloss: 0.388677\n",
      "[59]\tvalid_0's multi_logloss: 0.388223\n",
      "[60]\tvalid_0's multi_logloss: 0.387765\n",
      "[61]\tvalid_0's multi_logloss: 0.387505\n",
      "[62]\tvalid_0's multi_logloss: 0.387153\n",
      "[63]\tvalid_0's multi_logloss: 0.38686\n",
      "[64]\tvalid_0's multi_logloss: 0.386629\n",
      "[65]\tvalid_0's multi_logloss: 0.38631\n",
      "[66]\tvalid_0's multi_logloss: 0.386078\n",
      "[67]\tvalid_0's multi_logloss: 0.3859\n",
      "[68]\tvalid_0's multi_logloss: 0.385707\n",
      "[69]\tvalid_0's multi_logloss: 0.385416\n",
      "[70]\tvalid_0's multi_logloss: 0.385173\n",
      "[71]\tvalid_0's multi_logloss: 0.384997\n",
      "[72]\tvalid_0's multi_logloss: 0.384847\n",
      "[73]\tvalid_0's multi_logloss: 0.38456\n",
      "[74]\tvalid_0's multi_logloss: 0.38439\n",
      "[75]\tvalid_0's multi_logloss: 0.384187\n",
      "[76]\tvalid_0's multi_logloss: 0.383975\n",
      "[77]\tvalid_0's multi_logloss: 0.383815\n",
      "[78]\tvalid_0's multi_logloss: 0.38365\n",
      "[79]\tvalid_0's multi_logloss: 0.383332\n",
      "[80]\tvalid_0's multi_logloss: 0.38321\n",
      "[81]\tvalid_0's multi_logloss: 0.383128\n",
      "[82]\tvalid_0's multi_logloss: 0.383002\n",
      "[83]\tvalid_0's multi_logloss: 0.382838\n",
      "[84]\tvalid_0's multi_logloss: 0.382574\n",
      "[85]\tvalid_0's multi_logloss: 0.382448\n",
      "[86]\tvalid_0's multi_logloss: 0.382355\n",
      "[87]\tvalid_0's multi_logloss: 0.382133\n",
      "[88]\tvalid_0's multi_logloss: 0.382027\n",
      "[89]\tvalid_0's multi_logloss: 0.381824\n",
      "[90]\tvalid_0's multi_logloss: 0.381709\n",
      "[91]\tvalid_0's multi_logloss: 0.381624\n",
      "[92]\tvalid_0's multi_logloss: 0.381437\n",
      "[93]\tvalid_0's multi_logloss: 0.381278\n",
      "[94]\tvalid_0's multi_logloss: 0.381103\n",
      "[95]\tvalid_0's multi_logloss: 0.380933\n",
      "[96]\tvalid_0's multi_logloss: 0.380898\n",
      "[97]\tvalid_0's multi_logloss: 0.38081\n",
      "[98]\tvalid_0's multi_logloss: 0.380669\n",
      "[99]\tvalid_0's multi_logloss: 0.380547\n",
      "[100]\tvalid_0's multi_logloss: 0.380486\n",
      "Did not meet early stopping. Best iteration is:\n",
      "[100]\tvalid_0's multi_logloss: 0.380486\n"
     ]
    },
    {
     "data": {
      "text/plain": [
       "LGBMClassifier(boosting_type='gbdt', class_weight=None, colsample_bytree=1.0,\n",
       "        importance_type='split', learning_rate=0.09, max_depth=10,\n",
       "        metric='multi_logloss', min_child_samples=20,\n",
       "        min_child_weight=0.001, min_split_gain=0.1, n_estimators=100,\n",
       "        n_jobs=4, num_class=3, num_leaves=80, objective='multiclass',\n",
       "        random_state=None, reg_alpha=0.5, reg_lambda=0.5, silent=True,\n",
       "        subsample=1.0, subsample_for_bin=200000, subsample_freq=0)"
      ]
     },
     "execution_count": 151,
     "metadata": {},
     "output_type": "execute_result"
    }
   ],
   "source": [
    "lgb_model_v2 = lgb.LGBMClassifier(**params, n_jobs=4)\n",
    "lgb_model_v2.fit(os_data_X, os_data_y, early_stopping_rounds=200, eval_set=(X_validate, y_validate), eval_metric='multi_logloss')"
   ]
  },
  {
   "cell_type": "code",
   "execution_count": 152,
   "metadata": {},
   "outputs": [
    {
     "name": "stdout",
     "output_type": "stream",
     "text": [
      "Train Accuracy: 0.8270946153313071\n",
      "Train Log_loss: 0.3996658688640294\n"
     ]
    }
   ],
   "source": [
    "y_train_pred = lgb_model_v2.predict(os_data_X, num_iteration=lgb_model_v2.best_iteration_)\n",
    "y_train_pred_proba = lgb_model_v2.predict_proba(os_data_X, num_iteration=lgb_model_v2.best_iteration_)\n",
    "print(\"Train Accuracy:\",metrics.accuracy_score(os_data_y, y_train_pred))\n",
    "print(\"Train Log_loss:\",metrics.log_loss(os_data_y, y_train_pred_proba))"
   ]
  },
  {
   "cell_type": "code",
   "execution_count": 153,
   "metadata": {},
   "outputs": [
    {
     "name": "stdout",
     "output_type": "stream",
     "text": [
      "Validation Accuracy: 0.8386112725159791\n",
      "Validation Log_loss: 0.3804861321403095\n"
     ]
    }
   ],
   "source": [
    "y_pred = lgb_model_v2.predict(X_validate, num_iteration=lgb_model_v2.best_iteration_)\n",
    "y_pred_proba = lgb_model_v2.predict_proba(X_validate, num_iteration=lgb_model_v2.best_iteration_)\n",
    "print(\"Validation Accuracy:\",metrics.accuracy_score(y_validate, y_pred))\n",
    "print(\"Validation Log_loss:\",metrics.log_loss(y_validate, y_pred_proba))"
   ]
  },
  {
   "cell_type": "code",
   "execution_count": 154,
   "metadata": {},
   "outputs": [
    {
     "name": "stdout",
     "output_type": "stream",
     "text": [
      "Test Accuracy: 0.8408677125702111\n",
      "Test Log_loss: 0.3753615477963626\n"
     ]
    }
   ],
   "source": [
    "y_pred = lgb_model_v2.predict(X_test, num_iteration=lgb_model_v2.best_iteration_)\n",
    "y_pred_proba = lgb_model_v2.predict_proba(X_test, num_iteration=lgb_model_v2.best_iteration_)\n",
    "print(\"Test Accuracy:\",metrics.accuracy_score(y_test, y_pred))\n",
    "print(\"Test Log_loss:\",metrics.log_loss(y_test, y_pred_proba))"
   ]
  },
  {
   "cell_type": "markdown",
   "metadata": {},
   "source": [
    "## Bayesian Optimization for Test Model Parameter Tuning"
   ]
  },
  {
   "cell_type": "code",
   "execution_count": 155,
   "metadata": {},
   "outputs": [],
   "source": [
    "numeric_features = ['goal', 'backers', 'usd_goal_real', 'name_length',\n",
    "                   'name_num_words', 'launch_month', 'duration_launched_month',\n",
    "                   'launch_year', 'usd_goal_per_backer', 'deadline_year', 'deadline_month',\n",
    "                   'usd_goal_per_month', 'usd_goal_per_month_per_backer',\n",
    "                   'backers_per_month']\n",
    "\n",
    "categorical_features = ['category', 'main_category', 'country', 'main_category-category']\n",
    "y = data_v3['new_state']"
   ]
  },
  {
   "cell_type": "code",
   "execution_count": 156,
   "metadata": {},
   "outputs": [
    {
     "name": "stderr",
     "output_type": "stream",
     "text": [
      "/Users/joashc/anaconda3/lib/python3.6/site-packages/sklearn/preprocessing/data.py:323: DataConversionWarning: Data with input dtype int64, float64 were all converted to float64 by MinMaxScaler.\n",
      "  return self.partial_fit(X, y)\n"
     ]
    }
   ],
   "source": [
    "numerical_data = data_v3[numeric_features]\n",
    "scaler = MinMaxScaler()\n",
    "numerical_data_scaled = pd.DataFrame(scaler.fit_transform(numerical_data), columns = numerical_data.columns)"
   ]
  },
  {
   "cell_type": "code",
   "execution_count": 157,
   "metadata": {},
   "outputs": [
    {
     "name": "stderr",
     "output_type": "stream",
     "text": [
      "/Users/joashc/anaconda3/lib/python3.6/site-packages/ipykernel_launcher.py:3: SettingWithCopyWarning: \n",
      "A value is trying to be set on a copy of a slice from a DataFrame.\n",
      "Try using .loc[row_indexer,col_indexer] = value instead\n",
      "\n",
      "See the caveats in the documentation: http://pandas.pydata.org/pandas-docs/stable/indexing.html#indexing-view-versus-copy\n",
      "  This is separate from the ipykernel package so we can avoid doing imports until\n"
     ]
    },
    {
     "data": {
      "text/plain": [
       "category                  category\n",
       "main_category             category\n",
       "country                   category\n",
       "main_category-category    category\n",
       "dtype: object"
      ]
     },
     "execution_count": 157,
     "metadata": {},
     "output_type": "execute_result"
    }
   ],
   "source": [
    "categorical_data = data_v3[categorical_features]\n",
    "for col in categorical_data.columns: \n",
    "     categorical_data[col] = categorical_data[col].astype('category')\n",
    "\n",
    "categorical_data.dtypes"
   ]
  },
  {
   "cell_type": "code",
   "execution_count": 158,
   "metadata": {},
   "outputs": [],
   "source": [
    "X_lgbm = pd.concat([numerical_data_scaled.reset_index(drop=True), categorical_data.reset_index(drop=True)], axis=1)"
   ]
  },
  {
   "cell_type": "code",
   "execution_count": 159,
   "metadata": {},
   "outputs": [
    {
     "name": "stdout",
     "output_type": "stream",
     "text": [
      "Shape of train & validation set is: (206516, 18)\n",
      "Shape of testing set is: (51630, 18)\n"
     ]
    }
   ],
   "source": [
    "X_data, X_test, y_data, y_test = train_test_split(X_lgbm, y, test_size=0.2, random_state=42) #Updated\n",
    "print('Shape of train & validation set is:', X_data.shape)  \n",
    "print('Shape of testing set is:', X_test.shape)"
   ]
  },
  {
   "cell_type": "code",
   "execution_count": 160,
   "metadata": {},
   "outputs": [
    {
     "name": "stdout",
     "output_type": "stream",
     "text": [
      "Shape of train & validation set is: (165212, 18)\n",
      "Shape of testing set is: (41304, 18)\n"
     ]
    }
   ],
   "source": [
    "X_train, X_validate, y_train, y_validate = train_test_split(X_data, y_data, test_size=0.2, random_state=42) #Updated\n",
    "print('Shape of train & validation set is:', X_train.shape)  \n",
    "print('Shape of testing set is:', X_validate.shape)"
   ]
  },
  {
   "cell_type": "code",
   "execution_count": 161,
   "metadata": {},
   "outputs": [],
   "source": [
    "def bayes_parameter_opt_lgb(X_train, y_train, X_validate, y_validate, init_round=1, opt_round=1):\n",
    "    \n",
    "    def lgb_apply(learning_rate, num_leaves, n_estimators, max_depth, \n",
    "                  lambda_l1, lambda_l2, min_split_gain, min_child_weight):\n",
    "        \n",
    "        params = {'boosting_type': 'gbdt', 'objective':'multiclass', 'num_class':3}\n",
    "        params[\"learning_rate\"] = learning_rate\n",
    "        params[\"num_leaves\"] = int(round(num_leaves))\n",
    "        params[\"n_estimators\"] = int(math.ceil(n_estimators/100)) * 100\n",
    "        params['max_depth'] = int(round(max_depth))\n",
    "        params['reg_alpha'] = max(lambda_l1, 0)\n",
    "        params['reg_lambda'] = max(lambda_l2, 0)\n",
    "        params['min_split_gain'] = min_split_gain\n",
    "        params['min_child_weight'] = int(math.ceil(min_child_weight/100)) * 100\n",
    "        \n",
    "        lgb_model = lgb.LGBMClassifier(**params, n_jobs=4)\n",
    "        lgb_model.fit(X_train, y_train, early_stopping_rounds=200, \n",
    "                      eval_set=(X_test, y_test), \n",
    "                      eval_metric='multi_logloss')\n",
    "        \n",
    "        y_pred = lgb_model.predict(X_test, num_iteration=lgb_model.best_iteration_)\n",
    "        \n",
    "        return metrics.accuracy_score(y_test, y_pred)\n",
    "    \n",
    "    \n",
    "    lgb_bayesian_params = BayesianOptimization(lgb_apply, pbounds={'learning_rate': (0.1, 0.9), \n",
    "                                                       'n_estimators': (400,1000), \n",
    "                                                       'num_leaves': (400, 1000),\n",
    "                                                       'max_depth': (60, 100),\n",
    "                                                       'lambda_l1': (0.1, 1.0),\n",
    "                                                       'lambda_l2': (0.1, 4.0),\n",
    "                                                       'min_split_gain': (0.1, 0.4),\n",
    "                                                       'min_child_weight': (200,500)})\n",
    "    \n",
    "    lgb_bayesian_params.maximize(init_points=int(init_round), n_iter=int(opt_round))\n",
    "#     lgb_bayesian_params.to_csv(\"~/data/bayes_opt_result.csv\")\n",
    "    return lgb_bayesian_params\n",
    "#     return lgb_bayesian_params.res['max']['max_params']\n",
    "    "
   ]
  },
  {
   "cell_type": "code",
   "execution_count": 162,
   "metadata": {
    "scrolled": true
   },
   "outputs": [
    {
     "name": "stdout",
     "output_type": "stream",
     "text": [
      "\u001b[31mInitialization\u001b[0m\n",
      "\u001b[94m-----------------------------------------------------------------------------------------------------------------------------------------------------------------\u001b[0m\n",
      " Step |   Time |      Value |   lambda_l1 |   lambda_l2 |   learning_rate |   max_depth |   min_child_weight |   min_split_gain |   n_estimators |   num_leaves | \n",
      "[1]\tvalid_0's multi_logloss: 0.544274\tvalid_0's multi_logloss: 0.544274\n",
      "Training until validation scores don't improve for 200 rounds.\n",
      "[2]\tvalid_0's multi_logloss: 0.419088\tvalid_0's multi_logloss: 0.419088\n",
      "[3]\tvalid_0's multi_logloss: 0.370757\tvalid_0's multi_logloss: 0.370757\n",
      "[4]\tvalid_0's multi_logloss: 0.350347\tvalid_0's multi_logloss: 0.350347\n",
      "[5]\tvalid_0's multi_logloss: 0.341104\tvalid_0's multi_logloss: 0.341104\n",
      "[6]\tvalid_0's multi_logloss: 0.337107\tvalid_0's multi_logloss: 0.337107\n",
      "[7]\tvalid_0's multi_logloss: 0.335541\tvalid_0's multi_logloss: 0.335541\n",
      "[8]\tvalid_0's multi_logloss: 0.334605\tvalid_0's multi_logloss: 0.334605\n",
      "[9]\tvalid_0's multi_logloss: 0.334437\tvalid_0's multi_logloss: 0.334437\n",
      "[10]\tvalid_0's multi_logloss: 0.334345\tvalid_0's multi_logloss: 0.334345\n",
      "[11]\tvalid_0's multi_logloss: 0.333956\tvalid_0's multi_logloss: 0.333956\n",
      "[12]\tvalid_0's multi_logloss: 0.334032\tvalid_0's multi_logloss: 0.334032\n",
      "[13]\tvalid_0's multi_logloss: 0.33405\tvalid_0's multi_logloss: 0.33405\n",
      "[14]\tvalid_0's multi_logloss: 0.334164\tvalid_0's multi_logloss: 0.334164\n",
      "[15]\tvalid_0's multi_logloss: 0.334476\tvalid_0's multi_logloss: 0.334476\n",
      "[16]\tvalid_0's multi_logloss: 0.334817\tvalid_0's multi_logloss: 0.334817\n",
      "[17]\tvalid_0's multi_logloss: 0.33506\tvalid_0's multi_logloss: 0.33506\n",
      "[18]\tvalid_0's multi_logloss: 0.335103\tvalid_0's multi_logloss: 0.335103\n",
      "[19]\tvalid_0's multi_logloss: 0.335346\tvalid_0's multi_logloss: 0.335346\n",
      "[20]\tvalid_0's multi_logloss: 0.335508\tvalid_0's multi_logloss: 0.335508\n",
      "[21]\tvalid_0's multi_logloss: 0.33533\tvalid_0's multi_logloss: 0.33533\n",
      "[22]\tvalid_0's multi_logloss: 0.33566\tvalid_0's multi_logloss: 0.33566\n",
      "[23]\tvalid_0's multi_logloss: 0.335593\tvalid_0's multi_logloss: 0.335593\n",
      "[24]\tvalid_0's multi_logloss: 0.33583\tvalid_0's multi_logloss: 0.33583\n",
      "[25]\tvalid_0's multi_logloss: 0.336052\tvalid_0's multi_logloss: 0.336052\n",
      "[26]\tvalid_0's multi_logloss: 0.336162\tvalid_0's multi_logloss: 0.336162\n",
      "[27]\tvalid_0's multi_logloss: 0.336436\tvalid_0's multi_logloss: 0.336436\n",
      "[28]\tvalid_0's multi_logloss: 0.336705\tvalid_0's multi_logloss: 0.336705\n",
      "[29]\tvalid_0's multi_logloss: 0.336948\tvalid_0's multi_logloss: 0.336948\n",
      "[30]\tvalid_0's multi_logloss: 0.336927\tvalid_0's multi_logloss: 0.336927\n",
      "[31]\tvalid_0's multi_logloss: 0.337132\tvalid_0's multi_logloss: 0.337132\n",
      "[32]\tvalid_0's multi_logloss: 0.337213\tvalid_0's multi_logloss: 0.337213\n",
      "[33]\tvalid_0's multi_logloss: 0.337663\tvalid_0's multi_logloss: 0.337663\n",
      "[34]\tvalid_0's multi_logloss: 0.337797\tvalid_0's multi_logloss: 0.337797\n",
      "[35]\tvalid_0's multi_logloss: 0.338015\tvalid_0's multi_logloss: 0.338015\n",
      "[36]\tvalid_0's multi_logloss: 0.338257\tvalid_0's multi_logloss: 0.338257\n",
      "[37]\tvalid_0's multi_logloss: 0.338374\tvalid_0's multi_logloss: 0.338374\n",
      "[38]\tvalid_0's multi_logloss: 0.338468\tvalid_0's multi_logloss: 0.338468\n",
      "[39]\tvalid_0's multi_logloss: 0.338649\tvalid_0's multi_logloss: 0.338649\n",
      "[40]\tvalid_0's multi_logloss: 0.338843\tvalid_0's multi_logloss: 0.338843\n",
      "[41]\tvalid_0's multi_logloss: 0.338812\tvalid_0's multi_logloss: 0.338812\n",
      "[42]\tvalid_0's multi_logloss: 0.339028\tvalid_0's multi_logloss: 0.339028\n",
      "[43]\tvalid_0's multi_logloss: 0.339224\tvalid_0's multi_logloss: 0.339224\n",
      "[44]\tvalid_0's multi_logloss: 0.339446\tvalid_0's multi_logloss: 0.339446\n",
      "[45]\tvalid_0's multi_logloss: 0.339646\tvalid_0's multi_logloss: 0.339646\n",
      "[46]\tvalid_0's multi_logloss: 0.339757\tvalid_0's multi_logloss: 0.339757\n",
      "[47]\tvalid_0's multi_logloss: 0.340042\tvalid_0's multi_logloss: 0.340042\n",
      "[48]\tvalid_0's multi_logloss: 0.340295\tvalid_0's multi_logloss: 0.340295\n",
      "[49]\tvalid_0's multi_logloss: 0.340597\tvalid_0's multi_logloss: 0.340597\n",
      "[50]\tvalid_0's multi_logloss: 0.340678\tvalid_0's multi_logloss: 0.340678\n",
      "[51]\tvalid_0's multi_logloss: 0.341037\tvalid_0's multi_logloss: 0.341037\n",
      "[52]\tvalid_0's multi_logloss: 0.341253\tvalid_0's multi_logloss: 0.341253\n",
      "[53]\tvalid_0's multi_logloss: 0.341469\tvalid_0's multi_logloss: 0.341469\n",
      "[54]\tvalid_0's multi_logloss: 0.341696\tvalid_0's multi_logloss: 0.341696\n",
      "[55]\tvalid_0's multi_logloss: 0.341807\tvalid_0's multi_logloss: 0.341807\n",
      "[56]\tvalid_0's multi_logloss: 0.341828\tvalid_0's multi_logloss: 0.341828\n",
      "[57]\tvalid_0's multi_logloss: 0.342\tvalid_0's multi_logloss: 0.342\n",
      "[58]\tvalid_0's multi_logloss: 0.342225\tvalid_0's multi_logloss: 0.342225\n",
      "[59]\tvalid_0's multi_logloss: 0.342436\tvalid_0's multi_logloss: 0.342436\n",
      "[60]\tvalid_0's multi_logloss: 0.342649\tvalid_0's multi_logloss: 0.342649\n",
      "[61]\tvalid_0's multi_logloss: 0.342747\tvalid_0's multi_logloss: 0.342747\n",
      "[62]\tvalid_0's multi_logloss: 0.342835\tvalid_0's multi_logloss: 0.342835\n",
      "[63]\tvalid_0's multi_logloss: 0.343165\tvalid_0's multi_logloss: 0.343165\n",
      "[64]\tvalid_0's multi_logloss: 0.343295\tvalid_0's multi_logloss: 0.343295\n",
      "[65]\tvalid_0's multi_logloss: 0.343432\tvalid_0's multi_logloss: 0.343432\n",
      "[66]\tvalid_0's multi_logloss: 0.343485\tvalid_0's multi_logloss: 0.343485\n",
      "[67]\tvalid_0's multi_logloss: 0.343526\tvalid_0's multi_logloss: 0.343526\n",
      "[68]\tvalid_0's multi_logloss: 0.34351\tvalid_0's multi_logloss: 0.34351\n",
      "[69]\tvalid_0's multi_logloss: 0.343687\tvalid_0's multi_logloss: 0.343687\n",
      "[70]\tvalid_0's multi_logloss: 0.343908\tvalid_0's multi_logloss: 0.343908\n",
      "[71]\tvalid_0's multi_logloss: 0.344158\tvalid_0's multi_logloss: 0.344158\n",
      "[72]\tvalid_0's multi_logloss: 0.344379\tvalid_0's multi_logloss: 0.344379\n",
      "[73]\tvalid_0's multi_logloss: 0.344421\tvalid_0's multi_logloss: 0.344421\n",
      "[74]\tvalid_0's multi_logloss: 0.344539\tvalid_0's multi_logloss: 0.344539\n",
      "[75]\tvalid_0's multi_logloss: 0.344602\tvalid_0's multi_logloss: 0.344602\n",
      "[76]\tvalid_0's multi_logloss: 0.344682\tvalid_0's multi_logloss: 0.344682\n",
      "[77]\tvalid_0's multi_logloss: 0.344875\tvalid_0's multi_logloss: 0.344875\n",
      "[78]\tvalid_0's multi_logloss: 0.345075\tvalid_0's multi_logloss: 0.345075\n",
      "[79]\tvalid_0's multi_logloss: 0.345177\tvalid_0's multi_logloss: 0.345177\n",
      "[80]\tvalid_0's multi_logloss: 0.345514\tvalid_0's multi_logloss: 0.345514\n",
      "[81]\tvalid_0's multi_logloss: 0.345613\tvalid_0's multi_logloss: 0.345613\n",
      "[82]\tvalid_0's multi_logloss: 0.345703\tvalid_0's multi_logloss: 0.345703\n",
      "[83]\tvalid_0's multi_logloss: 0.345922\tvalid_0's multi_logloss: 0.345922\n",
      "[84]\tvalid_0's multi_logloss: 0.346069\tvalid_0's multi_logloss: 0.346069\n",
      "[85]\tvalid_0's multi_logloss: 0.346195\tvalid_0's multi_logloss: 0.346195\n",
      "[86]\tvalid_0's multi_logloss: 0.346312\tvalid_0's multi_logloss: 0.346312\n",
      "[87]\tvalid_0's multi_logloss: 0.346594\tvalid_0's multi_logloss: 0.346594\n",
      "[88]\tvalid_0's multi_logloss: 0.34669\tvalid_0's multi_logloss: 0.34669\n",
      "[89]\tvalid_0's multi_logloss: 0.346829\tvalid_0's multi_logloss: 0.346829\n",
      "[90]\tvalid_0's multi_logloss: 0.346983\tvalid_0's multi_logloss: 0.346983\n",
      "[91]\tvalid_0's multi_logloss: 0.347036\tvalid_0's multi_logloss: 0.347036\n",
      "[92]\tvalid_0's multi_logloss: 0.347125\tvalid_0's multi_logloss: 0.347125\n",
      "[93]\tvalid_0's multi_logloss: 0.347297\tvalid_0's multi_logloss: 0.347297\n",
      "[94]\tvalid_0's multi_logloss: 0.347451\tvalid_0's multi_logloss: 0.347451\n",
      "[95]\tvalid_0's multi_logloss: 0.347728\tvalid_0's multi_logloss: 0.347728\n",
      "[96]\tvalid_0's multi_logloss: 0.347911\tvalid_0's multi_logloss: 0.347911\n",
      "[97]\tvalid_0's multi_logloss: 0.348147\tvalid_0's multi_logloss: 0.348147\n",
      "[98]\tvalid_0's multi_logloss: 0.348269\tvalid_0's multi_logloss: 0.348269\n",
      "[99]\tvalid_0's multi_logloss: 0.348403\tvalid_0's multi_logloss: 0.348403\n",
      "[100]\tvalid_0's multi_logloss: 0.348471\tvalid_0's multi_logloss: 0.348471\n",
      "[101]\tvalid_0's multi_logloss: 0.348656\tvalid_0's multi_logloss: 0.348656\n",
      "[102]\tvalid_0's multi_logloss: 0.348874\tvalid_0's multi_logloss: 0.348874\n",
      "[103]\tvalid_0's multi_logloss: 0.349028\tvalid_0's multi_logloss: 0.349028\n",
      "[104]\tvalid_0's multi_logloss: 0.349216\tvalid_0's multi_logloss: 0.349216\n",
      "[105]\tvalid_0's multi_logloss: 0.34935\tvalid_0's multi_logloss: 0.34935\n",
      "[106]\tvalid_0's multi_logloss: 0.349506\tvalid_0's multi_logloss: 0.349506\n",
      "[107]\tvalid_0's multi_logloss: 0.349788\tvalid_0's multi_logloss: 0.349788\n",
      "[108]\tvalid_0's multi_logloss: 0.349833\tvalid_0's multi_logloss: 0.349833\n",
      "[109]\tvalid_0's multi_logloss: 0.350042\tvalid_0's multi_logloss: 0.350042\n",
      "[110]\tvalid_0's multi_logloss: 0.35009\tvalid_0's multi_logloss: 0.35009\n",
      "[111]\tvalid_0's multi_logloss: 0.350173\tvalid_0's multi_logloss: 0.350173\n"
     ]
    },
    {
     "name": "stdout",
     "output_type": "stream",
     "text": [
      "[112]\tvalid_0's multi_logloss: 0.350241\tvalid_0's multi_logloss: 0.350241\n",
      "[113]\tvalid_0's multi_logloss: 0.350443\tvalid_0's multi_logloss: 0.350443\n",
      "[114]\tvalid_0's multi_logloss: 0.350399\tvalid_0's multi_logloss: 0.350399\n",
      "[115]\tvalid_0's multi_logloss: 0.350669\tvalid_0's multi_logloss: 0.350669\n",
      "[116]\tvalid_0's multi_logloss: 0.350746\tvalid_0's multi_logloss: 0.350746\n",
      "[117]\tvalid_0's multi_logloss: 0.350929\tvalid_0's multi_logloss: 0.350929\n",
      "[118]\tvalid_0's multi_logloss: 0.351011\tvalid_0's multi_logloss: 0.351011\n",
      "[119]\tvalid_0's multi_logloss: 0.35116\tvalid_0's multi_logloss: 0.35116\n",
      "[120]\tvalid_0's multi_logloss: 0.351344\tvalid_0's multi_logloss: 0.351344\n",
      "[121]\tvalid_0's multi_logloss: 0.351541\tvalid_0's multi_logloss: 0.351541\n",
      "[122]\tvalid_0's multi_logloss: 0.351732\tvalid_0's multi_logloss: 0.351732\n",
      "[123]\tvalid_0's multi_logloss: 0.35184\tvalid_0's multi_logloss: 0.35184\n",
      "[124]\tvalid_0's multi_logloss: 0.352062\tvalid_0's multi_logloss: 0.352062\n",
      "[125]\tvalid_0's multi_logloss: 0.352108\tvalid_0's multi_logloss: 0.352108\n",
      "[126]\tvalid_0's multi_logloss: 0.352098\tvalid_0's multi_logloss: 0.352098\n",
      "[127]\tvalid_0's multi_logloss: 0.352305\tvalid_0's multi_logloss: 0.352305\n",
      "[128]\tvalid_0's multi_logloss: 0.352563\tvalid_0's multi_logloss: 0.352563\n",
      "[129]\tvalid_0's multi_logloss: 0.352679\tvalid_0's multi_logloss: 0.352679\n",
      "[130]\tvalid_0's multi_logloss: 0.352831\tvalid_0's multi_logloss: 0.352831\n",
      "[131]\tvalid_0's multi_logloss: 0.353017\tvalid_0's multi_logloss: 0.353017\n",
      "[132]\tvalid_0's multi_logloss: 0.353126\tvalid_0's multi_logloss: 0.353126\n",
      "[133]\tvalid_0's multi_logloss: 0.353326\tvalid_0's multi_logloss: 0.353326\n",
      "[134]\tvalid_0's multi_logloss: 0.353381\tvalid_0's multi_logloss: 0.353381\n",
      "[135]\tvalid_0's multi_logloss: 0.353666\tvalid_0's multi_logloss: 0.353666\n",
      "[136]\tvalid_0's multi_logloss: 0.353695\tvalid_0's multi_logloss: 0.353695\n",
      "[137]\tvalid_0's multi_logloss: 0.353834\tvalid_0's multi_logloss: 0.353834\n",
      "[138]\tvalid_0's multi_logloss: 0.35389\tvalid_0's multi_logloss: 0.35389\n",
      "[139]\tvalid_0's multi_logloss: 0.354123\tvalid_0's multi_logloss: 0.354123\n",
      "[140]\tvalid_0's multi_logloss: 0.354277\tvalid_0's multi_logloss: 0.354277\n",
      "[141]\tvalid_0's multi_logloss: 0.354356\tvalid_0's multi_logloss: 0.354356\n",
      "[142]\tvalid_0's multi_logloss: 0.354454\tvalid_0's multi_logloss: 0.354454\n",
      "[143]\tvalid_0's multi_logloss: 0.354653\tvalid_0's multi_logloss: 0.354653\n",
      "[144]\tvalid_0's multi_logloss: 0.354728\tvalid_0's multi_logloss: 0.354728\n",
      "[145]\tvalid_0's multi_logloss: 0.354926\tvalid_0's multi_logloss: 0.354926\n",
      "[146]\tvalid_0's multi_logloss: 0.354994\tvalid_0's multi_logloss: 0.354994\n",
      "[147]\tvalid_0's multi_logloss: 0.355135\tvalid_0's multi_logloss: 0.355135\n",
      "[148]\tvalid_0's multi_logloss: 0.355442\tvalid_0's multi_logloss: 0.355442\n",
      "[149]\tvalid_0's multi_logloss: 0.355497\tvalid_0's multi_logloss: 0.355497\n",
      "[150]\tvalid_0's multi_logloss: 0.355622\tvalid_0's multi_logloss: 0.355622\n",
      "[151]\tvalid_0's multi_logloss: 0.355668\tvalid_0's multi_logloss: 0.355668\n",
      "[152]\tvalid_0's multi_logloss: 0.355748\tvalid_0's multi_logloss: 0.355748\n",
      "[153]\tvalid_0's multi_logloss: 0.355939\tvalid_0's multi_logloss: 0.355939\n",
      "[154]\tvalid_0's multi_logloss: 0.356129\tvalid_0's multi_logloss: 0.356129\n",
      "[155]\tvalid_0's multi_logloss: 0.356335\tvalid_0's multi_logloss: 0.356335\n",
      "[156]\tvalid_0's multi_logloss: 0.356437\tvalid_0's multi_logloss: 0.356437\n",
      "[157]\tvalid_0's multi_logloss: 0.356666\tvalid_0's multi_logloss: 0.356666\n",
      "[158]\tvalid_0's multi_logloss: 0.356911\tvalid_0's multi_logloss: 0.356911\n",
      "[159]\tvalid_0's multi_logloss: 0.35693\tvalid_0's multi_logloss: 0.35693\n",
      "[160]\tvalid_0's multi_logloss: 0.356992\tvalid_0's multi_logloss: 0.356992\n",
      "[161]\tvalid_0's multi_logloss: 0.357145\tvalid_0's multi_logloss: 0.357145\n",
      "[162]\tvalid_0's multi_logloss: 0.357235\tvalid_0's multi_logloss: 0.357235\n",
      "[163]\tvalid_0's multi_logloss: 0.357284\tvalid_0's multi_logloss: 0.357284\n",
      "[164]\tvalid_0's multi_logloss: 0.357299\tvalid_0's multi_logloss: 0.357299\n",
      "[165]\tvalid_0's multi_logloss: 0.357338\tvalid_0's multi_logloss: 0.357338\n",
      "[166]\tvalid_0's multi_logloss: 0.357358\tvalid_0's multi_logloss: 0.357358\n",
      "[167]\tvalid_0's multi_logloss: 0.357487\tvalid_0's multi_logloss: 0.357487\n",
      "[168]\tvalid_0's multi_logloss: 0.357564\tvalid_0's multi_logloss: 0.357564\n",
      "[169]\tvalid_0's multi_logloss: 0.357659\tvalid_0's multi_logloss: 0.357659\n",
      "[170]\tvalid_0's multi_logloss: 0.357796\tvalid_0's multi_logloss: 0.357796\n",
      "[171]\tvalid_0's multi_logloss: 0.357887\tvalid_0's multi_logloss: 0.357887\n",
      "[172]\tvalid_0's multi_logloss: 0.357989\tvalid_0's multi_logloss: 0.357989\n",
      "[173]\tvalid_0's multi_logloss: 0.358063\tvalid_0's multi_logloss: 0.358063\n",
      "[174]\tvalid_0's multi_logloss: 0.358091\tvalid_0's multi_logloss: 0.358091\n",
      "[175]\tvalid_0's multi_logloss: 0.358254\tvalid_0's multi_logloss: 0.358254\n",
      "[176]\tvalid_0's multi_logloss: 0.358372\tvalid_0's multi_logloss: 0.358372\n",
      "[177]\tvalid_0's multi_logloss: 0.358595\tvalid_0's multi_logloss: 0.358595\n",
      "[178]\tvalid_0's multi_logloss: 0.358628\tvalid_0's multi_logloss: 0.358628\n",
      "[179]\tvalid_0's multi_logloss: 0.358686\tvalid_0's multi_logloss: 0.358686\n",
      "[180]\tvalid_0's multi_logloss: 0.358771\tvalid_0's multi_logloss: 0.358771\n",
      "[181]\tvalid_0's multi_logloss: 0.358801\tvalid_0's multi_logloss: 0.358801\n",
      "[182]\tvalid_0's multi_logloss: 0.358763\tvalid_0's multi_logloss: 0.358763\n",
      "[183]\tvalid_0's multi_logloss: 0.358858\tvalid_0's multi_logloss: 0.358858\n",
      "[184]\tvalid_0's multi_logloss: 0.358911\tvalid_0's multi_logloss: 0.358911\n",
      "[185]\tvalid_0's multi_logloss: 0.359049\tvalid_0's multi_logloss: 0.359049\n",
      "[186]\tvalid_0's multi_logloss: 0.35911\tvalid_0's multi_logloss: 0.35911\n",
      "[187]\tvalid_0's multi_logloss: 0.359166\tvalid_0's multi_logloss: 0.359166\n",
      "[188]\tvalid_0's multi_logloss: 0.359231\tvalid_0's multi_logloss: 0.359231\n",
      "[189]\tvalid_0's multi_logloss: 0.359306\tvalid_0's multi_logloss: 0.359306\n",
      "[190]\tvalid_0's multi_logloss: 0.359391\tvalid_0's multi_logloss: 0.359391\n",
      "[191]\tvalid_0's multi_logloss: 0.359413\tvalid_0's multi_logloss: 0.359413\n",
      "[192]\tvalid_0's multi_logloss: 0.359584\tvalid_0's multi_logloss: 0.359584\n",
      "[193]\tvalid_0's multi_logloss: 0.359733\tvalid_0's multi_logloss: 0.359733\n",
      "[194]\tvalid_0's multi_logloss: 0.359742\tvalid_0's multi_logloss: 0.359742\n",
      "[195]\tvalid_0's multi_logloss: 0.359799\tvalid_0's multi_logloss: 0.359799\n",
      "[196]\tvalid_0's multi_logloss: 0.359836\tvalid_0's multi_logloss: 0.359836\n",
      "[197]\tvalid_0's multi_logloss: 0.359846\tvalid_0's multi_logloss: 0.359846\n",
      "[198]\tvalid_0's multi_logloss: 0.359958\tvalid_0's multi_logloss: 0.359958\n",
      "[199]\tvalid_0's multi_logloss: 0.359964\tvalid_0's multi_logloss: 0.359964\n",
      "[200]\tvalid_0's multi_logloss: 0.359969\tvalid_0's multi_logloss: 0.359969\n",
      "[201]\tvalid_0's multi_logloss: 0.359957\tvalid_0's multi_logloss: 0.359957\n",
      "[202]\tvalid_0's multi_logloss: 0.359952\tvalid_0's multi_logloss: 0.359952\n",
      "[203]\tvalid_0's multi_logloss: 0.359926\tvalid_0's multi_logloss: 0.359926\n",
      "[204]\tvalid_0's multi_logloss: 0.359926\tvalid_0's multi_logloss: 0.359926\n",
      "[205]\tvalid_0's multi_logloss: 0.359926\tvalid_0's multi_logloss: 0.359926\n",
      "[206]\tvalid_0's multi_logloss: 0.359926\tvalid_0's multi_logloss: 0.359926\n",
      "[207]\tvalid_0's multi_logloss: 0.359926\tvalid_0's multi_logloss: 0.359926\n",
      "[208]\tvalid_0's multi_logloss: 0.359926\tvalid_0's multi_logloss: 0.359926\n",
      "[209]\tvalid_0's multi_logloss: 0.359926\tvalid_0's multi_logloss: 0.359926\n",
      "[210]\tvalid_0's multi_logloss: 0.359926\tvalid_0's multi_logloss: 0.359926\n",
      "[211]\tvalid_0's multi_logloss: 0.359926\tvalid_0's multi_logloss: 0.359926\n",
      "Early stopping, best iteration is:\n",
      "[11]\tvalid_0's multi_logloss: 0.333956\tvalid_0's multi_logloss: 0.333956\n",
      "    1 | 00m09s | \u001b[35m   0.86060\u001b[0m | \u001b[32m     0.1749\u001b[0m | \u001b[32m     0.5100\u001b[0m | \u001b[32m         0.7752\u001b[0m | \u001b[32m    99.4704\u001b[0m | \u001b[32m          389.5666\u001b[0m | \u001b[32m          0.1053\u001b[0m | \u001b[32m      971.5627\u001b[0m | \u001b[32m    509.3642\u001b[0m | \n",
      "\u001b[31mBayesian Optimization\u001b[0m\n",
      "\u001b[94m-----------------------------------------------------------------------------------------------------------------------------------------------------------------\u001b[0m\n",
      " Step |   Time |      Value |   lambda_l1 |   lambda_l2 |   learning_rate |   max_depth |   min_child_weight |   min_split_gain |   n_estimators |   num_leaves | \n",
      "[1]\tvalid_0's multi_logloss: 0.517506\tvalid_0's multi_logloss: 0.517506\n",
      "Training until validation scores don't improve for 200 rounds.\n",
      "[2]\tvalid_0's multi_logloss: 0.403627\tvalid_0's multi_logloss: 0.403627\n",
      "[3]\tvalid_0's multi_logloss: 0.362812\tvalid_0's multi_logloss: 0.362812\n",
      "[4]\tvalid_0's multi_logloss: 0.346565\tvalid_0's multi_logloss: 0.346565\n",
      "[5]\tvalid_0's multi_logloss: 0.33913\tvalid_0's multi_logloss: 0.33913\n"
     ]
    },
    {
     "name": "stdout",
     "output_type": "stream",
     "text": [
      "[6]\tvalid_0's multi_logloss: 0.336385\tvalid_0's multi_logloss: 0.336385\n",
      "[7]\tvalid_0's multi_logloss: 0.335547\tvalid_0's multi_logloss: 0.335547\n",
      "[8]\tvalid_0's multi_logloss: 0.335388\tvalid_0's multi_logloss: 0.335388\n",
      "[9]\tvalid_0's multi_logloss: 0.335055\tvalid_0's multi_logloss: 0.335055\n",
      "[10]\tvalid_0's multi_logloss: 0.335145\tvalid_0's multi_logloss: 0.335145\n",
      "[11]\tvalid_0's multi_logloss: 0.334957\tvalid_0's multi_logloss: 0.334957\n",
      "[12]\tvalid_0's multi_logloss: 0.334864\tvalid_0's multi_logloss: 0.334864\n",
      "[13]\tvalid_0's multi_logloss: 0.334969\tvalid_0's multi_logloss: 0.334969\n",
      "[14]\tvalid_0's multi_logloss: 0.335182\tvalid_0's multi_logloss: 0.335182\n",
      "[15]\tvalid_0's multi_logloss: 0.335523\tvalid_0's multi_logloss: 0.335523\n",
      "[16]\tvalid_0's multi_logloss: 0.335531\tvalid_0's multi_logloss: 0.335531\n",
      "[17]\tvalid_0's multi_logloss: 0.335371\tvalid_0's multi_logloss: 0.335371\n",
      "[18]\tvalid_0's multi_logloss: 0.335497\tvalid_0's multi_logloss: 0.335497\n",
      "[19]\tvalid_0's multi_logloss: 0.335715\tvalid_0's multi_logloss: 0.335715\n",
      "[20]\tvalid_0's multi_logloss: 0.335533\tvalid_0's multi_logloss: 0.335533\n",
      "[21]\tvalid_0's multi_logloss: 0.335594\tvalid_0's multi_logloss: 0.335594\n",
      "[22]\tvalid_0's multi_logloss: 0.335873\tvalid_0's multi_logloss: 0.335873\n",
      "[23]\tvalid_0's multi_logloss: 0.336005\tvalid_0's multi_logloss: 0.336005\n",
      "[24]\tvalid_0's multi_logloss: 0.33618\tvalid_0's multi_logloss: 0.33618\n",
      "[25]\tvalid_0's multi_logloss: 0.336564\tvalid_0's multi_logloss: 0.336564\n",
      "[26]\tvalid_0's multi_logloss: 0.336855\tvalid_0's multi_logloss: 0.336855\n",
      "[27]\tvalid_0's multi_logloss: 0.337025\tvalid_0's multi_logloss: 0.337025\n",
      "[28]\tvalid_0's multi_logloss: 0.337298\tvalid_0's multi_logloss: 0.337298\n",
      "[29]\tvalid_0's multi_logloss: 0.337464\tvalid_0's multi_logloss: 0.337464\n",
      "[30]\tvalid_0's multi_logloss: 0.337583\tvalid_0's multi_logloss: 0.337583\n",
      "[31]\tvalid_0's multi_logloss: 0.337898\tvalid_0's multi_logloss: 0.337898\n",
      "[32]\tvalid_0's multi_logloss: 0.338077\tvalid_0's multi_logloss: 0.338077\n",
      "[33]\tvalid_0's multi_logloss: 0.338281\tvalid_0's multi_logloss: 0.338281\n",
      "[34]\tvalid_0's multi_logloss: 0.338515\tvalid_0's multi_logloss: 0.338515\n",
      "[35]\tvalid_0's multi_logloss: 0.338486\tvalid_0's multi_logloss: 0.338486\n",
      "[36]\tvalid_0's multi_logloss: 0.338535\tvalid_0's multi_logloss: 0.338535\n",
      "[37]\tvalid_0's multi_logloss: 0.338671\tvalid_0's multi_logloss: 0.338671\n",
      "[38]\tvalid_0's multi_logloss: 0.338677\tvalid_0's multi_logloss: 0.338677\n",
      "[39]\tvalid_0's multi_logloss: 0.338859\tvalid_0's multi_logloss: 0.338859\n",
      "[40]\tvalid_0's multi_logloss: 0.338874\tvalid_0's multi_logloss: 0.338874\n",
      "[41]\tvalid_0's multi_logloss: 0.338916\tvalid_0's multi_logloss: 0.338916\n",
      "[42]\tvalid_0's multi_logloss: 0.338871\tvalid_0's multi_logloss: 0.338871\n",
      "[43]\tvalid_0's multi_logloss: 0.338884\tvalid_0's multi_logloss: 0.338884\n",
      "[44]\tvalid_0's multi_logloss: 0.338952\tvalid_0's multi_logloss: 0.338952\n",
      "[45]\tvalid_0's multi_logloss: 0.338891\tvalid_0's multi_logloss: 0.338891\n",
      "[46]\tvalid_0's multi_logloss: 0.33906\tvalid_0's multi_logloss: 0.33906\n",
      "[47]\tvalid_0's multi_logloss: 0.339055\tvalid_0's multi_logloss: 0.339055\n",
      "[48]\tvalid_0's multi_logloss: 0.339114\tvalid_0's multi_logloss: 0.339114\n",
      "[49]\tvalid_0's multi_logloss: 0.339144\tvalid_0's multi_logloss: 0.339144\n",
      "[50]\tvalid_0's multi_logloss: 0.339161\tvalid_0's multi_logloss: 0.339161\n",
      "[51]\tvalid_0's multi_logloss: 0.339157\tvalid_0's multi_logloss: 0.339157\n",
      "[52]\tvalid_0's multi_logloss: 0.339154\tvalid_0's multi_logloss: 0.339154\n",
      "[53]\tvalid_0's multi_logloss: 0.33916\tvalid_0's multi_logloss: 0.33916\n",
      "[54]\tvalid_0's multi_logloss: 0.339164\tvalid_0's multi_logloss: 0.339164\n",
      "[55]\tvalid_0's multi_logloss: 0.339164\tvalid_0's multi_logloss: 0.339164\n",
      "[56]\tvalid_0's multi_logloss: 0.339164\tvalid_0's multi_logloss: 0.339164\n",
      "[57]\tvalid_0's multi_logloss: 0.339164\tvalid_0's multi_logloss: 0.339164\n",
      "[58]\tvalid_0's multi_logloss: 0.339164\tvalid_0's multi_logloss: 0.339164\n",
      "[59]\tvalid_0's multi_logloss: 0.339164\tvalid_0's multi_logloss: 0.339164\n",
      "[60]\tvalid_0's multi_logloss: 0.339164\tvalid_0's multi_logloss: 0.339164\n",
      "[61]\tvalid_0's multi_logloss: 0.339164\tvalid_0's multi_logloss: 0.339164\n",
      "[62]\tvalid_0's multi_logloss: 0.339164\tvalid_0's multi_logloss: 0.339164\n",
      "[63]\tvalid_0's multi_logloss: 0.339164\tvalid_0's multi_logloss: 0.339164\n",
      "[64]\tvalid_0's multi_logloss: 0.339164\tvalid_0's multi_logloss: 0.339164\n",
      "[65]\tvalid_0's multi_logloss: 0.339164\tvalid_0's multi_logloss: 0.339164\n",
      "[66]\tvalid_0's multi_logloss: 0.339164\tvalid_0's multi_logloss: 0.339164\n",
      "[67]\tvalid_0's multi_logloss: 0.339164\tvalid_0's multi_logloss: 0.339164\n",
      "[68]\tvalid_0's multi_logloss: 0.339164\tvalid_0's multi_logloss: 0.339164\n",
      "[69]\tvalid_0's multi_logloss: 0.339164\tvalid_0's multi_logloss: 0.339164\n",
      "[70]\tvalid_0's multi_logloss: 0.339164\tvalid_0's multi_logloss: 0.339164\n",
      "[71]\tvalid_0's multi_logloss: 0.339164\tvalid_0's multi_logloss: 0.339164\n",
      "[72]\tvalid_0's multi_logloss: 0.339164\tvalid_0's multi_logloss: 0.339164\n",
      "[73]\tvalid_0's multi_logloss: 0.339164\tvalid_0's multi_logloss: 0.339164\n",
      "[74]\tvalid_0's multi_logloss: 0.339164\tvalid_0's multi_logloss: 0.339164\n",
      "[75]\tvalid_0's multi_logloss: 0.339164\tvalid_0's multi_logloss: 0.339164\n",
      "[76]\tvalid_0's multi_logloss: 0.339164\tvalid_0's multi_logloss: 0.339164\n",
      "[77]\tvalid_0's multi_logloss: 0.339164\tvalid_0's multi_logloss: 0.339164\n",
      "[78]\tvalid_0's multi_logloss: 0.339164\tvalid_0's multi_logloss: 0.339164\n",
      "[79]\tvalid_0's multi_logloss: 0.339164\tvalid_0's multi_logloss: 0.339164\n",
      "[80]\tvalid_0's multi_logloss: 0.339164\tvalid_0's multi_logloss: 0.339164\n",
      "[81]\tvalid_0's multi_logloss: 0.339164\tvalid_0's multi_logloss: 0.339164\n",
      "[82]\tvalid_0's multi_logloss: 0.339164\tvalid_0's multi_logloss: 0.339164\n",
      "[83]\tvalid_0's multi_logloss: 0.339164\tvalid_0's multi_logloss: 0.339164\n",
      "[84]\tvalid_0's multi_logloss: 0.339164\tvalid_0's multi_logloss: 0.339164\n",
      "[85]\tvalid_0's multi_logloss: 0.339164\tvalid_0's multi_logloss: 0.339164\n",
      "[86]\tvalid_0's multi_logloss: 0.339164\tvalid_0's multi_logloss: 0.339164\n",
      "[87]\tvalid_0's multi_logloss: 0.339164\tvalid_0's multi_logloss: 0.339164\n",
      "[88]\tvalid_0's multi_logloss: 0.339164\tvalid_0's multi_logloss: 0.339164\n",
      "[89]\tvalid_0's multi_logloss: 0.339164\tvalid_0's multi_logloss: 0.339164\n",
      "[90]\tvalid_0's multi_logloss: 0.339164\tvalid_0's multi_logloss: 0.339164\n",
      "[91]\tvalid_0's multi_logloss: 0.339164\tvalid_0's multi_logloss: 0.339164\n",
      "[92]\tvalid_0's multi_logloss: 0.339164\tvalid_0's multi_logloss: 0.339164\n",
      "[93]\tvalid_0's multi_logloss: 0.339164\tvalid_0's multi_logloss: 0.339164\n",
      "[94]\tvalid_0's multi_logloss: 0.339164\tvalid_0's multi_logloss: 0.339164\n",
      "[95]\tvalid_0's multi_logloss: 0.339164\tvalid_0's multi_logloss: 0.339164\n",
      "[96]\tvalid_0's multi_logloss: 0.339164\tvalid_0's multi_logloss: 0.339164\n",
      "[97]\tvalid_0's multi_logloss: 0.339164\tvalid_0's multi_logloss: 0.339164\n",
      "[98]\tvalid_0's multi_logloss: 0.339164\tvalid_0's multi_logloss: 0.339164\n",
      "[99]\tvalid_0's multi_logloss: 0.339164\tvalid_0's multi_logloss: 0.339164\n",
      "[100]\tvalid_0's multi_logloss: 0.339164\tvalid_0's multi_logloss: 0.339164\n",
      "[101]\tvalid_0's multi_logloss: 0.339164\tvalid_0's multi_logloss: 0.339164\n",
      "[102]\tvalid_0's multi_logloss: 0.339164\tvalid_0's multi_logloss: 0.339164\n",
      "[103]\tvalid_0's multi_logloss: 0.339164\tvalid_0's multi_logloss: 0.339164\n",
      "[104]\tvalid_0's multi_logloss: 0.339164\tvalid_0's multi_logloss: 0.339164\n",
      "[105]\tvalid_0's multi_logloss: 0.339164\tvalid_0's multi_logloss: 0.339164\n",
      "[106]\tvalid_0's multi_logloss: 0.339164\tvalid_0's multi_logloss: 0.339164\n",
      "[107]\tvalid_0's multi_logloss: 0.339164\tvalid_0's multi_logloss: 0.339164\n",
      "[108]\tvalid_0's multi_logloss: 0.339164\tvalid_0's multi_logloss: 0.339164\n",
      "[109]\tvalid_0's multi_logloss: 0.339164\tvalid_0's multi_logloss: 0.339164\n",
      "[110]\tvalid_0's multi_logloss: 0.339164\tvalid_0's multi_logloss: 0.339164\n",
      "[111]\tvalid_0's multi_logloss: 0.339164\tvalid_0's multi_logloss: 0.339164\n",
      "[112]\tvalid_0's multi_logloss: 0.339164\tvalid_0's multi_logloss: 0.339164\n",
      "[113]\tvalid_0's multi_logloss: 0.339164\tvalid_0's multi_logloss: 0.339164\n",
      "[114]\tvalid_0's multi_logloss: 0.339164\tvalid_0's multi_logloss: 0.339164\n",
      "[115]\tvalid_0's multi_logloss: 0.339164\tvalid_0's multi_logloss: 0.339164\n",
      "[116]\tvalid_0's multi_logloss: 0.339164\tvalid_0's multi_logloss: 0.339164\n",
      "[117]\tvalid_0's multi_logloss: 0.339164\tvalid_0's multi_logloss: 0.339164\n",
      "[118]\tvalid_0's multi_logloss: 0.339164\tvalid_0's multi_logloss: 0.339164\n",
      "[119]\tvalid_0's multi_logloss: 0.339164\tvalid_0's multi_logloss: 0.339164\n",
      "[120]\tvalid_0's multi_logloss: 0.339164\tvalid_0's multi_logloss: 0.339164\n"
     ]
    },
    {
     "name": "stdout",
     "output_type": "stream",
     "text": [
      "[121]\tvalid_0's multi_logloss: 0.339164\tvalid_0's multi_logloss: 0.339164\n",
      "[122]\tvalid_0's multi_logloss: 0.339164\tvalid_0's multi_logloss: 0.339164\n",
      "[123]\tvalid_0's multi_logloss: 0.339164\tvalid_0's multi_logloss: 0.339164\n",
      "[124]\tvalid_0's multi_logloss: 0.339164\tvalid_0's multi_logloss: 0.339164\n",
      "[125]\tvalid_0's multi_logloss: 0.339164\tvalid_0's multi_logloss: 0.339164\n",
      "[126]\tvalid_0's multi_logloss: 0.339164\tvalid_0's multi_logloss: 0.339164\n",
      "[127]\tvalid_0's multi_logloss: 0.339164\tvalid_0's multi_logloss: 0.339164\n",
      "[128]\tvalid_0's multi_logloss: 0.339164\tvalid_0's multi_logloss: 0.339164\n",
      "[129]\tvalid_0's multi_logloss: 0.339164\tvalid_0's multi_logloss: 0.339164\n",
      "[130]\tvalid_0's multi_logloss: 0.339164\tvalid_0's multi_logloss: 0.339164\n",
      "[131]\tvalid_0's multi_logloss: 0.339164\tvalid_0's multi_logloss: 0.339164\n",
      "[132]\tvalid_0's multi_logloss: 0.339164\tvalid_0's multi_logloss: 0.339164\n",
      "[133]\tvalid_0's multi_logloss: 0.339164\tvalid_0's multi_logloss: 0.339164\n",
      "[134]\tvalid_0's multi_logloss: 0.339164\tvalid_0's multi_logloss: 0.339164\n",
      "[135]\tvalid_0's multi_logloss: 0.339164\tvalid_0's multi_logloss: 0.339164\n",
      "[136]\tvalid_0's multi_logloss: 0.339164\tvalid_0's multi_logloss: 0.339164\n",
      "[137]\tvalid_0's multi_logloss: 0.339164\tvalid_0's multi_logloss: 0.339164\n",
      "[138]\tvalid_0's multi_logloss: 0.339164\tvalid_0's multi_logloss: 0.339164\n",
      "[139]\tvalid_0's multi_logloss: 0.339164\tvalid_0's multi_logloss: 0.339164\n",
      "[140]\tvalid_0's multi_logloss: 0.339164\tvalid_0's multi_logloss: 0.339164\n",
      "[141]\tvalid_0's multi_logloss: 0.339164\tvalid_0's multi_logloss: 0.339164\n",
      "[142]\tvalid_0's multi_logloss: 0.339164\tvalid_0's multi_logloss: 0.339164\n",
      "[143]\tvalid_0's multi_logloss: 0.339164\tvalid_0's multi_logloss: 0.339164\n",
      "[144]\tvalid_0's multi_logloss: 0.339164\tvalid_0's multi_logloss: 0.339164\n",
      "[145]\tvalid_0's multi_logloss: 0.339164\tvalid_0's multi_logloss: 0.339164\n",
      "[146]\tvalid_0's multi_logloss: 0.339164\tvalid_0's multi_logloss: 0.339164\n",
      "[147]\tvalid_0's multi_logloss: 0.339164\tvalid_0's multi_logloss: 0.339164\n",
      "[148]\tvalid_0's multi_logloss: 0.339164\tvalid_0's multi_logloss: 0.339164\n",
      "[149]\tvalid_0's multi_logloss: 0.339164\tvalid_0's multi_logloss: 0.339164\n",
      "[150]\tvalid_0's multi_logloss: 0.339164\tvalid_0's multi_logloss: 0.339164\n",
      "[151]\tvalid_0's multi_logloss: 0.339164\tvalid_0's multi_logloss: 0.339164\n",
      "[152]\tvalid_0's multi_logloss: 0.339164\tvalid_0's multi_logloss: 0.339164\n",
      "[153]\tvalid_0's multi_logloss: 0.339164\tvalid_0's multi_logloss: 0.339164\n",
      "[154]\tvalid_0's multi_logloss: 0.339164\tvalid_0's multi_logloss: 0.339164\n",
      "[155]\tvalid_0's multi_logloss: 0.339164\tvalid_0's multi_logloss: 0.339164\n",
      "[156]\tvalid_0's multi_logloss: 0.339164\tvalid_0's multi_logloss: 0.339164\n",
      "[157]\tvalid_0's multi_logloss: 0.339164\tvalid_0's multi_logloss: 0.339164\n",
      "[158]\tvalid_0's multi_logloss: 0.339164\tvalid_0's multi_logloss: 0.339164\n",
      "[159]\tvalid_0's multi_logloss: 0.339164\tvalid_0's multi_logloss: 0.339164\n",
      "[160]\tvalid_0's multi_logloss: 0.339164\tvalid_0's multi_logloss: 0.339164\n",
      "[161]\tvalid_0's multi_logloss: 0.339164\tvalid_0's multi_logloss: 0.339164\n",
      "[162]\tvalid_0's multi_logloss: 0.339164\tvalid_0's multi_logloss: 0.339164\n",
      "[163]\tvalid_0's multi_logloss: 0.339164\tvalid_0's multi_logloss: 0.339164\n",
      "[164]\tvalid_0's multi_logloss: 0.339164\tvalid_0's multi_logloss: 0.339164\n",
      "[165]\tvalid_0's multi_logloss: 0.339164\tvalid_0's multi_logloss: 0.339164\n",
      "[166]\tvalid_0's multi_logloss: 0.339164\tvalid_0's multi_logloss: 0.339164\n",
      "[167]\tvalid_0's multi_logloss: 0.339164\tvalid_0's multi_logloss: 0.339164\n",
      "[168]\tvalid_0's multi_logloss: 0.339164\tvalid_0's multi_logloss: 0.339164\n",
      "[169]\tvalid_0's multi_logloss: 0.339164\tvalid_0's multi_logloss: 0.339164\n",
      "[170]\tvalid_0's multi_logloss: 0.339164\tvalid_0's multi_logloss: 0.339164\n",
      "[171]\tvalid_0's multi_logloss: 0.339164\tvalid_0's multi_logloss: 0.339164\n",
      "[172]\tvalid_0's multi_logloss: 0.339164\tvalid_0's multi_logloss: 0.339164\n",
      "[173]\tvalid_0's multi_logloss: 0.339164\tvalid_0's multi_logloss: 0.339164\n",
      "[174]\tvalid_0's multi_logloss: 0.339164\tvalid_0's multi_logloss: 0.339164\n",
      "[175]\tvalid_0's multi_logloss: 0.339164\tvalid_0's multi_logloss: 0.339164\n",
      "[176]\tvalid_0's multi_logloss: 0.339164\tvalid_0's multi_logloss: 0.339164\n",
      "[177]\tvalid_0's multi_logloss: 0.339164\tvalid_0's multi_logloss: 0.339164\n",
      "[178]\tvalid_0's multi_logloss: 0.339164\tvalid_0's multi_logloss: 0.339164\n",
      "[179]\tvalid_0's multi_logloss: 0.339164\tvalid_0's multi_logloss: 0.339164\n",
      "[180]\tvalid_0's multi_logloss: 0.339164\tvalid_0's multi_logloss: 0.339164\n",
      "[181]\tvalid_0's multi_logloss: 0.339164\tvalid_0's multi_logloss: 0.339164\n",
      "[182]\tvalid_0's multi_logloss: 0.339164\tvalid_0's multi_logloss: 0.339164\n",
      "[183]\tvalid_0's multi_logloss: 0.339164\tvalid_0's multi_logloss: 0.339164\n",
      "[184]\tvalid_0's multi_logloss: 0.339164\tvalid_0's multi_logloss: 0.339164\n",
      "[185]\tvalid_0's multi_logloss: 0.339164\tvalid_0's multi_logloss: 0.339164\n",
      "[186]\tvalid_0's multi_logloss: 0.339164\tvalid_0's multi_logloss: 0.339164\n",
      "[187]\tvalid_0's multi_logloss: 0.339164\tvalid_0's multi_logloss: 0.339164\n",
      "[188]\tvalid_0's multi_logloss: 0.339164\tvalid_0's multi_logloss: 0.339164\n",
      "[189]\tvalid_0's multi_logloss: 0.339164\tvalid_0's multi_logloss: 0.339164\n",
      "[190]\tvalid_0's multi_logloss: 0.339164\tvalid_0's multi_logloss: 0.339164\n",
      "[191]\tvalid_0's multi_logloss: 0.339164\tvalid_0's multi_logloss: 0.339164\n",
      "[192]\tvalid_0's multi_logloss: 0.339164\tvalid_0's multi_logloss: 0.339164\n",
      "[193]\tvalid_0's multi_logloss: 0.339164\tvalid_0's multi_logloss: 0.339164\n",
      "[194]\tvalid_0's multi_logloss: 0.339164\tvalid_0's multi_logloss: 0.339164\n",
      "[195]\tvalid_0's multi_logloss: 0.339164\tvalid_0's multi_logloss: 0.339164\n",
      "[196]\tvalid_0's multi_logloss: 0.339164\tvalid_0's multi_logloss: 0.339164\n",
      "[197]\tvalid_0's multi_logloss: 0.339164\tvalid_0's multi_logloss: 0.339164\n",
      "[198]\tvalid_0's multi_logloss: 0.339164\tvalid_0's multi_logloss: 0.339164\n",
      "[199]\tvalid_0's multi_logloss: 0.339164\tvalid_0's multi_logloss: 0.339164\n",
      "[200]\tvalid_0's multi_logloss: 0.339164\tvalid_0's multi_logloss: 0.339164\n",
      "[201]\tvalid_0's multi_logloss: 0.339164\tvalid_0's multi_logloss: 0.339164\n",
      "[202]\tvalid_0's multi_logloss: 0.339164\tvalid_0's multi_logloss: 0.339164\n",
      "[203]\tvalid_0's multi_logloss: 0.339164\tvalid_0's multi_logloss: 0.339164\n",
      "[204]\tvalid_0's multi_logloss: 0.339164\tvalid_0's multi_logloss: 0.339164\n",
      "[205]\tvalid_0's multi_logloss: 0.339164\tvalid_0's multi_logloss: 0.339164\n",
      "[206]\tvalid_0's multi_logloss: 0.339164\tvalid_0's multi_logloss: 0.339164\n",
      "[207]\tvalid_0's multi_logloss: 0.339164\tvalid_0's multi_logloss: 0.339164\n",
      "[208]\tvalid_0's multi_logloss: 0.339164\tvalid_0's multi_logloss: 0.339164\n",
      "[209]\tvalid_0's multi_logloss: 0.339164\tvalid_0's multi_logloss: 0.339164\n",
      "[210]\tvalid_0's multi_logloss: 0.339164\tvalid_0's multi_logloss: 0.339164\n",
      "[211]\tvalid_0's multi_logloss: 0.339164\tvalid_0's multi_logloss: 0.339164\n",
      "[212]\tvalid_0's multi_logloss: 0.339164\tvalid_0's multi_logloss: 0.339164\n",
      "Early stopping, best iteration is:\n",
      "[12]\tvalid_0's multi_logloss: 0.334864\tvalid_0's multi_logloss: 0.334864\n",
      "    2 | 00m05s | \u001b[35m   0.86068\u001b[0m | \u001b[32m     0.6359\u001b[0m | \u001b[32m     1.5989\u001b[0m | \u001b[32m         0.8452\u001b[0m | \u001b[32m    96.6816\u001b[0m | \u001b[32m          382.1430\u001b[0m | \u001b[32m          0.3271\u001b[0m | \u001b[32m      975.2053\u001b[0m | \u001b[32m    512.2811\u001b[0m | \n"
     ]
    }
   ],
   "source": [
    "opt_params = bayes_parameter_opt_lgb(X_train, y_train, X_validate, y_validate, init_round=1, opt_round=1)"
   ]
  },
  {
   "cell_type": "code",
   "execution_count": 163,
   "metadata": {},
   "outputs": [
    {
     "data": {
      "text/plain": [
       "{'max_val': 0.8606817741623087,\n",
       " 'max_params': {'learning_rate': 0.8452193147776897,\n",
       "  'n_estimators': 975.2053168635805,\n",
       "  'num_leaves': 512.281120492506,\n",
       "  'max_depth': 96.68159655124637,\n",
       "  'lambda_l1': 0.6359469388237938,\n",
       "  'lambda_l2': 1.5989495850645994,\n",
       "  'min_split_gain': 0.3270589793835691,\n",
       "  'min_child_weight': 382.14300153947573}}"
      ]
     },
     "execution_count": 163,
     "metadata": {},
     "output_type": "execute_result"
    }
   ],
   "source": [
    "opt_params.res['max']"
   ]
  },
  {
   "cell_type": "code",
   "execution_count": null,
   "metadata": {},
   "outputs": [],
   "source": [
    "# 0.8627348440828976\n",
    "# {'learning_rate': 0.1386500136508193,\n",
    "#  'n_estimators': 358.05178999366126,\n",
    "#  'num_leaves': 411.83694928592564,\n",
    "#  'max_depth': 58.410142023835064,\n",
    "#  'lambda_l1': 0.9946285477898449,\n",
    "#  'lambda_l2': 3.6479877739422446,\n",
    "#  'min_split_gain': 0.3772608807213311,\n",
    "#  'min_child_weight': 193.91574405974183}\n",
    "\n",
    "\n",
    "# {'max_val': 0.863257795855123,\n",
    "#  'max_params': {'learning_rate': 0.27201596157942154,\n",
    "#   'n_estimators': 993.3688372520834,\n",
    "#   'num_leaves': 574.7187524038648,\n",
    "#   'max_depth': 62.488789829408745,\n",
    "#   'lambda_l1': 0.3493254134565104,\n",
    "#   'lambda_l2': 0.10893183989673129,\n",
    "#   'min_split_gain': 0.2238516674953104,\n",
    "#   'min_child_weight': 359.24528857050746}}"
   ]
  },
  {
   "cell_type": "markdown",
   "metadata": {},
   "source": [
    "### Final Model Implementation TO DOO STILL"
   ]
  },
  {
   "cell_type": "code",
   "execution_count": 76,
   "metadata": {},
   "outputs": [],
   "source": [
    "# numeric_features = ['usd_goal_real', 'backers', 'name_length', \n",
    "#                      'name_num_words', 'launch_month', \n",
    "#                      'duration_launched_month', 'launch_year','usd_goal_per_backer',\n",
    "#                    'deadline_year', 'deadline_month']\n",
    "numeric_features = ['goal', 'backers', 'usd_goal_real', 'name_length',\n",
    "                   'name_num_words', 'launch_month', 'duration_launched_month',\n",
    "                   'launch_year', 'usd_goal_per_backer', 'deadline_year', 'deadline_month',\n",
    "                   'usd_goal_per_month', 'usd_goal_per_month_per_backer',\n",
    "                   'backers_per_month']\n",
    "# numeric_features = ['goal', 'backers', 'usd_goal_real', 'name_length',\n",
    "#        'name_num_words', 'launch_month', 'duration_launched_month',\n",
    "#        'launch_year', 'deadline_year', 'deadline_month', 'usd_goal_per_backer',\n",
    "#        'usd_goal_per_month', 'backers_per_month',\n",
    "#        'usd_goal_per_month_per_backer', 'month_10', 'month_11', 'month_2',\n",
    "#        'month_3', 'month_4', 'month_8', 'month_6', 'month_7', 'month_5',\n",
    "#        'month_9', 'month_1', 'month_12']\n",
    "\n",
    "categorical_features = ['category', 'main_category', 'country', 'main_category-category']\n",
    "y = data_v3['new_state']"
   ]
  },
  {
   "cell_type": "code",
   "execution_count": 77,
   "metadata": {},
   "outputs": [
    {
     "name": "stderr",
     "output_type": "stream",
     "text": [
      "/Users/joashc/anaconda3/lib/python3.6/site-packages/sklearn/preprocessing/data.py:323: DataConversionWarning: Data with input dtype int64, float64 were all converted to float64 by MinMaxScaler.\n",
      "  return self.partial_fit(X, y)\n"
     ]
    }
   ],
   "source": [
    "numerical_data = data_v3[numeric_features]\n",
    "scaler = MinMaxScaler()\n",
    "numerical_data_scaled = pd.DataFrame(scaler.fit_transform(numerical_data), columns = numerical_data.columns)"
   ]
  },
  {
   "cell_type": "code",
   "execution_count": 78,
   "metadata": {},
   "outputs": [
    {
     "name": "stderr",
     "output_type": "stream",
     "text": [
      "/Users/joashc/anaconda3/lib/python3.6/site-packages/ipykernel_launcher.py:3: SettingWithCopyWarning: \n",
      "A value is trying to be set on a copy of a slice from a DataFrame.\n",
      "Try using .loc[row_indexer,col_indexer] = value instead\n",
      "\n",
      "See the caveats in the documentation: http://pandas.pydata.org/pandas-docs/stable/indexing.html#indexing-view-versus-copy\n",
      "  This is separate from the ipykernel package so we can avoid doing imports until\n"
     ]
    },
    {
     "data": {
      "text/plain": [
       "category                  category\n",
       "main_category             category\n",
       "country                   category\n",
       "main_category-category    category\n",
       "dtype: object"
      ]
     },
     "execution_count": 78,
     "metadata": {},
     "output_type": "execute_result"
    }
   ],
   "source": [
    "categorical_data = data_v3[categorical_features]\n",
    "for col in categorical_data.columns: \n",
    "     categorical_data[col] = categorical_data[col].astype('category')\n",
    "\n",
    "categorical_data.dtypes"
   ]
  },
  {
   "cell_type": "code",
   "execution_count": 79,
   "metadata": {},
   "outputs": [],
   "source": [
    "X_lgbm = pd.concat([numerical_data_scaled.reset_index(drop=True), categorical_data.reset_index(drop=True)], axis=1)"
   ]
  },
  {
   "cell_type": "code",
   "execution_count": 80,
   "metadata": {},
   "outputs": [
    {
     "name": "stdout",
     "output_type": "stream",
     "text": [
      "Shape of training set is: (206516, 18)\n",
      "Shape of testing set is: (51630, 18)\n"
     ]
    }
   ],
   "source": [
    "X_data, X_test, y_data, y_test = train_test_split(X_lgbm, y, test_size=0.2, random_state=42) #Updated\n",
    "print('Shape of train & validation set is:', X_data.shape)  \n",
    "print('Shape of testing set is:', X_test.shape)"
   ]
  },
  {
   "cell_type": "code",
   "execution_count": null,
   "metadata": {},
   "outputs": [],
   "source": [
    "X_train, X_validate, y_train, y_validate = train_test_split(X_data, y_data, test_size=0.2, random_state=42) #Updated\n",
    "print('Shape of train & validation set is:', X_train.shape)  \n",
    "print('Shape of testing set is:', X_validate.shape)"
   ]
  },
  {
   "cell_type": "code",
   "execution_count": 81,
   "metadata": {},
   "outputs": [],
   "source": [
    "params = {'learning_rate':0.09,\n",
    "         'boosting_type': 'gbdt',\n",
    "         'num_class':3,\n",
    "         'objective':'multiclass',\n",
    "         'metric': 'multi_logloss',\n",
    "          'max_depth': 10,\n",
    "          'reg_alpha': 0.5,\n",
    "          'reg_lambda': 0.5,\n",
    "          'n_estimators': 100,\n",
    "         'num_leaves': 80,\n",
    "         'min_split_gain': 0.1,\n",
    "         'min_child_samples': 20}"
   ]
  },
  {
   "cell_type": "code",
   "execution_count": 82,
   "metadata": {},
   "outputs": [
    {
     "data": {
      "text/plain": [
       "{'boosting_type': 'gbdt',\n",
       " 'class_weight': None,\n",
       " 'colsample_bytree': 1.0,\n",
       " 'importance_type': 'split',\n",
       " 'learning_rate': 0.09,\n",
       " 'max_depth': 10,\n",
       " 'min_child_samples': 20,\n",
       " 'min_child_weight': 0.001,\n",
       " 'min_split_gain': 0.1,\n",
       " 'n_estimators': 100,\n",
       " 'n_jobs': 4,\n",
       " 'num_leaves': 80,\n",
       " 'objective': 'multiclass',\n",
       " 'random_state': None,\n",
       " 'reg_alpha': 0.5,\n",
       " 'reg_lambda': 0.5,\n",
       " 'silent': True,\n",
       " 'subsample': 1.0,\n",
       " 'subsample_for_bin': 200000,\n",
       " 'subsample_freq': 0,\n",
       " 'num_class': 3,\n",
       " 'metric': 'multi_logloss'}"
      ]
     },
     "execution_count": 82,
     "metadata": {},
     "output_type": "execute_result"
    }
   ],
   "source": [
    "lgb_model = lgb.LGBMClassifier(**params, n_jobs=4)\n",
    "lgb_model.get_params()"
   ]
  },
  {
   "cell_type": "code",
   "execution_count": 83,
   "metadata": {},
   "outputs": [
    {
     "name": "stdout",
     "output_type": "stream",
     "text": [
      "[1]\tvalid_0's multi_logloss: 1.00798\n",
      "Training until validation scores don't improve for 200 rounds.\n",
      "[2]\tvalid_0's multi_logloss: 0.931004\n",
      "[3]\tvalid_0's multi_logloss: 0.86482\n",
      "[4]\tvalid_0's multi_logloss: 0.807444\n",
      "[5]\tvalid_0's multi_logloss: 0.757321\n",
      "[6]\tvalid_0's multi_logloss: 0.713275\n",
      "[7]\tvalid_0's multi_logloss: 0.674466\n",
      "[8]\tvalid_0's multi_logloss: 0.64005\n",
      "[9]\tvalid_0's multi_logloss: 0.609486\n",
      "[10]\tvalid_0's multi_logloss: 0.582243\n",
      "[11]\tvalid_0's multi_logloss: 0.557928\n",
      "[12]\tvalid_0's multi_logloss: 0.536115\n",
      "[13]\tvalid_0's multi_logloss: 0.516599\n",
      "[14]\tvalid_0's multi_logloss: 0.499013\n",
      "[15]\tvalid_0's multi_logloss: 0.483241\n",
      "[16]\tvalid_0's multi_logloss: 0.469035\n",
      "[17]\tvalid_0's multi_logloss: 0.456229\n",
      "[18]\tvalid_0's multi_logloss: 0.444614\n",
      "[19]\tvalid_0's multi_logloss: 0.434123\n",
      "[20]\tvalid_0's multi_logloss: 0.424688\n",
      "[21]\tvalid_0's multi_logloss: 0.416144\n",
      "[22]\tvalid_0's multi_logloss: 0.40839\n",
      "[23]\tvalid_0's multi_logloss: 0.401358\n",
      "[24]\tvalid_0's multi_logloss: 0.39497\n",
      "[25]\tvalid_0's multi_logloss: 0.389167\n",
      "[26]\tvalid_0's multi_logloss: 0.383859\n",
      "[27]\tvalid_0's multi_logloss: 0.379063\n",
      "[28]\tvalid_0's multi_logloss: 0.374694\n",
      "[29]\tvalid_0's multi_logloss: 0.37071\n",
      "[30]\tvalid_0's multi_logloss: 0.367103\n",
      "[31]\tvalid_0's multi_logloss: 0.363797\n",
      "[32]\tvalid_0's multi_logloss: 0.360797\n",
      "[33]\tvalid_0's multi_logloss: 0.358055\n",
      "[34]\tvalid_0's multi_logloss: 0.355551\n",
      "[35]\tvalid_0's multi_logloss: 0.353231\n",
      "[36]\tvalid_0's multi_logloss: 0.351097\n",
      "[37]\tvalid_0's multi_logloss: 0.349173\n",
      "[38]\tvalid_0's multi_logloss: 0.347413\n",
      "[39]\tvalid_0's multi_logloss: 0.345818\n",
      "[40]\tvalid_0's multi_logloss: 0.344387\n",
      "[41]\tvalid_0's multi_logloss: 0.343053\n",
      "[42]\tvalid_0's multi_logloss: 0.341806\n",
      "[43]\tvalid_0's multi_logloss: 0.34072\n",
      "[44]\tvalid_0's multi_logloss: 0.3397\n",
      "[45]\tvalid_0's multi_logloss: 0.338778\n",
      "[46]\tvalid_0's multi_logloss: 0.337919\n",
      "[47]\tvalid_0's multi_logloss: 0.337103\n",
      "[48]\tvalid_0's multi_logloss: 0.336373\n",
      "[49]\tvalid_0's multi_logloss: 0.335724\n",
      "[50]\tvalid_0's multi_logloss: 0.335116\n",
      "[51]\tvalid_0's multi_logloss: 0.334533\n",
      "[52]\tvalid_0's multi_logloss: 0.334042\n",
      "[53]\tvalid_0's multi_logloss: 0.333573\n",
      "[54]\tvalid_0's multi_logloss: 0.333147\n",
      "[55]\tvalid_0's multi_logloss: 0.332751\n",
      "[56]\tvalid_0's multi_logloss: 0.332372\n",
      "[57]\tvalid_0's multi_logloss: 0.332077\n",
      "[58]\tvalid_0's multi_logloss: 0.331779\n",
      "[59]\tvalid_0's multi_logloss: 0.331488\n",
      "[60]\tvalid_0's multi_logloss: 0.331227\n",
      "[61]\tvalid_0's multi_logloss: 0.330923\n",
      "[62]\tvalid_0's multi_logloss: 0.330718\n",
      "[63]\tvalid_0's multi_logloss: 0.330525\n",
      "[64]\tvalid_0's multi_logloss: 0.330306\n",
      "[65]\tvalid_0's multi_logloss: 0.330088\n",
      "[66]\tvalid_0's multi_logloss: 0.329915\n",
      "[67]\tvalid_0's multi_logloss: 0.329764\n",
      "[68]\tvalid_0's multi_logloss: 0.329624\n",
      "[69]\tvalid_0's multi_logloss: 0.329487\n",
      "[70]\tvalid_0's multi_logloss: 0.329342\n",
      "[71]\tvalid_0's multi_logloss: 0.329219\n",
      "[72]\tvalid_0's multi_logloss: 0.329129\n",
      "[73]\tvalid_0's multi_logloss: 0.329038\n",
      "[74]\tvalid_0's multi_logloss: 0.328921\n",
      "[75]\tvalid_0's multi_logloss: 0.328852\n",
      "[76]\tvalid_0's multi_logloss: 0.328782\n",
      "[77]\tvalid_0's multi_logloss: 0.328688\n",
      "[78]\tvalid_0's multi_logloss: 0.328643\n",
      "[79]\tvalid_0's multi_logloss: 0.328587\n",
      "[80]\tvalid_0's multi_logloss: 0.328499\n",
      "[81]\tvalid_0's multi_logloss: 0.328448\n",
      "[82]\tvalid_0's multi_logloss: 0.328413\n",
      "[83]\tvalid_0's multi_logloss: 0.328374\n",
      "[84]\tvalid_0's multi_logloss: 0.328325\n",
      "[85]\tvalid_0's multi_logloss: 0.328294\n",
      "[86]\tvalid_0's multi_logloss: 0.328266\n",
      "[87]\tvalid_0's multi_logloss: 0.328251\n",
      "[88]\tvalid_0's multi_logloss: 0.32824\n",
      "[89]\tvalid_0's multi_logloss: 0.328214\n",
      "[90]\tvalid_0's multi_logloss: 0.328208\n",
      "[91]\tvalid_0's multi_logloss: 0.328179\n",
      "[92]\tvalid_0's multi_logloss: 0.328155\n",
      "[93]\tvalid_0's multi_logloss: 0.328107\n",
      "[94]\tvalid_0's multi_logloss: 0.328075\n",
      "[95]\tvalid_0's multi_logloss: 0.328079\n",
      "[96]\tvalid_0's multi_logloss: 0.328037\n",
      "[97]\tvalid_0's multi_logloss: 0.328016\n",
      "[98]\tvalid_0's multi_logloss: 0.328009\n",
      "[99]\tvalid_0's multi_logloss: 0.328031\n",
      "[100]\tvalid_0's multi_logloss: 0.328023\n",
      "Did not meet early stopping. Best iteration is:\n",
      "[98]\tvalid_0's multi_logloss: 0.328009\n"
     ]
    },
    {
     "data": {
      "text/plain": [
       "LGBMClassifier(boosting_type='gbdt', class_weight=None, colsample_bytree=1.0,\n",
       "        importance_type='split', learning_rate=0.09, max_depth=10,\n",
       "        metric='multi_logloss', min_child_samples=20,\n",
       "        min_child_weight=0.001, min_split_gain=0.1, n_estimators=100,\n",
       "        n_jobs=4, num_class=3, num_leaves=80, objective='multiclass',\n",
       "        random_state=None, reg_alpha=0.5, reg_lambda=0.5, silent=True,\n",
       "        subsample=1.0, subsample_for_bin=200000, subsample_freq=0)"
      ]
     },
     "execution_count": 83,
     "metadata": {},
     "output_type": "execute_result"
    }
   ],
   "source": [
    "lgb_model.fit(X_train, y_train, early_stopping_rounds=200, eval_set=(X_validate, y_validate), eval_metric='multi_logloss')"
   ]
  },
  {
   "cell_type": "code",
   "execution_count": 84,
   "metadata": {},
   "outputs": [
    {
     "name": "stdout",
     "output_type": "stream",
     "text": [
      "Train Accuracy: 0.8759224466869395\n",
      "Train Log_loss: 0.29455505866636644\n"
     ]
    }
   ],
   "source": [
    "y_train_pred = lgb_model.predict(X_train, num_iteration=lgb_model.best_iteration_)\n",
    "y_train_pred_proba = lgb_model.predict_proba(X_train, num_iteration=lgb_model.best_iteration_)\n",
    "print(\"Train Accuracy:\",metrics.accuracy_score(y_train, y_train_pred))\n",
    "print(\"Train Log_loss:\",metrics.log_loss(y_train, y_train_pred_proba))"
   ]
  },
  {
   "cell_type": "code",
   "execution_count": 85,
   "metadata": {},
   "outputs": [
    {
     "name": "stdout",
     "output_type": "stream",
     "text": [
      "Test Accuracy: 0.8619601007166376\n",
      "Test Log_loss: 0.328009494081602\n"
     ]
    }
   ],
   "source": [
    "y_pred = lgb_model.predict(X_validate, num_iteration=lgb_model.best_iteration_)\n",
    "y_pred_proba = lgb_model.predict_proba(X_validate, num_iteration=lgb_model.best_iteration_)\n",
    "print(\"Validation Accuracy:\",metrics.accuracy_score(y_validate, y_pred))\n",
    "print(\"Validation Log_loss:\",metrics.log_loss(y_validate, y_pred_proba))"
   ]
  },
  {
   "cell_type": "code",
   "execution_count": 87,
   "metadata": {
    "scrolled": true
   },
   "outputs": [
    {
     "data": {
      "text/plain": [
       "<matplotlib.axes._subplots.AxesSubplot at 0x11a0e7390>"
      ]
     },
     "execution_count": 87,
     "metadata": {},
     "output_type": "execute_result"
    },
    {
     "data": {
      "image/png": "[encoded data removed]",
      "text/plain": [
       "<Figure size 432x288 with 1 Axes>"
      ]
     },
     "metadata": {},
     "output_type": "display_data"
    }
   ],
   "source": [
    "(pd.Series(lgb_model.feature_importances_, index=X_lgbm.columns)\n",
    "   .nlargest(40)\n",
    "   .plot(kind='barh')) "
   ]
  },
  {
   "cell_type": "code",
   "execution_count": 88,
   "metadata": {},
   "outputs": [
    {
     "name": "stdout",
     "output_type": "stream",
     "text": [
      "Following is the accuracy per class:\n"
     ]
    },
    {
     "data": {
      "text/html": [
       "<div>\n",
       "<style scoped>\n",
       "    .dataframe tbody tr th:only-of-type {\n",
       "        vertical-align: middle;\n",
       "    }\n",
       "\n",
       "    .dataframe tbody tr th {\n",
       "        vertical-align: top;\n",
       "    }\n",
       "\n",
       "    .dataframe thead th {\n",
       "        text-align: right;\n",
       "    }\n",
       "</style>\n",
       "<table border=\"1\" class=\"dataframe\">\n",
       "  <thead>\n",
       "    <tr style=\"text-align: right;\">\n",
       "      <th></th>\n",
       "      <th>accuracy_per_class</th>\n",
       "    </tr>\n",
       "  </thead>\n",
       "  <tbody>\n",
       "    <tr>\n",
       "      <th>failed</th>\n",
       "      <td>94.624705</td>\n",
       "    </tr>\n",
       "    <tr>\n",
       "      <th>succeeded</th>\n",
       "      <td>79.700676</td>\n",
       "    </tr>\n",
       "    <tr>\n",
       "      <th>surged</th>\n",
       "      <td>58.950986</td>\n",
       "    </tr>\n",
       "  </tbody>\n",
       "</table>\n",
       "</div>"
      ],
      "text/plain": [
       "           accuracy_per_class\n",
       "failed              94.624705\n",
       "succeeded           79.700676\n",
       "surged              58.950986"
      ]
     },
     "execution_count": 88,
     "metadata": {},
     "output_type": "execute_result"
    }
   ],
   "source": [
    "cm = confusion_matrix(y_test, y_pred_v1)\n",
    "accuracy_per_class = pd.DataFrame(((cm.astype('float') / cm.sum(axis=1)[:, np.newaxis]).diagonal())*100,\n",
    "                                 index=['failed', 'succeeded', 'surged'], columns=['accuracy_per_class'])\n",
    "print('Following is the accuracy per class:')\n",
    "accuracy_per_class"
   ]
  },
  {
   "cell_type": "code",
   "execution_count": 89,
   "metadata": {},
   "outputs": [
    {
     "name": "stdout",
     "output_type": "stream",
     "text": [
      "Following is the confusion matrix:\n"
     ]
    },
    {
     "data": {
      "text/html": [
       "<div>\n",
       "<style scoped>\n",
       "    .dataframe tbody tr th:only-of-type {\n",
       "        vertical-align: middle;\n",
       "    }\n",
       "\n",
       "    .dataframe tbody tr th {\n",
       "        vertical-align: top;\n",
       "    }\n",
       "\n",
       "    .dataframe thead th {\n",
       "        text-align: right;\n",
       "    }\n",
       "</style>\n",
       "<table border=\"1\" class=\"dataframe\">\n",
       "  <thead>\n",
       "    <tr style=\"text-align: right;\">\n",
       "      <th></th>\n",
       "      <th>predicted_failed</th>\n",
       "      <th>predicted_succeeded</th>\n",
       "      <th>predicted_surged</th>\n",
       "    </tr>\n",
       "  </thead>\n",
       "  <tbody>\n",
       "    <tr>\n",
       "      <th>actual_failed</th>\n",
       "      <td>94.624705</td>\n",
       "      <td>5.019670</td>\n",
       "      <td>0.355625</td>\n",
       "    </tr>\n",
       "    <tr>\n",
       "      <th>actual_succeeded</th>\n",
       "      <td>11.099293</td>\n",
       "      <td>79.700676</td>\n",
       "      <td>9.200030</td>\n",
       "    </tr>\n",
       "    <tr>\n",
       "      <th>actual_surged</th>\n",
       "      <td>3.003586</td>\n",
       "      <td>38.045427</td>\n",
       "      <td>58.950986</td>\n",
       "    </tr>\n",
       "  </tbody>\n",
       "</table>\n",
       "</div>"
      ],
      "text/plain": [
       "                  predicted_failed  predicted_succeeded  predicted_surged\n",
       "actual_failed            94.624705             5.019670          0.355625\n",
       "actual_succeeded         11.099293            79.700676          9.200030\n",
       "actual_surged             3.003586            38.045427         58.950986"
      ]
     },
     "execution_count": 89,
     "metadata": {},
     "output_type": "execute_result"
    }
   ],
   "source": [
    "print('Following is the confusion matrix:')\n",
    "cm_df = pd.DataFrame(((cm.astype('float') / cm.sum(axis=1)[:, np.newaxis]))*100, index=['actual_failed', 'actual_succeeded', 'actual_surged'],\n",
    "            columns=['predicted_failed', 'predicted_succeeded', 'predicted_surged'])\n",
    "cm_df"
   ]
  },
  {
   "cell_type": "code",
   "execution_count": null,
   "metadata": {},
   "outputs": [],
   "source": [
    "y_pred = lgb_model.predict(X_test, num_iteration=lgb_model.best_iteration_)\n",
    "y_pred_proba = lgb_model.predict_proba(X_test, num_iteration=lgb_model.best_iteration_)\n",
    "print(\"Test Accuracy:\",metrics.accuracy_score(y_test, y_pred))\n",
    "print(\"Test Log_loss:\",metrics.log_loss(y_test, y_pred_proba))"
   ]
  },
  {
   "cell_type": "code",
   "execution_count": null,
   "metadata": {},
   "outputs": [],
   "source": []
  },
  {
   "cell_type": "code",
   "execution_count": null,
   "metadata": {},
   "outputs": [],
   "source": []
  },
  {
   "cell_type": "markdown",
   "metadata": {},
   "source": [
    "Improvements\n",
    "- Benchmarking took too long using K-NN. Next time benchmarking can be done by mapping a predictions to a simple function using the distributions of the dataset. \n",
    "    - Eg: Derive a random number for each row in the dataset. If the random number is between [0,60], [61,87] and [87,100], predict classes failed, succeeded and surged.\n",
    "- Due to time constraint, I trained the k-nn model based on accuracy instead of log_loss (Cross Entropy)\n",
    "- Model could have been split based on temporal features such as date\n",
    "- Over sampling class 2 or surged to see if it would give better model performance\n",
    "- print out classification error per class!"
   ]
  },
  {
   "cell_type": "code",
   "execution_count": null,
   "metadata": {},
   "outputs": [],
   "source": []
  }
 ],
 "metadata": {
  "kernelspec": {
   "display_name": "Python 3",
   "language": "python",
   "name": "python3"
  },
  "language_info": {
   "codemirror_mode": {
    "name": "ipython",
    "version": 3
   },
   "file_extension": ".py",
   "mimetype": "text/x-python",
   "name": "python",
   "nbconvert_exporter": "python",
   "pygments_lexer": "ipython3",
   "version": "3.6.5"
  }
 },
 "nbformat": 4,
 "nbformat_minor": 2
}
